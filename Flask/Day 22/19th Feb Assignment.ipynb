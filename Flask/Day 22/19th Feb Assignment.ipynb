{
 "cells": [
  {
   "cell_type": "markdown",
   "id": "8934e745-9abd-4f22-b471-71d201539ee5",
   "metadata": {},
   "source": [
    "Q1. What is Flask Framework? What are the advantages of Flask Framework?"
   ]
  },
  {
   "cell_type": "markdown",
   "id": "17e9a482-75f1-48da-9fb5-a57c393eca4e",
   "metadata": {},
   "source": [
    "Flask is a micro web framework written in Python. It is classified as a microframework because it does not require particular tools or libraries. It has no database abstraction layer, form validation, or any other components where pre-existing third-party libraries provide common functions. However, Flask supports extensions that can add application features as if they were implemented in Flask itself. Extensions exist for object-relational mappers, form validation, upload handling, various open authentication technologies, and several common framework-related tools."
   ]
  },
  {
   "cell_type": "markdown",
   "id": "1b750d9d-fb1a-40ff-a59e-acaea7465c09",
   "metadata": {},
   "source": [
    "Below are some of the merits of using Flask.\n",
    "\n",
    "Easy to Use: The Flask framework is easy to understand, which makes it perfect for beginners. The simplicity in the flask framework enables the developer to navigate around and create the application easily.\n",
    "\n",
    "Very Flexible: Most of the Flask components can be altered. It allows users to customize the website.\n",
    "\n",
    "Testing: It allows unit testing through its integrated support, built-in development server, fast debugger, and restful request dispatching. Makes testing much faster."
   ]
  },
  {
   "cell_type": "markdown",
   "id": "fbe23de3-8fe5-4e42-8dd5-4f77e92ec911",
   "metadata": {},
   "source": [
    "Q2. Create a simple Flask application to display ‘Hello World!!’. Attach the screenshot of the output in\n",
    "Jupyter Notebook."
   ]
  },
  {
   "cell_type": "code",
   "execution_count": null,
   "id": "0914a783-c431-4242-ad5d-083eff9bd7d8",
   "metadata": {},
   "outputs": [],
   "source": [
    "#Import flask module\n",
    "\n",
    "from flask import Flask\n",
    "\n",
    "#Initialize Constructor class\n",
    "application=Flask(__name__)\n",
    "\n",
    "@application.route(\"/\")\n",
    "def display() :\n",
    "    return \"Hello World\"\n",
    "\n",
    "if __name__==\"__main__\":\n",
    "    application.run(host=\"0.0.0.0\")"
   ]
  },
  {
   "cell_type": "code",
   "execution_count": null,
   "id": "5ecc9411-8791-49be-bcf6-b2e7f6bb1aa8",
   "metadata": {},
   "outputs": [],
   "source": [
    "Screenshot has been uploaded in Git repository"
   ]
  },
  {
   "cell_type": "code",
   "execution_count": 4,
   "id": "71188100-5417-45da-b6ed-e821701e76a4",
   "metadata": {},
   "outputs": [
    {
     "data": {
      "text/html": [
       "<img src=\"Capture.png\" width=\"300\" height=\"300\"/>"
      ],
      "text/plain": [
       "<IPython.core.display.Image object>"
      ]
     },
     "execution_count": 4,
     "metadata": {},
     "output_type": "execute_result"
    }
   ],
   "source": [
    "from IPython.display import Image\n",
    "  \n",
    "# get the image\n",
    "Image(url=\"Capture.png\", width=300, height=300)"
   ]
  },
  {
   "cell_type": "markdown",
   "id": "60314339-fc37-4f15-9b7d-495cc0311106",
   "metadata": {},
   "source": [
    "Q3. What is App routing in Flask? Why do we use app routes?"
   ]
  },
  {
   "cell_type": "markdown",
   "id": "0331a7b4-9795-4933-979e-50e9b11e991a",
   "metadata": {},
   "source": [
    "App Routing means mapping the URLs to a specific function that will handle the logic for that URL. Modern web frameworks use more meaningful URLs to help users remember the URLs and make navigation simpler. "
   ]
  },
  {
   "cell_type": "markdown",
   "id": "5c6a7b37-f9a0-47b1-87f0-f87504348d79",
   "metadata": {},
   "source": [
    "Clients such as web browsers send requests to the web server, which in turn sends them to the Flask application instance.\n",
    "\n",
    "The Flask application instance needs to know what code it needs to run for each URL requested, so it keeps a mapping of URLs to Python functions.\n",
    "\n",
    "The most convenient way to define a route in a Flask application is through the app.route decorator exposed by the application instance.\n",
    "\n",
    "A route is the association between a URL and the function that handles it\n",
    "\n",
    "App routing is used to map the specific URL with the associated function that is intended to perform some task.\n",
    "The routing technique helps a user remember application URLs and is useful to access the desired page directly without having to navigate from the home page.\n",
    "\n",
    "The route() decorator in Flask is used to bind URL to a function."
   ]
  },
  {
   "cell_type": "markdown",
   "id": "1a51b066-1852-4c68-aedb-301911c27e55",
   "metadata": {},
   "source": [
    "Q4. Create a “/welcome” route to display the welcome message “Welcome to ABC Corporation” and a “/”\n",
    "route to show the following details:\n",
    "Company Name: ABC Corporation\n",
    "Location: India\n",
    "Contact Detail: 999-999-9999"
   ]
  },
  {
   "cell_type": "code",
   "execution_count": null,
   "id": "86f3731e-fdf0-4aab-934c-f8cf13122b4c",
   "metadata": {},
   "outputs": [],
   "source": [
    "#Import flask module\n",
    "\n",
    "from flask import Flask\n",
    "\n",
    "#Initialize Constructor class\n",
    "application=Flask(__name__)\n",
    "\n",
    "@application.route(\"/\")\n",
    "#def display() :\n",
    "#    return \"Hello World\"\n",
    "def display() :\n",
    "    return ''' Company Name: ABC Corporation\n",
    "\n",
    "                Location: India\n",
    "                \n",
    "                Contact Detail: 999-999-9999 '''\n",
    "\n",
    "@application.route(\"/welcome\")\n",
    "def welcome() :\n",
    "    return \"Welcome to ABC Corporation\"\n",
    "\n",
    "if __name__==\"__main__\":\n",
    "    application.run(host=\"0.0.0.0\")"
   ]
  },
  {
   "cell_type": "markdown",
   "id": "80788dcb-2ccf-409c-a940-629cb922c70b",
   "metadata": {},
   "source": [
    "Q5. What function is used in Flask for URL Building? Write a Python code to demonstrate the working of the\n",
    "url_for() function."
   ]
  },
  {
   "cell_type": "markdown",
   "id": "a4078fb3-c44d-46c4-9f62-b2913069b21f",
   "metadata": {},
   "source": [
    "Flask url_for() method\n",
    "The url_for() method, is used to prepare a URL, for a function dynamically, such that, changing URLs, in the application, is avoided. It accepts, the name of the view function, as the first argument, and, any number of keywords, to be sent(to the view function), as the second argument. \n",
    "\n",
    "Syntax: url_for(‘<function_name>’,<key> = <value>)"
   ]
  },
  {
   "cell_type": "code",
   "execution_count": null,
   "id": "7007b041-fed1-426c-afe3-1efeb945c5b6",
   "metadata": {},
   "outputs": [],
   "source": [
    "from flask import url_for, Flask\n",
    "appFlask = Flask(__name__)\n",
    "@appFlask.route('/home')\n",
    "def home():\n",
    "   return 'We are in Home Page!'\n",
    "with appFlask.test_request_context():\n",
    "    print(url_for('home'))"
   ]
  }
 ],
 "metadata": {
  "kernelspec": {
   "display_name": "Python 3 (ipykernel)",
   "language": "python",
   "name": "python3"
  },
  "language_info": {
   "codemirror_mode": {
    "name": "ipython",
    "version": 3
   },
   "file_extension": ".py",
   "mimetype": "text/x-python",
   "name": "python",
   "nbconvert_exporter": "python",
   "pygments_lexer": "ipython3",
   "version": "3.10.8"
  }
 },
 "nbformat": 4,
 "nbformat_minor": 5
}
