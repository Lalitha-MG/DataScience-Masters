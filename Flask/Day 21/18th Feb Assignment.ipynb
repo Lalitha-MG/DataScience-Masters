{
 "cells": [
  {
   "cell_type": "markdown",
   "id": "2b0d5145-9911-42f7-942a-197feb0c11d5",
   "metadata": {},
   "source": [
    "Q1. What is an API? Give an example, where an API is used in real life."
   ]
  },
  {
   "cell_type": "markdown",
   "id": "ba872be0-773c-40e5-a86e-8efafc6d64f6",
   "metadata": {},
   "source": [
    "API is an abbreviation for Application Programming Interface which is a collection of communication protocols and subroutines used by various programs to communicate between them."
   ]
  },
  {
   "cell_type": "markdown",
   "id": "ceef6138-917b-4996-9095-842051e424be",
   "metadata": {},
   "source": [
    "Types of APIs\n",
    "There are three basic forms of API – \n",
    "\n",
    "1. WEB APIs\n",
    "A Web API also called Web Services is an extensively used API over the web and can be easily accessed using the HTTP protocols. A Web API is an open-source interface and can be used by a large number of clients through their phones, tablets, or PCs. \n",
    "\n",
    "2. LOCAL APIs\n",
    "In this type of API, the programmers get the local middleware services. TAPI (Telephony Application Programming Interface), and .NET are common examples of Local APIs.\n",
    "\n",
    "3. PROGRAM APIs\n",
    "It makes a remote program appear to be local by making use of RPCs (Remote Procedural Calls). SOAP is a well-known example of this type of API."
   ]
  },
  {
   "cell_type": "markdown",
   "id": "e1e1a990-6006-4775-893e-9fe15b842857",
   "metadata": {},
   "source": [
    "1)Twitter Bots\n",
    "2)Log-In Using XYZ\n",
    "3)Weather Snippers\n",
    "4)Pay with PayPal\n",
    "5)Google Maps\n",
    "6)Travel Booking\n",
    "7)E-Commerce"
   ]
  },
  {
   "cell_type": "markdown",
   "id": "a7e20e53-8509-4889-89c3-548dd2941806",
   "metadata": {},
   "source": [
    "Q2. Give advantages and disadvantages of using API."
   ]
  },
  {
   "cell_type": "markdown",
   "id": "1e0a64ca-1cbd-4092-bc7a-d8f8e8456a59",
   "metadata": {},
   "source": [
    "1) Pro: No More Drowning in Details\n",
    "Perhaps the most significant pro is the ability to get ahead of the details. Developers know the detail is too much. Details are where bugs creep in. Take what we saw in the electronics industry about 65 years ago; you found it was possible to build so many things with transistors, putting them and other electronic components together on boards, and everything worked fine… but it didn’t scale. Then came integrated circuits (IC) which conveniently packaged common designs into a single units. Rather than having to know how everything worked in detail, you played with these components instead… and things were built quicker, were more reliable and were cheaper!\n",
    "\n",
    "Unsurprisingly electronics and software are similar… software boils down to machine instructions and opcodes – over the years we introduced assemblers, operating systems, compilers for higher-level languages and shared libraries and modules, all in the aim of reducing the detail a developer needs to know to make something work!\n",
    "\n",
    "Same with the shift toward microservices and containers — people appreciate having the ability to build more complex systems. Before, you might have had a library you’d build and compile, but now you have a container, so your system as a whole has many more components, yet it’s actually simpler to understand. To some extent, it’s the same with microservices — developers have more flexibility and room to build higher-quality APIs from these canonical building blocks.\n",
    "\n",
    " \n",
    "\n",
    "2) Pro: Simplifying Unnecessary Complexities for Speed\n",
    "Software engineers use components to develop software to put things in packages so you can reuse them; by not getting bogged down with all of the detail you’re moving faster. The same thing applies with business capability APIs. Life is a lot easier when your capability APIs already align to the business, they’re already encapsulated so you don’t have to become an expert in every area in order to fit into the overall plan.\n",
    "\n",
    "Take an example Delivery API — its job is to say, “This is the address where X needs to go to. This is the content of the order that’s being made.” The API will return all of the details. Whether it’s a case of next day delivery, or etc… as a developer all you have to do is call the API, see the result, make a choice .. So you’ve immediately offloaded the need to understand the subtleties. You don’t need to know about the complexities of a delivery schedule in Hawaii (which can get pretty complicated, when you’re adding islands and air travel into the mix).\n",
    "\n",
    "It’s much better to build from well-maintained capability APIs. Laws change in every state! Not only are people using your APIs now, but when the rules do change, you can change the version and update it in all of the systems downstream. This delivery bit is especially important to retail.\n",
    "\n",
    " \n",
    "\n",
    "3)Con: More Generation = Loss of Control.\n",
    "Not having the ability to tweak around takes some getting used to. But in truth, with this new lifecycle, tweaking is rarely necessary. If you lose the ability to tweak, what do you gain? In actual fact, you’re going to get far more accurate results. Which will be great, professionally. Because the quality of your designs are so much better.\n",
    "\n",
    " \n",
    "\n",
    "4) Con: But it’s Not as Efficient! \n",
    "True. But what is the price of efficiency? What is the real cost? If you’ve ever used an IC then you’ll know it’s rare to use all the pins or features of an IC – yet you still use it. Why? Because it’s far more expensive to make it custom. You might be able to use a lower-spec IC to get it a little more efficient – but efficiency can become an ideology or rather than engineering an appropriate solution.\n",
    "\n",
    " \n",
    "\n",
    "\n",
    "5) Pro: Lighter Load for DevOps\n",
    "Because API developers are more likely to produce better APIs, it makes the DevOps role a lot easier. The capacity for human error is significantly reduced, because so much is automated — the correct security is baked in, the right access is assigned, even the mappings can be automated, so you’re always calling from the exact right domains.\n",
    "\n",
    "Many companies don’t give their Business Capability APIs the attention they deserve. But for those who do, they’re seeing the benefits of having that immediate access to versioning and lineage.\n",
    "\n",
    " \n",
    "\n",
    "6) Pro: Greater Alignment\n",
    "Business Capability APIs are also helpful in that they are designed to always support the business goals; and in a great API design, that definition should always be included within the API metadata so it’s always clear what the API is achieving.\n",
    "\n",
    "For example, sometimes the business reasons are different from the tactical — Say you know you want to get to x and you decide your own route. The tactical reasoning might tell you to turn left and turn right for the quickest route. But you might lose sight of the business reasoning — if that route is taken by a travel company, who wants to take a scenic route for customers to see the greatest sights. Or for a company like UPS, who wants their drivers to only take right turns to save money.\n",
    "\n",
    "By enabling people to concentrate on a business goal, you’re more likely to get it right. This pattern is just where software engineering is going. It’s only recently that that’s become viable. That’s a change ignite’s supporting. It’s not so much about the APIs — they’re just a means to an end. The API itself is not the end goal. It’s the advantage of always taking a business focus, rather than taking the very technical implementation.\n",
    "\n",
    " \n",
    "\n",
    "7) Con: Yet Another Change\n",
    "Adapting to change is never fun. We get that. But, with the industry changing as quickly as it is, how can we not change as well? These days the SDLC looks different every year… it seems every few months a new enterprise architecture pattern is recommended, and these paradigms are changing quicker than the organizations are able to onboard them. The good news is, if you’re coding from design, you can adapt quickly to the next coding language, or new technology — you’re still able always use what you’ve done before.\n",
    "\n",
    " \n",
    "\n",
    " \n",
    "\n",
    "Pro: You’re Faster and Better at Your Job, With Better Lineage to Report it\n",
    "The design-driven development lifecycle might be a change to the way you do things as a developer — though it’s the way it you always felt you should write software, it was just always too time-consuming! The fact is, you can now do your job much more effectively and more complete. You can focus on delivering a really great experience rather getting bogged down in the details. And if you’re really set up right, you’ll have the lineage to report it.\n",
    "\n",
    "Because APIs support so many digital touchpoints, you’ll be able to track direct value from the things you’ve built. Our ignite platform also tracks the amount of time it takes to get from proposed idea to runtime, integrating with Jira to report back the sprints, so developers are equipped with accurate estimates of how long it will take to build a new API or experience."
   ]
  },
  {
   "cell_type": "markdown",
   "id": "1c4e1624-7bd5-49c5-a898-3fb70c782012",
   "metadata": {},
   "source": [
    "Q3. What is a Web API? Differentiate between API and Web API."
   ]
  },
  {
   "cell_type": "markdown",
   "id": "4753a933-2ee1-4c5c-b8c4-dfe0ac166192",
   "metadata": {},
   "source": [
    "Web API is an API as the name suggests, it can be accessed over the web using the HTTP protocol. It is a framework that helps you to create and develop HTTP based RESTFUL services. The web API can be developed by using different technologies such as java, ASP.NET, etc. Web API is used in either a web server or a web browser. Basically Web API is a web development concept. It is limited to Web Application’s client-side and also it does not include a web server or web browser details. If an application is to be used on a distributed system and to provide services on different devices like laptops, mobiles, etc then web API services are used. Web API is the enhanced form of the web application."
   ]
  },
  {
   "cell_type": "markdown",
   "id": "9787e2e0-7757-4dd6-97da-9d27d4389215",
   "metadata": {},
   "source": [
    "An API consists of a complete set of rules and specifications for a software program to follow in order to facilitate interaction."
   ]
  },
  {
   "cell_type": "markdown",
   "id": "160a8269-a2ac-4f54-b780-73c291c13c42",
   "metadata": {},
   "source": [
    "A web API is an API that can be accessed using the HTTP protocol. "
   ]
  },
  {
   "cell_type": "markdown",
   "id": "2c09bc5d-7c86-4854-bfb8-a15913926583",
   "metadata": {},
   "source": [
    "Q4. Explain REST and SOAP Architecture. Mention shortcomings of SOAP."
   ]
  },
  {
   "cell_type": "markdown",
   "id": "1f0af768-5bc4-4c26-bce0-fc7a990d4879",
   "metadata": {},
   "source": [
    "REST stands for REpresentational State Transfer and API stands for Application Program Interface. REST is a software architectural style that defines the set of rules to be used for creating web services. Web services which follow the REST architectural style are known as RESTful web services. It allows requesting systems to access and manipulate web resources by using a uniform and predefined set of rules. Interaction in REST based systems happen through Internet’s Hypertext Transfer Protocol (HTTP). \n",
    "\n",
    "A Restful system consists of a:\n",
    "\n",
    "client who requests for the resources.\n",
    "server who has the resources.\n",
    "It is important to create REST API according to industry standards which results in ease of development and increase client adoption. \n",
    "\n",
    "Architectural Constraints of RESTful API: There are six architectural constraints which makes any web service are listed below:\n",
    "\n",
    "Uniform Interface\n",
    "Stateless\n",
    "Cacheable\n",
    "Client-Server\n",
    "Layered System\n",
    "Code on Demand\n",
    "The only optional constraint of REST architecture is code on demand. If a service violates any other constraint, it cannot strictly be referred to as RESTful. \n",
    "\n",
    "Uniform Interface: It is a key constraint that differentiate between a REST API and Non-REST API. It suggests that there should be an uniform way of interacting with a given server irrespective of device or type of application (website, mobile app). \n",
    "\n",
    "There are four guidelines principle of Uniform Interface are:\n",
    "\n",
    "Resource-Based: Individual resources are identified in requests. For example: API/users.\n",
    "Manipulation of Resources Through Representations: Client has representation of resource and it contains enough information to modify or delete the resource on the server, provided it has permission to do so. Example: Usually user get a user id when user request for a list of users and then use that id to delete or modify that particular user.\n",
    "Self-descriptive Messages: Each message includes enough information to describe how to process the message so that server can easily analyses the request.\n",
    "Hypermedia as the Engine of Application State (HATEOAS): It need to include links for each response so that client can discover other resources easily.\n",
    "Stateless: It means that the necessary state to handle the request is contained within the request itself and server would not store anything related to the session. In REST, the client must include all information for the server to fulfill the request whether as a part of query params, headers or URI. Statelessness enables greater availability since the server does not have to maintain, update or communicate that session state. There is a drawback when the client need to send too much data to the server so it reduces the scope of network optimization and requires more bandwidth.\n",
    "\n",
    "Cacheable: Every response should include whether the response is cacheable or not and for how much duration responses can be cached at the client side. Client will return the data from its cache for any subsequent request and there would be no need to send the request again to the server. A well-managed caching partially or completely eliminates some client–server interactions, further improving availability and performance. But sometime there are chances that user may receive stale data. \n",
    "\n",
    "Client-Server: REST application should have a client-server architecture. A Client is someone who is requesting resources and are not concerned with data storage, which remains internal to each server, and server is someone who holds the resources and are not concerned with the user interface or user state. They can evolve independently. Client doesn’t need to know anything about business logic and server doesn’t need to know anything about frontend UI. \n",
    "\n",
    "Layered system: An application architecture needs to be composed of multiple layers. Each layer doesn’t know any thing about any layer other than that of immediate layer and there can be lot of intermediate servers between client and the end server. Intermediary servers may improve system availability by enabling load-balancing and by providing shared caches. \n",
    "\n",
    "Code on demand: It is an optional feature. According to this, servers can also provide executable code to the client. The examples of code on demand may include the compiled components such as Java Servlets and Server-Side Scripts such as JavaScript. \n",
    "\n",
    "Rules of REST API: There are certain rules which should be kept in mind while creating REST API endpoints.\n",
    "\n",
    "REST is based on the resource or noun instead of action or verb based. It means that a URI of a REST API should always end with a noun. Example: /api/users is a good example, but /api?type=users is a bad example of creating a REST API.\n",
    "HTTP verbs are used to identify the action. Some of the HTTP verbs are – GET, PUT, POST, DELETE, GET, PATCH.\n",
    "A web application should be organized into resources like users and then uses HTTP verbs like – GET, PUT, POST, DELETE to modify those resources. And as a developer it should be clear that what needs to be done just by looking at the endpoint and HTTP method used.\n",
    "\n",
    "HTTP verbs: Some of the common HTTP methods/verbs are described below:\n",
    "\n",
    "GET: Retrieves one or more resources identified by the request URI and it can cache the information receive.\n",
    "POST: Create a resource from the submission of a request and response is not cacheable in this case. This method is unsafe if no security is applied to the endpoint as it would allow anyone to create a random resource by submission.\n",
    "PUT: Update an existing resource on the server specified by the request URI.\n",
    "DELETE: Delete an existing resource on the server specified by the request URI. It always return an appropriate HTTP status for every request.\n",
    "GET, PUT, DELETE methods are also known as Idempotent methods. Applying an operation once or applying it multiple times has the same effect. Example: Delete any resource from the server and it succeeds with 200 OK and then try again to delete that resource than it will display an error message 410 GONE."
   ]
  },
  {
   "cell_type": "markdown",
   "id": "b4ccc4ef-0e33-461d-bd3a-16dc5a250f99",
   "metadata": {},
   "source": [
    "Simple Object Access Protocol(SOAP) is a network protocol for exchanging structured data between nodes. It uses XML format to transfer messages. It works on top of application layer protocols like HTML and SMTP for notations and transmission. SOAP allows processes to communicate throughout platforms, languages and operating systems, since protocols like HTTP are already installed on all platforms.\n",
    "SOAP was designed by Bob Atkinson, Don Box, Dave Winer, and Mohsen Al-Ghosein at Microsoft in 1998. SOAP was maintained by the XML Protocol Working Group of the World Wide Web Consortium until 2009.\n"
   ]
  },
  {
   "cell_type": "markdown",
   "id": "8a732cc6-cd32-4a46-917b-90387caac1eb",
   "metadata": {},
   "source": [
    "Message Format:\n",
    "\n",
    "SOAP message transmits some basic information as given below\n",
    "Information about message structure and instructions on processing it.\n",
    "Encoding instructions for application defined data types.\n",
    "Information about Remote Procedure Calls and their responses.\n",
    "The message in XML format contains three parts\n",
    "Envelope:\n",
    "It specifies that the XML message is a SOAP message. A SOAP message can be defined as an XML document containing header and body encapsulated in the envelope. The fault is within the body of the message.\n",
    "Header:\n",
    "This part is not mandatory. But when it is present it can provide crucial information about the applications.\n",
    "Body:\n",
    "It contains the actual message that is being transmitted. Fault is contained within the body tags.\n",
    "Fault:\n",
    "This section contains the status of the application and also contains errors in the application. This section is also optional. It should not appear more than once in a SOAP message.\n",
    "Sample Message:"
   ]
  },
  {
   "cell_type": "markdown",
   "id": "12fb3977-5d07-445d-a106-3d113ee5fbd6",
   "metadata": {},
   "source": [
    "SOAP stands for Simple Object Access Protocol and REST stands for Representational State Transfer.\n",
    "Since SOAP is a protocol, it follows a strict standard to allow communication between the client and the server whereas REST is an architectural style that doesn’t follow any strict standard but follows six constraints defined by Roy Fielding in 2000. Those constraints are – Uniform Interface, Client-Server, Stateless, Cacheable, Layered System, Code on Demand.\n",
    "SOAP uses only XML for exchanging information in its message format whereas REST is not restricted to XML and its the choice of implementer which Media-Type to use like XML, JSON, Plain-text. Moreover, REST can use SOAP protocol but SOAP cannot use REST.\n",
    "On behalf of services interfaces to business logic, SOAP uses @WebService whereas REST instead of using interfaces uses URI like @Path.\n",
    "SOAP is difficult to implement and it requires more bandwidth whereas REST is easy to implement and requires less bandwidth such as smartphones.\n",
    "Benefits of SOAP over REST as SOAP has ACID compliance transaction. Some of the applications require transaction ability which is accepted by SOAP whereas REST lacks in it.\n",
    "On the basis of Security, SOAP has SSL( Secure Socket Layer) and WS-security whereas REST has SSL and HTTPS. In the case of Bank Account Password, Card Number, etc. SOAP is preferred over REST. The security issue is all about your application requirement, you have to build security on your own. It’s about what type of protocol you use.\n",
    "SOAP cannot make use of REST since SOAP is a protocol without any architectural pattern. REST can make use of SOAP because it is an architectural pattern having protocol."
   ]
  },
  {
   "cell_type": "markdown",
   "id": "5ff6f1c1-e9d1-4e02-9bcf-bb731897cf1e",
   "metadata": {},
   "source": [
    "Advantages of SOAP\n",
    "SOAP is a light weight data interchange protocol because it is based on XML.\n",
    "SOAP was designed to be OS and Platform independent.\n",
    "It is built on top of HTTP which is installed in most systems.\n",
    "It is suggested by W3 consortium which is like a governing body for the Web.\n",
    "SOAP is mainly used for Web Services and Application Programming Interfaces (APIs).\n"
   ]
  },
  {
   "cell_type": "markdown",
   "id": "5db566cd-80f0-4458-8e2b-585c3bd37f8e",
   "metadata": {},
   "source": [
    "Q5. Differentiate between REST and SOAP."
   ]
  },
  {
   "cell_type": "markdown",
   "id": "3ee42cc0-ab36-4938-8cd6-ddba13614c3c",
   "metadata": {},
   "source": [
    "SOAP API : \n",
    "    1) Relies on SOAP (Simple Object Access Protocol)\t\n",
    "    2) Transports data in standard XML format\n",
    "    3) Because it is XML based and relies on SOAP, it works with WSDL\n",
    "    4) Works over HTTP, HTTPS, SMTP, XMPP\n",
    "    5) Highly structured/typed\n",
    "    6) Designed with large enterprise applications in mind\n",
    "REST API :\n",
    "    1) Relies on REST (Representational State Transfer) architecture using HTTP.\n",
    "    2) Generally transports data in JSON. It is based on URI. Because REST follows stateless model, REST does not enforces message format as XML or JSON etc.\n",
    "    3) \tIt works with GET, POST, PUT, DELETE\n",
    "\t4) Works over HTTP and HTTPS\n",
    "\t5) Less structured -> less bulky data\n",
    "\t6) Designed with mobile devices in mind"
   ]
  },
  {
   "cell_type": "code",
   "execution_count": null,
   "id": "d340e30e-2326-42b3-bb55-67a5b0946a72",
   "metadata": {},
   "outputs": [],
   "source": []
  }
 ],
 "metadata": {
  "kernelspec": {
   "display_name": "Python 3 (ipykernel)",
   "language": "python",
   "name": "python3"
  },
  "language_info": {
   "codemirror_mode": {
    "name": "ipython",
    "version": 3
   },
   "file_extension": ".py",
   "mimetype": "text/x-python",
   "name": "python",
   "nbconvert_exporter": "python",
   "pygments_lexer": "ipython3",
   "version": "3.10.8"
  }
 },
 "nbformat": 4,
 "nbformat_minor": 5
}
