{
 "cells": [
  {
   "cell_type": "markdown",
   "id": "9da33d2d-b1c6-4b6e-b948-94e149bb0666",
   "metadata": {},
   "source": [
    "Consider the below code to answer further questions:\n",
    "import numpy as np\n",
    "list_ = [ ‘1’ , ’2’ , ‘3’ , ‘4’ , ‘5’ ]\n",
    "array_list = np.array(object = list_)"
   ]
  },
  {
   "cell_type": "code",
   "execution_count": 1,
   "id": "bb35dbf7-234e-4236-a2cd-15a3d9918d41",
   "metadata": {},
   "outputs": [],
   "source": [
    "import numpy as np\n",
    "list_ = [ '1' , '2' , '3' , '4' , '5' ]\n",
    "array_list = np.array(object = list_)"
   ]
  },
  {
   "cell_type": "code",
   "execution_count": 2,
   "id": "97870ac5-5d26-4fdd-9621-ed8cdf3d6a4e",
   "metadata": {},
   "outputs": [
    {
     "data": {
      "text/plain": [
       "array(['1', '2', '3', '4', '5'], dtype='<U1')"
      ]
     },
     "execution_count": 2,
     "metadata": {},
     "output_type": "execute_result"
    }
   ],
   "source": [
    "array_list"
   ]
  },
  {
   "cell_type": "markdown",
   "id": "7dc913ae-9225-4563-8bf0-908f266ee287",
   "metadata": {},
   "source": [
    "Q1. Is there any difference in the data type of variables list_ and array_list? If there is then write a code\n",
    "to print the data types of both the variables."
   ]
  },
  {
   "cell_type": "code",
   "execution_count": 3,
   "id": "63d19cb8-c8f6-4ed0-a5fe-7e609bd194b7",
   "metadata": {},
   "outputs": [
    {
     "data": {
      "text/plain": [
       "list"
      ]
     },
     "execution_count": 3,
     "metadata": {},
     "output_type": "execute_result"
    }
   ],
   "source": [
    "type(list_)"
   ]
  },
  {
   "cell_type": "code",
   "execution_count": 4,
   "id": "0b79fd24-95c0-4808-957e-3c64c87cafcf",
   "metadata": {},
   "outputs": [
    {
     "data": {
      "text/plain": [
       "numpy.ndarray"
      ]
     },
     "execution_count": 4,
     "metadata": {},
     "output_type": "execute_result"
    }
   ],
   "source": [
    "type(array_list)"
   ]
  },
  {
   "cell_type": "code",
   "execution_count": 5,
   "id": "2eccb66d-54c6-4624-a8fe-bcdde29e53db",
   "metadata": {},
   "outputs": [
    {
     "name": "stdout",
     "output_type": "stream",
     "text": [
      "The datatype of list is <class 'list'>\n",
      "The datatype of array_list is  <class 'numpy.ndarray'>\n"
     ]
    }
   ],
   "source": [
    "import numpy as np\n",
    "list_ = [ '1' , '2' , '3' , '4' , '5' ]\n",
    "print(\"The datatype of list is\",type(list_))\n",
    "array_list = np.array(object = list_)\n",
    "print(\"The datatype of array_list is \",type(array_list))"
   ]
  },
  {
   "cell_type": "markdown",
   "id": "a6ab9df6-3bd3-4b27-8bcb-ad74e7043fe5",
   "metadata": {},
   "source": [
    "Q2. Write a code to print the data type of each and every element of both the variables list_ and\n",
    "arra_list."
   ]
  },
  {
   "cell_type": "code",
   "execution_count": 9,
   "id": "4ef66595-349b-497f-aafc-37315c689196",
   "metadata": {},
   "outputs": [
    {
     "name": "stdout",
     "output_type": "stream",
     "text": [
      "The datatype of list 1 is <class 'str'>\n",
      "The datatype of list 2 is <class 'str'>\n",
      "The datatype of list 3 is <class 'str'>\n",
      "The datatype of list 4 is <class 'str'>\n",
      "The datatype of list 5 is <class 'str'>\n",
      "The datatype of list is  <class 'list'>\n",
      "The datatype of  1  in array_list is  <class 'numpy.str_'>\n",
      "The datatype of  2  in array_list is  <class 'numpy.str_'>\n",
      "The datatype of  3  in array_list is  <class 'numpy.str_'>\n",
      "The datatype of  4  in array_list is  <class 'numpy.str_'>\n",
      "The datatype of  5  in array_list is  <class 'numpy.str_'>\n",
      "The datatype of array_list is  <class 'numpy.ndarray'>\n"
     ]
    }
   ],
   "source": [
    "import numpy as np\n",
    "list_ = [ '1' , '2' , '3' , '4' , '5' ]\n",
    "for i in list_ :\n",
    "    print(\"The datatype of list\", i ,\"is\",type(i))\n",
    "print(\"The datatype of list is \",type(list_))\n",
    "array_list = np.array(object = list_)\n",
    "for i in array_list :\n",
    "    print(\"The datatype of \", i ,\" in array_list is \",type(i))\n",
    "print(\"The datatype of array_list is \", type(array_list))"
   ]
  },
  {
   "cell_type": "markdown",
   "id": "ef33422c-20c7-40cf-884c-525c45405d4e",
   "metadata": {},
   "source": [
    "Q3. Considering the following changes in the variable, array_list:\n",
    "array_list = np.array(object = list_, dtype = int)\n",
    "Will there be any difference in the data type of the elements present in both the variables, list_ and\n",
    "arra_list? If so then print the data types of each and every element present in both the variables, list_\n",
    "and arra_list."
   ]
  },
  {
   "cell_type": "code",
   "execution_count": 10,
   "id": "5b290cad-2bf0-4ad4-be8a-d6b93809219a",
   "metadata": {},
   "outputs": [],
   "source": [
    "array_list = np.array(object = list_, dtype = int)"
   ]
  },
  {
   "cell_type": "code",
   "execution_count": 11,
   "id": "84b67e0d-d485-434a-a5c9-ec2761b9c352",
   "metadata": {},
   "outputs": [
    {
     "data": {
      "text/plain": [
       "array([1, 2, 3, 4, 5])"
      ]
     },
     "execution_count": 11,
     "metadata": {},
     "output_type": "execute_result"
    }
   ],
   "source": [
    "array_list"
   ]
  },
  {
   "cell_type": "code",
   "execution_count": 12,
   "id": "7f7557d9-0400-4ae9-ba75-6807a5f127a3",
   "metadata": {},
   "outputs": [
    {
     "name": "stdout",
     "output_type": "stream",
     "text": [
      "The datatype of list 1 is <class 'str'>\n",
      "The datatype of list 2 is <class 'str'>\n",
      "The datatype of list 3 is <class 'str'>\n",
      "The datatype of list 4 is <class 'str'>\n",
      "The datatype of list 5 is <class 'str'>\n",
      "The datatype of list is  <class 'list'>\n",
      "The datatype of  1  in array_list is  <class 'numpy.int64'>\n",
      "The datatype of  2  in array_list is  <class 'numpy.int64'>\n",
      "The datatype of  3  in array_list is  <class 'numpy.int64'>\n",
      "The datatype of  4  in array_list is  <class 'numpy.int64'>\n",
      "The datatype of  5  in array_list is  <class 'numpy.int64'>\n",
      "The datatype of array_list is  <class 'numpy.ndarray'>\n"
     ]
    }
   ],
   "source": [
    "import numpy as np\n",
    "list_ = [ '1' , '2' , '3' , '4' , '5' ]\n",
    "for i in list_ :\n",
    "    print(\"The datatype of list\", i ,\"is\",type(i))\n",
    "print(\"The datatype of list is \",type(list_))\n",
    "array_list = np.array(object = list_,dtype=int)\n",
    "for i in array_list :\n",
    "    print(\"The datatype of \", i ,\" in array_list is \",type(i))\n",
    "print(\"The datatype of array_list is \", type(array_list))"
   ]
  },
  {
   "cell_type": "markdown",
   "id": "308314d0-559d-40f6-a73f-21a256d996b3",
   "metadata": {},
   "source": [
    "Yes there is chnage in datatype in the elements in list_ and array_list. Earlier elements in array_list was string and now it is int"
   ]
  },
  {
   "cell_type": "markdown",
   "id": "36cf5d73-daa9-4591-9df5-2c40f6c36c64",
   "metadata": {},
   "source": [
    "Consider the below code to answer further questions:\n",
    "import numpy as np\n",
    "num_list = [ [ 1 , 2 , 3 ] , [ 4 , 5 , 6 ] ]\n",
    "num_array = np.array(object = num_list)"
   ]
  },
  {
   "cell_type": "code",
   "execution_count": 13,
   "id": "fdcd4545-a48d-4ddd-9676-218c5a4b3913",
   "metadata": {},
   "outputs": [],
   "source": [
    "import numpy as np\n",
    "num_list = [ [ 1 , 2 , 3 ] , [ 4 , 5 , 6 ] ]\n",
    "num_array = np.array(object = num_list)"
   ]
  },
  {
   "cell_type": "code",
   "execution_count": 14,
   "id": "93759d5d-e9c1-4e27-a60f-554b2d78b557",
   "metadata": {},
   "outputs": [
    {
     "data": {
      "text/plain": [
       "[[1, 2, 3], [4, 5, 6]]"
      ]
     },
     "execution_count": 14,
     "metadata": {},
     "output_type": "execute_result"
    }
   ],
   "source": [
    "num_list"
   ]
  },
  {
   "cell_type": "code",
   "execution_count": 15,
   "id": "5222d5fb-4aaa-4537-9521-8f2e15aff10e",
   "metadata": {},
   "outputs": [
    {
     "data": {
      "text/plain": [
       "array([[1, 2, 3],\n",
       "       [4, 5, 6]])"
      ]
     },
     "execution_count": 15,
     "metadata": {},
     "output_type": "execute_result"
    }
   ],
   "source": [
    "num_array"
   ]
  },
  {
   "cell_type": "markdown",
   "id": "98c580cd-93eb-40c6-9c1e-4630325d0a28",
   "metadata": {},
   "source": [
    "Q4. Write a code to find the following characteristics of variable, num_array:\n",
    "(i) shape\n",
    "(ii) size"
   ]
  },
  {
   "cell_type": "code",
   "execution_count": 16,
   "id": "049e4b78-b883-4170-b732-c7b21349104c",
   "metadata": {},
   "outputs": [
    {
     "data": {
      "text/plain": [
       "(2, 3)"
      ]
     },
     "execution_count": 16,
     "metadata": {},
     "output_type": "execute_result"
    }
   ],
   "source": [
    "num_array.shape"
   ]
  },
  {
   "cell_type": "code",
   "execution_count": 17,
   "id": "07738bc8-7026-4500-bf0c-bddc48e01a9f",
   "metadata": {},
   "outputs": [
    {
     "data": {
      "text/plain": [
       "6"
      ]
     },
     "execution_count": 17,
     "metadata": {},
     "output_type": "execute_result"
    }
   ],
   "source": [
    "num_array.size"
   ]
  },
  {
   "cell_type": "markdown",
   "id": "20e23b13-116b-4c3a-bbb0-3e05411af844",
   "metadata": {},
   "source": [
    "Q5. Write a code to create numpy array of 3*3 matrix containing zeros only, using a numpy array\n",
    "creation function.\n",
    "[Hint: The size of the array will be 9 and the shape will be (3,3).]"
   ]
  },
  {
   "cell_type": "code",
   "execution_count": 19,
   "id": "a773aa3c-c276-4cce-bb09-e336eb17bd09",
   "metadata": {},
   "outputs": [],
   "source": [
    "b=np.zeros((3,3))"
   ]
  },
  {
   "cell_type": "code",
   "execution_count": 20,
   "id": "e0da8050-b806-4180-be78-7f1a05438209",
   "metadata": {},
   "outputs": [
    {
     "data": {
      "text/plain": [
       "array([[0., 0., 0.],\n",
       "       [0., 0., 0.],\n",
       "       [0., 0., 0.]])"
      ]
     },
     "execution_count": 20,
     "metadata": {},
     "output_type": "execute_result"
    }
   ],
   "source": [
    "b"
   ]
  },
  {
   "cell_type": "code",
   "execution_count": 21,
   "id": "fb056acc-fb7a-4dfa-a9b3-7a58b6fd2d08",
   "metadata": {},
   "outputs": [
    {
     "data": {
      "text/plain": [
       "(3, 3)"
      ]
     },
     "execution_count": 21,
     "metadata": {},
     "output_type": "execute_result"
    }
   ],
   "source": [
    "b.shape"
   ]
  },
  {
   "cell_type": "code",
   "execution_count": 22,
   "id": "aaea5b3f-b213-4ba4-bd9d-ff26ac426641",
   "metadata": {},
   "outputs": [
    {
     "data": {
      "text/plain": [
       "9"
      ]
     },
     "execution_count": 22,
     "metadata": {},
     "output_type": "execute_result"
    }
   ],
   "source": [
    "b.size"
   ]
  },
  {
   "cell_type": "markdown",
   "id": "a8a84308-012a-4f5d-a658-4c92d9c1a7ba",
   "metadata": {},
   "source": [
    "Q6. Create an identity matrix of shape (5,5) using numpy functions?\n",
    "[Hint: An identity matrix is a matrix containing 1 diagonally and other elements will be 0.]"
   ]
  },
  {
   "cell_type": "code",
   "execution_count": 25,
   "id": "00ede487-5d7c-4f13-9388-3de42f22982b",
   "metadata": {},
   "outputs": [],
   "source": [
    "e=np.eye(5,5,dtype=int)"
   ]
  },
  {
   "cell_type": "code",
   "execution_count": 26,
   "id": "28feea5a-c975-47a3-8d10-58c8441f5a46",
   "metadata": {},
   "outputs": [
    {
     "data": {
      "text/plain": [
       "array([[1, 0, 0, 0, 0],\n",
       "       [0, 1, 0, 0, 0],\n",
       "       [0, 0, 1, 0, 0],\n",
       "       [0, 0, 0, 1, 0],\n",
       "       [0, 0, 0, 0, 1]])"
      ]
     },
     "execution_count": 26,
     "metadata": {},
     "output_type": "execute_result"
    }
   ],
   "source": [
    "e"
   ]
  },
  {
   "cell_type": "code",
   "execution_count": null,
   "id": "e7c717a3-fd81-404f-bf7b-a96131fc97db",
   "metadata": {},
   "outputs": [],
   "source": []
  }
 ],
 "metadata": {
  "kernelspec": {
   "display_name": "Python 3 (ipykernel)",
   "language": "python",
   "name": "python3"
  },
  "language_info": {
   "codemirror_mode": {
    "name": "ipython",
    "version": 3
   },
   "file_extension": ".py",
   "mimetype": "text/x-python",
   "name": "python",
   "nbconvert_exporter": "python",
   "pygments_lexer": "ipython3",
   "version": "3.10.8"
  }
 },
 "nbformat": 4,
 "nbformat_minor": 5
}
