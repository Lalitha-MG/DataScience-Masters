{
 "cells": [
  {
   "cell_type": "code",
   "execution_count": 1,
   "id": "e6cd60cf-c39e-41c2-b94f-74064aeb13b1",
   "metadata": {},
   "outputs": [
    {
     "name": "stdout",
     "output_type": "stream",
     "text": [
      "division by zero\n"
     ]
    }
   ],
   "source": [
    "# Zero Division Error\n",
    "try:\n",
    "    a=10\n",
    "    a/0\n",
    "except Exception as e:\n",
    "    print(e)"
   ]
  },
  {
   "cell_type": "code",
   "execution_count": 2,
   "id": "bcf721b0-18a6-4a6b-9a7f-e5260e5d8ee9",
   "metadata": {},
   "outputs": [
    {
     "name": "stdout",
     "output_type": "stream",
     "text": [
      "division by zero\n"
     ]
    }
   ],
   "source": [
    "try :\n",
    "    a=10\n",
    "    a/0\n",
    "except ZeroDivisionError as e :\n",
    "    print(e)"
   ]
  },
  {
   "cell_type": "code",
   "execution_count": 3,
   "id": "913f899d-f5f1-4fac-8ecd-806ca39698e0",
   "metadata": {},
   "outputs": [
    {
     "name": "stdout",
     "output_type": "stream",
     "text": [
      "invalid literal for int() with base 10: 'Lalitha'\n"
     ]
    }
   ],
   "source": [
    "# Value and Type Error\n",
    "try :\n",
    "    int(\"Lalitha\")\n",
    "except (ValueError,TypeError) as e:\n",
    "    print(e)"
   ]
  },
  {
   "cell_type": "code",
   "execution_count": 4,
   "id": "6475acb4-3d34-4051-9fb7-18e19f92f476",
   "metadata": {},
   "outputs": [
    {
     "name": "stdout",
     "output_type": "stream",
     "text": [
      "Some error for sure\n"
     ]
    }
   ],
   "source": [
    "#What If I am not aware about the error type\n",
    "try :\n",
    "    int(\"Lalitha\")\n",
    "except :\n",
    "    print(\"Some error for sure\")"
   ]
  },
  {
   "cell_type": "code",
   "execution_count": 5,
   "id": "7873e2f9-490f-408e-ab24-9402eb0cb33e",
   "metadata": {},
   "outputs": [
    {
     "name": "stdout",
     "output_type": "stream",
     "text": [
      "No module named 'Lalitha'\n"
     ]
    }
   ],
   "source": [
    "#Import Error\n",
    "try :\n",
    "    import Lalitha\n",
    "except ImportError as e :\n",
    "    print(e)"
   ]
  },
  {
   "cell_type": "code",
   "execution_count": 6,
   "id": "d56eccb2-eb0e-4a1c-a2fd-954489566e11",
   "metadata": {},
   "outputs": [
    {
     "name": "stdout",
     "output_type": "stream",
     "text": [
      "5\n"
     ]
    }
   ],
   "source": [
    "#Key Error\n",
    "try :\n",
    "    D ={ 1:[2,3,4],2:[3,4,5],3:[4,5,6]}\n",
    "    D[5]\n",
    "except KeyError as e:\n",
    "    print(e)"
   ]
  },
  {
   "cell_type": "code",
   "execution_count": 7,
   "id": "e85e2af3-426e-41ec-8618-e8fd4a7cb781",
   "metadata": {},
   "outputs": [],
   "source": [
    " D ={ 1:[2,3,4],2:[3,4,5],3:[4,5,6]}"
   ]
  },
  {
   "cell_type": "code",
   "execution_count": 9,
   "id": "f2c26e87-fbb1-4a4a-8228-c42f714a75fb",
   "metadata": {},
   "outputs": [
    {
     "ename": "KeyError",
     "evalue": "5",
     "output_type": "error",
     "traceback": [
      "\u001b[0;31m---------------------------------------------------------------------------\u001b[0m",
      "\u001b[0;31mKeyError\u001b[0m                                  Traceback (most recent call last)",
      "Cell \u001b[0;32mIn[9], line 1\u001b[0m\n\u001b[0;32m----> 1\u001b[0m \u001b[38;5;28mprint\u001b[39m(\u001b[43mD\u001b[49m\u001b[43m[\u001b[49m\u001b[38;5;241;43m5\u001b[39;49m\u001b[43m]\u001b[49m)\n",
      "\u001b[0;31mKeyError\u001b[0m: 5"
     ]
    }
   ],
   "source": [
    "print(D[5])"
   ]
  },
  {
   "cell_type": "code",
   "execution_count": 10,
   "id": "e6991215-c274-4c71-bd01-d005357aa24c",
   "metadata": {},
   "outputs": [
    {
     "ename": "KeyError",
     "evalue": "5",
     "output_type": "error",
     "traceback": [
      "\u001b[0;31m---------------------------------------------------------------------------\u001b[0m",
      "\u001b[0;31mKeyError\u001b[0m                                  Traceback (most recent call last)",
      "Cell \u001b[0;32mIn[10], line 1\u001b[0m\n\u001b[0;32m----> 1\u001b[0m \u001b[43mD\u001b[49m\u001b[43m[\u001b[49m\u001b[38;5;241;43m5\u001b[39;49m\u001b[43m]\u001b[49m\n",
      "\u001b[0;31mKeyError\u001b[0m: 5"
     ]
    }
   ],
   "source": [
    "D[5]"
   ]
  },
  {
   "cell_type": "code",
   "execution_count": 12,
   "id": "786920be-ea8d-47fe-885c-06b7f0930f6b",
   "metadata": {},
   "outputs": [
    {
     "name": "stdout",
     "output_type": "stream",
     "text": [
      "5\n"
     ]
    }
   ],
   "source": [
    "#Key Error\n",
    "try :\n",
    "    D ={ 1:[2,3,4],2:[3,4,5],3:[4,5,6]}\n",
    "    D[5]\n",
    "except Exception as e:\n",
    "    print(e)"
   ]
  },
  {
   "cell_type": "code",
   "execution_count": 14,
   "id": "d18948be-2601-4dba-9152-a3cb9cf02cee",
   "metadata": {},
   "outputs": [
    {
     "name": "stdout",
     "output_type": "stream",
     "text": [
      "name 'test' is not defined\n"
     ]
    }
   ],
   "source": [
    "#NameError\n",
    "try :\n",
    "    test(10)\n",
    "except NameError as e :\n",
    "    print(e)"
   ]
  },
  {
   "cell_type": "code",
   "execution_count": 15,
   "id": "091c67be-0035-40dc-a428-9a2053a6261d",
   "metadata": {},
   "outputs": [
    {
     "name": "stdout",
     "output_type": "stream",
     "text": [
      "'str' object has no attribute 'test'\n"
     ]
    }
   ],
   "source": [
    "#Attribute Error\n",
    "try :\n",
    "    a=\"Lalitha\"\n",
    "    a.test()\n",
    "except AttributeError as e :\n",
    "    print(e)"
   ]
  },
  {
   "cell_type": "code",
   "execution_count": 16,
   "id": "2a99193d-6404-4213-9019-b402a9e36b75",
   "metadata": {},
   "outputs": [
    {
     "name": "stdout",
     "output_type": "stream",
     "text": [
      "list index out of range\n"
     ]
    }
   ],
   "source": [
    "#Index Error\n",
    "try :\n",
    "    list=[1,2,3,4,5]\n",
    "    list[10]\n",
    "except IndexError as e :\n",
    "    print(e)"
   ]
  },
  {
   "cell_type": "code",
   "execution_count": 17,
   "id": "115ab42f-39f1-461b-bd61-4a541e0ede4a",
   "metadata": {},
   "outputs": [
    {
     "name": "stdout",
     "output_type": "stream",
     "text": [
      "unsupported operand type(s) for +: 'int' and 'str'\n"
     ]
    }
   ],
   "source": [
    "#Type Error\n",
    "try :\n",
    "    123 + \"Lali\"\n",
    "except TypeError as e :\n",
    "    print(e)"
   ]
  },
  {
   "cell_type": "code",
   "execution_count": 18,
   "id": "ddeb5513-0494-484e-b26c-253b4e62da8d",
   "metadata": {},
   "outputs": [
    {
     "name": "stdout",
     "output_type": "stream",
     "text": [
      "[Errno 2] No such file or directory: \"Valentine's Day.txt\"\n"
     ]
    }
   ],
   "source": [
    "#File Not Found Error\n",
    "try :\n",
    "    with open (\"Valentine's Day.txt\",'r') as f :\n",
    "        f.read()\n",
    "except FileNotFoundError as e :\n",
    "    print(e)"
   ]
  },
  {
   "cell_type": "code",
   "execution_count": 19,
   "id": "74232309-fbb0-4e86-ba93-3c92da8188a5",
   "metadata": {},
   "outputs": [
    {
     "name": "stdout",
     "output_type": "stream",
     "text": [
      "Super Class [Errno 2] No such file or directory: \"Valentine's Day.txt\"\n"
     ]
    }
   ],
   "source": [
    "# Exception Super class takes precedence than sub classes ; Best Practice is to have Super class at the end\n",
    "try :\n",
    "    with open (\"Valentine's Day.txt\",'r') as f :\n",
    "        f.read()\n",
    "except Exception as e :\n",
    "    print(\"Super Class\",e)\n",
    "except FileNotFoundError as e :\n",
    "    print(\"Sub Class\",e)"
   ]
  },
  {
   "cell_type": "code",
   "execution_count": 23,
   "id": "d3f19cb1-4fcc-4e7e-9ff4-905cccd5f830",
   "metadata": {},
   "outputs": [],
   "source": [
    "#try -except can be wrapped up in function\n",
    "def exception_block(file):\n",
    "    try :\n",
    "        with open (\"file\",'r') as f :\n",
    "            f.read()\n",
    "    except Exception as e :\n",
    "        print(\"Super Class\",e)\n",
    "    except FileNotFoundError as e :\n",
    "        print(\"Sub Class\",e)"
   ]
  },
  {
   "cell_type": "markdown",
   "id": "9d56c97f-bb2b-4636-9e22-db83c80f2f4b",
   "metadata": {},
   "source": [
    "Best Practices while handling Exceptions:\n",
    "    1) Use always specific exception rather than Exception Super class\n",
    "    2) Always print a valid message so that it helps in debugging\n",
    "    3) Always log\n",
    "    4) Always avoid to wite multiple exception handling\n",
    "    5) Prepare Proper documentation of entire code\n",
    "    6) Cleanup all the resources"
   ]
  },
  {
   "cell_type": "code",
   "execution_count": 24,
   "id": "b5e3f309-fdc3-4bd3-984b-dde79a33b0cc",
   "metadata": {},
   "outputs": [
    {
     "ename": "SyntaxError",
     "evalue": "invalid syntax (1494537680.py, line 3)",
     "output_type": "error",
     "traceback": [
      "\u001b[0;36m  Cell \u001b[0;32mIn[24], line 3\u001b[0;36m\u001b[0m\n\u001b[0;31m    R = X*X print \"Square=\",R\u001b[0m\n\u001b[0m            ^\u001b[0m\n\u001b[0;31mSyntaxError\u001b[0m\u001b[0;31m:\u001b[0m invalid syntax\n"
     ]
    }
   ],
   "source": [
    "X = int(input(\"Enter a Number\")) \n",
    "\n",
    "R = X*X print \"Square=\",R"
   ]
  },
  {
   "cell_type": "code",
   "execution_count": null,
   "id": "35345685-d280-4129-9001-3dd3b9a9281d",
   "metadata": {},
   "outputs": [],
   "source": []
  }
 ],
 "metadata": {
  "kernelspec": {
   "display_name": "Python 3 (ipykernel)",
   "language": "python",
   "name": "python3"
  },
  "language_info": {
   "codemirror_mode": {
    "name": "ipython",
    "version": 3
   },
   "file_extension": ".py",
   "mimetype": "text/x-python",
   "name": "python",
   "nbconvert_exporter": "python",
   "pygments_lexer": "ipython3",
   "version": "3.10.8"
  }
 },
 "nbformat": 4,
 "nbformat_minor": 5
}
