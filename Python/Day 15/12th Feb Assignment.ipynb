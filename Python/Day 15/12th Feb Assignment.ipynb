{
 "cells": [
  {
   "cell_type": "markdown",
   "id": "6c25175b-a06b-4ced-94a5-2d871e25e170",
   "metadata": {},
   "source": [
    "Q1. What is an Exception in python? Write the difference between Exception and Syntax Errors"
   ]
  },
  {
   "cell_type": "markdown",
   "id": "ed9ece9a-b9fc-439d-b2d3-e71246dba73d",
   "metadata": {},
   "source": [
    "An exception is an error which happens at the time of execution of a program. However, while running a program, Python generates an exception that should be handled to avoid your program to crash."
   ]
  },
  {
   "cell_type": "markdown",
   "id": "3c498146-19e5-412e-a9eb-b889adf34118",
   "metadata": {},
   "source": [
    "Syntax errors occur when the parser detects an incorrect statement"
   ]
  },
  {
   "cell_type": "code",
   "execution_count": 1,
   "id": "070455c2-d316-4cfe-9c88-e78f39ea225f",
   "metadata": {},
   "outputs": [
    {
     "ename": "SyntaxError",
     "evalue": "unmatched ')' (1305762554.py, line 1)",
     "output_type": "error",
     "traceback": [
      "\u001b[0;36m  Cell \u001b[0;32mIn[1], line 1\u001b[0;36m\u001b[0m\n\u001b[0;31m    print(0/0))\u001b[0m\n\u001b[0m              ^\u001b[0m\n\u001b[0;31mSyntaxError\u001b[0m\u001b[0;31m:\u001b[0m unmatched ')'\n"
     ]
    }
   ],
   "source": [
    "print(0/0))"
   ]
  },
  {
   "cell_type": "markdown",
   "id": "9851a7e3-f057-4aab-b7f2-7533ee0b26af",
   "metadata": {},
   "source": [
    "The arrow indicates where the parser ran into the syntax error. In this example, there was one bracket too many"
   ]
  },
  {
   "cell_type": "code",
   "execution_count": 2,
   "id": "4eb3650a-bf67-47b7-ba42-c41e58d7dce4",
   "metadata": {},
   "outputs": [
    {
     "ename": "ZeroDivisionError",
     "evalue": "division by zero",
     "output_type": "error",
     "traceback": [
      "\u001b[0;31m---------------------------------------------------------------------------\u001b[0m",
      "\u001b[0;31mZeroDivisionError\u001b[0m                         Traceback (most recent call last)",
      "Cell \u001b[0;32mIn[2], line 1\u001b[0m\n\u001b[0;32m----> 1\u001b[0m \u001b[38;5;28mprint\u001b[39m(\u001b[38;5;241;43m0\u001b[39;49m\u001b[38;5;241;43m/\u001b[39;49m\u001b[38;5;241;43m0\u001b[39;49m)\n",
      "\u001b[0;31mZeroDivisionError\u001b[0m: division by zero"
     ]
    }
   ],
   "source": [
    "print(0/0)"
   ]
  },
  {
   "cell_type": "markdown",
   "id": "d8e20cb5-349e-4b33-8fa7-6d4e5166fabe",
   "metadata": {},
   "source": [
    "This time, it is exception error. This type of error occurs whenever syntactically correct Python code results in an error. The last line of the message indicates the type of exception error."
   ]
  },
  {
   "cell_type": "markdown",
   "id": "40b57f0d-15eb-4011-b90e-9414c33ce933",
   "metadata": {},
   "source": [
    "Q2 : What happens when an exception is not handled. Explain with an example"
   ]
  },
  {
   "cell_type": "markdown",
   "id": "9876b93b-a0ae-451c-8d6a-7dedadd2ca2b",
   "metadata": {},
   "source": [
    "When an exception is not handled, the program terminates abruplty. The code after the exception does not execute"
   ]
  },
  {
   "cell_type": "code",
   "execution_count": 3,
   "id": "5b69bd90-3a6c-41c3-b46a-946d614d0126",
   "metadata": {},
   "outputs": [
    {
     "ename": "FileNotFoundError",
     "evalue": "[Errno 2] No such file or directory: 'Trial.txt'",
     "output_type": "error",
     "traceback": [
      "\u001b[0;31m---------------------------------------------------------------------------\u001b[0m",
      "\u001b[0;31mFileNotFoundError\u001b[0m                         Traceback (most recent call last)",
      "Cell \u001b[0;32mIn[3], line 1\u001b[0m\n\u001b[0;32m----> 1\u001b[0m f\u001b[38;5;241m=\u001b[39m\u001b[38;5;28;43mopen\u001b[39;49m\u001b[43m(\u001b[49m\u001b[38;5;124;43m\"\u001b[39;49m\u001b[38;5;124;43mTrial.txt\u001b[39;49m\u001b[38;5;124;43m\"\u001b[39;49m\u001b[43m,\u001b[49m\u001b[38;5;124;43m\"\u001b[39;49m\u001b[38;5;124;43mr\u001b[39;49m\u001b[38;5;124;43m\"\u001b[39;49m\u001b[43m)\u001b[49m\n\u001b[1;32m      2\u001b[0m \u001b[38;5;28mprint\u001b[39m(\u001b[38;5;124m\"\u001b[39m\u001b[38;5;124mHello World\u001b[39m\u001b[38;5;124m\"\u001b[39m)\n",
      "File \u001b[0;32m/opt/conda/lib/python3.10/site-packages/IPython/core/interactiveshell.py:282\u001b[0m, in \u001b[0;36m_modified_open\u001b[0;34m(file, *args, **kwargs)\u001b[0m\n\u001b[1;32m    275\u001b[0m \u001b[38;5;28;01mif\u001b[39;00m file \u001b[38;5;129;01min\u001b[39;00m {\u001b[38;5;241m0\u001b[39m, \u001b[38;5;241m1\u001b[39m, \u001b[38;5;241m2\u001b[39m}:\n\u001b[1;32m    276\u001b[0m     \u001b[38;5;28;01mraise\u001b[39;00m \u001b[38;5;167;01mValueError\u001b[39;00m(\n\u001b[1;32m    277\u001b[0m         \u001b[38;5;124mf\u001b[39m\u001b[38;5;124m\"\u001b[39m\u001b[38;5;124mIPython won\u001b[39m\u001b[38;5;124m'\u001b[39m\u001b[38;5;124mt let you open fd=\u001b[39m\u001b[38;5;132;01m{\u001b[39;00mfile\u001b[38;5;132;01m}\u001b[39;00m\u001b[38;5;124m by default \u001b[39m\u001b[38;5;124m\"\u001b[39m\n\u001b[1;32m    278\u001b[0m         \u001b[38;5;124m\"\u001b[39m\u001b[38;5;124mas it is likely to crash IPython. If you know what you are doing, \u001b[39m\u001b[38;5;124m\"\u001b[39m\n\u001b[1;32m    279\u001b[0m         \u001b[38;5;124m\"\u001b[39m\u001b[38;5;124myou can use builtins\u001b[39m\u001b[38;5;124m'\u001b[39m\u001b[38;5;124m open.\u001b[39m\u001b[38;5;124m\"\u001b[39m\n\u001b[1;32m    280\u001b[0m     )\n\u001b[0;32m--> 282\u001b[0m \u001b[38;5;28;01mreturn\u001b[39;00m \u001b[43mio_open\u001b[49m\u001b[43m(\u001b[49m\u001b[43mfile\u001b[49m\u001b[43m,\u001b[49m\u001b[43m \u001b[49m\u001b[38;5;241;43m*\u001b[39;49m\u001b[43margs\u001b[49m\u001b[43m,\u001b[49m\u001b[43m \u001b[49m\u001b[38;5;241;43m*\u001b[39;49m\u001b[38;5;241;43m*\u001b[39;49m\u001b[43mkwargs\u001b[49m\u001b[43m)\u001b[49m\n",
      "\u001b[0;31mFileNotFoundError\u001b[0m: [Errno 2] No such file or directory: 'Trial.txt'"
     ]
    }
   ],
   "source": [
    "f=open(\"Trial.txt\",\"r\")\n",
    "print(\"Hello World\")"
   ]
  },
  {
   "cell_type": "markdown",
   "id": "3ec5895e-f498-4944-99e1-bd45cff8405b",
   "metadata": {},
   "source": [
    "In the above example, execution terminated abruptly and statements after it is not executed"
   ]
  },
  {
   "cell_type": "markdown",
   "id": "10e275a6-5b9a-4c50-a643-deebeb002e7f",
   "metadata": {},
   "source": [
    "Q3. Which Python statements are used to ,catch and hndle exceptions? Explain with an example"
   ]
  },
  {
   "cell_type": "markdown",
   "id": "0bc3099c-648c-42a2-bfff-fcf6208c1454",
   "metadata": {},
   "source": [
    "try is used to catch the exception and except to handle the exception"
   ]
  },
  {
   "cell_type": "code",
   "execution_count": 4,
   "id": "e63c25ad-bcd9-4923-8e06-5896ef3bb4df",
   "metadata": {},
   "outputs": [
    {
     "name": "stdout",
     "output_type": "stream",
     "text": [
      "Hmmm....some issue... [Errno 2] No such file or directory: 'trial.txt'\n"
     ]
    }
   ],
   "source": [
    "try:\n",
    "    f=open(\"trial.txt\",'r')\n",
    "except Exception as e:\n",
    "    print(\"Hmmm....some issue...\",e)"
   ]
  },
  {
   "cell_type": "markdown",
   "id": "119cdea1-2984-4948-bb1c-cd9b1cdb2ecc",
   "metadata": {},
   "source": [
    "Q4. Explain with an example:\n",
    "\n",
    " 1) try and else#\n",
    " 2) finally\n",
    " 3) raise\n"
   ]
  },
  {
   "cell_type": "markdown",
   "id": "fe611643-6f90-4922-b087-e16fd179307a",
   "metadata": {},
   "source": [
    "try : used to catch the exception\n",
    "else : will execute if and only if try completes without an exception\n",
    "finally : will execute at all times\n",
    "raise : to throw an exception if the condition occurs"
   ]
  },
  {
   "cell_type": "code",
   "execution_count": 5,
   "id": "e189edec-e267-4a79-8315-adca09324682",
   "metadata": {},
   "outputs": [
    {
     "name": "stdout",
     "output_type": "stream",
     "text": [
      "Hmmm....some issue... [Errno 2] No such file or directory: 'trial.txt'\n",
      "I will execute no matter what !!!\n"
     ]
    }
   ],
   "source": [
    "try:\n",
    "    f=open(\"trial.txt\",'r')\n",
    "except Exception as e:\n",
    "    print(\"Hmmm....some issue...\",e)\n",
    "else:\n",
    "    print(\"File is open to read\")\n",
    "finally :\n",
    "    print(\"I will execute no matter what !!!\")"
   ]
  },
  {
   "cell_type": "code",
   "execution_count": 6,
   "id": "e1762987-6e05-404e-9edd-5fc4f0f7f280",
   "metadata": {},
   "outputs": [
    {
     "ename": "Exception",
     "evalue": "x should not exceed 5. The value of x was: 10",
     "output_type": "error",
     "traceback": [
      "\u001b[0;31m---------------------------------------------------------------------------\u001b[0m",
      "\u001b[0;31mException\u001b[0m                                 Traceback (most recent call last)",
      "Cell \u001b[0;32mIn[6], line 3\u001b[0m\n\u001b[1;32m      1\u001b[0m x \u001b[38;5;241m=\u001b[39m \u001b[38;5;241m10\u001b[39m\n\u001b[1;32m      2\u001b[0m \u001b[38;5;28;01mif\u001b[39;00m x \u001b[38;5;241m>\u001b[39m \u001b[38;5;241m5\u001b[39m:\n\u001b[0;32m----> 3\u001b[0m     \u001b[38;5;28;01mraise\u001b[39;00m \u001b[38;5;167;01mException\u001b[39;00m(\u001b[38;5;124m'\u001b[39m\u001b[38;5;124mx should not exceed 5. The value of x was: \u001b[39m\u001b[38;5;132;01m{}\u001b[39;00m\u001b[38;5;124m'\u001b[39m\u001b[38;5;241m.\u001b[39mformat(x))\n",
      "\u001b[0;31mException\u001b[0m: x should not exceed 5. The value of x was: 10"
     ]
    }
   ],
   "source": [
    "x = 10\n",
    "if x > 5:\n",
    "    raise Exception('x should not exceed 5. The value of x was: {}'.format(x))"
   ]
  },
  {
   "cell_type": "markdown",
   "id": "3894ae29-597b-434e-922b-a91d66a747ea",
   "metadata": {},
   "source": [
    "Q5. What are Custom Ex,eptions in python? Why do we need Custom Exceptions? Explain with an example"
   ]
  },
  {
   "cell_type": "markdown",
   "id": "fd1e7e00-ea18-4283-997e-e1b1f519490c",
   "metadata": {},
   "source": [
    "Custom Exceptions are the user defined exceptions.Sometimes we must enforce constraints on the values that specific program variables can take or save the program from running into an undesired state. In such situations, Python allows programmers to create User-defined Exceptions."
   ]
  },
  {
   "cell_type": "markdown",
   "id": "f48a27a2-8d12-4cf8-85e0-29f2881b50db",
   "metadata": {},
   "source": [
    "To create a User-defined Exception, we need to create a class directly or indirectly derived from the built-in Exception class."
   ]
  },
  {
   "cell_type": "code",
   "execution_count": 8,
   "id": "680225f8-ccdb-4ce3-8dc1-330de11730f6",
   "metadata": {},
   "outputs": [],
   "source": [
    "class JustException(Exception):\n",
    "    def __init__(self, message):\n",
    "        print(message)"
   ]
  },
  {
   "cell_type": "markdown",
   "id": "5a17d3c8-9236-4253-aef1-7676240a3eaa",
   "metadata": {},
   "source": [
    "In the example above, JustException is a user-defined Exception. This class implements the Exception class. We have defined the __init__ function that takes the message of the String type as a parameter and prints the message. This JustException class can implement everything like a normal class in Python."
   ]
  },
  {
   "cell_type": "markdown",
   "id": "8d844412-c4ef-44b0-8152-5c90087df38e",
   "metadata": {},
   "source": [
    "Q6. Create custom exception class. Use this class to handle an exception."
   ]
  },
  {
   "cell_type": "code",
   "execution_count": 9,
   "id": "21888da7-6392-4328-bfdb-c7d3ce622c45",
   "metadata": {},
   "outputs": [],
   "source": [
    "class validate_age(Exception):\n",
    "    def __init__(self,msg):\n",
    "        self.msg=msg\n",
    "        "
   ]
  },
  {
   "cell_type": "code",
   "execution_count": 10,
   "id": "76220778-3d6a-4b92-b37b-b0e75d35ea0f",
   "metadata": {},
   "outputs": [],
   "source": [
    "def check_age(age):\n",
    "    if age<=0 :\n",
    "        print(\"Age cannot be less than or equal to 0\")\n",
    "    elif age >= 150:\n",
    "        print(\"Age is too high\")\n",
    "    else:\n",
    "        print(\"Valid Age\")"
   ]
  },
  {
   "cell_type": "code",
   "execution_count": 11,
   "id": "198a9ef0-100c-406b-9b73-5ac5bab76474",
   "metadata": {},
   "outputs": [
    {
     "name": "stdin",
     "output_type": "stream",
     "text": [
      "Enter your age: 456\n"
     ]
    },
    {
     "name": "stdout",
     "output_type": "stream",
     "text": [
      "Age is too high\n",
      "Voilaaa !!!\n"
     ]
    }
   ],
   "source": [
    "try :\n",
    "    age=int(input(\"Enter your age:\"))\n",
    "    check_age(age)\n",
    "except validate_age as e:\n",
    "    print(e)\n",
    "else :\n",
    "    pass\n",
    "finally :\n",
    "    print(\"Voilaaa !!!\")"
   ]
  },
  {
   "cell_type": "code",
   "execution_count": null,
   "id": "f9a23468-5bf0-44e4-9ee2-683b325a63f2",
   "metadata": {},
   "outputs": [],
   "source": []
  }
 ],
 "metadata": {
  "kernelspec": {
   "display_name": "Python 3 (ipykernel)",
   "language": "python",
   "name": "python3"
  },
  "language_info": {
   "codemirror_mode": {
    "name": "ipython",
    "version": 3
   },
   "file_extension": ".py",
   "mimetype": "text/x-python",
   "name": "python",
   "nbconvert_exporter": "python",
   "pygments_lexer": "ipython3",
   "version": "3.10.8"
  }
 },
 "nbformat": 4,
 "nbformat_minor": 5
}
