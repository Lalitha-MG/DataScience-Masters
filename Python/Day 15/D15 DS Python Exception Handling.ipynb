{
 "cells": [
  {
   "cell_type": "code",
   "execution_count": 1,
   "id": "09f87c5f-58ca-47fa-a8a0-83401d51ea4d",
   "metadata": {},
   "outputs": [
    {
     "ename": "FileNotFoundError",
     "evalue": "[Errno 2] No such file or directory: 'Trial.txt'",
     "output_type": "error",
     "traceback": [
      "\u001b[0;31m---------------------------------------------------------------------------\u001b[0m",
      "\u001b[0;31mFileNotFoundError\u001b[0m                         Traceback (most recent call last)",
      "Cell \u001b[0;32mIn[1], line 1\u001b[0m\n\u001b[0;32m----> 1\u001b[0m f\u001b[38;5;241m=\u001b[39m\u001b[38;5;28;43mopen\u001b[39;49m\u001b[43m(\u001b[49m\u001b[38;5;124;43m\"\u001b[39;49m\u001b[38;5;124;43mTrial.txt\u001b[39;49m\u001b[38;5;124;43m\"\u001b[39;49m\u001b[43m,\u001b[49m\u001b[38;5;124;43m\"\u001b[39;49m\u001b[38;5;124;43mr\u001b[39;49m\u001b[38;5;124;43m\"\u001b[39;49m\u001b[43m)\u001b[49m\n",
      "File \u001b[0;32m/opt/conda/lib/python3.10/site-packages/IPython/core/interactiveshell.py:282\u001b[0m, in \u001b[0;36m_modified_open\u001b[0;34m(file, *args, **kwargs)\u001b[0m\n\u001b[1;32m    275\u001b[0m \u001b[38;5;28;01mif\u001b[39;00m file \u001b[38;5;129;01min\u001b[39;00m {\u001b[38;5;241m0\u001b[39m, \u001b[38;5;241m1\u001b[39m, \u001b[38;5;241m2\u001b[39m}:\n\u001b[1;32m    276\u001b[0m     \u001b[38;5;28;01mraise\u001b[39;00m \u001b[38;5;167;01mValueError\u001b[39;00m(\n\u001b[1;32m    277\u001b[0m         \u001b[38;5;124mf\u001b[39m\u001b[38;5;124m\"\u001b[39m\u001b[38;5;124mIPython won\u001b[39m\u001b[38;5;124m'\u001b[39m\u001b[38;5;124mt let you open fd=\u001b[39m\u001b[38;5;132;01m{\u001b[39;00mfile\u001b[38;5;132;01m}\u001b[39;00m\u001b[38;5;124m by default \u001b[39m\u001b[38;5;124m\"\u001b[39m\n\u001b[1;32m    278\u001b[0m         \u001b[38;5;124m\"\u001b[39m\u001b[38;5;124mas it is likely to crash IPython. If you know what you are doing, \u001b[39m\u001b[38;5;124m\"\u001b[39m\n\u001b[1;32m    279\u001b[0m         \u001b[38;5;124m\"\u001b[39m\u001b[38;5;124myou can use builtins\u001b[39m\u001b[38;5;124m'\u001b[39m\u001b[38;5;124m open.\u001b[39m\u001b[38;5;124m\"\u001b[39m\n\u001b[1;32m    280\u001b[0m     )\n\u001b[0;32m--> 282\u001b[0m \u001b[38;5;28;01mreturn\u001b[39;00m \u001b[43mio_open\u001b[49m\u001b[43m(\u001b[49m\u001b[43mfile\u001b[49m\u001b[43m,\u001b[49m\u001b[43m \u001b[49m\u001b[38;5;241;43m*\u001b[39;49m\u001b[43margs\u001b[49m\u001b[43m,\u001b[49m\u001b[43m \u001b[49m\u001b[38;5;241;43m*\u001b[39;49m\u001b[38;5;241;43m*\u001b[39;49m\u001b[43mkwargs\u001b[49m\u001b[43m)\u001b[49m\n",
      "\u001b[0;31mFileNotFoundError\u001b[0m: [Errno 2] No such file or directory: 'Trial.txt'"
     ]
    }
   ],
   "source": [
    "f=open(\"Trial.txt\",\"r\")"
   ]
  },
  {
   "cell_type": "code",
   "execution_count": 8,
   "id": "300a8ab9-714c-4e7b-931b-336d5fb380fa",
   "metadata": {},
   "outputs": [
    {
     "name": "stdout",
     "output_type": "stream",
     "text": [
      "Hmmm....some issue... [Errno 2] No such file or directory: 'trial.txt'\n",
      "I will execute no matter what !!!\n"
     ]
    }
   ],
   "source": [
    "try:\n",
    "    f=open(\"trial.txt\",'r')\n",
    "except Exception as e:\n",
    "    print(\"Hmmm....some issue...\",e)\n",
    "finally :\n",
    "    print(\"I will execute no matter what !!!\")"
   ]
  },
  {
   "cell_type": "code",
   "execution_count": 6,
   "id": "d4a4dad3-8f2d-47a1-b479-e8c866ddc694",
   "metadata": {},
   "outputs": [
    {
     "name": "stdout",
     "output_type": "stream",
     "text": [
      "This is else block. It will execute only if try executes without any exception\n"
     ]
    }
   ],
   "source": [
    "try :\n",
    "    f=open(\"Test_Exception.txt\",'a')\n",
    "    f.write(\"Its Interesting !!!\")\n",
    "except Exception as e :\n",
    "    print(\"Oh Oh some issue\",e)\n",
    "else:\n",
    "     f.close()\n",
    "     print(\"This is else block. It will execute only if try executes without any exception\")\n",
    "    "
   ]
  },
  {
   "cell_type": "code",
   "execution_count": 9,
   "id": "061b8d27-4463-4f4c-b5d5-2f6428b24453",
   "metadata": {},
   "outputs": [],
   "source": [
    "class validate_age(Exception):\n",
    "    def __init__(self,msg):\n",
    "        self.msg=msg\n",
    "        \n",
    "        "
   ]
  },
  {
   "cell_type": "code",
   "execution_count": 10,
   "id": "de9d3022-0477-4ce8-b76d-6abbb9c7fbf2",
   "metadata": {},
   "outputs": [],
   "source": [
    "def check_age(age):\n",
    "    if age<=0 :\n",
    "        print(\"Age cannot be less than or equal to 0\")\n",
    "    elif age >= 150:\n",
    "        print(\"Age is too high\")\n",
    "    else:\n",
    "        print(\"Valid Age\")\n",
    "        "
   ]
  },
  {
   "cell_type": "code",
   "execution_count": 14,
   "id": "077ee191-e4d1-45c4-a317-81d4ef6b1881",
   "metadata": {},
   "outputs": [
    {
     "name": "stdin",
     "output_type": "stream",
     "text": [
      "Enter your age: 3000\n"
     ]
    },
    {
     "name": "stdout",
     "output_type": "stream",
     "text": [
      "Age is too high\n",
      "Voilaaa !!!\n"
     ]
    }
   ],
   "source": [
    "try :\n",
    "    age=int(input(\"Enter your age:\"))\n",
    "    check_age(age)\n",
    "except validate_age as e:\n",
    "    print(e)\n",
    "else :\n",
    "    pass\n",
    "finally :\n",
    "    print(\"Voilaaa !!!\")"
   ]
  },
  {
   "cell_type": "code",
   "execution_count": null,
   "id": "17bc35cb-25bd-46a9-99a8-9b53dd09fb2c",
   "metadata": {},
   "outputs": [],
   "source": []
  }
 ],
 "metadata": {
  "kernelspec": {
   "display_name": "Python 3 (ipykernel)",
   "language": "python",
   "name": "python3"
  },
  "language_info": {
   "codemirror_mode": {
    "name": "ipython",
    "version": 3
   },
   "file_extension": ".py",
   "mimetype": "text/x-python",
   "name": "python",
   "nbconvert_exporter": "python",
   "pygments_lexer": "ipython3",
   "version": "3.10.8"
  }
 },
 "nbformat": 4,
 "nbformat_minor": 5
}
