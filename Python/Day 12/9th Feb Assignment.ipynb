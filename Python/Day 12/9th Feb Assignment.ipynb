{
 "cells": [
  {
   "cell_type": "markdown",
   "id": "5879b9e6-cd9c-4f9b-83c2-223f56846dc2",
   "metadata": {},
   "source": [
    "Q1, Create a vehicle class with an init method having instance variables as name_of_vehicle, max_speed\n",
    "and average_of_vehicle."
   ]
  },
  {
   "cell_type": "code",
   "execution_count": 51,
   "id": "d3f04608-7bea-49bd-b25a-1b97dcfdc0fd",
   "metadata": {},
   "outputs": [],
   "source": [
    "class vehicle:\n",
    "    def __init__(self,name_of_vehicle,max_speed,average_of_vehicle):\n",
    "        self.name_of_vehicle=name_of_vehicle\n",
    "        self.max_speed=max_speed\n",
    "        self.average_of_vehicle=average_of_vehicle\n",
    "        \n",
    "    def display(self):\n",
    "        return f\"The {self.name_of_vehicle} has speed {self.max_speed} and mileage {self.average_of_vehicle}\"\n",
    "    "
   ]
  },
  {
   "cell_type": "code",
   "execution_count": 52,
   "id": "b0893bfe-d528-4201-b867-9f3999b8d7c5",
   "metadata": {},
   "outputs": [],
   "source": [
    "obj_vehicle=vehicle(\"Mahindra XUV 700\",120,15)"
   ]
  },
  {
   "cell_type": "code",
   "execution_count": 5,
   "id": "59c694b0-4c90-4c0c-a207-6aa9dfb25bc9",
   "metadata": {},
   "outputs": [
    {
     "data": {
      "text/plain": [
       "'Mahindra XUV 700'"
      ]
     },
     "execution_count": 5,
     "metadata": {},
     "output_type": "execute_result"
    }
   ],
   "source": [
    "obj_vehicle.name_of_vehicle"
   ]
  },
  {
   "cell_type": "code",
   "execution_count": 6,
   "id": "c105d0e4-6841-4253-970a-542a6288b9e7",
   "metadata": {},
   "outputs": [
    {
     "data": {
      "text/plain": [
       "120"
      ]
     },
     "execution_count": 6,
     "metadata": {},
     "output_type": "execute_result"
    }
   ],
   "source": [
    "obj_vehicle.max_speed"
   ]
  },
  {
   "cell_type": "code",
   "execution_count": 7,
   "id": "0650f5a6-adf6-40ec-a666-717fc629bb0d",
   "metadata": {},
   "outputs": [
    {
     "data": {
      "text/plain": [
       "15"
      ]
     },
     "execution_count": 7,
     "metadata": {},
     "output_type": "execute_result"
    }
   ],
   "source": [
    "obj_vehicle.average_of_vehicle"
   ]
  },
  {
   "cell_type": "code",
   "execution_count": 11,
   "id": "8768af59-efe6-47da-bd21-9ed2ad3649fa",
   "metadata": {},
   "outputs": [
    {
     "data": {
      "text/plain": [
       "'The Mahindra XUV 700 has speed 120 and mileage 15'"
      ]
     },
     "execution_count": 11,
     "metadata": {},
     "output_type": "execute_result"
    }
   ],
   "source": [
    "obj_vehicle.display()"
   ]
  },
  {
   "cell_type": "markdown",
   "id": "9c6cf80b-4f21-48b1-8d4c-74b28a56372c",
   "metadata": {},
   "source": [
    "Q2. Create a child class car from the vehicle class created in Que 1, which will inherit the vehicle class.\n",
    "Create a method named seating_capacity which takes capacity as an argument and returns the name of\n",
    "the vehicle and its seating capacity."
   ]
  },
  {
   "cell_type": "code",
   "execution_count": 53,
   "id": "2b1b150b-dd8c-4c7b-900b-497d28c07293",
   "metadata": {},
   "outputs": [
    {
     "ename": "NameError",
     "evalue": "name 'self' is not defined",
     "output_type": "error",
     "traceback": [
      "\u001b[0;31m---------------------------------------------------------------------------\u001b[0m",
      "\u001b[0;31mNameError\u001b[0m                                 Traceback (most recent call last)",
      "Cell \u001b[0;32mIn[53], line 1\u001b[0m\n\u001b[0;32m----> 1\u001b[0m \u001b[38;5;28;01mclass\u001b[39;00m \u001b[38;5;21;01mchild_vehicle\u001b[39;00m(vehicle):\n\u001b[1;32m      2\u001b[0m     \u001b[38;5;28;01mdef\u001b[39;00m \u001b[38;5;21m__init__\u001b[39m(\u001b[38;5;28mself\u001b[39m,name_of_vehicle,max_speed,average_of_vehicle,seating_capacity):\n\u001b[1;32m      3\u001b[0m         \u001b[38;5;28mself\u001b[39m\u001b[38;5;241m.\u001b[39mseating_capacity\u001b[38;5;241m=\u001b[39mseating_capacity\n",
      "Cell \u001b[0;32mIn[53], line 5\u001b[0m, in \u001b[0;36mchild_vehicle\u001b[0;34m()\u001b[0m\n\u001b[1;32m      2\u001b[0m \u001b[38;5;28;01mdef\u001b[39;00m \u001b[38;5;21m__init__\u001b[39m(\u001b[38;5;28mself\u001b[39m,name_of_vehicle,max_speed,average_of_vehicle,seating_capacity):\n\u001b[1;32m      3\u001b[0m     \u001b[38;5;28mself\u001b[39m\u001b[38;5;241m.\u001b[39mseating_capacity\u001b[38;5;241m=\u001b[39mseating_capacity\n\u001b[0;32m----> 5\u001b[0m vehicle\u001b[38;5;241m.\u001b[39m\u001b[38;5;21m__init__\u001b[39m(\u001b[38;5;28;43mself\u001b[39;49m,name_of_vehicle,max_speed,average_of_vehicle)\n\u001b[1;32m      7\u001b[0m \u001b[38;5;28;01mdef\u001b[39;00m \u001b[38;5;21mget_data\u001b[39m(\u001b[38;5;28mself\u001b[39m):\n\u001b[1;32m      8\u001b[0m     \u001b[38;5;28;01mreturn\u001b[39;00m \u001b[38;5;124mf\u001b[39m\u001b[38;5;124m\"\u001b[39m\u001b[38;5;132;01m{\u001b[39;00m\u001b[38;5;28mself\u001b[39m\u001b[38;5;241m.\u001b[39mname_of_vehicle\u001b[38;5;132;01m}\u001b[39;00m\u001b[38;5;124m has Seating capactity of \u001b[39m\u001b[38;5;132;01m{\u001b[39;00m\u001b[38;5;28mself\u001b[39m\u001b[38;5;241m.\u001b[39mseating_capacity\u001b[38;5;132;01m}\u001b[39;00m\u001b[38;5;124m\"\u001b[39m\n",
      "\u001b[0;31mNameError\u001b[0m: name 'self' is not defined"
     ]
    }
   ],
   "source": [
    "class child_vehicle(vehicle):\n",
    "    def __init__(self,name_of_vehicle,max_speed,average_of_vehicle,seating_capacity):\n",
    "        self.seating_capacity=seating_capacity\n",
    "     \n",
    "    vehicle.__init__(self,name_of_vehicle,max_speed,average_of_vehicle)\n",
    "       \n",
    "    def get_data(self):\n",
    "        return f\"{self.name_of_vehicle} has Seating capactity of {self.seating_capacity}\""
   ]
  },
  {
   "cell_type": "code",
   "execution_count": 30,
   "id": "7ef9f404-b9c0-465a-865b-8eda87e7f7e1",
   "metadata": {},
   "outputs": [],
   "source": [
    "class vehicle:\n",
    "    def __init__(self,name_of_vehicle,max_speed,average_of_vehicle):\n",
    "        self.name_of_vehicle=name_of_vehicle\n",
    "        self.max_speed=max_speed\n",
    "        self.average_of_vehicle=average_of_vehicle\n",
    "        \n",
    "    def display(self):\n",
    "        return f\"The {self.name_of_vehicle} has speed {self.max_speed} and mileage {self.average_of_vehicle}\"\n",
    "    "
   ]
  },
  {
   "cell_type": "code",
   "execution_count": 31,
   "id": "77dd422a-1a61-434c-a274-c1aeb4fdaff1",
   "metadata": {},
   "outputs": [],
   "source": [
    "obj_vehicle=vehicle(\"Mahindra XUV 700\",120,15)"
   ]
  },
  {
   "cell_type": "code",
   "execution_count": 32,
   "id": "8cfe6a24-74b8-40bb-b77a-ada038e12cb5",
   "metadata": {},
   "outputs": [
    {
     "data": {
      "text/plain": [
       "'The Mahindra XUV 700 has speed 120 and mileage 15'"
      ]
     },
     "execution_count": 32,
     "metadata": {},
     "output_type": "execute_result"
    }
   ],
   "source": [
    "obj_vehicle.display()"
   ]
  },
  {
   "cell_type": "code",
   "execution_count": null,
   "id": "cb56678d-3861-4b2a-9531-ea7ecd8c263f",
   "metadata": {},
   "outputs": [],
   "source": []
  },
  {
   "cell_type": "code",
   "execution_count": 54,
   "id": "0bf6b5a8-6564-47b9-9d2a-af170e29eff0",
   "metadata": {},
   "outputs": [],
   "source": [
    "class child_vehicle(vehicle):\n",
    "    def __init__(self,name_of_vehicle,max_speed,average_of_vehicle,seating_capacity):\n",
    "        self.seating_capacity=seating_capacity\n",
    "    \n",
    "        vehicle.__init__(self,name_of_vehicle,max_speed,average_of_vehicle)\n",
    "      \n",
    "    def display(self):\n",
    "        return (self.name_of_vehicle, self.seating_capacity)\n",
    "        \n",
    "    "
   ]
  },
  {
   "cell_type": "code",
   "execution_count": 56,
   "id": "9de7ba21-47c3-431e-aef0-bd161e39b274",
   "metadata": {},
   "outputs": [],
   "source": [
    "obj_cvehicle=child_vehicle(\"Mahindra XUV 700\",120,15,7)"
   ]
  },
  {
   "cell_type": "code",
   "execution_count": 41,
   "id": "b3971cb6-f16e-4ee9-a884-6497f0e66d01",
   "metadata": {},
   "outputs": [],
   "source": [
    "pass\n"
   ]
  },
  {
   "cell_type": "code",
   "execution_count": 57,
   "id": "e41d2c1b-c673-4c57-bed9-4b0d9778b21e",
   "metadata": {},
   "outputs": [
    {
     "data": {
      "text/plain": [
       "('Mahindra XUV 700', 7)"
      ]
     },
     "execution_count": 57,
     "metadata": {},
     "output_type": "execute_result"
    }
   ],
   "source": [
    "obj_cvehicle.display()"
   ]
  },
  {
   "cell_type": "markdown",
   "id": "6ffed992-741f-47e7-b536-8855259561e8",
   "metadata": {},
   "source": [
    "Q3. What is multiple inheritance? Write a python code to demonstrate multiple inheritance."
   ]
  },
  {
   "cell_type": "markdown",
   "id": "3835064f-dd7d-4b5e-a8e6-eae0f78b6efc",
   "metadata": {},
   "source": [
    "Multiple Inheritance: \n",
    "When a class can be derived from more than one base class this type of inheritance is called multiple inheritances. In multiple inheritances, all the features of the base classes are inherited into the derived class. "
   ]
  },
  {
   "cell_type": "code",
   "execution_count": 43,
   "id": "3a132671-0332-4e0a-9006-0a3785656440",
   "metadata": {},
   "outputs": [],
   "source": [
    "class classA:\n",
    "    def display(self):\n",
    "        print(\"This is Class A\")\n",
    "        \n",
    "class classB:\n",
    "    def result(self):\n",
    "        print(\"This is Class B\")\n",
    "        \n",
    "class classC(classA,classB):\n",
    "    pass"
   ]
  },
  {
   "cell_type": "code",
   "execution_count": 44,
   "id": "b24bf839-984a-4100-a8ab-e2518f843feb",
   "metadata": {},
   "outputs": [],
   "source": [
    "classC_object=classC()"
   ]
  },
  {
   "cell_type": "code",
   "execution_count": 45,
   "id": "919594c0-d6d1-476a-a786-86fe0a52a0fb",
   "metadata": {},
   "outputs": [
    {
     "name": "stdout",
     "output_type": "stream",
     "text": [
      "This is Class A\n"
     ]
    }
   ],
   "source": [
    "classC_object.display()"
   ]
  },
  {
   "cell_type": "code",
   "execution_count": 46,
   "id": "6832ab5d-a480-4bd0-b66b-478ec04f1580",
   "metadata": {},
   "outputs": [
    {
     "name": "stdout",
     "output_type": "stream",
     "text": [
      "This is Class B\n"
     ]
    }
   ],
   "source": [
    "classC_object.result()"
   ]
  },
  {
   "cell_type": "markdown",
   "id": "03dfaa81-c1af-4d28-9145-1a699230bec0",
   "metadata": {},
   "source": [
    "Q4. What are getter and setter in python? Create a class and create a getter and a setter method in this\n",
    "class."
   ]
  },
  {
   "cell_type": "markdown",
   "id": "23ae2df1-2d65-4074-a910-13ad463239fc",
   "metadata": {},
   "source": [
    "Getter: A method that allows you to access an attribute in a given class\n",
    "\n",
    "Setter: A method that allows you to set or mutate the value of an attribute in a class"
   ]
  },
  {
   "cell_type": "markdown",
   "id": "646e293e-bdfd-4073-9904-f74575d133a4",
   "metadata": {},
   "source": [
    "A getter is a method that gets the value of a property. In OOPs this helps to access private attributes from a class.\n",
    "\n",
    "A setter is a method that sets the value of a property. In OOPs this helps to set the value to private attributes in a class.\n",
    "\n",
    "Basically, using getters and setters ensures data encapsulation.Reasons we use setters and getters are:\n",
    "\n",
    "For completeness of encapsulation.\n",
    "\n",
    "To maintain a consistent interface in case internal details change.\n",
    "\n",
    "To add validation logic around getting and setting a value.\n",
    "\n",
    "Hiding the internal representation of the property.\n",
    "\n",
    "To avoid direct access or modification of a class field.\n",
    "\n",
    "Getters and setters can allow different access levels."
   ]
  },
  {
   "cell_type": "code",
   "execution_count": 33,
   "id": "6a88943a-2280-47cf-be36-17da13f2cd3e",
   "metadata": {},
   "outputs": [],
   "source": [
    "class Employee :\n",
    "    def __init__(self,name,company) :\n",
    "        self.name=name\n",
    "        self.__company=company\n",
    "        \n",
    "    @property\n",
    "    def get_company(self) :\n",
    "        print(self.__company)\n",
    "    \n",
    "    @get_company.setter\n",
    "    def set_company(self,company) :\n",
    "        self.__company=company \n",
    "        \n",
    "    def display(self) :\n",
    "        print(self.name,self.__company)\n",
    "        "
   ]
  },
  {
   "cell_type": "code",
   "execution_count": 35,
   "id": "fabe591a-3902-4eb3-8e9f-79cd2fc2a1d4",
   "metadata": {},
   "outputs": [],
   "source": [
    "obj=Employee(\"abc\",\"Amazon\")"
   ]
  },
  {
   "cell_type": "code",
   "execution_count": 36,
   "id": "14e3f4b4-940e-4dbb-947c-8ec1d4ad138d",
   "metadata": {},
   "outputs": [
    {
     "data": {
      "text/plain": [
       "'abc'"
      ]
     },
     "execution_count": 36,
     "metadata": {},
     "output_type": "execute_result"
    }
   ],
   "source": [
    "obj.name"
   ]
  },
  {
   "cell_type": "code",
   "execution_count": 37,
   "id": "8f987ac6-6ef8-4a61-8ec9-f9c0e85792fc",
   "metadata": {},
   "outputs": [
    {
     "name": "stdout",
     "output_type": "stream",
     "text": [
      "abc Amazon\n"
     ]
    }
   ],
   "source": [
    "obj.display()"
   ]
  },
  {
   "cell_type": "code",
   "execution_count": 38,
   "id": "5a12f2f5-aa2a-42d9-a256-6f40e455c9ea",
   "metadata": {},
   "outputs": [
    {
     "name": "stdout",
     "output_type": "stream",
     "text": [
      "Amazon\n"
     ]
    }
   ],
   "source": [
    "#Getter\n",
    "obj.get_company"
   ]
  },
  {
   "cell_type": "code",
   "execution_count": 25,
   "id": "d7f3fa1f-f6cf-43c6-bcc6-52411e8c67fe",
   "metadata": {},
   "outputs": [],
   "source": [
    "pass"
   ]
  },
  {
   "cell_type": "code",
   "execution_count": 32,
   "id": "cef8d2da-0e16-4d78-b0ef-64d6645cc308",
   "metadata": {},
   "outputs": [
    {
     "name": "stdout",
     "output_type": "stream",
     "text": [
      "Amazon\n"
     ]
    }
   ],
   "source": [
    "obj.get_company\n"
   ]
  },
  {
   "cell_type": "code",
   "execution_count": 43,
   "id": "46c0456e-faa8-4567-b07b-c744836ca327",
   "metadata": {},
   "outputs": [],
   "source": [
    "#Setter\n",
    "obj.set_company=\"Google\""
   ]
  },
  {
   "cell_type": "code",
   "execution_count": 42,
   "id": "5882dbff-8652-4018-8c94-35c48fa59809",
   "metadata": {},
   "outputs": [],
   "source": [
    "pass"
   ]
  },
  {
   "cell_type": "code",
   "execution_count": 41,
   "id": "e1e43a72-b61e-4ff4-a88d-3c819eda3bb9",
   "metadata": {},
   "outputs": [
    {
     "name": "stdout",
     "output_type": "stream",
     "text": [
      "Google\n"
     ]
    }
   ],
   "source": [
    "\n",
    "obj.get_company\n"
   ]
  },
  {
   "cell_type": "markdown",
   "id": "8907eeff-5237-4505-8413-3b87231b6d09",
   "metadata": {},
   "source": [
    "Q5.What is method overriding in python? Write a python code to demonstrate method overriding."
   ]
  },
  {
   "cell_type": "markdown",
   "id": "3b52834c-1de9-47ca-b69e-09add9661c0b",
   "metadata": {},
   "source": [
    "Method overriding is an ability of any object-oriented programming language that allows a subclass or child class to provide a specific implementation of a method that is already provided by one of its super-classes or parent classes. When a method in a subclass has the same name, same parameters or signature and same return type(or sub-type) as a method in its super-class, then the method in the subclass is said to override the method in the super-class."
   ]
  },
  {
   "cell_type": "markdown",
   "id": "0a5c752c-b30e-4001-8a5c-c0ebc78a102b",
   "metadata": {},
   "source": [
    "The version of a method that is executed will be determined by the object that is used to invoke it. If an object of a parent class is used to invoke the method, then the version in the parent class will be executed, but if an object of the subclass is used to invoke the method, then the version in the child class will be executed. In other words, it is the type of the object being referred to (not the type of the reference variable) that determines which version of an overridden method will be executed."
   ]
  },
  {
   "cell_type": "code",
   "execution_count": 44,
   "id": "3fcf1f56-3e13-4a40-baef-c5b4e108e09d",
   "metadata": {},
   "outputs": [
    {
     "name": "stdout",
     "output_type": "stream",
     "text": [
      "Inside Parent\n",
      "Inside Child\n"
     ]
    }
   ],
   "source": [
    "# Python program to demonstrate\n",
    "# method overriding\n",
    "\n",
    "\n",
    "# Defining parent class\n",
    "class Parent():\n",
    "\t\n",
    "\t# Constructor\n",
    "\tdef __init__(self):\n",
    "\t\tself.value = \"Inside Parent\"\n",
    "\t\t\n",
    "\t# Parent's show method\n",
    "\tdef show(self):\n",
    "\t\tprint(self.value)\n",
    "\t\t\n",
    "# Defining child class\n",
    "class Child(Parent):\n",
    "\t\n",
    "\t# Constructor\n",
    "\tdef __init__(self):\n",
    "\t\tself.value = \"Inside Child\"\n",
    "\t\t\n",
    "\t# Child's show method\n",
    "\tdef show(self):\n",
    "\t\tprint(self.value)\n",
    "\t\t\n",
    "\t\t\n",
    "# Driver's code\n",
    "obj1 = Parent()\n",
    "obj2 = Child()\n",
    "\n",
    "obj1.show()\n",
    "obj2.show()\n"
   ]
  },
  {
   "cell_type": "code",
   "execution_count": null,
   "id": "6e84f0be-d52b-49bc-bbad-2e6e670ec439",
   "metadata": {},
   "outputs": [],
   "source": []
  }
 ],
 "metadata": {
  "kernelspec": {
   "display_name": "Python 3 (ipykernel)",
   "language": "python",
   "name": "python3"
  },
  "language_info": {
   "codemirror_mode": {
    "name": "ipython",
    "version": 3
   },
   "file_extension": ".py",
   "mimetype": "text/x-python",
   "name": "python",
   "nbconvert_exporter": "python",
   "pygments_lexer": "ipython3",
   "version": "3.10.8"
  }
 },
 "nbformat": 4,
 "nbformat_minor": 5
}
