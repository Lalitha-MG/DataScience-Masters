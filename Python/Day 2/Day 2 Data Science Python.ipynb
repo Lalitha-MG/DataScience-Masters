{
 "cells": [
  {
   "cell_type": "code",
   "execution_count": 1,
   "id": "329e4f54-f5c6-4f00-9faa-7429ecb1eda0",
   "metadata": {},
   "outputs": [],
   "source": [
    "a=10"
   ]
  },
  {
   "cell_type": "code",
   "execution_count": 2,
   "id": "6df3077a-210d-4894-b6c1-c5eab4b79af0",
   "metadata": {},
   "outputs": [
    {
     "data": {
      "text/plain": [
       "10"
      ]
     },
     "execution_count": 2,
     "metadata": {},
     "output_type": "execute_result"
    }
   ],
   "source": [
    "a"
   ]
  },
  {
   "cell_type": "code",
   "execution_count": 3,
   "id": "e963e50c-940b-40f7-af35-60b448a30db2",
   "metadata": {},
   "outputs": [
    {
     "data": {
      "text/plain": [
       "int"
      ]
     },
     "execution_count": 3,
     "metadata": {},
     "output_type": "execute_result"
    }
   ],
   "source": [
    "type(a)"
   ]
  },
  {
   "cell_type": "code",
   "execution_count": 4,
   "id": "4d255a11-4ba9-4bae-ad77-06b8a26198c3",
   "metadata": {},
   "outputs": [
    {
     "data": {
      "text/plain": [
       "str"
      ]
     },
     "execution_count": 4,
     "metadata": {},
     "output_type": "execute_result"
    }
   ],
   "source": [
    "type('Lali')"
   ]
  },
  {
   "cell_type": "code",
   "execution_count": 5,
   "id": "f92afb84-6999-4f14-9487-af8c55aef174",
   "metadata": {},
   "outputs": [
    {
     "data": {
      "text/plain": [
       "0"
      ]
     },
     "execution_count": 5,
     "metadata": {},
     "output_type": "execute_result"
    }
   ],
   "source": [
    "int()"
   ]
  },
  {
   "cell_type": "code",
   "execution_count": 6,
   "id": "0da42f71-aa67-4615-bc2b-19f85002a44f",
   "metadata": {},
   "outputs": [
    {
     "data": {
      "text/plain": [
       "123"
      ]
     },
     "execution_count": 6,
     "metadata": {},
     "output_type": "execute_result"
    }
   ],
   "source": [
    "int('123')"
   ]
  },
  {
   "cell_type": "code",
   "execution_count": 7,
   "id": "4bfa8d17-e7fa-4f92-b7f9-4070a2ff0014",
   "metadata": {},
   "outputs": [
    {
     "data": {
      "text/plain": [
       "123"
      ]
     },
     "execution_count": 7,
     "metadata": {},
     "output_type": "execute_result"
    }
   ],
   "source": [
    "int(123)"
   ]
  },
  {
   "cell_type": "code",
   "execution_count": 8,
   "id": "bedf6aa3-2fd3-473a-8278-e5f9d719c5b1",
   "metadata": {},
   "outputs": [
    {
     "data": {
      "text/plain": [
       "3"
      ]
     },
     "execution_count": 8,
     "metadata": {},
     "output_type": "execute_result"
    }
   ],
   "source": [
    "int(3.5)"
   ]
  },
  {
   "cell_type": "code",
   "execution_count": 9,
   "id": "c244f6bd-b2f0-42a7-bcc4-d6f9510b2c2a",
   "metadata": {},
   "outputs": [
    {
     "name": "stdout",
     "output_type": "stream",
     "text": [
      "Hello World\n"
     ]
    }
   ],
   "source": [
    "print(\"Hello World\")"
   ]
  },
  {
   "cell_type": "code",
   "execution_count": 10,
   "id": "8b730979-043b-47fa-aed7-31a1bed50c72",
   "metadata": {},
   "outputs": [
    {
     "name": "stdout",
     "output_type": "stream",
     "text": [
      "Hey Hi\n"
     ]
    }
   ],
   "source": [
    "print('Hey Hi')"
   ]
  },
  {
   "cell_type": "code",
   "execution_count": 11,
   "id": "39aae773-5fae-47cc-a646-b1b785012b8d",
   "metadata": {},
   "outputs": [
    {
     "name": "stdout",
     "output_type": "stream",
     "text": [
      "123\n"
     ]
    }
   ],
   "source": [
    "print(123)"
   ]
  },
  {
   "cell_type": "code",
   "execution_count": 12,
   "id": "cd045328-798f-4458-958b-603447e2de76",
   "metadata": {},
   "outputs": [],
   "source": [
    "My_Name=\"Lalitha\""
   ]
  },
  {
   "cell_type": "code",
   "execution_count": 13,
   "id": "a9d6ce81-b4cd-4a18-b260-9a8717b8ebb9",
   "metadata": {},
   "outputs": [
    {
     "name": "stdout",
     "output_type": "stream",
     "text": [
      "My Name is : Lalitha\n"
     ]
    }
   ],
   "source": [
    "print(\"My Name is :\",My_Name)"
   ]
  },
  {
   "cell_type": "code",
   "execution_count": 14,
   "id": "c36bebf0-71fc-439d-802b-49b7d5ce7845",
   "metadata": {},
   "outputs": [
    {
     "name": "stdout",
     "output_type": "stream",
     "text": [
      "My Name is {My_Name}\n"
     ]
    }
   ],
   "source": [
    "print(\"My Name is {My_Name}\")"
   ]
  },
  {
   "cell_type": "code",
   "execution_count": 15,
   "id": "7190a2b7-837b-4ff6-bd69-66dccf97daf3",
   "metadata": {},
   "outputs": [
    {
     "name": "stdout",
     "output_type": "stream",
     "text": [
      "My Name is Lalitha\n"
     ]
    }
   ],
   "source": [
    "print(f\"My Name is {My_Name}\")"
   ]
  },
  {
   "cell_type": "code",
   "execution_count": 16,
   "id": "b5b56298-bf82-41a6-b2f0-686cce4c6d73",
   "metadata": {},
   "outputs": [
    {
     "name": "stdout",
     "output_type": "stream",
     "text": [
      "My name is Lalitha\n"
     ]
    }
   ],
   "source": [
    "print(\"My name is {}\".format(My_Name))"
   ]
  },
  {
   "cell_type": "code",
   "execution_count": 17,
   "id": "a444a590-7d45-4c5a-b048-ea7544538c4e",
   "metadata": {},
   "outputs": [
    {
     "name": "stdout",
     "output_type": "stream",
     "text": [
      "My Name is Lalitha\n"
     ]
    }
   ],
   "source": [
    "print(\"My Name is {Name}\".format(Name=My_Name))"
   ]
  },
  {
   "cell_type": "code",
   "execution_count": null,
   "id": "d314c2df-4920-4a31-9c6e-2a61af85790b",
   "metadata": {},
   "outputs": [],
   "source": []
  },
  {
   "cell_type": "code",
   "execution_count": null,
   "id": "2f94c73c-0e94-40e0-bc75-bf5863bfd0f3",
   "metadata": {},
   "outputs": [],
   "source": []
  },
  {
   "cell_type": "code",
   "execution_count": 23,
   "id": "b462a408-ef43-4955-8972-dcd451c47056",
   "metadata": {},
   "outputs": [],
   "source": [
    "Name=\"Lalitha\"\n",
    "Age=38\n",
    "Degree=\"BE\"\n"
   ]
  },
  {
   "cell_type": "code",
   "execution_count": 22,
   "id": "02fa4802-b21b-43cd-aafe-c65ccf6cf27c",
   "metadata": {},
   "outputs": [
    {
     "ename": "NameError",
     "evalue": "name 'Age' is not defined",
     "output_type": "error",
     "traceback": [
      "\u001b[0;31m---------------------------------------------------------------------------\u001b[0m",
      "\u001b[0;31mNameError\u001b[0m                                 Traceback (most recent call last)",
      "Cell \u001b[0;32mIn[22], line 1\u001b[0m\n\u001b[0;32m----> 1\u001b[0m \u001b[38;5;28mprint\u001b[39m(\u001b[38;5;124m\"\u001b[39m\u001b[38;5;124mMy age is \u001b[39m\u001b[38;5;132;01m{age}\u001b[39;00m\u001b[38;5;124m and I have completed \u001b[39m\u001b[38;5;132;01m{degree}\u001b[39;00m\u001b[38;5;124m with name \u001b[39m\u001b[38;5;132;01m{temp}\u001b[39;00m\u001b[38;5;124m\"\u001b[39m\u001b[38;5;241m.\u001b[39mformat(age\u001b[38;5;241m=\u001b[39m\u001b[43mAge\u001b[49m,degree\u001b[38;5;241m=\u001b[39mDegree,temp\u001b[38;5;241m=\u001b[39mName))\n",
      "\u001b[0;31mNameError\u001b[0m: name 'Age' is not defined"
     ]
    }
   ],
   "source": [
    "print(\"My age is {age} and I have completed {degree} with name {temp}\".format(age=Age,degree=Degree,temp=Name))"
   ]
  },
  {
   "cell_type": "code",
   "execution_count": null,
   "id": "5d59afb9-6994-4cfd-8d52-a7d82b02b99e",
   "metadata": {},
   "outputs": [],
   "source": [
    "Name=Lalitha\n",
    "Age=38"
   ]
  },
  {
   "cell_type": "code",
   "execution_count": null,
   "id": "468fcf0f-f119-40d2-bf1a-44b2ccb4568c",
   "metadata": {},
   "outputs": [],
   "source": [
    "print(\"My Name is {name} and age is {age}\".format(name=Name,age=Age))"
   ]
  },
  {
   "cell_type": "code",
   "execution_count": 21,
   "id": "d45ba3c0-1020-46c2-b007-f576cb19422a",
   "metadata": {},
   "outputs": [
    {
     "ename": "NameError",
     "evalue": "name 'Lali' is not defined",
     "output_type": "error",
     "traceback": [
      "\u001b[0;31m---------------------------------------------------------------------------\u001b[0m",
      "\u001b[0;31mNameError\u001b[0m                                 Traceback (most recent call last)",
      "Cell \u001b[0;32mIn[21], line 1\u001b[0m\n\u001b[0;32m----> 1\u001b[0m Name\u001b[38;5;241m=\u001b[39m\u001b[43mLali\u001b[49m\n\u001b[1;32m      2\u001b[0m Age\u001b[38;5;241m=\u001b[39m\u001b[38;5;241m38\u001b[39m\n",
      "\u001b[0;31mNameError\u001b[0m: name 'Lali' is not defined"
     ]
    }
   ],
   "source": [
    "Name=Lali\n",
    "Age=38"
   ]
  },
  {
   "cell_type": "code",
   "execution_count": 24,
   "id": "a0e4cee6-4582-44e2-8a5a-5735156cca21",
   "metadata": {},
   "outputs": [
    {
     "data": {
      "text/plain": [
       "38"
      ]
     },
     "execution_count": 24,
     "metadata": {},
     "output_type": "execute_result"
    }
   ],
   "source": [
    "Age"
   ]
  },
  {
   "cell_type": "code",
   "execution_count": 25,
   "id": "de67ee93-0caf-4df6-a9c0-7bb7d9950252",
   "metadata": {},
   "outputs": [
    {
     "name": "stdout",
     "output_type": "stream",
     "text": [
      "My age is 38 and I have completed BE with name Lalitha\n"
     ]
    }
   ],
   "source": [
    "print(\"My age is {age} and I have completed {degree} with name {temp}\".format(age=Age,degree=Degree,temp=Name))"
   ]
  },
  {
   "cell_type": "code",
   "execution_count": 35,
   "id": "5024e541-06db-45d5-81aa-331e9327cad0",
   "metadata": {},
   "outputs": [
    {
     "name": "stdout",
     "output_type": "stream",
     "text": [
      "No Vote\n"
     ]
    }
   ],
   "source": [
    "Age=15\n",
    "if Age<18 :\n",
    "    print(\"No Vote\")"
   ]
  },
  {
   "cell_type": "code",
   "execution_count": 33,
   "id": "d7d3ca57-b65e-474b-9843-a1d716d3ec11",
   "metadata": {},
   "outputs": [
    {
     "name": "stdin",
     "output_type": "stream",
     "text": [
      " 13\n"
     ]
    },
    {
     "data": {
      "text/plain": [
       "'13'"
      ]
     },
     "execution_count": 33,
     "metadata": {},
     "output_type": "execute_result"
    }
   ],
   "source": [
    "input()"
   ]
  },
  {
   "cell_type": "code",
   "execution_count": 34,
   "id": "c40983d5-9af8-4c1d-bfbf-24cb002732f0",
   "metadata": {},
   "outputs": [
    {
     "name": "stdin",
     "output_type": "stream",
     "text": [
      " 13\n"
     ]
    }
   ],
   "source": [
    "Age=input()"
   ]
  },
  {
   "cell_type": "code",
   "execution_count": 40,
   "id": "96caa171-20e2-49d0-bcef-4cd45b280919",
   "metadata": {},
   "outputs": [
    {
     "name": "stdin",
     "output_type": "stream",
     "text": [
      "Enter Your Age: 50\n"
     ]
    },
    {
     "name": "stdout",
     "output_type": "stream",
     "text": [
      "Thank You\n"
     ]
    }
   ],
   "source": [
    "Age=int(input(\"Enter Your Age:\"))\n",
    "if Age>=18 and Age<=45:\n",
    "        print(\"You are Young Blood !!!\")\n",
    "else:\n",
    "    print(\"Thank You\")"
   ]
  },
  {
   "cell_type": "code",
   "execution_count": 41,
   "id": "85355a18-3a2c-4ed2-9348-8fd6ce6720a5",
   "metadata": {},
   "outputs": [
    {
     "name": "stdin",
     "output_type": "stream",
     "text": [
      "Enter the Product Price: 25.8\n"
     ]
    }
   ],
   "source": [
    "Price=float(input(\"Enter the Product Price:\"))"
   ]
  },
  {
   "cell_type": "code",
   "execution_count": 46,
   "id": "9c958cda-5ef0-4865-999c-711f499996ff",
   "metadata": {},
   "outputs": [
    {
     "name": "stdin",
     "output_type": "stream",
     "text": [
      "Enter the Product Price: 1000\n"
     ]
    },
    {
     "name": "stdout",
     "output_type": "stream",
     "text": [
      "Actual Price: 1000.0\n",
      "Discounted Price: 700.0\n"
     ]
    }
   ],
   "source": [
    "Price=float(input(\"Enter the Product Price:\"))\n",
    "if Price>1000:\n",
    "    #Discount=0.8*Price\n",
    "    Discount=Price*(1-(20/100))\n",
    "    print(\"Actual Price:\" ,Price)\n",
    "    print(\"Discounted Price:\",Discount)\n",
    "else:\n",
    "    Discount=0.7*Price\n",
    "    print(\"Actual Price:\" ,Price)\n",
    "    print(\"Discounted Price:\",Discount)\n",
    "    "
   ]
  },
  {
   "cell_type": "code",
   "execution_count": 63,
   "id": "e9a8ed0d-6f97-4c36-9392-8da7d5e750cf",
   "metadata": {},
   "outputs": [
    {
     "name": "stdin",
     "output_type": "stream",
     "text": [
      "Enter the Product Price: 0\n"
     ]
    },
    {
     "name": "stdout",
     "output_type": "stream",
     "text": [
      "Actual Price is 0.0 and Discounted Price is 0.0 and Discount is 40%\n"
     ]
    }
   ],
   "source": [
    "Price=float(input(\"Enter the Product Price:\"))\n",
    "if Price<=2000:\n",
    "    print(\"Actual Price is {} and Discounted Price is {} and Discount is {}\".format(Price,Price*0.6,'40%'))\n",
    "elif Price>2000 and Price<=3000:\n",
    "    print(\"Actual Price is {} and Discounted Price is {} and Discount is {}\".format(Price,Price*0.7,'30%'))\n",
    "else:\n",
    "     print(\"Actual Price is {} and Discounted Price is {} and Discount is {}\".format(Price,Price*0.8,'20%'))\n",
    "    \n",
    "    \n"
   ]
  },
  {
   "cell_type": "code",
   "execution_count": 56,
   "id": "abd4d204-96f8-4b57-b354-9ba2e0d4fd85",
   "metadata": {},
   "outputs": [],
   "source": [
    "n=300"
   ]
  },
  {
   "cell_type": "code",
   "execution_count": 57,
   "id": "98b4e6be-d9f0-489d-b37c-4d1c569f8df7",
   "metadata": {},
   "outputs": [
    {
     "data": {
      "text/plain": [
       "140566845969552"
      ]
     },
     "execution_count": 57,
     "metadata": {},
     "output_type": "execute_result"
    }
   ],
   "source": [
    "id(n)"
   ]
  },
  {
   "cell_type": "code",
   "execution_count": 58,
   "id": "465c3e4e-5ee8-4df0-a60d-e8fc30f019d7",
   "metadata": {},
   "outputs": [],
   "source": [
    "m=n"
   ]
  },
  {
   "cell_type": "code",
   "execution_count": 60,
   "id": "fd8e6868-44a9-4a1c-ba16-77400022a72d",
   "metadata": {},
   "outputs": [
    {
     "data": {
      "text/plain": [
       "140566845969552"
      ]
     },
     "execution_count": 60,
     "metadata": {},
     "output_type": "execute_result"
    }
   ],
   "source": [
    "id(m)"
   ]
  },
  {
   "cell_type": "code",
   "execution_count": 61,
   "id": "30c40d7b-877d-4e95-a2a9-d1de38091605",
   "metadata": {},
   "outputs": [],
   "source": [
    "m=400\n"
   ]
  },
  {
   "cell_type": "code",
   "execution_count": 62,
   "id": "0edf61f6-e531-4087-b5e9-aefae5683275",
   "metadata": {},
   "outputs": [
    {
     "data": {
      "text/plain": [
       "140566846104848"
      ]
     },
     "execution_count": 62,
     "metadata": {},
     "output_type": "execute_result"
    }
   ],
   "source": [
    "id(m)"
   ]
  },
  {
   "cell_type": "code",
   "execution_count": 70,
   "id": "4f8bd2a1-b0df-4549-93d7-1c7c88efb94f",
   "metadata": {},
   "outputs": [
    {
     "name": "stdin",
     "output_type": "stream",
     "text": [
      "Enter the Product Price: 1999\n"
     ]
    },
    {
     "name": "stdout",
     "output_type": "stream",
     "text": [
      "Actual Price is 1999 and Discounted Price is 1199.3999999999999 and Discount is 40%\n"
     ]
    }
   ],
   "source": [
    "Price=int(input(\"Enter the Product Price:\"))\n",
    "if Price<=2000:\n",
    "    if Price==999:\n",
    "        print(\"YAYYYY.....Go Goa\")\n",
    "    else: \n",
    "        print(\"Actual Price is {} and Discounted Price is {} and Discount is {}\".format(Price,Price*0.6,'40%'))\n",
    "elif Price>2000 and Price<=3000:\n",
    "    if Price==2999:\n",
    "        print(\"YAYYYY.....You have a surprise\")\n",
    "    else:\n",
    "        print(\"Actual Price is {} and Discounted Price is {} and Discount is {}\".format(Price,Price*0.7,'30%'))\n",
    "else:\n",
    "     print(\"Actual Price is {} and Discounted Price is {} and Discount is {}\".format(Price,Price*0.8,'20%'))"
   ]
  },
  {
   "cell_type": "code",
   "execution_count": 71,
   "id": "ae9c6c2b-1310-4953-8ef0-47e8cb428fb7",
   "metadata": {},
   "outputs": [],
   "source": [
    "n=500"
   ]
  },
  {
   "cell_type": "code",
   "execution_count": 72,
   "id": "5dc0b3c4-933e-41e7-ab84-9eb67f2cfac9",
   "metadata": {},
   "outputs": [
    {
     "data": {
      "text/plain": [
       "140566846105168"
      ]
     },
     "execution_count": 72,
     "metadata": {},
     "output_type": "execute_result"
    }
   ],
   "source": [
    "id(n)"
   ]
  },
  {
   "cell_type": "code",
   "execution_count": 73,
   "id": "1c3aa49a-92f9-4556-8e95-4ef0d2a28b04",
   "metadata": {},
   "outputs": [],
   "source": [
    "a=100\n",
    "b=100"
   ]
  },
  {
   "cell_type": "code",
   "execution_count": 76,
   "id": "1a47ad93-b6cd-402c-b0f7-b77ebaea4d7e",
   "metadata": {},
   "outputs": [
    {
     "data": {
      "text/plain": [
       "140567193603408"
      ]
     },
     "execution_count": 76,
     "metadata": {},
     "output_type": "execute_result"
    }
   ],
   "source": [
    "id(a)\n",
    "id(b)"
   ]
  },
  {
   "cell_type": "code",
   "execution_count": 77,
   "id": "db7159eb-023e-4323-8651-859fc45d539a",
   "metadata": {},
   "outputs": [
    {
     "data": {
      "text/plain": [
       "140567193603408"
      ]
     },
     "execution_count": 77,
     "metadata": {},
     "output_type": "execute_result"
    }
   ],
   "source": [
    "id(b)"
   ]
  },
  {
   "cell_type": "code",
   "execution_count": null,
   "id": "170b0c19-021b-4d89-89af-6b80ba9adb9a",
   "metadata": {},
   "outputs": [],
   "source": [
    "ver1.3=45\n"
   ]
  },
  {
   "cell_type": "code",
   "execution_count": null,
   "id": "d17b9764-69b3-4cd9-bdd0-c0a86f5d24f0",
   "metadata": {},
   "outputs": [],
   "source": [
    "ver1.3"
   ]
  },
  {
   "cell_type": "code",
   "execution_count": 78,
   "id": "6d7d4a7f-db57-443f-a087-c7209b1e63dd",
   "metadata": {},
   "outputs": [],
   "source": [
    "list=[1,2,3,4,'Lali','Welcome']"
   ]
  },
  {
   "cell_type": "code",
   "execution_count": 79,
   "id": "934867eb-6acb-444b-a212-70781533f18e",
   "metadata": {},
   "outputs": [
    {
     "data": {
      "text/plain": [
       "[1, 2, 3, 4, 'Lali', 'Welcome']"
      ]
     },
     "execution_count": 79,
     "metadata": {},
     "output_type": "execute_result"
    }
   ],
   "source": [
    "list"
   ]
  },
  {
   "cell_type": "code",
   "execution_count": 80,
   "id": "adbb9a7e-c6f8-49f6-8172-7fb6780de475",
   "metadata": {},
   "outputs": [
    {
     "data": {
      "text/plain": [
       "list"
      ]
     },
     "execution_count": 80,
     "metadata": {},
     "output_type": "execute_result"
    }
   ],
   "source": [
    "type(list)"
   ]
  },
  {
   "cell_type": "code",
   "execution_count": 81,
   "id": "0c39a414-d79d-463a-856d-ba30df06cdcd",
   "metadata": {},
   "outputs": [
    {
     "name": "stdout",
     "output_type": "stream",
     "text": [
      "1\n",
      "2\n",
      "3\n",
      "4\n",
      "Lali\n",
      "Welcome\n"
     ]
    }
   ],
   "source": [
    "for x in list:\n",
    "    print(x)"
   ]
  },
  {
   "cell_type": "code",
   "execution_count": 82,
   "id": "d4a25567-90a1-46e0-b5e2-49ed39e3e2c9",
   "metadata": {},
   "outputs": [
    {
     "name": "stdout",
     "output_type": "stream",
     "text": [
      "1 2 3 4 Lali Welcome "
     ]
    }
   ],
   "source": [
    "for x in list:\n",
    "    print(x,end=\" \")"
   ]
  },
  {
   "cell_type": "code",
   "execution_count": 83,
   "id": "6f78e93a-2d63-4964-8805-8312b5302db5",
   "metadata": {},
   "outputs": [
    {
     "name": "stdout",
     "output_type": "stream",
     "text": [
      "M\n",
      "a\n",
      "n\n",
      "g\n",
      "o\n"
     ]
    }
   ],
   "source": [
    "fruit=\"Mango\"\n",
    "for x in fruit:\n",
    "    print(x)"
   ]
  },
  {
   "cell_type": "code",
   "execution_count": 84,
   "id": "a472071a-b0b3-4e71-877b-4e7401271793",
   "metadata": {},
   "outputs": [
    {
     "name": "stdout",
     "output_type": "stream",
     "text": [
      "1\n",
      "2\n",
      "3\n",
      "4\n",
      "5\n"
     ]
    }
   ],
   "source": [
    "for i in range(1,6):\n",
    "    print(i)"
   ]
  },
  {
   "cell_type": "code",
   "execution_count": 86,
   "id": "5f0d038a-8a4c-49f9-aead-535c8439c61a",
   "metadata": {},
   "outputs": [
    {
     "name": "stdout",
     "output_type": "stream",
     "text": [
      "100\n",
      "98\n",
      "96\n",
      "94\n",
      "92\n"
     ]
    }
   ],
   "source": [
    "for i in range(100,91,-2):\n",
    "    print(i)"
   ]
  },
  {
   "cell_type": "code",
   "execution_count": 1,
   "id": "50a0ffbb-3d10-4463-8407-53449d981b43",
   "metadata": {},
   "outputs": [
    {
     "name": "stdout",
     "output_type": "stream",
     "text": [
      "* \n",
      "* * \n",
      "* * * \n",
      "* * * * \n",
      "* * * * * \n"
     ]
    }
   ],
   "source": [
    "n=5\n",
    "for i in range(0,n):\n",
    "    for j in range(0,i+1):\n",
    "        print(\"*\",end=\" \")\n",
    "    print(\"\\r\")"
   ]
  },
  {
   "cell_type": "code",
   "execution_count": 2,
   "id": "c566b99b-b9d1-4f44-8a31-0751f3432b0e",
   "metadata": {},
   "outputs": [
    {
     "name": "stdout",
     "output_type": "stream",
     "text": [
      "* \n",
      "* * \n",
      "* * * \n",
      "* * * * \n",
      "* * * * * \n"
     ]
    }
   ],
   "source": [
    "n=5\n",
    "for i in range(0,n):\n",
    "    for j in range(0,i+1):\n",
    "        print(\"*\",end=\" \")\n",
    "    print(\"\\r\")\n",
    "    "
   ]
  },
  {
   "cell_type": "code",
   "execution_count": 3,
   "id": "e50f368d-51df-4e0f-8ab2-ffca71564114",
   "metadata": {},
   "outputs": [
    {
     "name": "stdout",
     "output_type": "stream",
     "text": [
      "                    * \n",
      "                    * * \n",
      "                    * * * \n",
      "                    * * * * \n",
      "                    * * * * * \n",
      "                    * * * * * * \n",
      "                    * * * * * * * \n",
      "                    * * * * * * * * \n",
      "                    * * * * * * * * * \n",
      "                    * * * * * * * * * * \n"
     ]
    }
   ],
   "source": [
    "# to display stars in right-angled triangular form \n",
    "n=20\n",
    "for i in range(1, 11):\n",
    "    print(' '*n, end='') # repet space for n times\n",
    "    print('* '*(i)) # repeat stars for i times"
   ]
  },
  {
   "cell_type": "code",
   "execution_count": 4,
   "id": "8102d2ae-eef3-493d-b862-53634cb74730",
   "metadata": {},
   "outputs": [
    {
     "name": "stdout",
     "output_type": "stream",
     "text": [
      "                    * \n",
      "                   * * \n",
      "                  * * * \n",
      "                 * * * * \n",
      "                * * * * * \n",
      "               * * * * * * \n",
      "              * * * * * * * \n",
      "             * * * * * * * * \n",
      "            * * * * * * * * * \n",
      "           * * * * * * * * * * \n"
     ]
    }
   ],
   "source": [
    "# to display stars in equilateral triangular form \n",
    "n=20\n",
    "for i in range(1, 11):\n",
    "    print(' '*n, end='') # repet space for n times\n",
    "    print('* '*(i)) # repeat stars for i times\n",
    "    n-=1"
   ]
  },
  {
   "cell_type": "code",
   "execution_count": 7,
   "id": "43b7e5bf-54c4-46b4-8271-9585cf04e302",
   "metadata": {},
   "outputs": [
    {
     "name": "stdout",
     "output_type": "stream",
     "text": [
      "     * \n",
      "     * * \n",
      "     * * * \n",
      "     * * * * \n",
      "     * * * * * \n"
     ]
    }
   ],
   "source": [
    "n=5\n",
    "for i in range(1,(n)+1):\n",
    "    print(' '*n,end='')\n",
    "    print('* '*(i))"
   ]
  },
  {
   "cell_type": "code",
   "execution_count": 12,
   "id": "2914c093-ae7e-4949-b099-fdd6e5d3cd1f",
   "metadata": {},
   "outputs": [
    {
     "name": "stdout",
     "output_type": "stream",
     "text": [
      "     * \n",
      "    * * \n",
      "   * * * \n",
      "  * * * * \n",
      " * * * * * \n"
     ]
    }
   ],
   "source": [
    "n=5\n",
    "for i in range(1,(n)+1):\n",
    "    print(' '*n,end='')\n",
    "    print('* '*(i))\n",
    "    n=n-1"
   ]
  },
  {
   "cell_type": "code",
   "execution_count": 16,
   "id": "555c3a70-4a91-40cc-ac2c-e641b7de9916",
   "metadata": {},
   "outputs": [
    {
     "name": "stdout",
     "output_type": "stream",
     "text": [
      "* \n",
      "* * \n",
      "* * * \n",
      "* * * * \n",
      "* * * * * \n"
     ]
    }
   ],
   "source": [
    "n=5\n",
    "for i in range(1,n+1):\n",
    "   # print('~'*n,end=' ')\n",
    "    print('* '*(i))"
   ]
  },
  {
   "cell_type": "code",
   "execution_count": 1,
   "id": "f21aa104-1302-402b-bdce-64595b23d310",
   "metadata": {},
   "outputs": [
    {
     "name": "stdout",
     "output_type": "stream",
     "text": [
      "foo\n"
     ]
    }
   ],
   "source": [
    "if (1, 2):\n",
    "\n",
    "    print('foo')"
   ]
  },
  {
   "cell_type": "code",
   "execution_count": 2,
   "id": "5a222e8e-0c6f-4750-9c56-bdb36ebb11e2",
   "metadata": {},
   "outputs": [
    {
     "ename": "IndentationError",
     "evalue": "expected an indented block after 'if' statement on line 1 (1205035376.py, line 2)",
     "output_type": "error",
     "traceback": [
      "\u001b[0;36m  Cell \u001b[0;32mIn[2], line 2\u001b[0;36m\u001b[0m\n\u001b[0;31m    print('foo')\u001b[0m\n\u001b[0m    ^\u001b[0m\n\u001b[0;31mIndentationError\u001b[0m\u001b[0;31m:\u001b[0m expected an indented block after 'if' statement on line 1\n"
     ]
    }
   ],
   "source": [
    "if (1, 2):\n",
    "print('foo')"
   ]
  },
  {
   "cell_type": "code",
   "execution_count": 3,
   "id": "f7397597-b282-4ea1-a90b-8a8096f1f78a",
   "metadata": {},
   "outputs": [],
   "source": [
    "a = 100\n",
    "b = 50"
   ]
  },
  {
   "cell_type": "code",
   "execution_count": 7,
   "id": "ba679a7b-0f81-4868-bcc7-ac8f853972ed",
   "metadata": {},
   "outputs": [
    {
     "ename": "IndentationError",
     "evalue": "unindent does not match any outer indentation level (<tokenize>, line 6)",
     "output_type": "error",
     "traceback": [
      "\u001b[0;36m  File \u001b[0;32m<tokenize>:6\u001b[0;36m\u001b[0m\n\u001b[0;31m    print(m)\u001b[0m\n\u001b[0m    ^\u001b[0m\n\u001b[0;31mIndentationError\u001b[0m\u001b[0;31m:\u001b[0m unindent does not match any outer indentation level\n"
     ]
    }
   ],
   "source": [
    "if a<b :\n",
    "    m=a\n",
    "    print(m)\n",
    "else:\n",
    "\tm=b\n",
    "    print(m)"
   ]
  },
  {
   "cell_type": "code",
   "execution_count": 8,
   "id": "f87d2642-9469-469c-b1fd-f64b12cc838c",
   "metadata": {},
   "outputs": [
    {
     "name": "stdout",
     "output_type": "stream",
     "text": [
      "50\n"
     ]
    }
   ],
   "source": [
    "if a<b :\n",
    "    m=a\n",
    "    print(m)\n",
    "else:\n",
    "    m=b\n",
    "    print(m)"
   ]
  },
  {
   "cell_type": "code",
   "execution_count": 9,
   "id": "081686f9-3532-4dc6-9997-5e94442ae262",
   "metadata": {},
   "outputs": [
    {
     "name": "stdout",
     "output_type": "stream",
     "text": [
      "ok\n"
     ]
    }
   ],
   "source": [
    "d = {'a': 0, 'b': 1, 'c': 0}\n",
    "\n",
    "if d['a'] > 0:\n",
    "    print('ok')\n",
    "elif d['b'] > 0:\n",
    "    print('ok')\n",
    "elif d['c'] > 0:\n",
    "    print('ok')\n",
    "elif d['d'] > 0:\n",
    "    print('ok')\n",
    "else:\n",
    "    print('not ok')"
   ]
  },
  {
   "cell_type": "code",
   "execution_count": 10,
   "id": "ee32ffdb-053d-49eb-aeb2-9e2513d565b1",
   "metadata": {},
   "outputs": [],
   "source": [
    "x=10\n",
    "y=20"
   ]
  },
  {
   "cell_type": "code",
   "execution_count": 11,
   "id": "ae51fdec-e381-40cd-8abb-e830c3972156",
   "metadata": {},
   "outputs": [
    {
     "ename": "SyntaxError",
     "evalue": "invalid syntax (1352384776.py, line 1)",
     "output_type": "error",
     "traceback": [
      "\u001b[0;36m  Cell \u001b[0;32mIn[11], line 1\u001b[0;36m\u001b[0m\n\u001b[0;31m    if x < y: if x > 10: print('foo')\u001b[0m\n\u001b[0m              ^\u001b[0m\n\u001b[0;31mSyntaxError\u001b[0m\u001b[0;31m:\u001b[0m invalid syntax\n"
     ]
    }
   ],
   "source": [
    "if x < y: if x > 10: print('foo')"
   ]
  },
  {
   "cell_type": "code",
   "execution_count": 12,
   "id": "08931da9-4233-4c23-abf5-a3f3f601cf28",
   "metadata": {},
   "outputs": [
    {
     "ename": "SyntaxError",
     "evalue": "invalid syntax (2485946297.py, line 1)",
     "output_type": "error",
     "traceback": [
      "\u001b[0;36m  Cell \u001b[0;32mIn[12], line 1\u001b[0;36m\u001b[0m\n\u001b[0;31m    if x < y: print('foo') else: print('bar')\u001b[0m\n\u001b[0m                           ^\u001b[0m\n\u001b[0;31mSyntaxError\u001b[0m\u001b[0;31m:\u001b[0m invalid syntax\n"
     ]
    }
   ],
   "source": [
    "if x < y: print('foo') else: print('bar')"
   ]
  },
  {
   "cell_type": "code",
   "execution_count": 13,
   "id": "442ddc08-c439-4a7d-af84-155b87c99570",
   "metadata": {},
   "outputs": [
    {
     "name": "stdout",
     "output_type": "stream",
     "text": [
      "foo\n"
     ]
    }
   ],
   "source": [
    "if x < y: print('foo')\n",
    "elif y < x: print('bar')\n",
    "else: print('baz')"
   ]
  },
  {
   "cell_type": "code",
   "execution_count": 15,
   "id": "f524f2a4-5aab-4abe-bbbf-d284d81438f1",
   "metadata": {},
   "outputs": [
    {
     "data": {
      "text/plain": [
       "'ax'"
      ]
     },
     "execution_count": 15,
     "metadata": {},
     "output_type": "execute_result"
    }
   ],
   "source": [
    "'a' + 'x' if '123'.isdigit() else 'y' + 'b'\n"
   ]
  },
  {
   "cell_type": "code",
   "execution_count": 16,
   "id": "136c6a82-0a65-49aa-9cbe-0314523eb178",
   "metadata": {},
   "outputs": [
    {
     "data": {
      "text/plain": [
       "True"
      ]
     },
     "execution_count": 16,
     "metadata": {},
     "output_type": "execute_result"
    }
   ],
   "source": [
    "'123'.isdigit() "
   ]
  },
  {
   "cell_type": "code",
   "execution_count": null,
   "id": "61160f32-4c19-4d21-9e8e-3d016cec544b",
   "metadata": {},
   "outputs": [],
   "source": []
  }
 ],
 "metadata": {
  "kernelspec": {
   "display_name": "Python 3 (ipykernel)",
   "language": "python",
   "name": "python3"
  },
  "language_info": {
   "codemirror_mode": {
    "name": "ipython",
    "version": 3
   },
   "file_extension": ".py",
   "mimetype": "text/x-python",
   "name": "python",
   "nbconvert_exporter": "python",
   "pygments_lexer": "ipython3",
   "version": "3.10.8"
  }
 },
 "nbformat": 4,
 "nbformat_minor": 5
}
