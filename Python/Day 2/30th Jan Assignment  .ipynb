{
 "cells": [
  {
   "cell_type": "markdown",
   "id": "edfdff5b-96ae-4182-8559-1bd7b005ec97",
   "metadata": {},
   "source": [
    "1. Write a program to accept percentage from the user and display the grade according to the following \n",
    "criteria: \n",
    "Marks \n",
    "Grade \n",
    ">90 \n",
    "A \n",
    ">80 and <=90 \n",
    "B \n",
    ">=60 and <=80 \n",
    "C \n",
    "below 60 \n",
    "D \n"
   ]
  },
  {
   "cell_type": "code",
   "execution_count": 7,
   "id": "4aa25a78-6ea7-450e-8214-6289ce3a462d",
   "metadata": {},
   "outputs": [
    {
     "name": "stdin",
     "output_type": "stream",
     "text": [
      "Enter the percentage: 80\n"
     ]
    },
    {
     "name": "stdout",
     "output_type": "stream",
     "text": [
      "Your Grade is C\n"
     ]
    }
   ],
   "source": [
    "percent=float(input(\"Enter the percentage:\"))\n",
    "if percent > 90:\n",
    "    print(\"Your Grade is A\")\n",
    "elif percent > 80 and percent <= 90:\n",
    "    print(\"Your Grade is B\")\n",
    "elif percent >= 60 and percent <=80:\n",
    "    print(\"Your Grade is C\")\n",
    "else:\n",
    "    print(\"Your Grade is D\")"
   ]
  },
  {
   "cell_type": "markdown",
   "id": "7eb5363b-a833-4743-b729-249f3c63e039",
   "metadata": {},
   "source": [
    "2. Write a program to accept the cost price of a bike and display the road tax to be paid according to the \n",
    "following criteria: \n",
    "Tax \n",
    "15% \n",
    "10% \n",
    "5% \n",
    "Cost Price(in Rs) \n",
    ">100000 \n",
    "5 \n",
    "50000 and <= 100000 \n",
    "<= 50000 "
   ]
  },
  {
   "cell_type": "code",
   "execution_count": 13,
   "id": "f6e6b43d-8f07-44b1-977d-4b81cc89befe",
   "metadata": {},
   "outputs": [
    {
     "name": "stdin",
     "output_type": "stream",
     "text": [
      "Enter the cost of your bike: 80000\n"
     ]
    },
    {
     "name": "stdout",
     "output_type": "stream",
     "text": [
      "Road tax to be paid is 8000.0\n"
     ]
    }
   ],
   "source": [
    "cost=float(input(\"Enter the cost of your bike:\"))\n",
    "if cost > 100000:\n",
    "    road_tax=0.15*cost\n",
    "    print(f\"Road tax to be paid is {road_tax}\")\n",
    "elif cost > 50000 and cost <=1000000:\n",
    "    road_tax=0.10*cost\n",
    "    print(f\"Road tax to be paid is {road_tax}\")\n",
    "else:\n",
    "    road_tax=0.05*cost\n",
    "    print(f\"Road tax to be paid is {road_tax}\")\n",
    "    "
   ]
  },
  {
   "cell_type": "markdown",
   "id": "4e6f8585-e065-4bf4-b728-572acccc1df8",
   "metadata": {},
   "source": [
    "3. Accept any city from the user and display monuments of that city. \n",
    "City \n",
    "Delhi \n",
    "Monument \n",
    "Red Fort \n",
    "Taj Mahal \n",
    "Agra \n",
    "Jaipur \n",
    "Jal Mahal \n"
   ]
  },
  {
   "cell_type": "code",
   "execution_count": 23,
   "id": "e8a12204-07fe-4c4b-ac26-fc80ffe12583",
   "metadata": {},
   "outputs": [
    {
     "name": "stdin",
     "output_type": "stream",
     "text": [
      "Enter the city name : Davanagere\n"
     ]
    },
    {
     "name": "stdout",
     "output_type": "stream",
     "text": [
      "What monument is in Davanagere ?\n"
     ]
    }
   ],
   "source": [
    "input_city=input(\"Enter the city name :\")\n",
    "city=input_city.strip()\n",
    "if city == \"Delhi\":\n",
    "    print(f\"You have Red Fort monument in {city} !!\")\n",
    "elif city == \"Agra\":\n",
    "    print(f\"You have Taj Mahal monument in {city} !!\")\n",
    "elif city == \"Jaipur\":\n",
    "    print(f\"You have Jal Mahal monument in {city} !!\")\n",
    "else:\n",
    "    print(f\"What monument is in {city} ?\")\n",
    "    \n",
    "    \n"
   ]
  },
  {
   "cell_type": "markdown",
   "id": "ff4aabbf-f8f1-44a1-8b10-5a70d57626a3",
   "metadata": {},
   "source": [
    "4. Check how many times a given number can be divided by 3 before it is less than or equal to 10. \n"
   ]
  },
  {
   "cell_type": "code",
   "execution_count": 5,
   "id": "04362fba-55f6-43b0-99c9-e12efa0857aa",
   "metadata": {},
   "outputs": [
    {
     "name": "stdin",
     "output_type": "stream",
     "text": [
      "Enter the number: 180\n"
     ]
    },
    {
     "name": "stdout",
     "output_type": "stream",
     "text": [
      "60.0\n",
      "20.0\n",
      "6.666666666666667\n",
      "No of iterations: 3\n"
     ]
    }
   ],
   "source": [
    "input_no=int(input(\"Enter the number:\"))\n",
    "count=0\n",
    "while input_no > 10 :\n",
    "    input_no=input_no/3\n",
    "    print(input_no)\n",
    "    count=count+1\n",
    "print(\"No of iterations:\",count)\n",
    "    \n",
    "        "
   ]
  },
  {
   "cell_type": "markdown",
   "id": "677d8ded-d06f-43a0-a9ee-af00870abce4",
   "metadata": {},
   "source": [
    "Reverse a while loop to display numbers from 10 to 1. \n"
   ]
  },
  {
   "cell_type": "code",
   "execution_count": 6,
   "id": "d2179cea-a699-4f7c-9a9b-ff43ebe9a493",
   "metadata": {},
   "outputs": [
    {
     "name": "stdout",
     "output_type": "stream",
     "text": [
      "10\n",
      "9\n",
      "8\n",
      "7\n",
      "6\n",
      "5\n",
      "4\n",
      "3\n",
      "2\n",
      "1\n"
     ]
    }
   ],
   "source": [
    "number=10\n",
    "while number > 0:\n",
    "    print(number)\n",
    "    number=number-1\n",
    "    "
   ]
  },
  {
   "cell_type": "markdown",
   "id": "a19863da-ea10-481f-8a04-64b2a7e45586",
   "metadata": {},
   "source": [
    "Use nested while loop to print 3 different pattern"
   ]
  },
  {
   "cell_type": "code",
   "execution_count": 15,
   "id": "c576729f-26d5-47b0-b6ff-97a2725678fc",
   "metadata": {},
   "outputs": [
    {
     "name": "stdout",
     "output_type": "stream",
     "text": [
      " * \n",
      " *  * \n",
      " *  *  * \n",
      " *  *  *  * \n",
      " *  *  *  *  * \n"
     ]
    }
   ],
   "source": [
    "n=1\n",
    "while n <= 5:\n",
    "    print(n*\" * \")\n",
    "    n=n+1"
   ]
  },
  {
   "cell_type": "code",
   "execution_count": 11,
   "id": "ac097361-4318-4f0e-832c-66c8a0ba8d24",
   "metadata": {},
   "outputs": [
    {
     "name": "stdout",
     "output_type": "stream",
     "text": [
      "       *       \n",
      "      *  *     \n",
      "    *  *  *    \n",
      "   *  *  *  *  \n",
      " *  *  *  *  * \n"
     ]
    }
   ],
   "source": [
    "n=1\n",
    "while n <= 5:\n",
    "    string = n*\" * \"\n",
    "    mid=string.center(15)\n",
    "    print(mid)\n",
    "    n=n+1"
   ]
  },
  {
   "cell_type": "code",
   "execution_count": 12,
   "id": "b6e9c4db-a720-449d-9fa7-9c575987e905",
   "metadata": {},
   "outputs": [
    {
     "name": "stdout",
     "output_type": "stream",
     "text": [
      "             * \n",
      "          *  * \n",
      "       *  *  * \n",
      "    *  *  *  * \n",
      " *  *  *  *  * \n"
     ]
    }
   ],
   "source": [
    "n=1\n",
    "while n <= 5:\n",
    "    string=n*\" * \"\n",
    "    right=string.rjust(15)\n",
    "    print(right)\n",
    "    n=n+1"
   ]
  },
  {
   "cell_type": "markdown",
   "id": "2cfda351-bbae-4aed-9cf7-ecd77eb75854",
   "metadata": {},
   "source": [
    "Why and When to Use while Loop in Python give a detailed description with example "
   ]
  },
  {
   "cell_type": "markdown",
   "id": "f60ff40b-e54b-4707-903b-fb6f00b126ac",
   "metadata": {},
   "source": [
    "Iteration means executing the same block of code over and over, potentially many times. A programming structure that implements iteration is called a loop.\n",
    "\n",
    "In programming, there are two types of iteration, indefinite and definite:\n",
    "\n",
    "With indefinite iteration, the number of times the loop is executed isn’t specified explicitly in advance. Rather, the designated block is executed repeatedly as long as some condition is met.\n",
    "\n",
    "With definite iteration, the number of times the designated block will be executed is specified explicitly at the time the loop starts."
   ]
  },
  {
   "cell_type": "markdown",
   "id": "52b46b61-dda5-4547-b8da-6637f344f9cc",
   "metadata": {},
   "source": [
    "While loop is used to implement indefinite iteration"
   ]
  },
  {
   "cell_type": "markdown",
   "id": "336d03b4-5fe6-4c3f-b172-dea15a5bbba6",
   "metadata": {},
   "source": [
    "The format of a rudimentary while loop is shown below:\n",
    "\n",
    "while <expr>:\n",
    "    <statement(s)>\n",
    "<statement(s)> represents the block to be repeatedly executed, often referred to as the body of the loop. This is denoted with indentation, just as in an if statement.\n",
    "\n",
    "The controlling expression, <expr>, typically involves one or more variables that are initialized prior to starting the loop and then modified somewhere in the loop body.\n",
    "\n",
    "When a while loop is encountered, <expr> is first evaluated in Boolean context. If it is true, the loop body is executed. Then <expr> is checked again, and if still true, the body is executed again. This continues until <expr> becomes false, at which point program execution proceeds to the first statement beyond the loop body.\n",
    "\n",
    "Consider this loop:\n",
    "\n",
    ">>> n = 5\n",
    ">>> while n > 0:\n",
    "...     n -= 1\n",
    "...     print(n)\n",
    "...\n",
    "4\n",
    "3\n",
    "2\n",
    "1\n",
    "0\n",
    "Here’s what’s happening in this example:\n",
    "\n",
    "n is initially 5. The expression in the while statement header on line 2 is n > 0, which is true, so the loop body executes. Inside the loop body on line 3, n is decremented by 1 to 4, and then printed.\n",
    "\n",
    "When the body of the loop has finished, program execution returns to the top of the loop at line 2, and the expression is evaluated again. It is still true, so the body executes again, and 3 is printed.\n",
    "\n",
    "This continues until n becomes 0. At that point, when the expression is tested, it is false, and the loop terminates. Execution would resume at the first statement following the loop body, but there isn’t one in this case.\n",
    "\n",
    "Note that the controlling expression of the while loop is tested first, before anything else happens. If it’s false to start with, the loop body will never be executed at all:"
   ]
  },
  {
   "cell_type": "code",
   "execution_count": null,
   "id": "06455370-3c74-4219-a2ff-38ecbaef24d4",
   "metadata": {},
   "outputs": [],
   "source": []
  }
 ],
 "metadata": {
  "kernelspec": {
   "display_name": "Python 3 (ipykernel)",
   "language": "python",
   "name": "python3"
  },
  "language_info": {
   "codemirror_mode": {
    "name": "ipython",
    "version": 3
   },
   "file_extension": ".py",
   "mimetype": "text/x-python",
   "name": "python",
   "nbconvert_exporter": "python",
   "pygments_lexer": "ipython3",
   "version": "3.10.8"
  }
 },
 "nbformat": 4,
 "nbformat_minor": 5
}
