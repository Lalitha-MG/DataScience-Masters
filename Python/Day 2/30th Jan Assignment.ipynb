{
 "cells": [
  {
   "cell_type": "markdown",
   "id": "edfdff5b-96ae-4182-8559-1bd7b005ec97",
   "metadata": {},
   "source": [
    "1. Write a program to accept percentage from the user and display the grade according to the following \n",
    "criteria: \n",
    "Marks \n",
    "Grade \n",
    ">90 \n",
    "A \n",
    ">80 and <=90 \n",
    "B \n",
    ">=60 and <=80 \n",
    "C \n",
    "below 60 \n",
    "D \n"
   ]
  },
  {
   "cell_type": "code",
   "execution_count": 7,
   "id": "4aa25a78-6ea7-450e-8214-6289ce3a462d",
   "metadata": {},
   "outputs": [
    {
     "name": "stdin",
     "output_type": "stream",
     "text": [
      "Enter the percentage: 80\n"
     ]
    },
    {
     "name": "stdout",
     "output_type": "stream",
     "text": [
      "Your Grade is C\n"
     ]
    }
   ],
   "source": [
    "percent=float(input(\"Enter the percentage:\"))\n",
    "if percent > 90:\n",
    "    print(\"Your Grade is A\")\n",
    "elif percent > 80 and percent <= 90:\n",
    "    print(\"Your Grade is B\")\n",
    "elif percent >= 60 and percent <=80:\n",
    "    print(\"Your Grade is C\")\n",
    "else:\n",
    "    print(\"Your Grade is D\")"
   ]
  },
  {
   "cell_type": "markdown",
   "id": "7eb5363b-a833-4743-b729-249f3c63e039",
   "metadata": {},
   "source": [
    "2. Write a program to accept the cost price of a bike and display the road tax to be paid according to the \n",
    "following criteria: \n",
    "Tax \n",
    "15% \n",
    "10% \n",
    "5% \n",
    "Cost Price(in Rs) \n",
    ">100000 \n",
    "5 \n",
    "50000 and <= 100000 \n",
    "<= 50000 "
   ]
  },
  {
   "cell_type": "code",
   "execution_count": 13,
   "id": "f6e6b43d-8f07-44b1-977d-4b81cc89befe",
   "metadata": {},
   "outputs": [
    {
     "name": "stdin",
     "output_type": "stream",
     "text": [
      "Enter the cost of your bike: 80000\n"
     ]
    },
    {
     "name": "stdout",
     "output_type": "stream",
     "text": [
      "Road tax to be paid is 8000.0\n"
     ]
    }
   ],
   "source": [
    "cost=float(input(\"Enter the cost of your bike:\"))\n",
    "if cost > 100000:\n",
    "    road_tax=0.15*cost\n",
    "    print(f\"Road tax to be paid is {road_tax}\")\n",
    "elif cost > 50000 and cost <=1000000:\n",
    "    road_tax=0.10*cost\n",
    "    print(f\"Road tax to be paid is {road_tax}\")\n",
    "else:\n",
    "    road_tax=0.05*cost\n",
    "    print(f\"Road tax to be paid is {road_tax}\")\n",
    "    "
   ]
  },
  {
   "cell_type": "markdown",
   "id": "4e6f8585-e065-4bf4-b728-572acccc1df8",
   "metadata": {},
   "source": [
    "3. Accept any city from the user and display monuments of that city. \n",
    "City \n",
    "Delhi \n",
    "Monument \n",
    "Red Fort \n",
    "Taj Mahal \n",
    "Agra \n",
    "Jaipur \n",
    "Jal Mahal \n"
   ]
  },
  {
   "cell_type": "code",
   "execution_count": 23,
   "id": "e8a12204-07fe-4c4b-ac26-fc80ffe12583",
   "metadata": {},
   "outputs": [
    {
     "name": "stdin",
     "output_type": "stream",
     "text": [
      "Enter the city name : Davanagere\n"
     ]
    },
    {
     "name": "stdout",
     "output_type": "stream",
     "text": [
      "What monument is in Davanagere ?\n"
     ]
    }
   ],
   "source": [
    "input_city=input(\"Enter the city name :\")\n",
    "city=input_city.strip()\n",
    "if city == \"Delhi\":\n",
    "    print(f\"You have Red Fort monument in {city} !!\")\n",
    "elif city == \"Agra\":\n",
    "    print(f\"You have Taj Mahal monument in {city} !!\")\n",
    "elif city == \"Jaipur\":\n",
    "    print(f\"You have Jal Mahal monument in {city} !!\")\n",
    "else:\n",
    "    print(f\"What monument is in {city} ?\")\n",
    "    \n",
    "    \n"
   ]
  },
  {
   "cell_type": "markdown",
   "id": "ff4aabbf-f8f1-44a1-8b10-5a70d57626a3",
   "metadata": {},
   "source": [
    "4. Check how many times a given number can be divided by 3 before it is less than or equal to 10. \n"
   ]
  },
  {
   "cell_type": "code",
   "execution_count": null,
   "id": "04362fba-55f6-43b0-99c9-e12efa0857aa",
   "metadata": {},
   "outputs": [],
   "source": [
    "print(\"Lalitha\")\n",
    "        "
   ]
  },
  {
   "cell_type": "code",
   "execution_count": null,
   "id": "eacebf97-6590-487c-a9f0-ed0e9bf93ff5",
   "metadata": {},
   "outputs": [],
   "source": []
  },
  {
   "cell_type": "code",
   "execution_count": null,
   "id": "d2179cea-a699-4f7c-9a9b-ff43ebe9a493",
   "metadata": {},
   "outputs": [],
   "source": []
  },
  {
   "cell_type": "code",
   "execution_count": null,
   "id": "e7b2758a-eda7-4829-9f00-3a1817b99b0a",
   "metadata": {},
   "outputs": [],
   "source": []
  },
  {
   "cell_type": "code",
   "execution_count": null,
   "id": "ac097361-4318-4f0e-832c-66c8a0ba8d24",
   "metadata": {},
   "outputs": [],
   "source": []
  }
 ],
 "metadata": {
  "kernelspec": {
   "display_name": "Python 3 (ipykernel)",
   "language": "python",
   "name": "python3"
  },
  "language_info": {
   "codemirror_mode": {
    "name": "ipython",
    "version": 3
   },
   "file_extension": ".py",
   "mimetype": "text/x-python",
   "name": "python",
   "nbconvert_exporter": "python",
   "pygments_lexer": "ipython3",
   "version": "3.10.8"
  }
 },
 "nbformat": 4,
 "nbformat_minor": 5
}
