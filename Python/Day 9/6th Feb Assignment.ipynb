{
 "cells": [
  {
   "cell_type": "markdown",
   "id": "e9380da2-72a8-4054-9b25-5b2ee274e35b",
   "metadata": {},
   "source": [
    "Q1. Create a function which will take a list as an argument and return the product of all the numbers\n",
    "after creating a flat list.\n",
    "Use the below-given list as an argument for your function.\n",
    "list1 = [1,2,3,4, [44,55,66, True], False, (34,56,78,89,34), {1,2,3,3,2,1}, {1:34, \"key2\": [55, 67, 78, 89], 4: (45,\n",
    "22, 61, 34)}, [56, 'data science'], 'Machine Learning']\n",
    "Note: you must extract numeric keys and values of the dictionary also."
   ]
  },
  {
   "cell_type": "code",
   "execution_count": 2,
   "id": "9d01864f-b7d7-4410-aed5-948651fe348e",
   "metadata": {},
   "outputs": [],
   "source": [
    "list1 = [1,2,3,4, [44,55,66, True], False, (34,56,78,89,34), {1,2,3,3,2,1}, {1:34, \"key2\": [55, 67, 78, 89], 4: (45,\n",
    "22, 61, 34)}, [56, 'data science'], 'Machine Learning']"
   ]
  },
  {
   "cell_type": "code",
   "execution_count": 8,
   "id": "1d64b189-a04d-441e-a5c7-92baae44b26e",
   "metadata": {},
   "outputs": [
    {
     "name": "stdout",
     "output_type": "stream",
     "text": [
      "1 <class 'int'>\n",
      "2 <class 'int'>\n",
      "3 <class 'int'>\n",
      "4 <class 'int'>\n",
      "[44, 55, 66, True] <class 'list'>\n",
      "False <class 'bool'>\n",
      "(34, 56, 78, 89, 34) <class 'tuple'>\n",
      "{1, 2, 3} <class 'set'>\n",
      "{1: 34, 'key2': [55, 67, 78, 89], 4: (45, 22, 61, 34)} <class 'dict'>\n",
      "[56, 'data science'] <class 'list'>\n",
      "Machine Learning <class 'str'>\n"
     ]
    }
   ],
   "source": [
    "for i in list1:\n",
    "    print(i,type(i))"
   ]
  },
  {
   "cell_type": "code",
   "execution_count": 3,
   "id": "10d37f1a-6a89-4cb0-9e7d-77f3f5acd705",
   "metadata": {},
   "outputs": [
    {
     "name": "stdout",
     "output_type": "stream",
     "text": [
      "[1, 2, 3, 4, 44, 55, 66, 34, 56, 78, 89, 34, 1, 2, 3, 1, 4, 34, 55, 67, 78, 89, 45, 22, 61, 34, 56]\n",
      "1 <class 'int'> <class 'list'>\n",
      "2 <class 'int'> <class 'list'>\n",
      "3 <class 'int'> <class 'list'>\n",
      "4 <class 'int'> <class 'list'>\n",
      "44 <class 'int'> <class 'list'>\n",
      "55 <class 'int'> <class 'list'>\n",
      "66 <class 'int'> <class 'list'>\n",
      "34 <class 'int'> <class 'list'>\n",
      "56 <class 'int'> <class 'list'>\n",
      "78 <class 'int'> <class 'list'>\n",
      "89 <class 'int'> <class 'list'>\n",
      "34 <class 'int'> <class 'list'>\n",
      "1 <class 'int'> <class 'list'>\n",
      "2 <class 'int'> <class 'list'>\n",
      "3 <class 'int'> <class 'list'>\n",
      "1 <class 'int'> <class 'list'>\n",
      "4 <class 'int'> <class 'list'>\n",
      "34 <class 'int'> <class 'list'>\n",
      "55 <class 'int'> <class 'list'>\n",
      "67 <class 'int'> <class 'list'>\n",
      "78 <class 'int'> <class 'list'>\n",
      "89 <class 'int'> <class 'list'>\n",
      "45 <class 'int'> <class 'list'>\n",
      "22 <class 'int'> <class 'list'>\n",
      "61 <class 'int'> <class 'list'>\n",
      "34 <class 'int'> <class 'list'>\n",
      "56 <class 'int'> <class 'list'>\n"
     ]
    }
   ],
   "source": [
    "list_data=[]\n",
    "for element in list1:\n",
    "    if type(element) == list :\n",
    "        list_data.extend(element)\n",
    "    elif type(element) == int :\n",
    "        list_data.append(element)\n",
    "    elif type(element) == tuple or type(element) == set :\n",
    "        list_data.extend(element)\n",
    "    elif type(element) == dict :\n",
    "        list_data.extend(list(element.keys()))\n",
    "        list_data.extend(list(element.values()))\n",
    "        \n",
    "        \n",
    "#print(list_data)\n",
    "\n",
    "flist_data=[]\n",
    "for element in list_data:\n",
    "    if type(element) == list :\n",
    "        flist_data.extend(element)\n",
    "    elif type(element) == int :\n",
    "        flist_data.append(element)\n",
    "    elif type(element) == tuple or type(element) == set :\n",
    "        flist_data.extend(element)\n",
    "    elif type(element) == dict :\n",
    "        flist_data.extend(list(element.keys()))\n",
    "        flist_data.extend(list(element.values()))\n",
    "        \n",
    "print(flist_data) \n",
    "\n",
    "for i in flist_data :\n",
    "    print(i,type(i),type(flist_data))\n",
    "\n",
    "\n"
   ]
  },
  {
   "cell_type": "code",
   "execution_count": 19,
   "id": "f8dec958-8c0d-47e4-b587-bdd1e551ab25",
   "metadata": {},
   "outputs": [
    {
     "data": {
      "text/plain": [
       "4134711838987085478833841242112000"
      ]
     },
     "execution_count": 19,
     "metadata": {},
     "output_type": "execute_result"
    }
   ],
   "source": [
    "#a=[1,2,3,4]\n",
    "reduce(lambda x , y : x * y , flist_data)\n"
   ]
  },
  {
   "cell_type": "markdown",
   "id": "05924ecf-cbd1-4cf5-ba8a-76f6e1888410",
   "metadata": {},
   "source": [
    "Q2. Write a python program for encrypting a message sent to you by your friend. The logic of encryption\n",
    "should be such that, for a the output should be z. For b, the output should be y. For c, the output should\n",
    "be x respectively. Also, the whitespace should be replaced with a dollar sign. Keep the punctuation\n",
    "marks unchanged.\n",
    "Input Sentence: I want to become a Data Scientist.\n",
    "Encrypt the above input sentence using the program you just created.\n",
    "Note: Convert the given input sentence into lowercase before encrypting. The final output should be\n",
    "lowercase.\n"
   ]
  },
  {
   "cell_type": "code",
   "execution_count": 54,
   "id": "98f26fe6-d344-4c3c-bdca-754063579c9a",
   "metadata": {},
   "outputs": [
    {
     "name": "stdout",
     "output_type": "stream",
     "text": [
      "r$dzmg$gl$yvxlnv$z$wzgz$hxrvmgrhg.\n"
     ]
    }
   ],
   "source": [
    "intab =\"abcdefghijklmnopqrstuvwxyz \"\n",
    "outtab =\"zyxwvutsrqponmlkjihgfedcba$\"\n",
    "trantab = str.maketrans(intab, outtab)\n",
    "\n",
    "str = \"I want to become a Data Scientist.\"\n",
    "lower_str=str.lower()\n",
    "print (lower_str.translate(trantab))"
   ]
  }
 ],
 "metadata": {
  "kernelspec": {
   "display_name": "Python 3 (ipykernel)",
   "language": "python",
   "name": "python3"
  },
  "language_info": {
   "codemirror_mode": {
    "name": "ipython",
    "version": 3
   },
   "file_extension": ".py",
   "mimetype": "text/x-python",
   "name": "python",
   "nbconvert_exporter": "python",
   "pygments_lexer": "ipython3",
   "version": "3.10.8"
  }
 },
 "nbformat": 4,
 "nbformat_minor": 5
}
