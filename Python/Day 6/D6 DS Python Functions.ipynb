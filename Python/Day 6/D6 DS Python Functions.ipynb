{
 "cells": [
  {
   "cell_type": "code",
   "execution_count": 1,
   "id": "d661b746-d7fb-4fad-a7cc-170b93d52b81",
   "metadata": {},
   "outputs": [
    {
     "ename": "SyntaxError",
     "evalue": "incomplete input (2185937915.py, line 1)",
     "output_type": "error",
     "traceback": [
      "\u001b[0;36m  Cell \u001b[0;32mIn[1], line 1\u001b[0;36m\u001b[0m\n\u001b[0;31m    def test() :\u001b[0m\n\u001b[0m                ^\u001b[0m\n\u001b[0;31mSyntaxError\u001b[0m\u001b[0;31m:\u001b[0m incomplete input\n"
     ]
    }
   ],
   "source": [
    "def test() :"
   ]
  },
  {
   "cell_type": "code",
   "execution_count": 2,
   "id": "fd87681e-36ff-4c9e-9eb2-6abaf9c8d294",
   "metadata": {},
   "outputs": [],
   "source": [
    "def test() :\n",
    "    pass"
   ]
  },
  {
   "cell_type": "code",
   "execution_count": 3,
   "id": "1e2a64d8-a458-4e42-b375-8cbd9ef355ca",
   "metadata": {},
   "outputs": [],
   "source": [
    "def test1() :\n",
    "    print(\"This is my first function\")"
   ]
  },
  {
   "cell_type": "code",
   "execution_count": 4,
   "id": "5040a121-046e-4ada-a363-4fac5f87644e",
   "metadata": {},
   "outputs": [
    {
     "name": "stdout",
     "output_type": "stream",
     "text": [
      "This is my first function\n"
     ]
    }
   ],
   "source": [
    "test1()"
   ]
  },
  {
   "cell_type": "code",
   "execution_count": 6,
   "id": "95e3442a-8c26-40f6-8dba-f7a37757c482",
   "metadata": {},
   "outputs": [
    {
     "name": "stdout",
     "output_type": "stream",
     "text": [
      "This is my first function\n"
     ]
    },
    {
     "ename": "TypeError",
     "evalue": "unsupported operand type(s) for +: 'NoneType' and 'str'",
     "output_type": "error",
     "traceback": [
      "\u001b[0;31m---------------------------------------------------------------------------\u001b[0m",
      "\u001b[0;31mTypeError\u001b[0m                                 Traceback (most recent call last)",
      "Cell \u001b[0;32mIn[6], line 1\u001b[0m\n\u001b[0;32m----> 1\u001b[0m \u001b[43mtest1\u001b[49m\u001b[43m(\u001b[49m\u001b[43m)\u001b[49m\u001b[43m \u001b[49m\u001b[38;5;241;43m+\u001b[39;49m\u001b[43m \u001b[49m\u001b[38;5;124;43m\"\u001b[39;49m\u001b[38;5;124;43mWow,thats awesome\u001b[39;49m\u001b[38;5;124;43m\"\u001b[39;49m\n",
      "\u001b[0;31mTypeError\u001b[0m: unsupported operand type(s) for +: 'NoneType' and 'str'"
     ]
    }
   ],
   "source": [
    "test1() + \"Wow,thats awesome\""
   ]
  },
  {
   "cell_type": "code",
   "execution_count": 7,
   "id": "53a55afa-9b44-4a67-9319-e852b376c01a",
   "metadata": {},
   "outputs": [
    {
     "name": "stdout",
     "output_type": "stream",
     "text": [
      "abc\n"
     ]
    },
    {
     "data": {
      "text/plain": [
       "NoneType"
      ]
     },
     "execution_count": 7,
     "metadata": {},
     "output_type": "execute_result"
    }
   ],
   "source": [
    "type(print(\"abc\"))"
   ]
  },
  {
   "cell_type": "code",
   "execution_count": 8,
   "id": "6a67c290-99f6-480e-8be4-4a44b00395cd",
   "metadata": {},
   "outputs": [
    {
     "name": "stdout",
     "output_type": "stream",
     "text": [
      "This is my first function\n"
     ]
    },
    {
     "data": {
      "text/plain": [
       "'NoneWow'"
      ]
     },
     "execution_count": 8,
     "metadata": {},
     "output_type": "execute_result"
    }
   ],
   "source": [
    "str(test1() ) + \"Wow\""
   ]
  },
  {
   "cell_type": "code",
   "execution_count": 9,
   "id": "9408d70b-301a-4284-9fdb-0bec2c606ddf",
   "metadata": {},
   "outputs": [],
   "source": [
    "def test1() :\n",
    "    return \"This is my first function with return\""
   ]
  },
  {
   "cell_type": "code",
   "execution_count": 10,
   "id": "4cf16a93-7f6a-4829-9a3e-712b9f7ce0ec",
   "metadata": {},
   "outputs": [
    {
     "data": {
      "text/plain": [
       "'This is my first function with returnWow'"
      ]
     },
     "execution_count": 10,
     "metadata": {},
     "output_type": "execute_result"
    }
   ],
   "source": [
    "test1() + \"Wow\""
   ]
  },
  {
   "cell_type": "code",
   "execution_count": 11,
   "id": "cf0dceb6-5ccc-40d8-b49a-401929260fc0",
   "metadata": {},
   "outputs": [],
   "source": [
    "def test4() :\n",
    "    return 1,2.3,\"Grace\",4+5j"
   ]
  },
  {
   "cell_type": "code",
   "execution_count": 12,
   "id": "e176a250-c74f-408f-ae4e-1efc516518d9",
   "metadata": {},
   "outputs": [
    {
     "data": {
      "text/plain": [
       "(1, 2.3, 'Grace', (4+5j))"
      ]
     },
     "execution_count": 12,
     "metadata": {},
     "output_type": "execute_result"
    }
   ],
   "source": [
    "test4()"
   ]
  },
  {
   "cell_type": "code",
   "execution_count": 13,
   "id": "85534a2a-71f0-4233-8386-c58cd565f06d",
   "metadata": {},
   "outputs": [],
   "source": [
    "a=1,2,3"
   ]
  },
  {
   "cell_type": "code",
   "execution_count": 14,
   "id": "f91e4ff1-3925-455d-a433-8565a4d43fd8",
   "metadata": {},
   "outputs": [
    {
     "data": {
      "text/plain": [
       "tuple"
      ]
     },
     "execution_count": 14,
     "metadata": {},
     "output_type": "execute_result"
    }
   ],
   "source": [
    "type(a)"
   ]
  },
  {
   "cell_type": "code",
   "execution_count": 15,
   "id": "d2200849-925e-419d-bfcf-242f45295c7f",
   "metadata": {},
   "outputs": [
    {
     "data": {
      "text/plain": [
       "(1, 2, 3)"
      ]
     },
     "execution_count": 15,
     "metadata": {},
     "output_type": "execute_result"
    }
   ],
   "source": [
    "a\n"
   ]
  },
  {
   "cell_type": "code",
   "execution_count": 16,
   "id": "761eb6a2-e1fc-4a7d-9453-6bfb35fd723f",
   "metadata": {},
   "outputs": [],
   "source": [
    "a,b=4,5"
   ]
  },
  {
   "cell_type": "code",
   "execution_count": 17,
   "id": "791db16e-c745-495f-9676-99d7c77d06be",
   "metadata": {},
   "outputs": [
    {
     "data": {
      "text/plain": [
       "int"
      ]
     },
     "execution_count": 17,
     "metadata": {},
     "output_type": "execute_result"
    }
   ],
   "source": [
    "type(b)"
   ]
  },
  {
   "cell_type": "code",
   "execution_count": 18,
   "id": "5d31fa95-9995-419b-bb13-5aca7e1227fc",
   "metadata": {},
   "outputs": [
    {
     "data": {
      "text/plain": [
       "4"
      ]
     },
     "execution_count": 18,
     "metadata": {},
     "output_type": "execute_result"
    }
   ],
   "source": [
    "a\n"
   ]
  },
  {
   "cell_type": "code",
   "execution_count": 19,
   "id": "a7b35620-1407-4079-9542-ea7b1c39b247",
   "metadata": {},
   "outputs": [
    {
     "data": {
      "text/plain": [
       "(1, 2.3, 'Grace', (4+5j))"
      ]
     },
     "execution_count": 19,
     "metadata": {},
     "output_type": "execute_result"
    }
   ],
   "source": [
    "test4()"
   ]
  },
  {
   "cell_type": "code",
   "execution_count": 20,
   "id": "d3b14eff-c790-4f07-9bd5-03f0cb013964",
   "metadata": {},
   "outputs": [
    {
     "data": {
      "text/plain": [
       "'Grace'"
      ]
     },
     "execution_count": 20,
     "metadata": {},
     "output_type": "execute_result"
    }
   ],
   "source": [
    "test4()[2]"
   ]
  },
  {
   "cell_type": "code",
   "execution_count": 21,
   "id": "e88882d7-7e3d-45f4-8b0e-185624fe0499",
   "metadata": {},
   "outputs": [],
   "source": [
    "a,b,c,d=test4()"
   ]
  },
  {
   "cell_type": "code",
   "execution_count": 22,
   "id": "5cb2b39e-c731-48a8-8a52-39e65983e17c",
   "metadata": {},
   "outputs": [
    {
     "data": {
      "text/plain": [
       "1"
      ]
     },
     "execution_count": 22,
     "metadata": {},
     "output_type": "execute_result"
    }
   ],
   "source": [
    "a"
   ]
  },
  {
   "cell_type": "code",
   "execution_count": 23,
   "id": "228c633f-857d-48e0-8e3f-02d04413c229",
   "metadata": {},
   "outputs": [
    {
     "data": {
      "text/plain": [
       "(4+5j)"
      ]
     },
     "execution_count": 23,
     "metadata": {},
     "output_type": "execute_result"
    }
   ],
   "source": [
    "d"
   ]
  },
  {
   "cell_type": "code",
   "execution_count": 24,
   "id": "5b360fb9-2fb8-483f-9781-20ce7335abb5",
   "metadata": {},
   "outputs": [],
   "source": [
    "def test5(a,b) :\n",
    "    return a+b"
   ]
  },
  {
   "cell_type": "code",
   "execution_count": 25,
   "id": "a8499e5a-ce90-4836-973b-8aeab6f1b89c",
   "metadata": {},
   "outputs": [
    {
     "data": {
      "text/plain": [
       "10"
      ]
     },
     "execution_count": 25,
     "metadata": {},
     "output_type": "execute_result"
    }
   ],
   "source": [
    "test5(2,8)"
   ]
  },
  {
   "cell_type": "code",
   "execution_count": 26,
   "id": "68a5c987-03cb-4da3-98c4-d50e11541831",
   "metadata": {},
   "outputs": [
    {
     "data": {
      "text/plain": [
       "'DataScience'"
      ]
     },
     "execution_count": 26,
     "metadata": {},
     "output_type": "execute_result"
    }
   ],
   "source": [
    "test5(\"Data\",\"Science\")"
   ]
  },
  {
   "cell_type": "code",
   "execution_count": 28,
   "id": "59b4a971-898a-46b4-b351-a8da1aa80a5a",
   "metadata": {},
   "outputs": [
    {
     "data": {
      "text/plain": [
       "[1, 2, 3, 4, 1, 2.3, 'Grace', (4+5j)]"
      ]
     },
     "execution_count": 28,
     "metadata": {},
     "output_type": "execute_result"
    }
   ],
   "source": [
    "test5([1,2,3,4],[a,b,c,d])"
   ]
  },
  {
   "cell_type": "code",
   "execution_count": 29,
   "id": "a2cc7cf6-0397-4ec8-8c36-13a884f896a9",
   "metadata": {},
   "outputs": [
    {
     "data": {
      "text/plain": [
       "'ScienceData'"
      ]
     },
     "execution_count": 29,
     "metadata": {},
     "output_type": "execute_result"
    }
   ],
   "source": [
    "#Named Parameter\n",
    "test5(b=\"Data\",a=\"Science\")"
   ]
  },
  {
   "cell_type": "code",
   "execution_count": 7,
   "id": "d1b2cb27-ec65-493a-bcf8-642786802f6a",
   "metadata": {},
   "outputs": [],
   "source": [
    "list=[1,2,3,4,\"abc\",[11,22,33]]"
   ]
  },
  {
   "cell_type": "code",
   "execution_count": 42,
   "id": "d627ec7d-daa5-41b0-8cc0-23a3c1558772",
   "metadata": {},
   "outputs": [],
   "source": [
    "def check_number(list) :\n",
    "    list_int=[]\n",
    "    for i in list :\n",
    "        if type(i) == int :\n",
    "            list_int.append(i)\n",
    "        elif type(i) == list:\n",
    "            print(i)\n",
    "            for j in i :\n",
    "                if type(j) == int :\n",
    "                    list_int.append(j)\n",
    "        else :\n",
    "            pass\n",
    "    return list_int"
   ]
  },
  {
   "cell_type": "code",
   "execution_count": 12,
   "id": "d99ef15d-9908-403e-b30a-40db08178d60",
   "metadata": {},
   "outputs": [
    {
     "data": {
      "text/plain": [
       "[]"
      ]
     },
     "execution_count": 12,
     "metadata": {},
     "output_type": "execute_result"
    }
   ],
   "source": [
    "check_number_list(list)"
   ]
  },
  {
   "cell_type": "code",
   "execution_count": 11,
   "id": "d1dd4254-642c-4531-b832-f1fde038b442",
   "metadata": {},
   "outputs": [],
   "source": [
    "def check_number_list(list) :\n",
    "    list_int=[]\n",
    "    for i in list :\n",
    "        if type(i) == list:\n",
    "            for j in i :\n",
    "                if type(j) == int :\n",
    "                    list_int.append(j)\n",
    "        else :\n",
    "            pass\n",
    "    return list_int"
   ]
  },
  {
   "cell_type": "code",
   "execution_count": 10,
   "id": "be2ebae4-bbd5-4a13-a109-70f0e6f74182",
   "metadata": {},
   "outputs": [],
   "source": [
    "list=[1,2,3,[11,22,33]]"
   ]
  },
  {
   "cell_type": "code",
   "execution_count": 13,
   "id": "9f754020-f511-4a69-b69c-b5acc73d970d",
   "metadata": {},
   "outputs": [
    {
     "data": {
      "text/plain": [
       "[]"
      ]
     },
     "execution_count": 13,
     "metadata": {},
     "output_type": "execute_result"
    }
   ],
   "source": [
    "check_number_list(list)"
   ]
  },
  {
   "cell_type": "code",
   "execution_count": 14,
   "id": "f3985f03-8a07-4217-8c8e-9de20f11b51b",
   "metadata": {},
   "outputs": [],
   "source": [
    "list=[1,2,3,[11,22,33]]"
   ]
  },
  {
   "cell_type": "code",
   "execution_count": 25,
   "id": "ab65baf1-a3b2-43e3-b6a0-c8a0437effcf",
   "metadata": {},
   "outputs": [
    {
     "data": {
      "text/plain": [
       "[1, 2, 3, [11, 22, 33]]"
      ]
     },
     "execution_count": 25,
     "metadata": {},
     "output_type": "execute_result"
    }
   ],
   "source": [
    "list"
   ]
  },
  {
   "cell_type": "code",
   "execution_count": 37,
   "id": "a7ff739d-2507-4dd9-ae89-58e80bfebd5e",
   "metadata": {},
   "outputs": [],
   "source": [
    "def check_list(l) :\n",
    "    for i in l:\n",
    "        print(i,type(i))\n",
    "        if type(i)==list:\n",
    "            print(i)\n",
    "        else :\n",
    "            print(\"No List\")"
   ]
  },
  {
   "cell_type": "code",
   "execution_count": 38,
   "id": "b20e4851-be37-4d44-a58d-4d79fc49d762",
   "metadata": {},
   "outputs": [
    {
     "name": "stdout",
     "output_type": "stream",
     "text": [
      "1 <class 'int'>\n",
      "No List\n",
      "2 <class 'int'>\n",
      "No List\n",
      "3 <class 'int'>\n",
      "No List\n",
      "[11, 22, 33] <class 'list'>\n",
      "No List\n"
     ]
    }
   ],
   "source": [
    "check_list(list)"
   ]
  },
  {
   "cell_type": "code",
   "execution_count": 30,
   "id": "dfe3fbf9-60d5-4186-8ce2-061b1e20d7db",
   "metadata": {},
   "outputs": [
    {
     "data": {
      "text/plain": [
       "[1, 2, 3, [11, 22, 33]]"
      ]
     },
     "execution_count": 30,
     "metadata": {},
     "output_type": "execute_result"
    }
   ],
   "source": [
    "list"
   ]
  },
  {
   "cell_type": "code",
   "execution_count": 27,
   "id": "a7effc98-18cf-47e6-9623-fd7ec330406e",
   "metadata": {},
   "outputs": [
    {
     "name": "stdout",
     "output_type": "stream",
     "text": [
      "No List\n",
      "No List\n",
      "No List\n",
      "No List\n"
     ]
    }
   ],
   "source": [
    "check_list(list)"
   ]
  },
  {
   "cell_type": "code",
   "execution_count": 39,
   "id": "eaa3dfde-81c1-42ed-8ef6-54f1ba2fc6c1",
   "metadata": {},
   "outputs": [],
   "source": [
    "l=[1,2,3,[11,22,33]]"
   ]
  },
  {
   "cell_type": "code",
   "execution_count": 46,
   "id": "1be08378-5ae3-4bf5-b3de-35ce3137c2c8",
   "metadata": {},
   "outputs": [],
   "source": [
    "def check_lists(l):\n",
    "    for i in l:\n",
    "        if type(i) ==list:\n",
    "            print(i,type(i))"
   ]
  },
  {
   "cell_type": "code",
   "execution_count": 45,
   "id": "94281e3b-7373-4e17-8e73-ccd0d6609993",
   "metadata": {},
   "outputs": [],
   "source": [
    "check_lists(l)"
   ]
  },
  {
   "cell_type": "code",
   "execution_count": 48,
   "id": "9296750e-59d6-409c-ad74-dcb49468b9df",
   "metadata": {},
   "outputs": [],
   "source": [
    "#Pass any number of arguments\n",
    "#It always returns tuple\n",
    "#Multiple data will be held as tuple\n",
    "def test6(*args):\n",
    "    return args"
   ]
  },
  {
   "cell_type": "code",
   "execution_count": 49,
   "id": "e207c44b-bc40-4194-9624-b6156108205a",
   "metadata": {},
   "outputs": [
    {
     "data": {
      "text/plain": [
       "(1,)"
      ]
     },
     "execution_count": 49,
     "metadata": {},
     "output_type": "execute_result"
    }
   ],
   "source": [
    "test6(1)"
   ]
  },
  {
   "cell_type": "code",
   "execution_count": 51,
   "id": "6cc49bbf-c031-4456-bf46-ce07cd0cca86",
   "metadata": {},
   "outputs": [
    {
     "data": {
      "text/plain": [
       "(1, 2, 3, 'abc')"
      ]
     },
     "execution_count": 51,
     "metadata": {},
     "output_type": "execute_result"
    }
   ],
   "source": [
    "test6(1,2,3,'abc')"
   ]
  },
  {
   "cell_type": "code",
   "execution_count": 52,
   "id": "46db2537-b21e-4e61-a46d-8f9f7fd5c4bd",
   "metadata": {},
   "outputs": [
    {
     "data": {
      "text/plain": [
       "tuple"
      ]
     },
     "execution_count": 52,
     "metadata": {},
     "output_type": "execute_result"
    }
   ],
   "source": [
    "type(test6(1,2,3))"
   ]
  },
  {
   "cell_type": "code",
   "execution_count": 53,
   "id": "cdeb70f1-92e8-4ba8-9608-e79e4acbbb66",
   "metadata": {},
   "outputs": [],
   "source": [
    "def test7(*args,a) :\n",
    "    return args,a"
   ]
  },
  {
   "cell_type": "code",
   "execution_count": 54,
   "id": "5b6e0d64-d2b9-47d0-b3d5-2aeba5fc4dab",
   "metadata": {},
   "outputs": [
    {
     "ename": "TypeError",
     "evalue": "test7() missing 1 required keyword-only argument: 'a'",
     "output_type": "error",
     "traceback": [
      "\u001b[0;31m---------------------------------------------------------------------------\u001b[0m",
      "\u001b[0;31mTypeError\u001b[0m                                 Traceback (most recent call last)",
      "Cell \u001b[0;32mIn[54], line 1\u001b[0m\n\u001b[0;32m----> 1\u001b[0m \u001b[43mtest7\u001b[49m\u001b[43m(\u001b[49m\u001b[38;5;241;43m1\u001b[39;49m\u001b[43m,\u001b[49m\u001b[38;5;241;43m2\u001b[39;49m\u001b[43m)\u001b[49m\n",
      "\u001b[0;31mTypeError\u001b[0m: test7() missing 1 required keyword-only argument: 'a'"
     ]
    }
   ],
   "source": [
    "test7(1,2)"
   ]
  },
  {
   "cell_type": "code",
   "execution_count": 55,
   "id": "d82dfac8-c095-478b-9b4d-5ea4b16f0d1b",
   "metadata": {},
   "outputs": [
    {
     "data": {
      "text/plain": [
       "((1, 2), 3)"
      ]
     },
     "execution_count": 55,
     "metadata": {},
     "output_type": "execute_result"
    }
   ],
   "source": [
    "test7(1,2,a=3)"
   ]
  },
  {
   "cell_type": "code",
   "execution_count": 57,
   "id": "402faf0e-b252-4230-b4c8-493ace2a4ae4",
   "metadata": {},
   "outputs": [],
   "source": [
    "def test8(**kwargs) :\n",
    "    return kwargs"
   ]
  },
  {
   "cell_type": "code",
   "execution_count": 58,
   "id": "f43b3218-5485-4c22-944a-f292ed69117b",
   "metadata": {},
   "outputs": [
    {
     "data": {
      "text/plain": [
       "{}"
      ]
     },
     "execution_count": 58,
     "metadata": {},
     "output_type": "execute_result"
    }
   ],
   "source": [
    "test8()"
   ]
  },
  {
   "cell_type": "code",
   "execution_count": 59,
   "id": "810dbc99-20ca-49ef-8345-e6fc869ddab5",
   "metadata": {},
   "outputs": [
    {
     "data": {
      "text/plain": [
       "{'a': 1, 'b': 2, 'c': [1, 2, 3, 4], 'd': (1, 2, 3, 4)}"
      ]
     },
     "execution_count": 59,
     "metadata": {},
     "output_type": "execute_result"
    }
   ],
   "source": [
    "test8(a=1,b=2,c=[1,2,3,4],d=(1,2,3,4))"
   ]
  },
  {
   "cell_type": "code",
   "execution_count": 65,
   "id": "a7140f1a-f71a-4654-95ab-26f2ef7eaf67",
   "metadata": {},
   "outputs": [],
   "source": [
    "def keyvalue (**kwargs):\n",
    "    for i in kwargs.keys() :\n",
    "        if type(kwargs[i]) == int:\n",
    "            return i,kwargs[i]"
   ]
  },
  {
   "cell_type": "code",
   "execution_count": 66,
   "id": "753572d8-197c-47cd-8ab9-ff82c87f6f85",
   "metadata": {},
   "outputs": [
    {
     "data": {
      "text/plain": [
       "('a', 1)"
      ]
     },
     "execution_count": 66,
     "metadata": {},
     "output_type": "execute_result"
    }
   ],
   "source": [
    "keyvalue(a=1,b=2,c=[1,2,3,4],d=(1,2,3,4))"
   ]
  },
  {
   "cell_type": "code",
   "execution_count": 67,
   "id": "2bd8eff7-15b7-473a-9f53-efc06bae9962",
   "metadata": {},
   "outputs": [],
   "source": [
    "def test9(*args,**kwargs):\n",
    "    return args,kwargs"
   ]
  },
  {
   "cell_type": "code",
   "execution_count": 69,
   "id": "1f4a34e5-59a0-4093-92f7-36de4fd1609d",
   "metadata": {},
   "outputs": [
    {
     "data": {
      "text/plain": [
       "((1, 2, 'a'), {'a': 90, 'b': 80, 'v': 70})"
      ]
     },
     "execution_count": 69,
     "metadata": {},
     "output_type": "execute_result"
    }
   ],
   "source": [
    "test9(1,2,'a',a=90,b=80,v=70)"
   ]
  },
  {
   "cell_type": "code",
   "execution_count": 70,
   "id": "75fb0708-2b32-4618-ae16-29b2907dc4b7",
   "metadata": {},
   "outputs": [],
   "source": [
    "#yield helps to create generator functions\n",
    "def fibonacci(n):\n",
    "    a,b=0,1\n",
    "    for i in range(n) :\n",
    "        yield a\n",
    "        a,b = b, a+b"
   ]
  },
  {
   "cell_type": "code",
   "execution_count": 71,
   "id": "e97e7adc-5c2b-4b37-895f-27994f55b4ff",
   "metadata": {},
   "outputs": [
    {
     "data": {
      "text/plain": [
       "<generator object fibonacci at 0x7f9df4339c40>"
      ]
     },
     "execution_count": 71,
     "metadata": {},
     "output_type": "execute_result"
    }
   ],
   "source": [
    "fibonacci(5)"
   ]
  },
  {
   "cell_type": "code",
   "execution_count": 73,
   "id": "fbcb36ad-b794-4e90-a985-095ac6a31e1d",
   "metadata": {},
   "outputs": [
    {
     "name": "stdout",
     "output_type": "stream",
     "text": [
      "0\n",
      "1\n",
      "1\n",
      "2\n",
      "3\n",
      "5\n",
      "8\n",
      "13\n",
      "21\n",
      "34\n"
     ]
    }
   ],
   "source": [
    "for i in fibonacci(10) :\n",
    "    print(i)"
   ]
  },
  {
   "cell_type": "code",
   "execution_count": null,
   "id": "a6ae54c4-1e9f-4ea7-9a8b-8c69f594d593",
   "metadata": {},
   "outputs": [],
   "source": []
  }
 ],
 "metadata": {
  "kernelspec": {
   "display_name": "Python 3 (ipykernel)",
   "language": "python",
   "name": "python3"
  },
  "language_info": {
   "codemirror_mode": {
    "name": "ipython",
    "version": 3
   },
   "file_extension": ".py",
   "mimetype": "text/x-python",
   "name": "python",
   "nbconvert_exporter": "python",
   "pygments_lexer": "ipython3",
   "version": "3.10.8"
  }
 },
 "nbformat": 4,
 "nbformat_minor": 5
}
