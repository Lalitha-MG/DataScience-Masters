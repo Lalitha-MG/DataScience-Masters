{
 "cells": [
  {
   "cell_type": "markdown",
   "id": "00c00fb6-8d9c-4190-8cd2-53ac1b8085c1",
   "metadata": {},
   "source": [
    "Q1. Which keyword is used to create a function? Create a function to return a list of odd numbers in the\n",
    "range of 1 to 25."
   ]
  },
  {
   "cell_type": "markdown",
   "id": "b333f5ef-6fa2-4eec-81b8-1902a61f17f1",
   "metadata": {},
   "source": [
    "def keyword is used to create a function"
   ]
  },
  {
   "cell_type": "code",
   "execution_count": 18,
   "id": "3f60b7f7-f557-48ab-94c3-ae09bae16ed6",
   "metadata": {},
   "outputs": [],
   "source": [
    "#This section is for logging\n",
    "import logging\n",
    "logging.basicConfig(filename=\"3rdFebAssignment.log\",level=logging.INFO,format = '%(asctime)s %(message)s')\n",
    "\n",
    "#Function definition\n",
    "def get_odd_numbers() :\n",
    "    list=[]\n",
    "    logging.info(\"For loop to iterate from 1 to 25\")\n",
    "    for i in range(1,25) :\n",
    "        if i%2 !=0 :\n",
    "            logging.info(\"Add the odd number to the list {}\".format(i))\n",
    "            list.append(i)\n",
    "    logging.shutdown()          \n",
    "    return list"
   ]
  },
  {
   "cell_type": "code",
   "execution_count": 19,
   "id": "63ee195d-6648-4864-ae4b-39e5a04a5ec1",
   "metadata": {},
   "outputs": [
    {
     "data": {
      "text/plain": [
       "[1, 3, 5, 7, 9, 11, 13, 15, 17, 19, 21, 23]"
      ]
     },
     "execution_count": 19,
     "metadata": {},
     "output_type": "execute_result"
    }
   ],
   "source": [
    "#Calling the function\n",
    "get_odd_numbers()"
   ]
  },
  {
   "cell_type": "markdown",
   "id": "8fa403bb-0503-4679-960c-8725343796b1",
   "metadata": {},
   "source": [
    "Q2. Why *args and **kwargs is used in some functions? Create a function each for *args and **kwargs to\n",
    "demonstrate their use."
   ]
  },
  {
   "cell_type": "markdown",
   "id": "1abd0eac-52c6-42c1-ab84-e1d24623bca9",
   "metadata": {},
   "source": [
    "*args - used to pass multiple arguments to the function\n",
    "**kwargs - used to pass multiple key value pairs as argument to the function"
   ]
  },
  {
   "cell_type": "code",
   "execution_count": 22,
   "id": "1fe5c815-07eb-419e-bc00-1f7c6e72050d",
   "metadata": {},
   "outputs": [],
   "source": [
    "def pass_multiple_args(*args):\n",
    "    return args"
   ]
  },
  {
   "cell_type": "code",
   "execution_count": 23,
   "id": "d1f9d2e9-df61-4531-a373-f57650d77992",
   "metadata": {},
   "outputs": [
    {
     "data": {
      "text/plain": [
       "(1, 1.5, 'a', (2+5j), [1, 2, 3, 4], (1, 2, 3))"
      ]
     },
     "execution_count": 23,
     "metadata": {},
     "output_type": "execute_result"
    }
   ],
   "source": [
    "pass_multiple_args(1,1.5,'a',2+5j,[1,2,3,4],(1,2,3))"
   ]
  },
  {
   "cell_type": "code",
   "execution_count": 24,
   "id": "627f931d-abbc-4872-84b7-89c6e2fe0f48",
   "metadata": {},
   "outputs": [],
   "source": [
    "def pass_multiple_key_value_pairs(**kwargs) :\n",
    "    return kwargs\n"
   ]
  },
  {
   "cell_type": "code",
   "execution_count": 27,
   "id": "578a21fe-1d2d-44b2-bfcc-4d73024e3d80",
   "metadata": {},
   "outputs": [
    {
     "data": {
      "text/plain": [
       "{'a': 1,\n",
       " 'b': 1.2,\n",
       " 'c': 'String',\n",
       " 'd': (3+7j),\n",
       " 'e': [1, 2, 3, 4],\n",
       " 'f': {1: 'a', 2: 'b'}}"
      ]
     },
     "execution_count": 27,
     "metadata": {},
     "output_type": "execute_result"
    }
   ],
   "source": [
    "pass_multiple_key_value_pairs(a=1,b=1.2,c=\"String\",d=3+7j,e=[1,2,3,4],f={1:'a',2:'b'})\n",
    "                              "
   ]
  },
  {
   "cell_type": "markdown",
   "id": "1d23c219-1fd0-4f9e-ab31-af4f8c5c0816",
   "metadata": {},
   "source": [
    "Q3. What is an iterator in python? Name the method used to initialise the iterator object and the method\n",
    "used for iteration. Use these methods to print the first five elements of the given list [2, 4, 6, 8, 10, 12, 14, 16,\n",
    "18, 20]."
   ]
  },
  {
   "cell_type": "markdown",
   "id": "4f40a6e5-32e6-461b-92b8-c98f72e85ca1",
   "metadata": {},
   "source": [
    "Iterator in Python is an object that is used to iterate over iterable objects like lists, tuples, dicts, and sets. The iterator object is initialized using the iter() method. It uses the next() method for iteration.\n",
    "\n",
    "__iter__(): The iter() method is called for the initialization of an iterator. This returns an iterator object\n",
    "\n",
    "__next__(): The next method returns the next value for the iterable. When we use a for loop to traverse any iterable object, internally it uses the iter() method to get an iterator object, which further uses the next() method to iterate over. This method raises a StopIteration to signal the end of the iteration."
   ]
  },
  {
   "cell_type": "code",
   "execution_count": 28,
   "id": "c87e2009-3a44-4fa2-8e0f-16d35e1d8d2b",
   "metadata": {},
   "outputs": [],
   "source": [
    "my_list=[2, 4, 6, 8, 10, 12, 14, 16,18, 20]"
   ]
  },
  {
   "cell_type": "code",
   "execution_count": 29,
   "id": "5232b55c-407e-4d91-99ab-f71c437e9b0b",
   "metadata": {},
   "outputs": [
    {
     "data": {
      "text/plain": [
       "[2, 4, 6, 8, 10, 12, 14, 16, 18, 20]"
      ]
     },
     "execution_count": 29,
     "metadata": {},
     "output_type": "execute_result"
    }
   ],
   "source": [
    "my_list"
   ]
  },
  {
   "cell_type": "code",
   "execution_count": 35,
   "id": "cd5b616c-6f85-4885-a982-5ad484bdd800",
   "metadata": {},
   "outputs": [],
   "source": [
    "pass"
   ]
  },
  {
   "cell_type": "code",
   "execution_count": 36,
   "id": "8c373777-82a7-4d9a-90b2-41814776cbd5",
   "metadata": {},
   "outputs": [],
   "source": [
    "#Function to create Iterator\n",
    "def create_iterator(list) :\n",
    "# Initialize an iterator using the iter()\n",
    "    iterator=iter(list)\n",
    "#Print the first five elements\n",
    "    for i in range(1,6) :\n",
    "        print(next(iterator))"
   ]
  },
  {
   "cell_type": "code",
   "execution_count": 37,
   "id": "9527086c-568f-44f4-9b14-5212ee6d10cc",
   "metadata": {},
   "outputs": [
    {
     "name": "stdout",
     "output_type": "stream",
     "text": [
      "2\n",
      "4\n",
      "6\n",
      "8\n",
      "10\n"
     ]
    }
   ],
   "source": [
    "create_iterator([2, 4, 6, 8, 10, 12, 14, 16,18, 20])"
   ]
  },
  {
   "cell_type": "markdown",
   "id": "b762b05d-66a8-4fb4-be60-c5d9739baa9a",
   "metadata": {},
   "source": [
    "Q4. What is a generator function in python? Why yield keyword is used? Give an example of a generator\n",
    "function."
   ]
  },
  {
   "cell_type": "markdown",
   "id": "df2fad40-419a-4719-b9df-41f0fd8346d7",
   "metadata": {},
   "source": [
    "Introduced with PEP 255, generator functions are a special kind of function that return a lazy iterator. These are objects that you can loop over like a list. However, unlike lists, lazy iterators do not store their contents in memory."
   ]
  },
  {
   "cell_type": "markdown",
   "id": "def2eeec-da45-4769-852d-1cbe8824fd4a",
   "metadata": {},
   "source": [
    "On the whole, yield is a fairly simple statement. Its primary job is to control the flow of a generator function in a way that’s similar to return statements. As briefly mentioned above, though, the Python yield statement has a few tricks up its sleeve.\n",
    "\n",
    "When you call a generator function or use a generator expression, you return a special iterator called a generator. You can assign this generator to a variable in order to use it. When you call special methods on the generator, such as next(), the code within the function is executed up to yield.\n",
    "\n",
    "When the Python yield statement is hit, the program suspends function execution and returns the yielded value to the caller. (In contrast, return stops function execution completely.) When a function is suspended, the state of that function is saved. This includes any variable bindings local to the generator, the instruction pointer, the internal stack, and any exception handling.\n",
    "\n",
    "This allows you to resume function execution whenever you call one of the generator’s methods. In this way, all function evaluation picks back up right after yield. You can see this in action by using multiple Python yield statements:"
   ]
  },
  {
   "cell_type": "code",
   "execution_count": 38,
   "id": "01deeb66-dd26-4f43-b5e2-8bf64700691b",
   "metadata": {},
   "outputs": [],
   "source": [
    "def fibonacci(n):\n",
    "    a,b=0,1\n",
    "    for i in range(n) :\n",
    "        yield a\n",
    "        a,b = b, a+b"
   ]
  },
  {
   "cell_type": "code",
   "execution_count": 39,
   "id": "3b7443da-7a93-4b1a-a3c0-105b4ec4ed84",
   "metadata": {},
   "outputs": [
    {
     "name": "stdout",
     "output_type": "stream",
     "text": [
      "0\n",
      "1\n",
      "1\n",
      "2\n",
      "3\n",
      "5\n",
      "8\n",
      "13\n",
      "21\n",
      "34\n"
     ]
    }
   ],
   "source": [
    "for i in fibonacci(10) :\n",
    "    print(i)"
   ]
  },
  {
   "cell_type": "markdown",
   "id": "10d6e7cc-902d-4efb-baa5-7670718cd8b2",
   "metadata": {},
   "source": [
    "Q5. Create a generator function for prime numbers less than 1000. Use the next() method to print the\n",
    "first 20 prime numbers."
   ]
  },
  {
   "cell_type": "code",
   "execution_count": 4,
   "id": "4219097b-960e-4b3f-8209-ff9fea1d8c80",
   "metadata": {},
   "outputs": [],
   "source": [
    "from math import sqrt\n",
    "\n",
    "def is_prime(n):\n",
    "    if (n <= 1):\n",
    "        return False\n",
    "    if (n == 2):\n",
    "        return True\n",
    "    if (n % 2 == 0):\n",
    "        return False\n",
    "\n",
    "    i = 3\n",
    "    while i <= sqrt(n):\n",
    "        if n % i == 0:\n",
    "            return False\n",
    "        i = i + 2\n",
    "\n",
    "    return True"
   ]
  },
  {
   "cell_type": "code",
   "execution_count": 5,
   "id": "ca978bb6-8ec2-4973-af03-2f7edde156fd",
   "metadata": {},
   "outputs": [],
   "source": [
    "def prime_generator():\n",
    "    n = 1\n",
    "    while True:\n",
    "        n += 1\n",
    "        if is_prime(n):\n",
    "            yield n"
   ]
  },
  {
   "cell_type": "code",
   "execution_count": 7,
   "id": "13ae476a-b4a7-44a2-91ed-36a79f14a5cb",
   "metadata": {},
   "outputs": [
    {
     "name": "stdout",
     "output_type": "stream",
     "text": [
      "2\n",
      "3\n",
      "5\n",
      "7\n",
      "11\n",
      "13\n",
      "17\n",
      "19\n",
      "23\n",
      "29\n",
      "31\n",
      "37\n",
      "41\n",
      "43\n",
      "47\n",
      "53\n",
      "59\n",
      "61\n",
      "67\n",
      "71\n"
     ]
    }
   ],
   "source": [
    "generator = prime_generator()\n",
    "\n",
    "for i in range(20):\n",
    "    print(next(generator))"
   ]
  },
  {
   "cell_type": "code",
   "execution_count": null,
   "id": "ce399801-49ac-426e-ab98-db0f7345e3c8",
   "metadata": {},
   "outputs": [],
   "source": []
  }
 ],
 "metadata": {
  "kernelspec": {
   "display_name": "Python 3 (ipykernel)",
   "language": "python",
   "name": "python3"
  },
  "language_info": {
   "codemirror_mode": {
    "name": "ipython",
    "version": 3
   },
   "file_extension": ".py",
   "mimetype": "text/x-python",
   "name": "python",
   "nbconvert_exporter": "python",
   "pygments_lexer": "ipython3",
   "version": "3.10.8"
  }
 },
 "nbformat": 4,
 "nbformat_minor": 5
}
