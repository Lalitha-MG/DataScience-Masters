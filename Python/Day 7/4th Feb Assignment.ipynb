{
 "cells": [
  {
   "cell_type": "markdown",
   "id": "bd8a5697-e5e1-435f-ace7-7be71f993bd0",
   "metadata": {},
   "source": [
    "Q1. Create a python program to sort the given list of tuples based on integer value using a\n",
    "lambda function.\n",
    "[('Sachin Tendulkar', 34357), ('Ricky Ponting', 27483), ('Jack Kallis', 25534), ('Virat Kohli', 24936)]"
   ]
  },
  {
   "cell_type": "code",
   "execution_count": 18,
   "id": "5e906834-e021-43e6-8f96-bbac7228fa98",
   "metadata": {},
   "outputs": [],
   "source": [
    "original_list=[('Sachin Tendulkar', 34357), ('Ricky Ponting', 27483), ('Jack Kallis', 25534), ('Virat Kohli', 24936)]"
   ]
  },
  {
   "cell_type": "code",
   "execution_count": 19,
   "id": "520dd0a3-c2a7-496b-8c80-b1a763beb01a",
   "metadata": {},
   "outputs": [],
   "source": [
    "sorted_list=sorted(original_list ,key = lambda original_list : original_list[1])"
   ]
  },
  {
   "cell_type": "code",
   "execution_count": 20,
   "id": "7124fc60-7b08-4978-8d4e-726a622a38c4",
   "metadata": {},
   "outputs": [
    {
     "data": {
      "text/plain": [
       "[('Virat Kohli', 24936),\n",
       " ('Jack Kallis', 25534),\n",
       " ('Ricky Ponting', 27483),\n",
       " ('Sachin Tendulkar', 34357)]"
      ]
     },
     "execution_count": 20,
     "metadata": {},
     "output_type": "execute_result"
    }
   ],
   "source": [
    "sorted_list"
   ]
  },
  {
   "cell_type": "markdown",
   "id": "498c6e33-6d07-4fa5-a0f8-9208836b0a66",
   "metadata": {},
   "source": [
    "Q2. Write a Python Program to find the squares of all the numbers in the given list of integers using\n",
    "lambda and map functions.\n",
    "[1, 2, 3, 4, 5, 6, 7, 8, 9, 10]"
   ]
  },
  {
   "cell_type": "code",
   "execution_count": 21,
   "id": "1e8ed9e3-2a24-43ac-833c-530b88a4b0b6",
   "metadata": {},
   "outputs": [],
   "source": [
    "orig_list=[1, 2, 3, 4, 5, 6, 7, 8, 9, 10]"
   ]
  },
  {
   "cell_type": "code",
   "execution_count": 22,
   "id": "bdd021d3-a5fb-4923-9d5e-099c45d40764",
   "metadata": {},
   "outputs": [],
   "source": [
    "squared=lambda x : x**2"
   ]
  },
  {
   "cell_type": "code",
   "execution_count": 23,
   "id": "65af5238-6f1e-47d8-90fd-97a352bc5732",
   "metadata": {},
   "outputs": [],
   "source": [
    "squared_list=map(squared,orig_list)"
   ]
  },
  {
   "cell_type": "code",
   "execution_count": 24,
   "id": "ba7601e7-00eb-45d7-957f-97de043eab78",
   "metadata": {},
   "outputs": [
    {
     "data": {
      "text/plain": [
       "[1, 4, 9, 16, 25, 36, 49, 64, 81, 100]"
      ]
     },
     "execution_count": 24,
     "metadata": {},
     "output_type": "execute_result"
    }
   ],
   "source": [
    "list(squared_list)"
   ]
  },
  {
   "cell_type": "markdown",
   "id": "87027d0a-d3ae-4219-863b-96970ad4f96c",
   "metadata": {},
   "source": [
    "Q3. Write a python program to convert the given list of integers into a tuple of strings. Use map and\n",
    "lambda functions\n",
    "Given String: [1, 2, 3, 4, 5, 6, 7, 8, 9, 10]\n",
    "Expected output: ('1', '2', '3', '4', '5', '6', '7', '8', '9', '10')"
   ]
  },
  {
   "cell_type": "code",
   "execution_count": 22,
   "id": "0e431962-e385-41b3-bdd4-6d740ba0e557",
   "metadata": {},
   "outputs": [
    {
     "name": "stdout",
     "output_type": "stream",
     "text": [
      "('1', '2', '3', '4', '5', '6', '7', '8', '9', '10')\n"
     ]
    }
   ],
   "source": [
    "Input = [1, 2, 3, 4, 5, 6, 7, 8, 9, 10]\n",
    "Output = tuple(map(lambda x: str(x), Input))\n",
    "print(Output)"
   ]
  },
  {
   "cell_type": "markdown",
   "id": "454ad308-1b55-4910-af9c-1ec45d8f4371",
   "metadata": {},
   "source": [
    "Q4. Write a python program using reduce function to compute the product of a list containing numbers\n",
    "from 1 to 25."
   ]
  },
  {
   "cell_type": "code",
   "execution_count": 1,
   "id": "42b1e131-8537-48a5-ba3c-e8a515b4af31",
   "metadata": {},
   "outputs": [],
   "source": [
    "from functools import reduce"
   ]
  },
  {
   "cell_type": "code",
   "execution_count": 5,
   "id": "7e6cc9c0-e354-4bf0-acc4-615f7e97896f",
   "metadata": {},
   "outputs": [
    {
     "name": "stdout",
     "output_type": "stream",
     "text": [
      "[1, 2, 3, 4, 5, 6, 7, 8, 9, 10, 11, 12, 13, 14, 15, 16, 17, 18, 19, 20, 21, 22, 23, 24, 25]\n"
     ]
    }
   ],
   "source": [
    "l=[]\n",
    "for i in range(1,26) :\n",
    "    l.append(i)\n",
    "print(l)"
   ]
  },
  {
   "cell_type": "code",
   "execution_count": 6,
   "id": "62342932-155f-4075-93aa-87cfe27be6a1",
   "metadata": {},
   "outputs": [],
   "source": [
    "l=[1, 2, 3, 4, 5, 6, 7, 8, 9, 10, 11, 12, 13, 14, 15, 16, 17, 18, 19, 20, 21, 22, 23, 24, 25]"
   ]
  },
  {
   "cell_type": "code",
   "execution_count": 7,
   "id": "4af03191-4d88-4324-9c1a-5ce6097cb0b8",
   "metadata": {},
   "outputs": [
    {
     "data": {
      "text/plain": [
       "15511210043330985984000000"
      ]
     },
     "execution_count": 7,
     "metadata": {},
     "output_type": "execute_result"
    }
   ],
   "source": [
    "reduce(lambda x,y: x*y,l)"
   ]
  },
  {
   "cell_type": "markdown",
   "id": "f33e19d8-b7c2-4798-9711-6feb69d365ae",
   "metadata": {},
   "source": [
    "Q5. Write a python program to filter the numbers in a given list that are divisible by 2 and 3 using the\n",
    "filter function.\n",
    "[2, 3, 6, 9, 27, 60, 90, 120, 55, 46]"
   ]
  },
  {
   "cell_type": "code",
   "execution_count": 8,
   "id": "aa3f71d8-4764-4fd7-8d2e-0dfad3b5f191",
   "metadata": {},
   "outputs": [],
   "source": [
    "list1=[2, 3, 6, 9, 27, 60, 90, 120, 55, 46]"
   ]
  },
  {
   "cell_type": "code",
   "execution_count": 10,
   "id": "55a3eae6-d424-4601-b537-95db9c8056d2",
   "metadata": {},
   "outputs": [
    {
     "data": {
      "text/plain": [
       "[6, 60, 90, 120]"
      ]
     },
     "execution_count": 10,
     "metadata": {},
     "output_type": "execute_result"
    }
   ],
   "source": [
    "list(filter(lambda x : x%2 ==0 and x%3==0,list1))"
   ]
  },
  {
   "cell_type": "markdown",
   "id": "cfb57776-ec06-456e-bc49-972d60074e99",
   "metadata": {},
   "source": [
    "Q6. Write a python program to find palindromes in the given list of strings using lambda and filter\n",
    "function.\n",
    "['python', 'php', 'aba', 'radar', 'level']"
   ]
  },
  {
   "cell_type": "code",
   "execution_count": 11,
   "id": "7bce7a7a-99e8-4f64-8ec7-3417181ee3e6",
   "metadata": {},
   "outputs": [],
   "source": [
    "x='php'"
   ]
  },
  {
   "cell_type": "code",
   "execution_count": 16,
   "id": "cc47cc6f-9d62-4354-945a-892d156132eb",
   "metadata": {},
   "outputs": [
    {
     "data": {
      "text/plain": [
       "'php'"
      ]
     },
     "execution_count": 16,
     "metadata": {},
     "output_type": "execute_result"
    }
   ],
   "source": [
    "\"\".join(reversed(x))"
   ]
  },
  {
   "cell_type": "code",
   "execution_count": 17,
   "id": "8648d16e-2340-47fc-8f12-e9bc2545437c",
   "metadata": {},
   "outputs": [],
   "source": [
    "words=['python', 'php', 'aba', 'radar', 'level']"
   ]
  },
  {
   "cell_type": "code",
   "execution_count": 18,
   "id": "624a7f4e-970e-4872-b837-2b64d771c23d",
   "metadata": {},
   "outputs": [
    {
     "data": {
      "text/plain": [
       "['php', 'aba', 'radar', 'level']"
      ]
     },
     "execution_count": 18,
     "metadata": {},
     "output_type": "execute_result"
    }
   ],
   "source": [
    "list(filter(lambda x : x == \"\".join(reversed(x)),words))"
   ]
  },
  {
   "cell_type": "code",
   "execution_count": null,
   "id": "501b38c2-3850-4847-b17d-641cb9ed84dd",
   "metadata": {},
   "outputs": [],
   "source": []
  }
 ],
 "metadata": {
  "kernelspec": {
   "display_name": "Python 3 (ipykernel)",
   "language": "python",
   "name": "python3"
  },
  "language_info": {
   "codemirror_mode": {
    "name": "ipython",
    "version": 3
   },
   "file_extension": ".py",
   "mimetype": "text/x-python",
   "name": "python",
   "nbconvert_exporter": "python",
   "pygments_lexer": "ipython3",
   "version": "3.10.8"
  }
 },
 "nbformat": 4,
 "nbformat_minor": 5
}
