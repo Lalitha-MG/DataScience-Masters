{
 "cells": [
  {
   "cell_type": "markdown",
   "id": "76eedcc5-aa90-4da5-a9af-c924ec8bbe80",
   "metadata": {},
   "source": [
    "Q1. What is a database? Differentiate between SQL and NoSQL databases."
   ]
  },
  {
   "cell_type": "markdown",
   "id": "00e9adbf-964b-4433-a131-3d1bfd880a6b",
   "metadata": {},
   "source": [
    "Databases are the collection of data in order to store and retrieve data. "
   ]
  },
  {
   "cell_type": "markdown",
   "id": "0ee14f4a-e955-41b1-8048-e1d0f693dabe",
   "metadata": {},
   "source": [
    "The Main Differences: \n",
    "\n",
    "Type – \n",
    "SQL databases are primarily called as Relational Databases (RDBMS); whereas NoSQL database are primarily called as non-relational or distributed database. \n",
    "Language – \n",
    "SQL databases defines and manipulates data based structured query language (SQL). Seeing from a side this language is extremely powerful. SQL is one of the most versatile and widely-used options available which makes it a safe choice especially for great complex queries. But from other side it can be restrictive. SQL requires you to use predefined schemas to determine the structure of your data before you work with it. Also all of your data must follow the same structure. This can require significant up-front preparation which means that a change in the structure would be both difficult and disruptive to your whole system. \n",
    "A NoSQL database has dynamic schema for unstructured data. Data is stored in many ways which means it can be document-oriented, column-oriented, graph-based or organized as a KeyValue store. This flexibility means that documents can be created without having defined structure first. Also each document can have its own unique structure. The syntax varies from database to database, and you can add fields as you go. \n",
    "Scalability – \n",
    "In almost all situations SQL databases are vertically scalable. This means that you can increase the load on a single server by increasing things like RAM, CPU or SSD. But on the other hand NoSQL databases are horizontally scalable. This means that you handle more traffic by sharding, or adding more servers in your NoSQL database. It is similar to adding more floors to the same building versus adding more buildings to the neighborhood. Thus NoSQL can ultimately become larger and more powerful, making these databases the preferred choice for large or ever-changing data sets.\n",
    "Structure – \n",
    "SQL databases are table-based on the other hand NoSQL databases are either key-value pairs, document-based, graph databases or wide-column stores. This makes relational SQL databases a better option for applications that require multi-row transactions such as an accounting system or for legacy systems that were built for a relational structure. \n",
    "Property followed – \n",
    "SQL databases follow ACID properties (Atomicity, Consistency, Isolation and Durability) whereas the NoSQL database follows the Brewers CAP theorem (Consistency, Availability and Partition tolerance). \n",
    "Support – \n",
    "Great support is available for all SQL database from their vendors. Also a lot of independent consultations are there who can help you with SQL database for a very large scale deployments but for some NoSQL database you still have to rely on community support and only limited outside experts are available for setting up and deploying your large scale NoSQL deployments."
   ]
  },
  {
   "cell_type": "markdown",
   "id": "9c38175f-e4a6-439b-b34d-4ef4f60aab31",
   "metadata": {},
   "source": [
    "Key highlights on SQL vs NoSQL: \n",
    "\n",
    "\n",
    "SQL : RELATIONAL DATABASE MANAGEMENT SYSTEM (RDBMS)\t\n",
    "NOSQL :Non-relational or distributed database system.\n",
    "SQL : These databases have fixed or static or predefined schema\t\n",
    "NOSQL : They have dynamic schema\n",
    "SQL : These databases are not suited for hierarchical data storage.\t\n",
    "NOSQL : These databases are best suited for hierarchical data storage.\n",
    "SQL : These databases are best suited for complex queries\t\n",
    "NOSQL : These databases are not so good for complex queries\n",
    "SQL : Vertically Scalable\n",
    "NOSQL : Horizontally scalable\n",
    "SQL : Follows ACID property\t\n",
    "NOSQL :Follows CAP(consistency, availability, partition tolerance)\n",
    "SQL : Examples: MySQL, PostgreSQL, Oracle, MS-SQL Server, etc\t\n",
    "NOSQL : Examples: MongoDB, GraphQL, HBase, Neo4j, Cassandra, etc\n",
    "\n"
   ]
  },
  {
   "cell_type": "markdown",
   "id": "2cc60aa1-614b-4ed5-aee5-c70d8207645d",
   "metadata": {},
   "source": [
    "Q2. What is DDL? Explain why CREATE, DROP, ALTER, and TRUNCATE are used with an example."
   ]
  },
  {
   "cell_type": "markdown",
   "id": "49623641-ff7c-416c-ba7c-43905bd5a84d",
   "metadata": {},
   "source": [
    "Data Definition Language(DDL) is a subset of SQL and a part of DBMS(Database Management System). DDL consist of Commands to commands like CREATE, ALTER, TRUNCATE and DROP. These commands are used to create or modify the tables in SQL.\n",
    "\n",
    "DDL Commands :\n",
    "In this section, We will cover the following DDL commands as follows.\n",
    "\n",
    "1) Create\n",
    "2) Alter \n",
    "3) truncate\n",
    "4) drop"
   ]
  },
  {
   "cell_type": "markdown",
   "id": "49246b19-ecf8-4a01-9ef9-f21688d996da",
   "metadata": {},
   "source": [
    "\n",
    "CREATE :\n",
    "This command is used to create a new table in SQL. The user has to give information like table name, column names, and their datatypes.\n",
    "\n",
    "Syntax –\n",
    "\n",
    "CREATE TABLE table_name\n",
    "(\n",
    "column_1 datatype,\n",
    "column_2 datatype,\n",
    "column_3 datatype,\n",
    "....\n",
    ");\n",
    "Example –\n",
    "We need to create a table for storing Student information of a particular College. Create syntax would be as below.\n",
    "\n",
    "CREATE TABLE Student_info\n",
    "(\n",
    "College_Id number(2),\n",
    "College_name varchar(30),\n",
    "Branch varchar(10)\n",
    ");\n",
    "\n",
    "\n",
    "ALTER :\n",
    "This command is used to add, delete or change columns in the existing table. The user needs to know the existing table name and can do add, delete or modify tasks easily.\n",
    "\n",
    "Syntax –\n",
    "Syntax to add a column to an existing table.\n",
    "\n",
    "ALTER TABLE table_name\n",
    "ADD column_name datatype;\n",
    "Example –\n",
    "In our Student_info table, we want to add a new column for CGPA. The syntax would be as below as follows.\n",
    "\n",
    "ALTER TABLE Student_info\n",
    "ADD CGPA number;\n",
    "\n",
    "\n",
    "TRUNCATE :\n",
    "This command is used to remove all rows from the table, but the structure of the table still exists.\n",
    "\n",
    "Syntax –\n",
    "Syntax to remove an existing table.\n",
    "\n",
    "TRUNCATE TABLE table_name;\n",
    "Example –\n",
    "The College Authority wants to remove the details of all students for new batches but wants to keep the table structure. The command they can use is as follows.\n",
    "\n",
    "TRUNCATE TABLE Student_info;\n",
    "\n",
    "\n",
    "DROP :\n",
    "This command is used to remove an existing table along with its structure from the Database.\n",
    "\n",
    "Syntax –\n",
    "Syntax to drop an existing table.\n",
    "\n",
    "DROP TABLE table_name;"
   ]
  },
  {
   "cell_type": "markdown",
   "id": "6ae1175e-34ea-444c-8c73-8247982e2ef2",
   "metadata": {},
   "source": [
    "Q3. What is DML? Explain INSERT, UPDATE, and DELETE with an example."
   ]
  },
  {
   "cell_type": "markdown",
   "id": "0b09cdc9-51c0-44fd-bf9a-39612a122262",
   "metadata": {},
   "source": [
    "Data Manipulation Language (DML) commands in SQL deals with manipulation of data records stored within the database tables. It does not deal with changes to database objects and its structure. The commonly known DML commands are INSERT, UPDATE and DELETE. Liberally speaking, we can consider even SELECT statement as a part of DML commands. Albeit, it strictly forms part of the Data Query Language (DQL) command."
   ]
  },
  {
   "cell_type": "markdown",
   "id": "365edee3-657c-41fb-968a-fdc4a073dbef",
   "metadata": {},
   "source": [
    "1. SELECT\n",
    "SELECT command or statement in SQL is used to fetch data records from the database table and present it in the form of a result set. It is usually considered as a DQL command but it can also be considered as DML.\n",
    "\n",
    "The basic syntax for writing a SELECT query in SQL is as follows :\n",
    "    SELECT column_name1, column_name2, …\n",
    "FROM table_name\n",
    "WHERE condition_ expression;\n",
    "\n",
    "The parameters used in the above syntax are as follows :\n",
    "\n",
    "column_name1, column_name2, … : Specify the column_names which have to be fetched or selected for the final result set.\n",
    "table_name: Specify the name of the database table from which these results have to be fetched.\n",
    "condition_expression: Specify the condition expression for filtering records for the final result set.\n",
    "Here are a few examples to illustrate the use of SELECT command.\n",
    "\n",
    "SELECT customer_id,\n",
    "sale_date,\n",
    "order_id,\n",
    "store_state\n",
    "FROM customers;"
   ]
  },
  {
   "cell_type": "markdown",
   "id": "ea8d99a5-526f-47f4-bc2c-be85b239d5bb",
   "metadata": {},
   "source": [
    "2. INSERT\n",
    "INSERT commands in SQL are used to insert data records or rows in a database table. In an INSERT statement, we specify both the column_names for which the entry has to be made along with the data value that has to be inserted.\n",
    "\n",
    "The basic syntax for writing INSERT statements in SQL is as follows :\n",
    "\n",
    "INSERT INTO table_name (column_name_1, column_name_2, column_name_3, ...)\n",
    "VALUES (value1, value2, value3, ...)\n",
    "\n",
    "By VALUES, we mean the value of the corresponding columns.\n",
    "\n",
    "Here are a few examples to further illustrate the INSERT statement.\n",
    "\n",
    "INSERT INTO public.customers(\n",
    "customer_id, sale_date, sale_amount, salesperson, store_state, order_id)\n",
    "VALUES (1005,'2019-12-12',4200,'R K Rakesh','MH','1007');"
   ]
  },
  {
   "cell_type": "markdown",
   "id": "024b1b9a-937e-4436-be12-243ef1e7cd0f",
   "metadata": {},
   "source": [
    "3. UPDATE\n",
    "UPDATE command or statement is used to modify the value of an existing column in a database table.\n",
    "\n",
    "The syntax for writing an UPDATE statement is as follows :\n",
    "\n",
    "UPDATE table_name\n",
    "SET column_name_1 = value1, column_name_2 = value2, ...\n",
    "WHERE condition;\n",
    "\n",
    "Having learnt the syntax, let us now try an example based on the UPDATE statement in SQL.\n",
    "\n",
    "UPDATE customers\n",
    "SET store_state = 'DL'\n",
    "WHERE store_state = 'NY';"
   ]
  },
  {
   "cell_type": "markdown",
   "id": "b99b71fa-86e8-4ea1-be75-bfdc45cb45aa",
   "metadata": {},
   "source": [
    "4. DELETE\n",
    "DELETE statement in SQL is used to remove one or more rows from the database table. It does not delete the data records permanently. We can always perform a rollback operation to undo a DELETE command. With DELETE statements we can use the WHERE clause for filtering specific rows.\n",
    "\n",
    "The syntax for writing an DELETE statement is as follows :\n",
    "\n",
    "DELETE FROM table_name WHERE condition;\n",
    "\n",
    "Having learnt the syntax, we are all set to try an example based on the DELETE command in SQL.\n",
    "\n",
    "DELETE FROM customers\n",
    "WHERE store_state = 'MH'\n",
    "AND customer_id = '1001';"
   ]
  },
  {
   "cell_type": "markdown",
   "id": "bd2be191-02b3-4725-94c0-e9e0279dc60c",
   "metadata": {},
   "source": [
    "Q4. What is DQL? Explain SELECT with an example."
   ]
  },
  {
   "cell_type": "markdown",
   "id": "85614f51-b059-4b47-a9f6-4763c90b0b1c",
   "metadata": {},
   "source": [
    "Query languages, often known as DQLs or Data Query Languages, are computer languages that are used to make various queries in information systems and databases. The Structured Query Language (SQL) is a well-known example. DQL statements are used to query the data contained in schema objects. The primary goal of the DQL Command is to return a schema relation depending on the query supplied to it."
   ]
  },
  {
   "cell_type": "markdown",
   "id": "01a377f7-3a8a-43c8-87a1-bddceb3394ee",
   "metadata": {},
   "source": [
    "What is Data Query Language (DQL)?\n",
    "The DQL statements can be used in order to query the data and information contained in schema objects. The goal of the DQL Commands is to return a schema relation on the basis of the query supplied to them.\n",
    "\n",
    "Definition of DQL\n",
    "DQL is a portion of a SQL statement that allows you to get and organise data from a database. You can use the SELECT command to extract data from a database in order to perform actions on it. It is the same as the projection operation in relational algebra. The result of a SELECT statement on a table or collection of tables is compiled into a new temporary table, which is subsequently displayed or received by a program, i.e. a front-end.\n",
    "\n",
    "The chosen clause, which would be the first and one of the last clauses of a select statement, is examined by the database server. The reason for this is that before we can determine what to include in the final result set, we need to know all the alternative columns that can be included.\n",
    "\n",
    "Syntax\n",
    "SELECT expression FROM table_x WHERE code_conditions;\n",
    "\n",
    "Example\n",
    "SELECT Stu_Name FROM Student WHERE Phone = 9039462908;"
   ]
  },
  {
   "cell_type": "markdown",
   "id": "0b7f7258-6be7-416c-9c46-04a2ac82f483",
   "metadata": {},
   "source": [
    "Q5. Explain Primary Key and Foreign Key."
   ]
  },
  {
   "cell_type": "markdown",
   "id": "7d5f4b77-986a-49de-a2fb-55bb42f07115",
   "metadata": {},
   "source": [
    "Primary Key: A primary key is used to ensure that data in the specific column is unique. A column cannot have NULL values. It is either an existing table column or a column that is specifically generated by the database according to a defined sequence. "
   ]
  },
  {
   "cell_type": "markdown",
   "id": "c15ca845-4ae0-4fb3-8f80-675fa6e0db02",
   "metadata": {},
   "source": [
    "Foreign Key: \n",
    "A foreign key is a column or group of columns in a relational database table that provides a link between data in two tables. It is a column (or columns) that references a column (most often the primary key) of another table. "
   ]
  },
  {
   "cell_type": "markdown",
   "id": "aeffbc4e-40e3-4389-b074-863bfbd10faf",
   "metadata": {},
   "source": [
    "\n",
    "1)\tA primary key is used to ensure data in the specific column is unique.\tA foreign key is a column or group of columns in a relational database table that provides a link between data in two tables.\n",
    "2) PK : \tIt uniquely identifies a record in the relational database table.\t\n",
    "FK :It refers to the field in a table which is the primary key of another table.\n",
    "3) PK :\tOnly one primary key is allowed in a table.\n",
    "FK :Whereas more than one foreign key are allowed in a table.\n",
    "4) PK:\tIt is a combination of UNIQUE and Not Null constraints.\t\n",
    "FK :It can contain duplicate values and a table in a relational database.\n",
    "5) PK:\tIt does not allow NULL values.\t\n",
    "FK : It can also contain NULL values.\n",
    "6) PK:\tIts value cannot be deleted from the parent table.\n",
    "FK :Its value can be deleted from the child table.\n",
    "7) PK:\tIt constraint can be implicitly defined on the temporary tables.\t\n",
    "FK : It constraint cannot be defined on the local or global temporary tables."
   ]
  },
  {
   "cell_type": "markdown",
   "id": "43d5e07b-7b41-45cc-b2b7-3e7f53b34d61",
   "metadata": {},
   "source": [
    "Q6. Write a python code to connect MySQL to python. Explain the cursor() and execute() method."
   ]
  },
  {
   "cell_type": "code",
   "execution_count": 4,
   "id": "3a6b3dfc-bff6-40fc-89ed-fd14fe90cb3d",
   "metadata": {},
   "outputs": [],
   "source": [
    "import mysql.connector\n",
    "mydb = mysql.connector.connect(\n",
    "  host=\"localhost\",\n",
    "  user=\"abc\",\n",
    "  password=\"password\"\n",
    ")\n",
    "print(mydb)\n",
    "mycursor = mydb.cursor()\n",
    "mycursor.execute(\"INSERT INTO TEST2.test_table1 VALUES ( 1,'abc',2,3.5,4)\")\n",
    "mycursor.execute(\"INSERT INTO TEST2.test_table1 VALUES ( 1,'abc',2,3.5,4)\")\n",
    "mycursor.execute(\"INSERT INTO TEST2.test_table1 VALUES ( 1,'abc',2,3.5,4)\")\n",
    "mycursor.execute(\"SELECT * FROM TEST2.test_table1\")\n",
    "for i in mycursor.fetchall():\n",
    "    print(i)\n",
    "mycursor.execute(\"SELECT c1,c2 FROM TEST2.test_table1\")\n",
    "for i in mycursor.fetchall():\n",
    "    print(i)\n",
    "mydb.close\n"
   ]
  },
  {
   "cell_type": "markdown",
   "id": "64e04b69-63f6-448b-becb-14c0fb3b2022",
   "metadata": {},
   "source": [
    "The MySQLCursor of mysql-connector-python (and similar libraries) is used to execute statements to communicate with the MySQL database.\n",
    "\n",
    "Using the methods of it you can execute SQL statements, fetch data from the result sets, call procedures.\n",
    "\n",
    "You can create Cursor object using the cursor() method of the Connection object/class.\n",
    "\n",
    "Example\n",
    "import mysql.connector\n",
    "\n",
    "#establishing the connection\n",
    "conn = mysql.connector.connect(\n",
    "   user='root', password='password', host='127.0.0.1', database='mydb'\n",
    ")"
   ]
  },
  {
   "cell_type": "markdown",
   "id": "a59afe78-7f43-408d-b4f9-508558f8174d",
   "metadata": {},
   "source": [
    "execute method : This method executes the given database operation (query or command). The parameters found in the tuple or dictionary params are bound to the variables in the operation. Specify variables using %s or %(name)s parameter style (that is, using format or pyformat style). execute() returns an iterator if multi is True."
   ]
  },
  {
   "cell_type": "markdown",
   "id": "4c2c9cd2-3e76-41f3-9777-4357beadb1bd",
   "metadata": {},
   "source": [
    "cursor.execute(operation, params=None, multi=False)\n",
    "iterator = cursor.execute(operation, params=None, multi=True)"
   ]
  },
  {
   "cell_type": "markdown",
   "id": "c201a5ee-b055-4fa9-8e59-ab8a06bc6c13",
   "metadata": {},
   "source": [
    "Q7. Give the order of execution of SQL clauses in an SQL query."
   ]
  },
  {
   "cell_type": "markdown",
   "id": "81aa18e2-2575-4d09-8460-e207efbd96e3",
   "metadata": {},
   "source": [
    "The order in which the clauses in queries are executed is as follows:\n",
    "\n",
    "1. FROM/JOIN: The FROM and/or JOIN clauses are executed first to determine the data of interest.\n",
    "\n",
    "2. WHERE: The WHERE clause is executed to filter out records that do not meet the constraints.\n",
    "\n",
    "3. GROUP BY: The GROUP BY clause is executed to group the data based on the values in one or more columns.\n",
    "\n",
    "4. HAVING: The HAVING clause is executed to remove the created grouped records that don’t meet the constraints.\n",
    "\n",
    "5. SELECT: The SELECT clause is executed to derive all desired columns and expressions.\n",
    "\n",
    "6. ORDER BY: The ORDER BY clause is executed to sort the derived values in ascending or descending order.\n",
    "\n",
    "7. LIMIT/OFFSET: Finally, the LIMIT and/or OFFSET clauses are executed to keep or skip a specified number of rows."
   ]
  },
  {
   "cell_type": "code",
   "execution_count": null,
   "id": "d5bcc6ee-2ff2-4101-b500-06d964369ac1",
   "metadata": {},
   "outputs": [],
   "source": []
  }
 ],
 "metadata": {
  "kernelspec": {
   "display_name": "Python 3 (ipykernel)",
   "language": "python",
   "name": "python3"
  },
  "language_info": {
   "codemirror_mode": {
    "name": "ipython",
    "version": 3
   },
   "file_extension": ".py",
   "mimetype": "text/x-python",
   "name": "python",
   "nbconvert_exporter": "python",
   "pygments_lexer": "ipython3",
   "version": "3.10.8"
  }
 },
 "nbformat": 4,
 "nbformat_minor": 5
}
