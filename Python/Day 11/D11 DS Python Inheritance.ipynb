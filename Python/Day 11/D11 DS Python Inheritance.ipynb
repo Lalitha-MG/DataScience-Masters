{
 "cells": [
  {
   "cell_type": "code",
   "execution_count": 1,
   "id": "69d65609-4c48-489a-978e-dac0362f9b51",
   "metadata": {},
   "outputs": [],
   "source": [
    "class parent:\n",
    "    def test_parent(self):\n",
    "        print(\"This is my parent class\")\n",
    "        "
   ]
  },
  {
   "cell_type": "code",
   "execution_count": 2,
   "id": "d89b1066-3f80-47cd-a883-558a4720c93e",
   "metadata": {},
   "outputs": [],
   "source": [
    "class child(parent):\n",
    "    pass"
   ]
  },
  {
   "cell_type": "code",
   "execution_count": 3,
   "id": "2205c0c7-a5bf-4bed-b7f0-b664966dc20c",
   "metadata": {},
   "outputs": [],
   "source": [
    "child_object=child()"
   ]
  },
  {
   "cell_type": "code",
   "execution_count": 4,
   "id": "3bcce78f-92c4-43d7-8396-c9ab5890954d",
   "metadata": {},
   "outputs": [
    {
     "name": "stdout",
     "output_type": "stream",
     "text": [
      "This is my parent class\n"
     ]
    }
   ],
   "source": [
    "child_object.test_parent()"
   ]
  },
  {
   "cell_type": "code",
   "execution_count": 5,
   "id": "db4f3ad6-9ea9-4aef-aa2b-4f0d86da3f73",
   "metadata": {},
   "outputs": [],
   "source": [
    "class test:\n",
    "    def __init__(self,a,b):\n",
    "        self.a=a\n",
    "        self.b=b"
   ]
  },
  {
   "cell_type": "code",
   "execution_count": 7,
   "id": "bbc646f6-ab1a-40cd-8411-324a6e16c826",
   "metadata": {},
   "outputs": [],
   "source": [
    "test_obj=test(2,3)"
   ]
  },
  {
   "cell_type": "code",
   "execution_count": 9,
   "id": "5cc2759e-ca63-40d0-9b73-17b1817643bc",
   "metadata": {},
   "outputs": [
    {
     "data": {
      "text/plain": [
       "2"
      ]
     },
     "execution_count": 9,
     "metadata": {},
     "output_type": "execute_result"
    }
   ],
   "source": [
    "test_obj.a"
   ]
  },
  {
   "cell_type": "code",
   "execution_count": 10,
   "id": "99d51182-28e6-495f-9c59-008efbf9d729",
   "metadata": {},
   "outputs": [
    {
     "data": {
      "text/plain": [
       "3"
      ]
     },
     "execution_count": 10,
     "metadata": {},
     "output_type": "execute_result"
    }
   ],
   "source": [
    "test_obj.b"
   ]
  },
  {
   "cell_type": "code",
   "execution_count": 11,
   "id": "af584722-d68f-42d8-90fd-802cc8a61326",
   "metadata": {},
   "outputs": [],
   "source": [
    "test_obj.a=14"
   ]
  },
  {
   "cell_type": "code",
   "execution_count": 12,
   "id": "251316bc-cff7-4b33-a15e-67a6c2d5884f",
   "metadata": {},
   "outputs": [
    {
     "data": {
      "text/plain": [
       "<__main__.test at 0x7fc8fe78cac0>"
      ]
     },
     "execution_count": 12,
     "metadata": {},
     "output_type": "execute_result"
    }
   ],
   "source": [
    "test_obj"
   ]
  },
  {
   "cell_type": "code",
   "execution_count": 13,
   "id": "1fa0495e-ee2b-46ca-a3b6-de79de528ac2",
   "metadata": {},
   "outputs": [
    {
     "data": {
      "text/plain": [
       "14"
      ]
     },
     "execution_count": 13,
     "metadata": {},
     "output_type": "execute_result"
    }
   ],
   "source": [
    "test_obj.a"
   ]
  },
  {
   "cell_type": "code",
   "execution_count": 22,
   "id": "5af0f4ee-a51f-4681-a117-9a8e2fd11a47",
   "metadata": {},
   "outputs": [],
   "source": [
    "class car:\n",
    "    def __init__(self,year,make,model):\n",
    "        self.__year=year\n",
    "        self.__make=make\n",
    "        self.__model=model"
   ]
  },
  {
   "cell_type": "code",
   "execution_count": 23,
   "id": "23e0d164-f044-43b4-912b-18f3ba0ea9e2",
   "metadata": {},
   "outputs": [],
   "source": [
    "car_obj=car(2023,\"Mahindra\",\"XUV700\")"
   ]
  },
  {
   "cell_type": "code",
   "execution_count": 18,
   "id": "8397fb2e-0e32-4cac-97b4-40ba94c8d25f",
   "metadata": {},
   "outputs": [
    {
     "data": {
      "text/plain": [
       "<__main__.car at 0x7fc8fe99c130>"
      ]
     },
     "execution_count": 18,
     "metadata": {},
     "output_type": "execute_result"
    }
   ],
   "source": [
    "car_obj"
   ]
  },
  {
   "cell_type": "code",
   "execution_count": 19,
   "id": "1746fd3e-20ae-4541-a20f-e7c30c4a20d8",
   "metadata": {},
   "outputs": [
    {
     "ename": "AttributeError",
     "evalue": "'car' object has no attribute 'year'",
     "output_type": "error",
     "traceback": [
      "\u001b[0;31m---------------------------------------------------------------------------\u001b[0m",
      "\u001b[0;31mAttributeError\u001b[0m                            Traceback (most recent call last)",
      "Cell \u001b[0;32mIn[19], line 1\u001b[0m\n\u001b[0;32m----> 1\u001b[0m \u001b[43mcar_obj\u001b[49m\u001b[38;5;241;43m.\u001b[39;49m\u001b[43myear\u001b[49m\n",
      "\u001b[0;31mAttributeError\u001b[0m: 'car' object has no attribute 'year'"
     ]
    }
   ],
   "source": [
    "car_obj.year"
   ]
  },
  {
   "cell_type": "code",
   "execution_count": 20,
   "id": "7c564bc6-90fa-450f-93ab-a3e2869233a6",
   "metadata": {},
   "outputs": [
    {
     "ename": "AttributeError",
     "evalue": "'car' object has no attribute '__year'",
     "output_type": "error",
     "traceback": [
      "\u001b[0;31m---------------------------------------------------------------------------\u001b[0m",
      "\u001b[0;31mAttributeError\u001b[0m                            Traceback (most recent call last)",
      "Cell \u001b[0;32mIn[20], line 1\u001b[0m\n\u001b[0;32m----> 1\u001b[0m \u001b[43mcar_obj\u001b[49m\u001b[38;5;241;43m.\u001b[39;49m\u001b[43m__year\u001b[49m\n",
      "\u001b[0;31mAttributeError\u001b[0m: 'car' object has no attribute '__year'"
     ]
    }
   ],
   "source": [
    "car_obj.__year"
   ]
  },
  {
   "cell_type": "code",
   "execution_count": 21,
   "id": "f6e818ef-73f6-4822-b588-119dda9eae18",
   "metadata": {},
   "outputs": [
    {
     "ename": "AttributeError",
     "evalue": "'car' object has no attribute '_car_yaar'",
     "output_type": "error",
     "traceback": [
      "\u001b[0;31m---------------------------------------------------------------------------\u001b[0m",
      "\u001b[0;31mAttributeError\u001b[0m                            Traceback (most recent call last)",
      "Cell \u001b[0;32mIn[21], line 1\u001b[0m\n\u001b[0;32m----> 1\u001b[0m \u001b[43mcar_obj\u001b[49m\u001b[38;5;241;43m.\u001b[39;49m\u001b[43m_car_yaar\u001b[49m\n",
      "\u001b[0;31mAttributeError\u001b[0m: 'car' object has no attribute '_car_yaar'"
     ]
    }
   ],
   "source": [
    "car_obj._car_yaar"
   ]
  },
  {
   "cell_type": "code",
   "execution_count": 25,
   "id": "7c9e8c63-12b7-48c6-a9e3-20e9db8b5885",
   "metadata": {},
   "outputs": [
    {
     "data": {
      "text/plain": [
       "2023"
      ]
     },
     "execution_count": 25,
     "metadata": {},
     "output_type": "execute_result"
    }
   ],
   "source": [
    "car_obj._car__year"
   ]
  },
  {
   "cell_type": "code",
   "execution_count": 31,
   "id": "ed92c048-b47b-4b12-8fb8-2e36612af12e",
   "metadata": {},
   "outputs": [],
   "source": [
    "class car:\n",
    "    def __init__(self,year,make,model,speed):\n",
    "        self.__year=year\n",
    "        self.__make=make\n",
    "        self.__model=model\n",
    "        self.__speed=speed\n",
    "        \n",
    "    def set_speed(self,speed):\n",
    "        self.__speed= 0 if speed < 0 else speed\n",
    "        \n",
    "    def get_model(self):\n",
    "        return self.__model"
   ]
  },
  {
   "cell_type": "code",
   "execution_count": 32,
   "id": "06169638-bf3a-47b1-94e8-6d0a2bef86a6",
   "metadata": {},
   "outputs": [],
   "source": [
    "car_obj=car(2023,\"Mahindra\",\"XUV700\",-10)"
   ]
  },
  {
   "cell_type": "code",
   "execution_count": 29,
   "id": "47b9ffaf-4d78-421c-889a-84255b717400",
   "metadata": {},
   "outputs": [],
   "source": [
    "car_obj.set_speed(10)"
   ]
  },
  {
   "cell_type": "code",
   "execution_count": 30,
   "id": "55c6173e-9f45-4976-9431-7e8d3828acbe",
   "metadata": {},
   "outputs": [
    {
     "data": {
      "text/plain": [
       "10"
      ]
     },
     "execution_count": 30,
     "metadata": {},
     "output_type": "execute_result"
    }
   ],
   "source": [
    "car_obj._car__speed"
   ]
  },
  {
   "cell_type": "code",
   "execution_count": 33,
   "id": "39c64631-74b8-445a-98b2-0d0060917b3f",
   "metadata": {},
   "outputs": [
    {
     "data": {
      "text/plain": [
       "'XUV700'"
      ]
     },
     "execution_count": 33,
     "metadata": {},
     "output_type": "execute_result"
    }
   ],
   "source": [
    "car_obj.get_model()"
   ]
  },
  {
   "cell_type": "code",
   "execution_count": null,
   "id": "bd59f7c3-4d51-4c00-bd48-eaf6b3e03d42",
   "metadata": {},
   "outputs": [],
   "source": []
  }
 ],
 "metadata": {
  "kernelspec": {
   "display_name": "Python 3 (ipykernel)",
   "language": "python",
   "name": "python3"
  },
  "language_info": {
   "codemirror_mode": {
    "name": "ipython",
    "version": 3
   },
   "file_extension": ".py",
   "mimetype": "text/x-python",
   "name": "python",
   "nbconvert_exporter": "python",
   "pygments_lexer": "ipython3",
   "version": "3.10.8"
  }
 },
 "nbformat": 4,
 "nbformat_minor": 5
}
