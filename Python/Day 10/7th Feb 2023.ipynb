{
 "cells": [
  {
   "cell_type": "markdown",
   "id": "5ab0cc52-bffd-439e-bdaf-59eb107aaf79",
   "metadata": {},
   "source": [
    "Q1. You are writing code for a company. The requirement of the company is that you create a python\n",
    "function that will check whether the password entered by the user is correct or not. The function should\n",
    "take the password as input and return the string “Valid Password” if the entered password follows the\n",
    "below-given password guidelines else it should return “Invalid Password”.\n",
    "Note: 1. The Password should contain at least two uppercase letters and at least two lowercase letters.\n",
    "2. The Password should contain at least a number and three special characters.\n",
    "3. The length of the password should be 10 characters long."
   ]
  },
  {
   "cell_type": "code",
   "execution_count": 35,
   "id": "5c6a82f3-345f-4050-9f18-d950d836c3d8",
   "metadata": {},
   "outputs": [],
   "source": [
    "def check_password(pwd) :\n",
    "    cnt_upper=0\n",
    "    cnt_lower=0\n",
    "    cnt_number=0\n",
    "    cnt_special=0\n",
    "    for i in pwd :\n",
    "        #Check Upper Case\n",
    "        if ord(i)>=65 and ord(i)<=90 :\n",
    "            #print(i,ord(i))\n",
    "            cnt_upper=cnt_upper+1\n",
    "          #Check Lower Case\n",
    "        elif ord(i)>=97 and ord(i)<=122 :\n",
    "            #print(i,ord(i))\n",
    "            cnt_lower=cnt_lower+1\n",
    "        elif ord(i) >=32 and ord(i)<=47 or ord(i) >=58 and ord(i)<=64 or ord(i) >=91 and ord(i)<=96 or ord(i) >=123 and ord(i)<=126 :\n",
    "            cnt_special=cnt_special+1\n",
    "        elif int(i)>=0 and int(i)<=9 :\n",
    "            cnt_number=cnt_number+1\n",
    "        #Special Characters(32–47 / 58–64 / 91–96 / 123–126)\n",
    "        \n",
    "    return cnt_lower,cnt_upper,cnt_number,cnt_special\n",
    "       \n",
    "        \n",
    "    "
   ]
  },
  {
   "cell_type": "code",
   "execution_count": 36,
   "id": "dff82a11-cc9b-437c-8c35-16f6c3348d42",
   "metadata": {},
   "outputs": [],
   "source": [
    "def validate_password(pwd,cl,cu,cn,cs) :\n",
    "    if len(pwd) == 10:\n",
    "        if cl>=2 and cu>=2 and cs>=3 and cn>=1 :\n",
    "            print(\"Valid Password\")\n",
    "        else :\n",
    "            print(\"Invalid Password\")\n",
    "    else:\n",
    "            print(\"Invalid Password\")\n",
    "            "
   ]
  },
  {
   "cell_type": "code",
   "execution_count": 37,
   "id": "d422f72d-b844-407b-8e81-accfe9f235b5",
   "metadata": {},
   "outputs": [
    {
     "data": {
      "text/plain": [
       "(3, 3, 3, 3)"
      ]
     },
     "execution_count": 37,
     "metadata": {},
     "output_type": "execute_result"
    }
   ],
   "source": [
    "check_password(\"AOPbnm123!@#\")"
   ]
  },
  {
   "cell_type": "code",
   "execution_count": 40,
   "id": "fcef648a-4439-4e41-80e5-627781f7f18f",
   "metadata": {},
   "outputs": [
    {
     "name": "stdin",
     "output_type": "stream",
     "text": [
      "Enter the Password: 123gnhjASDG\n"
     ]
    },
    {
     "name": "stdout",
     "output_type": "stream",
     "text": [
      "Invalid Password\n"
     ]
    }
   ],
   "source": [
    "pwd=\"APbno92!@#\"\n",
    "pwd=input(\"Enter the Password:\")\n",
    "a,b,c,d=check_password(pwd)\n",
    "#print(a,b,c,d)\n",
    "validate_password(pwd,a,b,c,d)\n"
   ]
  },
  {
   "cell_type": "markdown",
   "id": "e59f8646-2f74-4627-a6d5-dba8f66cd5ce",
   "metadata": {},
   "source": [
    "Q2. Solve the below-given questions using at least one of the following:\n",
    "1. Lambda functioJ\n",
    "2. Filter functioJ\n",
    "3. Zap functioJ\n",
    "4. List ComprehensioI\n",
    "B Check if the string starts with a particular letterY\n",
    "B Check if the string is numericY\n",
    "B Sort a list of tuples having fruit names and their quantity. [(\"mango\",99),(\"orange\",80), (\"grapes\", 1000)-\n",
    "B Find the squares of numbers from 1 to 10Y\n",
    "B Find the cube root of numbers from 1 to 10Y\n",
    "B Check if a given number is evenY\n",
    "B Filter odd numbers from the given list.\n",
    "[1,2,3,4,5,6,7,8,9,10-\n",
    "B Sort a list of integers into positive and negative integers lists.\n",
    "[1,2,3,4,5,6,-1,-2,-3,-4,-5,0]"
   ]
  },
  {
   "cell_type": "markdown",
   "id": "a7178934-f785-4ef1-8af4-4559506f5d31",
   "metadata": {},
   "source": [
    "Check if the string starts with a particular letter"
   ]
  },
  {
   "cell_type": "markdown",
   "id": "a900de0a-fc1c-4b4b-b6e5-0dd12b0e4a28",
   "metadata": {},
   "source": [
    "Find the squares of numbers from 1 to 10Y"
   ]
  },
  {
   "cell_type": "code",
   "execution_count": 50,
   "id": "200cc92b-f742-43cc-b5ec-14d41cbfc8df",
   "metadata": {},
   "outputs": [],
   "source": [
    "num_list=[1,2,3,4,5,6,7,8,9,10]\n"
   ]
  },
  {
   "cell_type": "code",
   "execution_count": 51,
   "id": "0ebcb299-f650-4f2a-a26d-cd0c8d330bca",
   "metadata": {},
   "outputs": [],
   "source": [
    "square=map(lambda x : x**2 ,num_list)"
   ]
  },
  {
   "cell_type": "code",
   "execution_count": 53,
   "id": "978085c3-798e-42dc-96cc-2f716652d31f",
   "metadata": {},
   "outputs": [
    {
     "data": {
      "text/plain": [
       "[1, 4, 9, 16, 25, 36, 49, 64, 81, 100]"
      ]
     },
     "execution_count": 53,
     "metadata": {},
     "output_type": "execute_result"
    }
   ],
   "source": [
    "list(square)"
   ]
  },
  {
   "cell_type": "markdown",
   "id": "7c060227-2da4-40a5-bfc6-e537dae15bb4",
   "metadata": {},
   "source": [
    "Find the cube root of numbers from 1 to 10Y"
   ]
  },
  {
   "cell_type": "code",
   "execution_count": 54,
   "id": "99ccf405-9e28-4658-bb42-73884056a073",
   "metadata": {},
   "outputs": [],
   "source": [
    "cube_root=map(lambda x : x **1/3 , num_list)"
   ]
  },
  {
   "cell_type": "code",
   "execution_count": 55,
   "id": "f181899f-fde7-4b79-ab82-598145bb656e",
   "metadata": {},
   "outputs": [
    {
     "data": {
      "text/plain": [
       "[0.3333333333333333,\n",
       " 0.6666666666666666,\n",
       " 1.0,\n",
       " 1.3333333333333333,\n",
       " 1.6666666666666667,\n",
       " 2.0,\n",
       " 2.3333333333333335,\n",
       " 2.6666666666666665,\n",
       " 3.0,\n",
       " 3.3333333333333335]"
      ]
     },
     "execution_count": 55,
     "metadata": {},
     "output_type": "execute_result"
    }
   ],
   "source": [
    "list(cube_root)"
   ]
  },
  {
   "cell_type": "markdown",
   "id": "c88976c6-62d4-4043-858d-966bb530370f",
   "metadata": {},
   "source": [
    "Check if a given number is evenY"
   ]
  },
  {
   "cell_type": "code",
   "execution_count": 57,
   "id": "fdbbc37b-e912-4bf5-aa65-59b4a3868085",
   "metadata": {},
   "outputs": [],
   "source": [
    "even_num=filter(lambda x : x%2 == 0, num_list)"
   ]
  },
  {
   "cell_type": "code",
   "execution_count": 58,
   "id": "ac7c4a68-46e2-44d8-bc11-20a07679301e",
   "metadata": {},
   "outputs": [
    {
     "data": {
      "text/plain": [
       "[2, 4, 6, 8, 10]"
      ]
     },
     "execution_count": 58,
     "metadata": {},
     "output_type": "execute_result"
    }
   ],
   "source": [
    "list(even_num)"
   ]
  },
  {
   "cell_type": "markdown",
   "id": "a68d8384-f877-4bb6-a352-08d1e6a63dba",
   "metadata": {},
   "source": [
    " Filter odd numbers from the given list."
   ]
  },
  {
   "cell_type": "code",
   "execution_count": 59,
   "id": "59b080a6-e62f-4838-9d7e-9177fbe86535",
   "metadata": {},
   "outputs": [],
   "source": [
    "odd_num=filter(lambda x : x%2!=0 ,num_list)"
   ]
  },
  {
   "cell_type": "code",
   "execution_count": 60,
   "id": "33ebd3de-9776-4977-a6dc-9db99827e2de",
   "metadata": {},
   "outputs": [
    {
     "data": {
      "text/plain": [
       "[1, 3, 5, 7, 9]"
      ]
     },
     "execution_count": 60,
     "metadata": {},
     "output_type": "execute_result"
    }
   ],
   "source": [
    "list(odd_num)"
   ]
  },
  {
   "cell_type": "markdown",
   "id": "95388790-c010-4e58-a99e-83b5ec70f5b2",
   "metadata": {},
   "source": [
    "Sort a list of integers into positive and negative integers lists.\n",
    "[1,2,3,4,5,6,-1,-2,-3,-4,-5,0]"
   ]
  },
  {
   "cell_type": "code",
   "execution_count": 61,
   "id": "6a9281ab-1ebb-49a9-b10e-fb4a35c2cda2",
   "metadata": {},
   "outputs": [],
   "source": [
    "number_list=[1,2,3,4,5,6,-1,-2,-3,-4,-5,0]"
   ]
  },
  {
   "cell_type": "code",
   "execution_count": 62,
   "id": "83785569-48a7-415b-994e-78224580104a",
   "metadata": {},
   "outputs": [
    {
     "data": {
      "text/plain": [
       "[1, 2, 3, 4, 5, 6, 0]"
      ]
     },
     "execution_count": 62,
     "metadata": {},
     "output_type": "execute_result"
    }
   ],
   "source": [
    "positive_list=filter(lambda x : x >= 0 , number_list)\n",
    "list(positive_list)"
   ]
  },
  {
   "cell_type": "code",
   "execution_count": 63,
   "id": "97dce867-4317-462a-9fa5-2652a3e4bfef",
   "metadata": {},
   "outputs": [
    {
     "data": {
      "text/plain": [
       "[-1, -2, -3, -4, -5]"
      ]
     },
     "execution_count": 63,
     "metadata": {},
     "output_type": "execute_result"
    }
   ],
   "source": [
    "negative_list=filter(lambda x : x < 0 , number_list)\n",
    "list(negative_list)"
   ]
  },
  {
   "cell_type": "markdown",
   "id": "d2a9d7bf-7f3c-4041-982e-788b8524b524",
   "metadata": {},
   "source": [
    "Sort a list of tuples having fruit names and their quantity. [(\"mango\",99),(\"orange\",80), (\"grapes\", 1000)-"
   ]
  },
  {
   "cell_type": "code",
   "execution_count": 65,
   "id": "2173a367-041e-4192-ae21-3c3c251ef8a4",
   "metadata": {},
   "outputs": [],
   "source": [
    "fruits_list=[(\"mango\",99),(\"orange\",80), (\"grapes\", 1000)]"
   ]
  },
  {
   "cell_type": "code",
   "execution_count": 68,
   "id": "25536522-7720-4b9f-8cad-45f8104c5e0e",
   "metadata": {},
   "outputs": [],
   "source": [
    "sorted_list=sorted(fruits_list ,key = lambda fruits_list : fruits_list[0])"
   ]
  },
  {
   "cell_type": "code",
   "execution_count": 69,
   "id": "8a39177f-2566-493a-9bbd-7a7ac830d7b5",
   "metadata": {},
   "outputs": [
    {
     "data": {
      "text/plain": [
       "[('grapes', 1000), ('mango', 99), ('orange', 80)]"
      ]
     },
     "execution_count": 69,
     "metadata": {},
     "output_type": "execute_result"
    }
   ],
   "source": [
    "list(sorted_list)"
   ]
  },
  {
   "cell_type": "markdown",
   "id": "51e01d33-3bab-4e7c-9a0f-2952be24b926",
   "metadata": {},
   "source": [
    "Check if the string is numericY"
   ]
  },
  {
   "cell_type": "code",
   "execution_count": 78,
   "id": "37be3977-f5ca-4416-b31a-71916bff1b80",
   "metadata": {},
   "outputs": [
    {
     "name": "stdout",
     "output_type": "stream",
     "text": [
      "True\n"
     ]
    }
   ],
   "source": [
    "is_num = lambda q: q.replace('.','',1).isdigit()\n",
    "print(is_num('26587'))"
   ]
  },
  {
   "cell_type": "markdown",
   "id": "6cb0eee9-0bdb-4de5-978d-2201de8900a1",
   "metadata": {},
   "source": [
    "Check if the string starts with a particular letterY"
   ]
  },
  {
   "cell_type": "code",
   "execution_count": 80,
   "id": "5f6c9887-f6cc-44cb-be30-e1010126fc9e",
   "metadata": {},
   "outputs": [
    {
     "name": "stdout",
     "output_type": "stream",
     "text": [
      "True\n"
     ]
    }
   ],
   "source": [
    "is_char=lambda q : q.startswith(\"L\")\n",
    "print(is_char(\"London\"))"
   ]
  },
  {
   "cell_type": "code",
   "execution_count": 81,
   "id": "1fb47d7b-b82f-4d21-939f-b9791bcacebe",
   "metadata": {},
   "outputs": [
    {
     "name": "stdout",
     "output_type": "stream",
     "text": [
      "False\n"
     ]
    }
   ],
   "source": [
    "is_char=lambda q : q.startswith(\"L\")\n",
    "print(is_char(\"NewYork\"))"
   ]
  },
  {
   "cell_type": "code",
   "execution_count": null,
   "id": "4cf88a00-d68d-49bc-8008-b159dfbca5a3",
   "metadata": {},
   "outputs": [],
   "source": []
  }
 ],
 "metadata": {
  "kernelspec": {
   "display_name": "Python 3 (ipykernel)",
   "language": "python",
   "name": "python3"
  },
  "language_info": {
   "codemirror_mode": {
    "name": "ipython",
    "version": 3
   },
   "file_extension": ".py",
   "mimetype": "text/x-python",
   "name": "python",
   "nbconvert_exporter": "python",
   "pygments_lexer": "ipython3",
   "version": "3.10.8"
  }
 },
 "nbformat": 4,
 "nbformat_minor": 5
}
