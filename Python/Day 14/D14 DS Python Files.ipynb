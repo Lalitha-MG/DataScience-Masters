{
 "cells": [
  {
   "cell_type": "code",
   "execution_count": 65,
   "id": "a879d24a-ae70-4039-8d42-0dcec27cff82",
   "metadata": {},
   "outputs": [],
   "source": [
    "f=open(\"test.txt\",'w')"
   ]
  },
  {
   "cell_type": "code",
   "execution_count": 3,
   "id": "276a7b93-e0a8-4e3f-b67e-aa33677b608c",
   "metadata": {},
   "outputs": [
    {
     "data": {
      "text/plain": [
       "'/home/jovyan/work/My Notes'"
      ]
     },
     "execution_count": 3,
     "metadata": {},
     "output_type": "execute_result"
    }
   ],
   "source": [
    "pwd"
   ]
  },
  {
   "cell_type": "code",
   "execution_count": 4,
   "id": "a75ba546-ea62-4212-a9b9-92aa5e521024",
   "metadata": {},
   "outputs": [
    {
     "name": "stdout",
     "output_type": "stream",
     "text": [
      " 1.1-Types.ipynb                   'Day3 DS Python.ipynb'\n",
      "'D11 DS Python Inheritance.ipynb'  'Day4 DS Python.ipynb'\n",
      "'D12 DS Python.ipynb'              'Day5 DS Python Tuples.ipynb'\n",
      "'D14 DS Python Files.ipynb'        'Day8 DS Python OOPS.ipynb'\n",
      "'D8 DS Python OOPS.ipynb'           test.txt\n",
      "'Day 1 Data Science Python.ipynb'  \u001b[0m\u001b[01;34m'Untitled Folder'\u001b[0m/\n",
      "'Day 2 Data Science Python.ipynb'\n"
     ]
    }
   ],
   "source": [
    "ls"
   ]
  },
  {
   "cell_type": "code",
   "execution_count": 16,
   "id": "2bbddb7a-1e04-4bca-b6a9-2ad2da5ddb0f",
   "metadata": {},
   "outputs": [
    {
     "data": {
      "text/plain": [
       "38"
      ]
     },
     "execution_count": 16,
     "metadata": {},
     "output_type": "execute_result"
    }
   ],
   "source": [
    "f.write(\"This is my firt File program. YAYA!!!!\")"
   ]
  },
  {
   "cell_type": "code",
   "execution_count": 17,
   "id": "e13f2922-3b55-4a43-b3a7-ba7e4a42f5d2",
   "metadata": {},
   "outputs": [],
   "source": [
    "f.close()"
   ]
  },
  {
   "cell_type": "code",
   "execution_count": 66,
   "id": "5d8cedf3-b3f0-42f4-8f33-ecc9fb46b08c",
   "metadata": {},
   "outputs": [
    {
     "data": {
      "text/plain": [
       "719"
      ]
     },
     "execution_count": 66,
     "metadata": {},
     "output_type": "execute_result"
    }
   ],
   "source": [
    "f.write(\"Data Science Masters course is highly curated and uniquely designed according to the latest industry standards. This program instills students the skills essential to knowledge discovery efforts to identify standard, novel, and truly differentiated solutions and decision-making, including skills in managing, querying, analyzing, visualizing, and extracting meaning from extremely large data sets. This trending program provides students with the statistical, mathematical and computational skills needed to meet the large-scale data science challenges of today's professional world. You will learn all the stack required to work in data science industry including cloud infrastructure and real-time industry projects.\")"
   ]
  },
  {
   "cell_type": "code",
   "execution_count": 19,
   "id": "028b3743-8d77-44c2-a6cf-a26397fef5d9",
   "metadata": {},
   "outputs": [],
   "source": [
    "data=open(\"test.txt\",'r')"
   ]
  },
  {
   "cell_type": "code",
   "execution_count": 20,
   "id": "136f9425-2641-4bb5-bf51-d3d2b4d9e108",
   "metadata": {},
   "outputs": [
    {
     "data": {
      "text/plain": [
       "\"Data Science Masters course is highly curated and uniquely designed according to the latest industry standards. This program instills students the skills essential to knowledge discovery efforts to identify standard, novel, and truly differentiated solutions and decision-making, including skills in managing, querying, analyzing, visualizing, and extracting meaning from extremely large data sets. This trending program provides students with the statistical, mathematical and computational skills needed to meet the large-scale data science challenges of today's professional world. You will learn all the stack required to work in data science industry including cloud infrastructure and real-time industry projects.Data Science Masters course is highly curated and uniquely designed according to the latest industry standards. This program instills students the skills essential to knowledge discovery efforts to identify standard, novel, and truly differentiated solutions and decision-making, including skills in managing, querying, analyzing, visualizing, and extracting meaning from extremely large data sets. This trending program provides students with the statistical, mathematical and computational skills needed to meet the large-scale data science challenges of today's professional world. You will learn all the stack required to work in data science industry including cloud infrastructure and real-time industry projects.This is my firt File program. YAYA!!!!\""
      ]
     },
     "execution_count": 20,
     "metadata": {},
     "output_type": "execute_result"
    }
   ],
   "source": [
    "data.read()"
   ]
  },
  {
   "cell_type": "code",
   "execution_count": 21,
   "id": "e7f96ed7-88e4-430a-bcd9-e6c87da24730",
   "metadata": {},
   "outputs": [
    {
     "data": {
      "text/plain": [
       "''"
      ]
     },
     "execution_count": 21,
     "metadata": {},
     "output_type": "execute_result"
    }
   ],
   "source": [
    "data.read()"
   ]
  },
  {
   "cell_type": "code",
   "execution_count": 22,
   "id": "fabe7254-6a13-402e-981b-122c512a69b3",
   "metadata": {},
   "outputs": [
    {
     "data": {
      "text/plain": [
       "123"
      ]
     },
     "execution_count": 22,
     "metadata": {},
     "output_type": "execute_result"
    }
   ],
   "source": [
    "#seek sets the cursor to specific position\n",
    "data.seek(123)"
   ]
  },
  {
   "cell_type": "code",
   "execution_count": 23,
   "id": "cba3c922-58e9-49c5-82b5-97a658840914",
   "metadata": {},
   "outputs": [
    {
     "data": {
      "text/plain": [
       "\"m instills students the skills essential to knowledge discovery efforts to identify standard, novel, and truly differentiated solutions and decision-making, including skills in managing, querying, analyzing, visualizing, and extracting meaning from extremely large data sets. This trending program provides students with the statistical, mathematical and computational skills needed to meet the large-scale data science challenges of today's professional world. You will learn all the stack required to work in data science industry including cloud infrastructure and real-time industry projects.Data Science Masters course is highly curated and uniquely designed according to the latest industry standards. This program instills students the skills essential to knowledge discovery efforts to identify standard, novel, and truly differentiated solutions and decision-making, including skills in managing, querying, analyzing, visualizing, and extracting meaning from extremely large data sets. This trending program provides students with the statistical, mathematical and computational skills needed to meet the large-scale data science challenges of today's professional world. You will learn all the stack required to work in data science industry including cloud infrastructure and real-time industry projects.This is my firt File program. YAYA!!!!\""
      ]
     },
     "execution_count": 23,
     "metadata": {},
     "output_type": "execute_result"
    }
   ],
   "source": [
    "data.read()"
   ]
  },
  {
   "cell_type": "code",
   "execution_count": 28,
   "id": "875d7860-1bd2-4fbf-8101-57330a805b4d",
   "metadata": {},
   "outputs": [
    {
     "name": "stdout",
     "output_type": "stream",
     "text": [
      "Data Science Masters course is highly curated and uniquely designed according to the latest industry standards. This program instills students the skills essential to knowledge discovery efforts to identify standard, novel, and truly differentiated solutions and decision-making, including skills in managing, querying, analyzing, visualizing, and extracting meaning from extremely large data sets. This trending program provides students with the statistical, mathematical and computational skills needed to meet the large-scale data science challenges of today's professional world. You will learn all the stack required to work in data science industry including cloud infrastructure and real-time industry projects.Data Science Masters course is highly curated and uniquely designed according to the latest industry standards. This program instills students the skills essential to knowledge discovery efforts to identify standard, novel, and truly differentiated solutions and decision-making, including skills in managing, querying, analyzing, visualizing, and extracting meaning from extremely large data sets. This trending program provides students with the statistical, mathematical and computational skills needed to meet the large-scale data science challenges of today's professional world. You will learn all the stack required to work in data science industry including cloud infrastructure and real-time industry projects.This is my firt File program. YAYA!!!!\n"
     ]
    }
   ],
   "source": [
    "# 2 ways to read the data \n",
    "# 1) read function\n",
    "# 2) Using for loop\n",
    "for i in data:\n",
    "    print(i)"
   ]
  },
  {
   "cell_type": "code",
   "execution_count": 25,
   "id": "aa082f5b-be64-4865-84af-ba6d2a513393",
   "metadata": {},
   "outputs": [
    {
     "data": {
      "text/plain": [
       "1"
      ]
     },
     "execution_count": 25,
     "metadata": {},
     "output_type": "execute_result"
    }
   ],
   "source": [
    "data.seek(1)"
   ]
  },
  {
   "cell_type": "code",
   "execution_count": 27,
   "id": "c0b7092f-4ab6-435f-b611-3d22955a89a9",
   "metadata": {},
   "outputs": [
    {
     "data": {
      "text/plain": [
       "0"
      ]
     },
     "execution_count": 27,
     "metadata": {},
     "output_type": "execute_result"
    }
   ],
   "source": [
    "data.seek(0)"
   ]
  },
  {
   "cell_type": "code",
   "execution_count": 29,
   "id": "32fdfb13-7b14-4d01-b65a-b2d979eaeda8",
   "metadata": {},
   "outputs": [],
   "source": [
    "import os\n"
   ]
  },
  {
   "cell_type": "code",
   "execution_count": 30,
   "id": "e66712f9-16c3-429c-b58f-12bbb0e02dff",
   "metadata": {},
   "outputs": [
    {
     "data": {
      "text/plain": [
       "<function posixpath.basename(p)>"
      ]
     },
     "execution_count": 30,
     "metadata": {},
     "output_type": "execute_result"
    }
   ],
   "source": [
    "os.path.basename"
   ]
  },
  {
   "cell_type": "code",
   "execution_count": 31,
   "id": "1b6c5b4f-6f26-45a1-9f8e-1feda4c9b859",
   "metadata": {},
   "outputs": [
    {
     "data": {
      "text/plain": [
       "<function posixpath.commonpath(paths)>"
      ]
     },
     "execution_count": 31,
     "metadata": {},
     "output_type": "execute_result"
    }
   ],
   "source": [
    "os.path.commonpath"
   ]
  },
  {
   "cell_type": "code",
   "execution_count": 32,
   "id": "7e66ad79-01f1-4f91-b6ac-f70600604f91",
   "metadata": {},
   "outputs": [
    {
     "data": {
      "text/plain": [
       "<function posixpath.dirname(p)>"
      ]
     },
     "execution_count": 32,
     "metadata": {},
     "output_type": "execute_result"
    }
   ],
   "source": [
    "os.path.dirname\n"
   ]
  },
  {
   "cell_type": "code",
   "execution_count": 33,
   "id": "b8c31294-c0f3-4514-8dae-f16e9cbcdad7",
   "metadata": {},
   "outputs": [
    {
     "data": {
      "text/plain": [
       "1476"
      ]
     },
     "execution_count": 33,
     "metadata": {},
     "output_type": "execute_result"
    }
   ],
   "source": [
    "os.path.getsize(\"test.txt\")"
   ]
  },
  {
   "cell_type": "code",
   "execution_count": 34,
   "id": "e4ff1a08-4eac-4390-af1d-77bf8a1868cf",
   "metadata": {},
   "outputs": [
    {
     "data": {
      "text/plain": [
       "'new_test.txt'"
      ]
     },
     "execution_count": 34,
     "metadata": {},
     "output_type": "execute_result"
    }
   ],
   "source": [
    "#Copy the file to new file\n",
    "import shutil\n",
    "shutil.copy(\"test.txt\",\"new_test.txt\")"
   ]
  },
  {
   "cell_type": "code",
   "execution_count": 35,
   "id": "e17a1460-1a9f-43e9-bec5-a02e527e0ece",
   "metadata": {},
   "outputs": [],
   "source": [
    "import os"
   ]
  },
  {
   "cell_type": "code",
   "execution_count": 36,
   "id": "c69f1da1-3da9-490f-9aed-ee3ba687c35f",
   "metadata": {},
   "outputs": [],
   "source": [
    "#To remove the file\n",
    "os.remove(\"new_test.txt\")"
   ]
  },
  {
   "cell_type": "code",
   "execution_count": 39,
   "id": "f9aace83-a9dc-4825-b71d-623e7584c130",
   "metadata": {},
   "outputs": [
    {
     "name": "stdout",
     "output_type": "stream",
     "text": [
      "\n"
     ]
    }
   ],
   "source": [
    "# 2 ways to open file\n",
    "#1) Open function\n",
    "# 2) With Open\n",
    "with open(\"test.txt\",'r') as f:\n",
    "    print(f.read())"
   ]
  },
  {
   "cell_type": "code",
   "execution_count": 40,
   "id": "90cd1284-5cbd-4ba0-b1dc-bea210031cae",
   "metadata": {},
   "outputs": [
    {
     "ename": "AttributeError",
     "evalue": "'_io.TextIOWrapper' object has no attribute 'open'",
     "output_type": "error",
     "traceback": [
      "\u001b[0;31m---------------------------------------------------------------------------\u001b[0m",
      "\u001b[0;31mAttributeError\u001b[0m                            Traceback (most recent call last)",
      "Cell \u001b[0;32mIn[40], line 1\u001b[0m\n\u001b[0;32m----> 1\u001b[0m \u001b[43mf\u001b[49m\u001b[38;5;241;43m.\u001b[39;49m\u001b[43mopen\u001b[49m(\u001b[38;5;124m\"\u001b[39m\u001b[38;5;124mtest.txt\u001b[39m\u001b[38;5;124m\"\u001b[39m,\u001b[38;5;124m'\u001b[39m\u001b[38;5;124mr\u001b[39m\u001b[38;5;124m'\u001b[39m)\n",
      "\u001b[0;31mAttributeError\u001b[0m: '_io.TextIOWrapper' object has no attribute 'open'"
     ]
    }
   ],
   "source": [
    "f.open(\"test.txt\",'r')"
   ]
  },
  {
   "cell_type": "code",
   "execution_count": 48,
   "id": "5abc7874-d833-4369-bdd3-8a7f0f946d28",
   "metadata": {},
   "outputs": [],
   "source": [
    "f=open(\"test.txt\",'r')"
   ]
  },
  {
   "cell_type": "code",
   "execution_count": 50,
   "id": "4fdfafeb-6602-4b73-a8ff-ca2f62e40404",
   "metadata": {},
   "outputs": [
    {
     "data": {
      "text/plain": [
       "''"
      ]
     },
     "execution_count": 50,
     "metadata": {},
     "output_type": "execute_result"
    }
   ],
   "source": [
    "f.read()"
   ]
  },
  {
   "cell_type": "code",
   "execution_count": 49,
   "id": "e97cb6ca-fcce-4d31-8aee-2a0bb933a2c2",
   "metadata": {},
   "outputs": [
    {
     "data": {
      "text/plain": [
       "0"
      ]
     },
     "execution_count": 49,
     "metadata": {},
     "output_type": "execute_result"
    }
   ],
   "source": [
    "f.seek(0)\n"
   ]
  },
  {
   "cell_type": "code",
   "execution_count": 47,
   "id": "1b8ceed1-ec79-4ff1-9e44-a4bc14e53b85",
   "metadata": {},
   "outputs": [
    {
     "data": {
      "text/plain": [
       "''"
      ]
     },
     "execution_count": 47,
     "metadata": {},
     "output_type": "execute_result"
    }
   ],
   "source": [
    "f.read(0)"
   ]
  },
  {
   "cell_type": "code",
   "execution_count": 72,
   "id": "69bc8027-60d4-404e-bed9-cdc0e8074505",
   "metadata": {},
   "outputs": [],
   "source": [
    "f1=open(\"test.txt\",'r')"
   ]
  },
  {
   "cell_type": "code",
   "execution_count": 73,
   "id": "f83cddbc-f43c-4a17-b938-f0441bf5aff6",
   "metadata": {},
   "outputs": [
    {
     "data": {
      "text/plain": [
       "\"Data Science Masters course is highly curated and uniquely designed according to the latest industry standards. This program instills students the skills essential to knowledge discovery efforts to identify standard, novel, and truly differentiated solutions and decision-making, including skills in managing, querying, analyzing, visualizing, and extracting meaning from extremely large data sets. This trending program provides students with the statistical, mathematical and computational skills needed to meet the large-scale data science challenges of today's professional world. You will learn all the stack required to work in data science industry including cloud infrastructure and real-time industry projects.\""
      ]
     },
     "execution_count": 73,
     "metadata": {},
     "output_type": "execute_result"
    }
   ],
   "source": [
    "f1.read()"
   ]
  },
  {
   "cell_type": "code",
   "execution_count": 64,
   "id": "cc4ea4e9-47a8-48e9-9e1d-3826ca4d4871",
   "metadata": {},
   "outputs": [
    {
     "data": {
      "text/plain": [
       "100"
      ]
     },
     "execution_count": 64,
     "metadata": {},
     "output_type": "execute_result"
    }
   ],
   "source": [
    "f1.seek(100)"
   ]
  },
  {
   "cell_type": "code",
   "execution_count": 57,
   "id": "3902dad8-a80a-4614-afa1-0488baf5400b",
   "metadata": {},
   "outputs": [],
   "source": [
    "f.close()"
   ]
  },
  {
   "cell_type": "code",
   "execution_count": 67,
   "id": "50ca1bda-5622-4e1d-b421-3997da60265c",
   "metadata": {},
   "outputs": [
    {
     "ename": "UnsupportedOperation",
     "evalue": "not readable",
     "output_type": "error",
     "traceback": [
      "\u001b[0;31m---------------------------------------------------------------------------\u001b[0m",
      "\u001b[0;31mUnsupportedOperation\u001b[0m                      Traceback (most recent call last)",
      "Cell \u001b[0;32mIn[67], line 1\u001b[0m\n\u001b[0;32m----> 1\u001b[0m \u001b[43mf\u001b[49m\u001b[38;5;241;43m.\u001b[39;49m\u001b[43mread\u001b[49m\u001b[43m(\u001b[49m\u001b[43m)\u001b[49m\n",
      "\u001b[0;31mUnsupportedOperation\u001b[0m: not readable"
     ]
    }
   ],
   "source": [
    "f.read()"
   ]
  },
  {
   "cell_type": "code",
   "execution_count": 71,
   "id": "33fafafb-6ef2-4e66-a35a-8ea252be686f",
   "metadata": {},
   "outputs": [],
   "source": [
    "f.close()"
   ]
  },
  {
   "cell_type": "code",
   "execution_count": 74,
   "id": "3e62b97b-987f-497e-b48a-d6efd3659ebb",
   "metadata": {},
   "outputs": [
    {
     "name": "stdout",
     "output_type": "stream",
     "text": [
      "Data Science Masters course is highly curated and uniquely designed according to the latest industry standards. This program instills students the skills essential to knowledge discovery efforts to identify standard, novel, and truly differentiated solutions and decision-making, including skills in managing, querying, analyzing, visualizing, and extracting meaning from extremely large data sets. This trending program provides students with the statistical, mathematical and computational skills needed to meet the large-scale data science challenges of today's professional world. You will learn all the stack required to work in data science industry including cloud infrastructure and real-time industry projects.\n"
     ]
    }
   ],
   "source": [
    "with open (\"test.txt\",'r') as f:\n",
    "    print(f.read())"
   ]
  },
  {
   "cell_type": "code",
   "execution_count": 75,
   "id": "5c3f9e95-50b3-4281-80aa-1978f123c653",
   "metadata": {},
   "outputs": [],
   "source": [
    "#Rename files\n",
    "os.rename(\"test.txt\",\"new_test.txt\")"
   ]
  },
  {
   "cell_type": "code",
   "execution_count": 76,
   "id": "b29312a0-daac-438c-b06c-04f1f9ae700e",
   "metadata": {},
   "outputs": [],
   "source": [
    "#Store Dictionary data in json file\n",
    "Rainbow_Colors = { 'V':\"Violet\",\n",
    "                      \"I\": \"Indigo\",\n",
    "                      \"B\":\"Blue\",\n",
    "                      \"G\":\"Green\",\n",
    "                      \"Y\":\"Yellow\",\n",
    "                      \"O\": \"Orange\",\n",
    "                      \"R\":\"Red\"}"
   ]
  },
  {
   "cell_type": "code",
   "execution_count": 77,
   "id": "93b5a001-7445-47da-820a-f4108be9aef5",
   "metadata": {},
   "outputs": [],
   "source": [
    "import json"
   ]
  },
  {
   "cell_type": "code",
   "execution_count": 78,
   "id": "122210b4-449c-49c6-bfe8-23acc8cbda0d",
   "metadata": {},
   "outputs": [],
   "source": [
    "with open (\"test.json\",'w') as f:\n",
    "    json.dump(Rainbow_Colors,f)"
   ]
  },
  {
   "cell_type": "code",
   "execution_count": 79,
   "id": "c764f09a-9f94-4796-8b59-5710bc63edee",
   "metadata": {},
   "outputs": [],
   "source": [
    "#To read data from json files\n",
    "import json"
   ]
  },
  {
   "cell_type": "code",
   "execution_count": 81,
   "id": "8bcc2c19-2e8b-4a22-85a6-7c20005083e7",
   "metadata": {},
   "outputs": [],
   "source": [
    "with open(\"test.json\",'r') as f:\n",
    "    data=json.load(f)"
   ]
  },
  {
   "cell_type": "code",
   "execution_count": 82,
   "id": "b801a7de-1a77-4614-8697-2db04c978de2",
   "metadata": {},
   "outputs": [
    {
     "data": {
      "text/plain": [
       "{'V': 'Violet',\n",
       " 'I': 'Indigo',\n",
       " 'B': 'Blue',\n",
       " 'G': 'Green',\n",
       " 'Y': 'Yellow',\n",
       " 'O': 'Orange',\n",
       " 'R': 'Red'}"
      ]
     },
     "execution_count": 82,
     "metadata": {},
     "output_type": "execute_result"
    }
   ],
   "source": [
    "data"
   ]
  },
  {
   "cell_type": "code",
   "execution_count": 83,
   "id": "e48a56e1-18f5-4c66-bcff-0f14f4c58e58",
   "metadata": {},
   "outputs": [
    {
     "data": {
      "text/plain": [
       "'Red'"
      ]
     },
     "execution_count": 83,
     "metadata": {},
     "output_type": "execute_result"
    }
   ],
   "source": [
    "data[\"R\"]"
   ]
  },
  {
   "cell_type": "code",
   "execution_count": 86,
   "id": "e2f6488d-5483-4cce-b73d-65c1f9cae2ad",
   "metadata": {},
   "outputs": [],
   "source": [
    "# To read and write data to csv files\n",
    "# Data Preparation\n",
    "list=[[\"Name\",\"Email\",\"PhoneNo\"],[\"Lalitha\",\"lali@gmail.com\",33333333],[\"Chandru\",\"chand@gmail.com\",11111111],[\"Venky\",\"venky@gmail.com\",2222222]]\n"
   ]
  },
  {
   "cell_type": "code",
   "execution_count": 87,
   "id": "a35c8067-3dd7-44dc-a1d5-7bb7f17cc1bf",
   "metadata": {},
   "outputs": [
    {
     "data": {
      "text/plain": [
       "[['Name', 'Email', 'PhoneNo'],\n",
       " ['Lalitha', 'lali@gmail.com', 33333333],\n",
       " ['Chandru', 'chand@gmail.com', 11111111],\n",
       " ['Venky', 'venky@gmail.com', 2222222]]"
      ]
     },
     "execution_count": 87,
     "metadata": {},
     "output_type": "execute_result"
    }
   ],
   "source": [
    "list"
   ]
  },
  {
   "cell_type": "code",
   "execution_count": 88,
   "id": "d9dcdd0d-a110-46d1-9895-5ae1386d2c9a",
   "metadata": {},
   "outputs": [],
   "source": [
    "import csv"
   ]
  },
  {
   "cell_type": "code",
   "execution_count": 90,
   "id": "3674a689-8383-413d-9a47-705cdc66ed94",
   "metadata": {},
   "outputs": [],
   "source": [
    "with open (\"test.csv\",'w') as f:\n",
    "    w=csv.writer(f)\n",
    "    for i in list:\n",
    "        w.writerow(i)\n",
    "    \n",
    "    "
   ]
  },
  {
   "cell_type": "code",
   "execution_count": 91,
   "id": "60b2dad2-a019-4d5f-ad94-6957e1379f0a",
   "metadata": {},
   "outputs": [],
   "source": [
    "list1=[[\"Name\",\"Email\"],[\"Lalitha\",\"lali@gmail.com\"],[\"Chandru\",\"chand@gmail.com\"],[\"Venky\",\"venky@gmail.com\"]]"
   ]
  },
  {
   "cell_type": "code",
   "execution_count": 92,
   "id": "57791ffb-a2aa-48e7-b8c6-72ad0c8dcb6c",
   "metadata": {},
   "outputs": [
    {
     "data": {
      "text/plain": [
       "[['Name', 'Email'],\n",
       " ['Lalitha', 'lali@gmail.com'],\n",
       " ['Chandru', 'chand@gmail.com'],\n",
       " ['Venky', 'venky@gmail.com']]"
      ]
     },
     "execution_count": 92,
     "metadata": {},
     "output_type": "execute_result"
    }
   ],
   "source": [
    "list1"
   ]
  },
  {
   "cell_type": "code",
   "execution_count": 93,
   "id": "de86402b-e5e5-453c-a437-60f37cc02d50",
   "metadata": {},
   "outputs": [],
   "source": [
    "with open (\"test_name_email.csv\",'w') as f:\n",
    "    w=csv.writer(f)\n",
    "    for i in list1:\n",
    "        w.writerow(i)"
   ]
  },
  {
   "cell_type": "code",
   "execution_count": 94,
   "id": "52b54721-2424-40ed-97eb-3bc3e6c17f08",
   "metadata": {},
   "outputs": [],
   "source": [
    "#How to read csv file"
   ]
  },
  {
   "cell_type": "code",
   "execution_count": 96,
   "id": "efe65b10-5cd1-4e50-a50a-f209e0f048f5",
   "metadata": {},
   "outputs": [
    {
     "name": "stdout",
     "output_type": "stream",
     "text": [
      "['Name', 'Email', 'PhoneNo']\n",
      "['Lalitha', 'lali@gmail.com', '33333333']\n",
      "['Chandru', 'chand@gmail.com', '11111111']\n",
      "['Venky', 'venky@gmail.com', '2222222']\n"
     ]
    }
   ],
   "source": [
    "with open (\"test.csv\",'r') as f:\n",
    "    read=csv.reader(f)\n",
    "    for i in read:\n",
    "        print(i)"
   ]
  },
  {
   "cell_type": "code",
   "execution_count": 97,
   "id": "1689f3ad-32fe-46dc-ba31-a9ec228d1f96",
   "metadata": {},
   "outputs": [],
   "source": [
    "#How to write binary file\n"
   ]
  },
  {
   "cell_type": "code",
   "execution_count": 98,
   "id": "8106f5cb-0a54-4e9b-9ff5-7b69960dbd50",
   "metadata": {},
   "outputs": [],
   "source": [
    "with open (\"test.bin\",\"wb\") as f:\n",
    "    f.write(b\"\\x00\\x01\\x02\\x03\")"
   ]
  },
  {
   "cell_type": "code",
   "execution_count": 100,
   "id": "2154986a-d63b-4f4d-9ee2-29e59122523e",
   "metadata": {},
   "outputs": [
    {
     "name": "stdout",
     "output_type": "stream",
     "text": [
      "b'\\x00\\x01\\x02\\x03'\n"
     ]
    }
   ],
   "source": [
    "#How to read binary file\n",
    "with open (\"test.bin\",'rb') as f:\n",
    "    print(f.read())"
   ]
  },
  {
   "cell_type": "code",
   "execution_count": 101,
   "id": "1bf7d5a7-121e-4d60-a9cf-687b6193b388",
   "metadata": {},
   "outputs": [],
   "source": [
    "# To read huge files"
   ]
  },
  {
   "cell_type": "code",
   "execution_count": 102,
   "id": "8e9ec4d1-b2f1-4274-acdf-0daa0a0c4418",
   "metadata": {},
   "outputs": [],
   "source": [
    "import io"
   ]
  },
  {
   "cell_type": "code",
   "execution_count": 107,
   "id": "0d6e82f0-cc4a-4dce-ae90-d16216f291b0",
   "metadata": {},
   "outputs": [],
   "source": [
    "# To write data in Buffered mode\n",
    "with open (\"BufferedTest.txt\",'wb') as f:\n",
    "    w=io.BufferedWriter(f)\n",
    "    f.write(b\"Data Science Masters course is highly curated and uniquely designed according to the latest industry standards. This program instills students the skills essential to knowledge discovery efforts to identify standard, novel, and truly differentiated solutions and decision-making, including skills in managing, querying, analyzing, visualizing, and extracting meaning from extremely large data sets. This trending program provides students with the statistical, mathematical and computational skills needed to meet the large-scale data science challenges of today's professional world. You will learn all the stack required to work in data science industry including cloud infrastructure and real-time industry projects.\")\n",
    "    f.write(b\"\\n *******************************************************\\n\")\n",
    "    f.write(b\"La La La Li La La La\")\n",
    "    f.flush()"
   ]
  },
  {
   "cell_type": "code",
   "execution_count": 111,
   "id": "1455b20a-97b1-4360-b225-827b684165a7",
   "metadata": {},
   "outputs": [
    {
     "name": "stdout",
     "output_type": "stream",
     "text": [
      "b\"Data Science Masters course is highly curated and uniquely designed according to the latest industry standards. This program instills students the skills essential to knowledge discovery efforts to identify standard, novel, and truly differentiated solutions and decision-making, including skills in managing, querying, analyzing, visualizing, and extracting meaning from extremely large data sets. This trending program provides students with the statistical, mathematical and computational skills needed to meet the large-scale data science challenges of today's professional world. You will learn all the stack required to work in data science industry including cloud infrastructure and real-time industry projects.\\n *******************************************************\\nLa La La Li La La La\"\n"
     ]
    }
   ],
   "source": [
    "#To read data in Buffered mode\n",
    "with open (\"BufferedTest.txt\",\"rb\") as f:\n",
    "    read=io.BufferedReader(f)\n",
    "    print(read.read())"
   ]
  },
  {
   "cell_type": "code",
   "execution_count": 112,
   "id": "b1a1faea-0a25-4cc9-b325-31dd26c97ff8",
   "metadata": {},
   "outputs": [
    {
     "name": "stdout",
     "output_type": "stream",
     "text": [
      "b\"Data Science Masters course is highly curated and uniquely designed according to the latest industry standards. This program instills students the skills essential to knowledge discovery efforts to identify standard, novel, and truly differentiated solutions and decision-making, including skills in managing, querying, analyzing, visualizing, and extracting meaning from extremely large data sets. This trending program provides students with the statistical, mathematical and computational skills needed to meet the large-scale data science challenges of today's professional world. You will learn all the stack required to work in data science industry including cloud infrastructure and real-time industry projects.\\n *******************************************************\\nLa La La Li La La La\"\n"
     ]
    }
   ],
   "source": [
    "with open (\"BufferedTest.txt\",\"rb\") as f:\n",
    "    print(io.BufferedReader(f).read())"
   ]
  },
  {
   "cell_type": "markdown",
   "id": "1997e00d-d87c-429c-b430-d06ff995db56",
   "metadata": {},
   "source": [
    "Logging and Debugging"
   ]
  },
  {
   "cell_type": "code",
   "execution_count": 113,
   "id": "75fdf97a-6243-4f1b-b5e3-f2f1dc2665da",
   "metadata": {},
   "outputs": [],
   "source": [
    "import logging"
   ]
  },
  {
   "cell_type": "code",
   "execution_count": 115,
   "id": "a7bc46ca-795b-4d0e-b0c3-a66f8b46c5cd",
   "metadata": {},
   "outputs": [],
   "source": [
    "logging.basicConfig(filename=\"test.log\",level=logging.INFO)"
   ]
  },
  {
   "cell_type": "code",
   "execution_count": 117,
   "id": "6ab2e313-146d-4d73-afbd-ee11055e9b04",
   "metadata": {},
   "outputs": [],
   "source": [
    "logging.info(\"This is my first line in the log file\")"
   ]
  },
  {
   "cell_type": "code",
   "execution_count": 118,
   "id": "b585611c-520b-4ed9-a251-82045df2b7b3",
   "metadata": {},
   "outputs": [],
   "source": [
    "logging.error(\"Error Message\")"
   ]
  },
  {
   "cell_type": "code",
   "execution_count": 119,
   "id": "0056a35d-9815-4b06-a7f8-0fe58c64f29b",
   "metadata": {},
   "outputs": [],
   "source": [
    "logging.critical(\"Critical Message\")"
   ]
  },
  {
   "cell_type": "code",
   "execution_count": 120,
   "id": "d18b8006-cc23-474e-b556-2f8e0ec7decd",
   "metadata": {},
   "outputs": [],
   "source": [
    "logging.warning(\"Warning Message\")"
   ]
  },
  {
   "cell_type": "code",
   "execution_count": 121,
   "id": "d35ffcba-def4-4db8-aafc-930a7a605e32",
   "metadata": {},
   "outputs": [],
   "source": [
    "logging.debug(\"Debug Message\")"
   ]
  },
  {
   "cell_type": "code",
   "execution_count": 122,
   "id": "6fcf20d2-4983-4b5c-822a-92dbb30b9198",
   "metadata": {},
   "outputs": [
    {
     "ename": "AttributeError",
     "evalue": "module 'logging' has no attribute 'noset'",
     "output_type": "error",
     "traceback": [
      "\u001b[0;31m---------------------------------------------------------------------------\u001b[0m",
      "\u001b[0;31mAttributeError\u001b[0m                            Traceback (most recent call last)",
      "Cell \u001b[0;32mIn[122], line 1\u001b[0m\n\u001b[0;32m----> 1\u001b[0m \u001b[43mlogging\u001b[49m\u001b[38;5;241;43m.\u001b[39;49m\u001b[43mnoset\u001b[49m(\u001b[38;5;124m\"\u001b[39m\u001b[38;5;124mNoset Message\u001b[39m\u001b[38;5;124m\"\u001b[39m)\n",
      "\u001b[0;31mAttributeError\u001b[0m: module 'logging' has no attribute 'noset'"
     ]
    }
   ],
   "source": [
    "logging.noset(\"Noset Message\")"
   ]
  },
  {
   "cell_type": "code",
   "execution_count": 123,
   "id": "9ddf7050-332e-40b4-8f7b-41b8c5b7b5ba",
   "metadata": {},
   "outputs": [],
   "source": [
    "logging.shutdown()"
   ]
  },
  {
   "cell_type": "code",
   "execution_count": 2,
   "id": "662a3709-95e4-49ce-9953-a9b372cd88f7",
   "metadata": {},
   "outputs": [],
   "source": [
    "logging.basicConfig(filename=\"test1.log\",level=logging.DEBUG,format=\"%(asctime)s %(message)s\")"
   ]
  },
  {
   "cell_type": "code",
   "execution_count": 2,
   "id": "7ddbece4-6f14-4892-9e63-fa1afec9c78a",
   "metadata": {},
   "outputs": [],
   "source": [
    "import logging"
   ]
  },
  {
   "cell_type": "code",
   "execution_count": 3,
   "id": "5d03c44b-a790-4625-8d23-0f5ac462ad71",
   "metadata": {},
   "outputs": [],
   "source": [
    "logging.debug(\"Debug Message\")"
   ]
  },
  {
   "cell_type": "code",
   "execution_count": 9,
   "id": "f6564ce2-8eaa-4d4e-aa14-7465439bf9f7",
   "metadata": {},
   "outputs": [],
   "source": [
    "logging.shutdown()"
   ]
  },
  {
   "cell_type": "code",
   "execution_count": 3,
   "id": "718e1f7f-20bc-4427-8a6c-03ce4dacf4a8",
   "metadata": {},
   "outputs": [],
   "source": [
    "logging.basicConfig(filename=\"test3.log\",level=logging.DEBUG,format=\"%(asctime)s %(name)s %(message)s %(levelname)s\")"
   ]
  },
  {
   "cell_type": "code",
   "execution_count": 3,
   "id": "dd68d08c-a9ef-41c8-bc93-0f9d832ae783",
   "metadata": {},
   "outputs": [],
   "source": [
    "logging.info(\"Info Message\")"
   ]
  },
  {
   "cell_type": "code",
   "execution_count": 5,
   "id": "0cf0313e-59d8-4994-8ef8-31ef48675d90",
   "metadata": {},
   "outputs": [],
   "source": [
    "l=[1,2,3,4,5,6]"
   ]
  },
  {
   "cell_type": "code",
   "execution_count": 6,
   "id": "80afd5f3-5462-4810-9a43-a42e58bebbe0",
   "metadata": {},
   "outputs": [
    {
     "name": "stdout",
     "output_type": "stream",
     "text": [
      "1\n",
      "2\n",
      "3\n",
      "4\n",
      "5\n",
      "6\n"
     ]
    }
   ],
   "source": [
    "logging.info(\"For loop start\")\n",
    "for i in l:\n",
    "    logging.info(\"The value of {i} in {l}\".format(i=i , l=l))\n",
    "    print(i)\n",
    "logging.info(\"For loop stops\")"
   ]
  },
  {
   "cell_type": "code",
   "execution_count": null,
   "id": "7006977d-dad5-4e84-ae9c-9909e69a7f44",
   "metadata": {},
   "outputs": [],
   "source": []
  }
 ],
 "metadata": {
  "kernelspec": {
   "display_name": "Python 3 (ipykernel)",
   "language": "python",
   "name": "python3"
  },
  "language_info": {
   "codemirror_mode": {
    "name": "ipython",
    "version": 3
   },
   "file_extension": ".py",
   "mimetype": "text/x-python",
   "name": "python",
   "nbconvert_exporter": "python",
   "pygments_lexer": "ipython3",
   "version": "3.10.8"
  }
 },
 "nbformat": 4,
 "nbformat_minor": 5
}
