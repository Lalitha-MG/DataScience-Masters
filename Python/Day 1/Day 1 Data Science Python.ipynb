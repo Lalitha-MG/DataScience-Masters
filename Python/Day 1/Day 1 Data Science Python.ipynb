{
 "cells": [
  {
   "cell_type": "code",
   "execution_count": 1,
   "id": "458c8e23-58d9-411b-b328-6c907baa08bc",
   "metadata": {},
   "outputs": [
    {
     "data": {
      "text/plain": [
       "'11'"
      ]
     },
     "execution_count": 1,
     "metadata": {},
     "output_type": "execute_result"
    }
   ],
   "source": [
    "\"1\"+\"1\""
   ]
  },
  {
   "cell_type": "code",
   "execution_count": 2,
   "id": "4c14e9b8-0f7d-482c-84fd-2944c46a6f28",
   "metadata": {},
   "outputs": [
    {
     "data": {
      "text/plain": [
       "'1111111111111111111111111111111111111111111111111111111111111111111111111111111111111111111111111111'"
      ]
     },
     "execution_count": 2,
     "metadata": {},
     "output_type": "execute_result"
    }
   ],
   "source": [
    "\"1\"*100"
   ]
  },
  {
   "cell_type": "code",
   "execution_count": 3,
   "id": "a1f868d4-5e5f-4b09-ab71-ae6022e2e77a",
   "metadata": {},
   "outputs": [
    {
     "data": {
      "text/plain": [
       "'LalithaMG'"
      ]
     },
     "execution_count": 3,
     "metadata": {},
     "output_type": "execute_result"
    }
   ],
   "source": [
    "\"Lalitha\"+\"MG\""
   ]
  },
  {
   "cell_type": "code",
   "execution_count": 1,
   "id": "69429072-fc8e-4827-acc8-04bfe5fbe508",
   "metadata": {},
   "outputs": [
    {
     "data": {
      "text/plain": [
       "'11'"
      ]
     },
     "execution_count": 1,
     "metadata": {},
     "output_type": "execute_result"
    }
   ],
   "source": [
    "str(1)+str(1)"
   ]
  },
  {
   "cell_type": "code",
   "execution_count": 2,
   "id": "da509a36-7e04-4555-8df1-881f0abe943a",
   "metadata": {},
   "outputs": [
    {
     "data": {
      "text/plain": [
       "False"
      ]
     },
     "execution_count": 2,
     "metadata": {},
     "output_type": "execute_result"
    }
   ],
   "source": [
    "bool(0)"
   ]
  },
  {
   "cell_type": "code",
   "execution_count": 3,
   "id": "564a6121-3d28-4e6c-9310-cd62bf0ac7d4",
   "metadata": {},
   "outputs": [
    {
     "data": {
      "text/plain": [
       "True"
      ]
     },
     "execution_count": 3,
     "metadata": {},
     "output_type": "execute_result"
    }
   ],
   "source": [
    "bool(-1)"
   ]
  },
  {
   "cell_type": "code",
   "execution_count": 4,
   "id": "a38d95b1-b23c-41f6-ab5e-54b20a466822",
   "metadata": {},
   "outputs": [
    {
     "data": {
      "text/plain": [
       "True"
      ]
     },
     "execution_count": 4,
     "metadata": {},
     "output_type": "execute_result"
    }
   ],
   "source": [
    "bool(-100)"
   ]
  },
  {
   "cell_type": "code",
   "execution_count": 5,
   "id": "c8e220d4-8ce8-4a1c-84a7-4bbada0a1613",
   "metadata": {},
   "outputs": [
    {
     "data": {
      "text/plain": [
       "True"
      ]
     },
     "execution_count": 5,
     "metadata": {},
     "output_type": "execute_result"
    }
   ],
   "source": [
    "bool(True)"
   ]
  },
  {
   "cell_type": "code",
   "execution_count": 6,
   "id": "3fd31533-4594-44e6-aaf8-40dbcf222256",
   "metadata": {},
   "outputs": [
    {
     "ename": "NameError",
     "evalue": "name 'Lalitha' is not defined",
     "output_type": "error",
     "traceback": [
      "\u001b[0;31m---------------------------------------------------------------------------\u001b[0m",
      "\u001b[0;31mNameError\u001b[0m                                 Traceback (most recent call last)",
      "Cell \u001b[0;32mIn[6], line 1\u001b[0m\n\u001b[0;32m----> 1\u001b[0m \u001b[38;5;28mbool\u001b[39m(\u001b[43mLalitha\u001b[49m)\n",
      "\u001b[0;31mNameError\u001b[0m: name 'Lalitha' is not defined"
     ]
    }
   ],
   "source": [
    "bool(Lalitha)"
   ]
  },
  {
   "cell_type": "code",
   "execution_count": 1,
   "id": "b863ad3e-024f-4b62-a0fa-d0290d2d9791",
   "metadata": {},
   "outputs": [],
   "source": [
    "a=1"
   ]
  },
  {
   "cell_type": "code",
   "execution_count": 2,
   "id": "1ca7ecbd-0ac2-4087-a65b-8353a99cbdee",
   "metadata": {},
   "outputs": [
    {
     "data": {
      "text/plain": [
       "1"
      ]
     },
     "execution_count": 2,
     "metadata": {},
     "output_type": "execute_result"
    }
   ],
   "source": [
    "a"
   ]
  },
  {
   "cell_type": "code",
   "execution_count": 3,
   "id": "e40b8510-9570-4578-b102-882540c64478",
   "metadata": {},
   "outputs": [
    {
     "ename": "NameError",
     "evalue": "name 'b' is not defined",
     "output_type": "error",
     "traceback": [
      "\u001b[0;31m---------------------------------------------------------------------------\u001b[0m",
      "\u001b[0;31mNameError\u001b[0m                                 Traceback (most recent call last)",
      "Cell \u001b[0;32mIn[3], line 1\u001b[0m\n\u001b[0;32m----> 1\u001b[0m \u001b[43mb\u001b[49m\u001b[38;5;241m-\u001b[39m\u001b[38;5;241m10\u001b[39m\n",
      "\u001b[0;31mNameError\u001b[0m: name 'b' is not defined"
     ]
    }
   ],
   "source": [
    "b-10"
   ]
  },
  {
   "cell_type": "code",
   "execution_count": 4,
   "id": "395643db-2d45-4552-bd41-8440bae2303c",
   "metadata": {},
   "outputs": [
    {
     "ename": "NameError",
     "evalue": "name 'b' is not defined",
     "output_type": "error",
     "traceback": [
      "\u001b[0;31m---------------------------------------------------------------------------\u001b[0m",
      "\u001b[0;31mNameError\u001b[0m                                 Traceback (most recent call last)",
      "Cell \u001b[0;32mIn[4], line 1\u001b[0m\n\u001b[0;32m----> 1\u001b[0m \u001b[43mb\u001b[49m\n",
      "\u001b[0;31mNameError\u001b[0m: name 'b' is not defined"
     ]
    }
   ],
   "source": [
    "b"
   ]
  },
  {
   "cell_type": "code",
   "execution_count": 5,
   "id": "dc48e758-f2f4-4171-af10-194a23a098de",
   "metadata": {},
   "outputs": [],
   "source": [
    "b=10\n"
   ]
  },
  {
   "cell_type": "code",
   "execution_count": 6,
   "id": "3b12ec42-4e08-4722-9628-58c41b6c01f0",
   "metadata": {},
   "outputs": [
    {
     "data": {
      "text/plain": [
       "10"
      ]
     },
     "execution_count": 6,
     "metadata": {},
     "output_type": "execute_result"
    }
   ],
   "source": [
    "b"
   ]
  },
  {
   "cell_type": "code",
   "execution_count": 7,
   "id": "1d87cfd1-62ef-4e7e-97e1-1d8f10a518e3",
   "metadata": {},
   "outputs": [
    {
     "data": {
      "text/plain": [
       "11"
      ]
     },
     "execution_count": 7,
     "metadata": {},
     "output_type": "execute_result"
    }
   ],
   "source": [
    "a+b"
   ]
  },
  {
   "cell_type": "code",
   "execution_count": 8,
   "id": "93cf112a-d73c-4777-a2af-58d1b4a2a11d",
   "metadata": {},
   "outputs": [
    {
     "data": {
      "text/plain": [
       "-9"
      ]
     },
     "execution_count": 8,
     "metadata": {},
     "output_type": "execute_result"
    }
   ],
   "source": [
    "a-b"
   ]
  },
  {
   "cell_type": "code",
   "execution_count": 9,
   "id": "11b6cc04-62d4-41db-a21f-e58cde49cd20",
   "metadata": {},
   "outputs": [],
   "source": [
    "c=0b1010"
   ]
  },
  {
   "cell_type": "code",
   "execution_count": 10,
   "id": "2d43c8db-903d-46cd-ae2a-3b35082133e0",
   "metadata": {},
   "outputs": [
    {
     "data": {
      "text/plain": [
       "10"
      ]
     },
     "execution_count": 10,
     "metadata": {},
     "output_type": "execute_result"
    }
   ],
   "source": [
    "c"
   ]
  },
  {
   "cell_type": "code",
   "execution_count": 11,
   "id": "541362de-e466-4228-9214-72a956674102",
   "metadata": {},
   "outputs": [],
   "source": [
    "d=0b1000"
   ]
  },
  {
   "cell_type": "code",
   "execution_count": 12,
   "id": "b4d54320-5dbe-4887-b204-943809006d58",
   "metadata": {},
   "outputs": [
    {
     "data": {
      "text/plain": [
       "8"
      ]
     },
     "execution_count": 12,
     "metadata": {},
     "output_type": "execute_result"
    }
   ],
   "source": [
    "d"
   ]
  },
  {
   "cell_type": "code",
   "execution_count": 13,
   "id": "415e26ce-0115-47c0-aa53-7f66b62b202b",
   "metadata": {},
   "outputs": [
    {
     "data": {
      "text/plain": [
       "int"
      ]
     },
     "execution_count": 13,
     "metadata": {},
     "output_type": "execute_result"
    }
   ],
   "source": [
    "type(a)"
   ]
  },
  {
   "cell_type": "code",
   "execution_count": 14,
   "id": "85d3569a-e416-4232-a079-1684a91489f9",
   "metadata": {},
   "outputs": [
    {
     "data": {
      "text/plain": [
       "10"
      ]
     },
     "execution_count": 14,
     "metadata": {},
     "output_type": "execute_result"
    }
   ],
   "source": [
    "b"
   ]
  },
  {
   "cell_type": "code",
   "execution_count": 15,
   "id": "3ca93a8b-e0be-402d-bd94-cac069060478",
   "metadata": {},
   "outputs": [
    {
     "data": {
      "text/plain": [
       "'0b1010'"
      ]
     },
     "execution_count": 15,
     "metadata": {},
     "output_type": "execute_result"
    }
   ],
   "source": [
    "bin(b)"
   ]
  },
  {
   "cell_type": "code",
   "execution_count": 16,
   "id": "f3623168-730b-42ca-a0b6-10c5e2598734",
   "metadata": {},
   "outputs": [
    {
     "data": {
      "text/plain": [
       "'0o12'"
      ]
     },
     "execution_count": 16,
     "metadata": {},
     "output_type": "execute_result"
    }
   ],
   "source": [
    "oct(b)"
   ]
  },
  {
   "cell_type": "code",
   "execution_count": 17,
   "id": "9fdf6241-581f-4883-85d3-47bdffe48d7c",
   "metadata": {},
   "outputs": [
    {
     "ename": "NameError",
     "evalue": "name 'hec' is not defined",
     "output_type": "error",
     "traceback": [
      "\u001b[0;31m---------------------------------------------------------------------------\u001b[0m",
      "\u001b[0;31mNameError\u001b[0m                                 Traceback (most recent call last)",
      "Cell \u001b[0;32mIn[17], line 1\u001b[0m\n\u001b[0;32m----> 1\u001b[0m \u001b[43mhec\u001b[49m(b)\n",
      "\u001b[0;31mNameError\u001b[0m: name 'hec' is not defined"
     ]
    }
   ],
   "source": [
    "hec(b)"
   ]
  },
  {
   "cell_type": "code",
   "execution_count": 18,
   "id": "dc72b18e-2c95-4d2b-9ca1-0a773e5aa024",
   "metadata": {},
   "outputs": [
    {
     "data": {
      "text/plain": [
       "'0xa'"
      ]
     },
     "execution_count": 18,
     "metadata": {},
     "output_type": "execute_result"
    }
   ],
   "source": [
    "hex(b)"
   ]
  },
  {
   "cell_type": "code",
   "execution_count": 19,
   "id": "c5ec969c-ada2-43bf-aed9-4d749d56dac0",
   "metadata": {},
   "outputs": [
    {
     "data": {
      "text/plain": [
       "'0x14'"
      ]
     },
     "execution_count": 19,
     "metadata": {},
     "output_type": "execute_result"
    }
   ],
   "source": [
    "hex(20)"
   ]
  },
  {
   "cell_type": "code",
   "execution_count": 20,
   "id": "d8b9e852-249f-4c39-b44b-e09d3e07aa64",
   "metadata": {},
   "outputs": [],
   "source": [
    "c=0x14\n"
   ]
  },
  {
   "cell_type": "code",
   "execution_count": 21,
   "id": "e15bd2c9-1ade-4109-aed1-680829b9728e",
   "metadata": {},
   "outputs": [
    {
     "data": {
      "text/plain": [
       "20"
      ]
     },
     "execution_count": 21,
     "metadata": {},
     "output_type": "execute_result"
    }
   ],
   "source": [
    "c"
   ]
  },
  {
   "cell_type": "code",
   "execution_count": 22,
   "id": "cf83716d-4085-4006-901b-10254626d034",
   "metadata": {},
   "outputs": [
    {
     "data": {
      "text/plain": [
       "'0x1e'"
      ]
     },
     "execution_count": 22,
     "metadata": {},
     "output_type": "execute_result"
    }
   ],
   "source": [
    "hex(30)"
   ]
  },
  {
   "cell_type": "code",
   "execution_count": 23,
   "id": "09897f9d-ef08-4575-a0dd-76568bac27ae",
   "metadata": {},
   "outputs": [
    {
     "data": {
      "text/plain": [
       "10.0"
      ]
     },
     "execution_count": 23,
     "metadata": {},
     "output_type": "execute_result"
    }
   ],
   "source": [
    "b/a"
   ]
  },
  {
   "cell_type": "code",
   "execution_count": 24,
   "id": "004ea927-90e3-4e7b-ab26-bfec95770b16",
   "metadata": {},
   "outputs": [],
   "source": [
    "f=1.5"
   ]
  },
  {
   "cell_type": "code",
   "execution_count": 25,
   "id": "6848274a-b816-4b9e-830a-6f93d55fd97a",
   "metadata": {},
   "outputs": [
    {
     "data": {
      "text/plain": [
       "float"
      ]
     },
     "execution_count": 25,
     "metadata": {},
     "output_type": "execute_result"
    }
   ],
   "source": [
    "type(f)"
   ]
  },
  {
   "cell_type": "code",
   "execution_count": 26,
   "id": "fb75be9f-d8e4-4c3c-9c2c-b7e88decacb5",
   "metadata": {},
   "outputs": [
    {
     "data": {
      "text/plain": [
       "10"
      ]
     },
     "execution_count": 26,
     "metadata": {},
     "output_type": "execute_result"
    }
   ],
   "source": [
    "b//a"
   ]
  },
  {
   "cell_type": "code",
   "execution_count": 27,
   "id": "253f87a1-cb8e-4fd8-91d1-197755a07795",
   "metadata": {},
   "outputs": [
    {
     "data": {
      "text/plain": [
       "0.004"
      ]
     },
     "execution_count": 27,
     "metadata": {},
     "output_type": "execute_result"
    }
   ],
   "source": [
    "4e-3"
   ]
  },
  {
   "cell_type": "code",
   "execution_count": 28,
   "id": "1dda40b0-aa11-45a0-9d26-df6ef35b2c73",
   "metadata": {},
   "outputs": [],
   "source": [
    "a=0.2"
   ]
  },
  {
   "cell_type": "code",
   "execution_count": 29,
   "id": "acaaf286-4857-47cd-86f8-c16c19adfd10",
   "metadata": {},
   "outputs": [],
   "source": [
    "b=0.1"
   ]
  },
  {
   "cell_type": "code",
   "execution_count": 30,
   "id": "d24b7d35-4102-4a91-8369-e6f730fd9208",
   "metadata": {},
   "outputs": [],
   "source": [
    "c=a/b"
   ]
  },
  {
   "cell_type": "code",
   "execution_count": 31,
   "id": "883b9297-7aa2-404a-bae4-516b2cb75f8d",
   "metadata": {},
   "outputs": [
    {
     "data": {
      "text/plain": [
       "2.0"
      ]
     },
     "execution_count": 31,
     "metadata": {},
     "output_type": "execute_result"
    }
   ],
   "source": [
    "c"
   ]
  },
  {
   "cell_type": "code",
   "execution_count": 32,
   "id": "672bbbc8-1d77-447a-9e70-bf834b68b1e5",
   "metadata": {},
   "outputs": [],
   "source": [
    "c=a+b"
   ]
  },
  {
   "cell_type": "code",
   "execution_count": 33,
   "id": "13a64665-6e4a-4cbf-a5f2-e6953581c242",
   "metadata": {},
   "outputs": [
    {
     "data": {
      "text/plain": [
       "0.30000000000000004"
      ]
     },
     "execution_count": 33,
     "metadata": {},
     "output_type": "execute_result"
    }
   ],
   "source": [
    "c"
   ]
  },
  {
   "cell_type": "code",
   "execution_count": 34,
   "id": "fc128ec6-6fe2-47f7-8d8a-bd3bae498f35",
   "metadata": {},
   "outputs": [
    {
     "data": {
      "text/plain": [
       "(2+3j)"
      ]
     },
     "execution_count": 34,
     "metadata": {},
     "output_type": "execute_result"
    }
   ],
   "source": [
    "2+3j"
   ]
  },
  {
   "cell_type": "code",
   "execution_count": 35,
   "id": "64f3c163-d22f-4e32-b4fe-692a0e81fb9c",
   "metadata": {},
   "outputs": [
    {
     "data": {
      "text/plain": [
       "complex"
      ]
     },
     "execution_count": 35,
     "metadata": {},
     "output_type": "execute_result"
    }
   ],
   "source": [
    "type(2+6j)"
   ]
  },
  {
   "cell_type": "code",
   "execution_count": 36,
   "id": "ab9b4f68-c392-4583-9097-e37a646d22f6",
   "metadata": {},
   "outputs": [],
   "source": [
    "a=2+3j"
   ]
  },
  {
   "cell_type": "code",
   "execution_count": 37,
   "id": "79ab2f1f-9d67-4246-8a1a-77d2abe4810d",
   "metadata": {},
   "outputs": [
    {
     "data": {
      "text/plain": [
       "(4+6j)"
      ]
     },
     "execution_count": 37,
     "metadata": {},
     "output_type": "execute_result"
    }
   ],
   "source": [
    "a+a"
   ]
  },
  {
   "cell_type": "code",
   "execution_count": 38,
   "id": "bfb80047-7cc1-43ad-9f1a-a407dcb8ff99",
   "metadata": {},
   "outputs": [
    {
     "data": {
      "text/plain": [
       "(-5+12j)"
      ]
     },
     "execution_count": 38,
     "metadata": {},
     "output_type": "execute_result"
    }
   ],
   "source": [
    "a*a"
   ]
  },
  {
   "cell_type": "code",
   "execution_count": 39,
   "id": "72bb8708-cc64-4c5d-b543-eb59de155374",
   "metadata": {},
   "outputs": [
    {
     "data": {
      "text/plain": [
       "0j"
      ]
     },
     "execution_count": 39,
     "metadata": {},
     "output_type": "execute_result"
    }
   ],
   "source": [
    "a-a"
   ]
  },
  {
   "cell_type": "code",
   "execution_count": 40,
   "id": "9a9be3be-35c2-45f5-bd9e-0421453b3e3d",
   "metadata": {},
   "outputs": [
    {
     "data": {
      "text/plain": [
       "(1+0j)"
      ]
     },
     "execution_count": 40,
     "metadata": {},
     "output_type": "execute_result"
    }
   ],
   "source": [
    "a/a"
   ]
  },
  {
   "cell_type": "code",
   "execution_count": 41,
   "id": "ba12078e-acb8-4558-a417-0e31f9b2ef3b",
   "metadata": {},
   "outputs": [
    {
     "data": {
      "text/plain": [
       "''"
      ]
     },
     "execution_count": 41,
     "metadata": {},
     "output_type": "execute_result"
    }
   ],
   "source": [
    "''"
   ]
  },
  {
   "cell_type": "code",
   "execution_count": 42,
   "id": "4b51bbce-daec-43ac-81b0-7ba65d14aeca",
   "metadata": {},
   "outputs": [
    {
     "data": {
      "text/plain": [
       "''"
      ]
     },
     "execution_count": 42,
     "metadata": {},
     "output_type": "execute_result"
    }
   ],
   "source": [
    "\"\""
   ]
  },
  {
   "cell_type": "code",
   "execution_count": 43,
   "id": "46e027a3-0d72-4465-9ed2-e02c9e125f34",
   "metadata": {},
   "outputs": [
    {
     "data": {
      "text/plain": [
       "str"
      ]
     },
     "execution_count": 43,
     "metadata": {},
     "output_type": "execute_result"
    }
   ],
   "source": [
    "type('')"
   ]
  },
  {
   "cell_type": "code",
   "execution_count": 44,
   "id": "1a674a24-e914-4b17-abcd-b7828f85c536",
   "metadata": {},
   "outputs": [
    {
     "ename": "SyntaxError",
     "evalue": "unterminated string literal (detected at line 1) (1099109788.py, line 1)",
     "output_type": "error",
     "traceback": [
      "\u001b[0;36m  Cell \u001b[0;32mIn[44], line 1\u001b[0;36m\u001b[0m\n\u001b[0;31m    print('This string contains a single quote (') character.')\u001b[0m\n\u001b[0m                                                             ^\u001b[0m\n\u001b[0;31mSyntaxError\u001b[0m\u001b[0;31m:\u001b[0m unterminated string literal (detected at line 1)\n"
     ]
    }
   ],
   "source": [
    "print('This string contains a single quote (') character.')"
   ]
  },
  {
   "cell_type": "code",
   "execution_count": 45,
   "id": "2264d17f-ecee-438e-b689-66235a2c7aba",
   "metadata": {},
   "outputs": [
    {
     "name": "stdout",
     "output_type": "stream",
     "text": [
      "This string contains a single quote (') character.\n"
     ]
    }
   ],
   "source": [
    "print(\"This string contains a single quote (') character.\")"
   ]
  },
  {
   "cell_type": "code",
   "execution_count": 46,
   "id": "a0434415-8d6f-4aee-97c0-ef92896bbaa3",
   "metadata": {},
   "outputs": [
    {
     "name": "stdout",
     "output_type": "stream",
     "text": [
      "This string contains a single quote (') character.\n"
     ]
    }
   ],
   "source": [
    "print('This string contains a single quote (\\') character.')"
   ]
  },
  {
   "cell_type": "code",
   "execution_count": 47,
   "id": "60617c25-893c-4a4d-ae73-dc8f2bfa1edf",
   "metadata": {},
   "outputs": [
    {
     "ename": "SyntaxError",
     "evalue": "unterminated string literal (detected at line 1) (2935268511.py, line 1)",
     "output_type": "error",
     "traceback": [
      "\u001b[0;36m  Cell \u001b[0;32mIn[47], line 1\u001b[0;36m\u001b[0m\n\u001b[0;31m    print('a\u001b[0m\n\u001b[0m          ^\u001b[0m\n\u001b[0;31mSyntaxError\u001b[0m\u001b[0;31m:\u001b[0m unterminated string literal (detected at line 1)\n"
     ]
    }
   ],
   "source": [
    "print('a"
   ]
  },
  {
   "cell_type": "code",
   "execution_count": 48,
   "id": "6c2ec416-74c3-4ad6-a72e-d61dc153c8e4",
   "metadata": {},
   "outputs": [
    {
     "name": "stdout",
     "output_type": "stream",
     "text": [
      "a b c\n"
     ]
    }
   ],
   "source": [
    "print('a \\\n",
    "b \\\n",
    "c')"
   ]
  },
  {
   "cell_type": "code",
   "execution_count": 49,
   "id": "decc70cf-50bc-4607-87e9-8817c385a4be",
   "metadata": {},
   "outputs": [
    {
     "name": "stdout",
     "output_type": "stream",
     "text": [
      "a\tb\n"
     ]
    }
   ],
   "source": [
    "print(\"a\\tb\")"
   ]
  },
  {
   "cell_type": "code",
   "execution_count": 50,
   "id": "71ad8162-2583-40e8-bcd6-86f04b78401c",
   "metadata": {},
   "outputs": [
    {
     "name": "stdout",
     "output_type": "stream",
     "text": [
      "aaa\n"
     ]
    }
   ],
   "source": [
    "print(\"a\\141\\x61\")"
   ]
  },
  {
   "cell_type": "code",
   "execution_count": 51,
   "id": "4023a7dd-be6f-4767-a616-01fd4f986d28",
   "metadata": {},
   "outputs": [
    {
     "name": "stdout",
     "output_type": "stream",
     "text": [
      "a\\o10\n"
     ]
    }
   ],
   "source": [
    "print(\"a\\o10\")"
   ]
  },
  {
   "cell_type": "code",
   "execution_count": 52,
   "id": "c627a72f-e408-4579-b1d9-5739408b8bb0",
   "metadata": {},
   "outputs": [
    {
     "name": "stdout",
     "output_type": "stream",
     "text": [
      "a\\ooo100\n"
     ]
    }
   ],
   "source": [
    "print(\"a\\ooo100\")"
   ]
  },
  {
   "cell_type": "code",
   "execution_count": 54,
   "id": "cb1d93c1-8f8a-436f-bd1f-18216c475f26",
   "metadata": {},
   "outputs": [
    {
     "name": "stdout",
     "output_type": "stream",
     "text": [
      "aa\n"
     ]
    }
   ],
   "source": [
    "print(\"a\\x61\")"
   ]
  },
  {
   "cell_type": "code",
   "execution_count": 55,
   "id": "594f95f7-fe1e-4422-ae0d-5714ac28e49f",
   "metadata": {},
   "outputs": [
    {
     "name": "stdout",
     "output_type": "stream",
     "text": [
      "foo\n",
      "bar\n"
     ]
    }
   ],
   "source": [
    "print(\"foo\\nbar\")"
   ]
  },
  {
   "cell_type": "code",
   "execution_count": 56,
   "id": "3249ce41-7b8c-4011-884c-496d20eb9cfe",
   "metadata": {},
   "outputs": [
    {
     "name": "stdout",
     "output_type": "stream",
     "text": [
      "foo\\nbar\n"
     ]
    }
   ],
   "source": [
    "print(r\"foo\\nbar\")"
   ]
  },
  {
   "cell_type": "code",
   "execution_count": 57,
   "id": "875f2587-c813-471f-aa84-cb76f4be378f",
   "metadata": {},
   "outputs": [],
   "source": [
    "a=0xa5"
   ]
  },
  {
   "cell_type": "code",
   "execution_count": 58,
   "id": "e754178a-76ea-4f39-bc8b-a7c25eb9513a",
   "metadata": {},
   "outputs": [
    {
     "data": {
      "text/plain": [
       "165"
      ]
     },
     "execution_count": 58,
     "metadata": {},
     "output_type": "execute_result"
    }
   ],
   "source": [
    "a"
   ]
  },
  {
   "cell_type": "code",
   "execution_count": 59,
   "id": "432dfe42-3a57-494c-b5a4-c25e45be1bc1",
   "metadata": {},
   "outputs": [],
   "source": [
    "a=3.2e-12"
   ]
  },
  {
   "cell_type": "code",
   "execution_count": 60,
   "id": "539ba586-6637-4663-b791-408b6e74f0a3",
   "metadata": {},
   "outputs": [
    {
     "data": {
      "text/plain": [
       "3.2e-12"
      ]
     },
     "execution_count": 60,
     "metadata": {},
     "output_type": "execute_result"
    }
   ],
   "source": [
    "a"
   ]
  },
  {
   "cell_type": "code",
   "execution_count": 61,
   "id": "cd61708a-f7d3-4265-b1b3-7216b722f1d7",
   "metadata": {},
   "outputs": [],
   "source": [
    "a='foo''bar'"
   ]
  },
  {
   "cell_type": "code",
   "execution_count": 62,
   "id": "eb927282-6d83-4afb-8618-f22bc3825072",
   "metadata": {},
   "outputs": [
    {
     "data": {
      "text/plain": [
       "'foobar'"
      ]
     },
     "execution_count": 62,
     "metadata": {},
     "output_type": "execute_result"
    }
   ],
   "source": [
    "a"
   ]
  },
  {
   "cell_type": "code",
   "execution_count": 63,
   "id": "0230b36d-cb3a-41be-883a-6203c578aab0",
   "metadata": {},
   "outputs": [
    {
     "data": {
      "text/plain": [
       "\"foo'bar\""
      ]
     },
     "execution_count": 63,
     "metadata": {},
     "output_type": "execute_result"
    }
   ],
   "source": [
    "\"foo'bar\""
   ]
  },
  {
   "cell_type": "code",
   "execution_count": 64,
   "id": "c94fe849-0eea-46cc-95b8-75fc94e20735",
   "metadata": {},
   "outputs": [
    {
     "ename": "SyntaxError",
     "evalue": "unexpected character after line continuation character (980069502.py, line 1)",
     "output_type": "error",
     "traceback": [
      "\u001b[0;36m  Cell \u001b[0;32mIn[64], line 1\u001b[0;36m\u001b[0m\n\u001b[0;31m    \\t\\n\\x7E\u001b[0m\n\u001b[0m     ^\u001b[0m\n\u001b[0;31mSyntaxError\u001b[0m\u001b[0;31m:\u001b[0m unexpected character after line continuation character\n"
     ]
    }
   ],
   "source": [
    "\\t\\n\\x7E"
   ]
  },
  {
   "cell_type": "code",
   "execution_count": 68,
   "id": "d6aca0a7-864a-4019-b7a0-d1b1ee38345d",
   "metadata": {},
   "outputs": [
    {
     "name": "stdout",
     "output_type": "stream",
     "text": [
      "\t\n",
      "~\n"
     ]
    }
   ],
   "source": [
    "print(\"\\t\\n\\x7E\")"
   ]
  },
  {
   "cell_type": "code",
   "execution_count": 69,
   "id": "77dda7a4-d8b2-49e8-8f22-13ed7ce920db",
   "metadata": {},
   "outputs": [
    {
     "name": "stdout",
     "output_type": "stream",
     "text": [
      "foo\\\\bar\\nbaz\n"
     ]
    }
   ],
   "source": [
    "print(r'foo\\\\bar\\nbaz')"
   ]
  },
  {
   "cell_type": "raw",
   "id": "f5bd8aab-d22a-474b-8b74-7386af4aa4ca",
   "metadata": {},
   "source": [
    "a=1"
   ]
  },
  {
   "cell_type": "code",
   "execution_count": 70,
   "id": "634bfcbd-bb27-4161-b6a4-c7780aae48ad",
   "metadata": {},
   "outputs": [
    {
     "data": {
      "text/plain": [
       "'foobar'"
      ]
     },
     "execution_count": 70,
     "metadata": {},
     "output_type": "execute_result"
    }
   ],
   "source": [
    "a"
   ]
  },
  {
   "cell_type": "raw",
   "id": "71bd89ee-4d19-4a64-898f-e62388283bb7",
   "metadata": {},
   "source": []
  },
  {
   "cell_type": "code",
   "execution_count": null,
   "id": "2eb54fda-8c1d-4563-8522-df151681d514",
   "metadata": {},
   "outputs": [],
   "source": []
  }
 ],
 "metadata": {
  "kernelspec": {
   "display_name": "Python 3 (ipykernel)",
   "language": "python",
   "name": "python3"
  },
  "language_info": {
   "codemirror_mode": {
    "name": "ipython",
    "version": 3
   },
   "file_extension": ".py",
   "mimetype": "text/x-python",
   "name": "python",
   "nbconvert_exporter": "python",
   "pygments_lexer": "ipython3",
   "version": "3.10.8"
  }
 },
 "nbformat": 4,
 "nbformat_minor": 5
}
