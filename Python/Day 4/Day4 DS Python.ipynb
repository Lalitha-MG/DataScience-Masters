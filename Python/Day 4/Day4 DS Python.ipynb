{
 "cells": [
  {
   "cell_type": "markdown",
   "id": "171f229d-0336-4dd9-9ae9-74536575726f",
   "metadata": {},
   "source": [
    "Strings and Lists"
   ]
  },
  {
   "cell_type": "code",
   "execution_count": 1,
   "id": "8ab20053-05fe-4f16-a2e4-e422e74bf045",
   "metadata": {},
   "outputs": [],
   "source": [
    "name=\"Data Science\""
   ]
  },
  {
   "cell_type": "code",
   "execution_count": 2,
   "id": "f4f6980b-0a25-4dc4-a015-1469798897be",
   "metadata": {},
   "outputs": [
    {
     "data": {
      "text/plain": [
       "'Data science'"
      ]
     },
     "execution_count": 2,
     "metadata": {},
     "output_type": "execute_result"
    }
   ],
   "source": [
    "name.capitalize()"
   ]
  },
  {
   "cell_type": "markdown",
   "id": "9becbf38-bd81-4cbc-a913-a44ce2e29900",
   "metadata": {},
   "source": [
    "Reversing a String"
   ]
  },
  {
   "cell_type": "code",
   "execution_count": 3,
   "id": "b1674fe5-231e-42ca-8fda-6c8b4362a15a",
   "metadata": {},
   "outputs": [
    {
     "data": {
      "text/plain": [
       "'QLaliuLalieLalieLalin'"
      ]
     },
     "execution_count": 3,
     "metadata": {},
     "output_type": "execute_result"
    }
   ],
   "source": [
    "\"Lali\".join(\"Queen\")"
   ]
  },
  {
   "cell_type": "code",
   "execution_count": 4,
   "id": "4fc5093d-06fc-42bd-b688-9394907465f4",
   "metadata": {},
   "outputs": [
    {
     "data": {
      "text/plain": [
       "'a n t'"
      ]
     },
     "execution_count": 4,
     "metadata": {},
     "output_type": "execute_result"
    }
   ],
   "source": [
    "' '.join('ant')"
   ]
  },
  {
   "cell_type": "code",
   "execution_count": 5,
   "id": "61da16f3-cd7f-4b60-8dbf-5bba2be7ec73",
   "metadata": {},
   "outputs": [
    {
     "data": {
      "text/plain": [
       "'t n a'"
      ]
     },
     "execution_count": 5,
     "metadata": {},
     "output_type": "execute_result"
    }
   ],
   "source": [
    "' '.join(reversed('ant'))"
   ]
  },
  {
   "cell_type": "code",
   "execution_count": 6,
   "id": "9e7aa598-5624-48c7-a38b-1bcc1ff0b454",
   "metadata": {},
   "outputs": [
    {
     "data": {
      "text/plain": [
       "'tna'"
      ]
     },
     "execution_count": 6,
     "metadata": {},
     "output_type": "execute_result"
    }
   ],
   "source": [
    "''.join(reversed('ant'))"
   ]
  },
  {
   "cell_type": "code",
   "execution_count": 7,
   "id": "2b6eae38-dfe3-4302-8546-9358062bd0c7",
   "metadata": {},
   "outputs": [
    {
     "data": {
      "text/plain": [
       "'ecneicS ataD'"
      ]
     },
     "execution_count": 7,
     "metadata": {},
     "output_type": "execute_result"
    }
   ],
   "source": [
    "name[::-1]"
   ]
  },
  {
   "cell_type": "code",
   "execution_count": 8,
   "id": "686d3992-8565-4dee-96c9-23ae2fa6b8df",
   "metadata": {},
   "outputs": [
    {
     "data": {
      "text/plain": [
       "'ecneicS ataD'"
      ]
     },
     "execution_count": 8,
     "metadata": {},
     "output_type": "execute_result"
    }
   ],
   "source": [
    "''.join(reversed(name))"
   ]
  },
  {
   "cell_type": "code",
   "execution_count": 9,
   "id": "a017bbcc-27ed-43b7-81e4-a53cb777874e",
   "metadata": {},
   "outputs": [
    {
     "data": {
      "text/plain": [
       "<reversed at 0x7fdb24132a40>"
      ]
     },
     "execution_count": 9,
     "metadata": {},
     "output_type": "execute_result"
    }
   ],
   "source": [
    "reversed(name)"
   ]
  },
  {
   "cell_type": "code",
   "execution_count": 10,
   "id": "a341b154-fa17-464f-8507-c0b7e4dcee77",
   "metadata": {},
   "outputs": [
    {
     "data": {
      "text/plain": [
       "140579335944816"
      ]
     },
     "execution_count": 10,
     "metadata": {},
     "output_type": "execute_result"
    }
   ],
   "source": [
    "id(name)"
   ]
  },
  {
   "cell_type": "code",
   "execution_count": 1,
   "id": "24922e73-358b-4b40-975a-923fd94879d4",
   "metadata": {},
   "outputs": [
    {
     "data": {
      "text/plain": [
       "'<reversed object at 0x7f353750ee60>'"
      ]
     },
     "execution_count": 1,
     "metadata": {},
     "output_type": "execute_result"
    }
   ],
   "source": [
    "str(reversed('ant'))"
   ]
  },
  {
   "cell_type": "code",
   "execution_count": 2,
   "id": "53ee8713-9715-4c32-95af-706d5829a1e9",
   "metadata": {},
   "outputs": [
    {
     "data": {
      "text/plain": [
       "['t', 'n', 'a']"
      ]
     },
     "execution_count": 2,
     "metadata": {},
     "output_type": "execute_result"
    }
   ],
   "source": [
    "list(reversed('ant'))"
   ]
  },
  {
   "cell_type": "code",
   "execution_count": 3,
   "id": "5fa2941c-b383-4f42-998e-bad91cdf97c0",
   "metadata": {},
   "outputs": [
    {
     "ename": "SyntaxError",
     "evalue": "invalid syntax (3876216440.py, line 1)",
     "output_type": "error",
     "traceback": [
      "\u001b[0;36m  Cell \u001b[0;32mIn[3], line 1\u001b[0;36m\u001b[0m\n\u001b[0;31m    .join(reversed('ant'))\u001b[0m\n\u001b[0m    ^\u001b[0m\n\u001b[0;31mSyntaxError\u001b[0m\u001b[0;31m:\u001b[0m invalid syntax\n"
     ]
    }
   ],
   "source": [
    ".join(reversed('ant'))"
   ]
  },
  {
   "cell_type": "code",
   "execution_count": 4,
   "id": "912399ae-3643-44b0-80f6-9ffadc6f3658",
   "metadata": {},
   "outputs": [
    {
     "data": {
      "text/plain": [
       "'t n a'"
      ]
     },
     "execution_count": 4,
     "metadata": {},
     "output_type": "execute_result"
    }
   ],
   "source": [
    "' '.join(reversed('ant'))"
   ]
  },
  {
   "cell_type": "code",
   "execution_count": 6,
   "id": "2154ddea-68d3-4a96-8ca3-008b7a6bc41b",
   "metadata": {},
   "outputs": [
    {
     "name": "stdout",
     "output_type": "stream",
     "text": [
      "t n a "
     ]
    }
   ],
   "source": [
    "for i in list(reversed('ant')):\n",
    "    print(i,end=' ')"
   ]
  },
  {
   "cell_type": "code",
   "execution_count": 7,
   "id": "4aa4b7db-46e0-4d13-b972-852388dd8a2c",
   "metadata": {},
   "outputs": [],
   "source": [
    "name = \" Lalitha \""
   ]
  },
  {
   "cell_type": "code",
   "execution_count": 8,
   "id": "9e3e158b-bbc7-4c96-9e86-942d64099c82",
   "metadata": {},
   "outputs": [
    {
     "data": {
      "text/plain": [
       "'Lalitha'"
      ]
     },
     "execution_count": 8,
     "metadata": {},
     "output_type": "execute_result"
    }
   ],
   "source": [
    "name.strip()"
   ]
  },
  {
   "cell_type": "code",
   "execution_count": 9,
   "id": "9d9bbc98-11e4-42b0-b49a-a3f364b1d1b7",
   "metadata": {},
   "outputs": [],
   "source": [
    "name1=\"Lali\""
   ]
  },
  {
   "cell_type": "code",
   "execution_count": 10,
   "id": "254a04c6-7752-4447-ad4e-c880e63f767b",
   "metadata": {},
   "outputs": [
    {
     "data": {
      "text/plain": [
       "'Lali'"
      ]
     },
     "execution_count": 10,
     "metadata": {},
     "output_type": "execute_result"
    }
   ],
   "source": [
    "name1.strip()"
   ]
  },
  {
   "cell_type": "code",
   "execution_count": 11,
   "id": "7a1231c9-3494-4971-9195-622727f5fd11",
   "metadata": {},
   "outputs": [
    {
     "data": {
      "text/plain": [
       "'Lalitha '"
      ]
     },
     "execution_count": 11,
     "metadata": {},
     "output_type": "execute_result"
    }
   ],
   "source": [
    "name.lstrip()"
   ]
  },
  {
   "cell_type": "code",
   "execution_count": 12,
   "id": "41f00ab4-a494-477b-b24b-fc28f42162e7",
   "metadata": {},
   "outputs": [
    {
     "data": {
      "text/plain": [
       "' Lalitha'"
      ]
     },
     "execution_count": 12,
     "metadata": {},
     "output_type": "execute_result"
    }
   ],
   "source": [
    "name.rstrip()"
   ]
  },
  {
   "cell_type": "code",
   "execution_count": 13,
   "id": "45f096f8-495e-4af7-8414-0de8cdf74b29",
   "metadata": {},
   "outputs": [],
   "source": [
    "string=\"Welcome to Fairy World\""
   ]
  },
  {
   "cell_type": "code",
   "execution_count": 14,
   "id": "ad5db6b3-80cc-4979-8174-930c0c5a4e84",
   "metadata": {},
   "outputs": [
    {
     "data": {
      "text/plain": [
       "'Welcome to Unicorn World'"
      ]
     },
     "execution_count": 14,
     "metadata": {},
     "output_type": "execute_result"
    }
   ],
   "source": [
    "string.replace(\"Fairy\",\"Unicorn\")"
   ]
  },
  {
   "cell_type": "code",
   "execution_count": 15,
   "id": "0517d9ae-9c49-46b7-b865-1eedd9d55e67",
   "metadata": {},
   "outputs": [
    {
     "data": {
      "text/plain": [
       "139866537950336"
      ]
     },
     "execution_count": 15,
     "metadata": {},
     "output_type": "execute_result"
    }
   ],
   "source": [
    "id(string)"
   ]
  },
  {
   "cell_type": "code",
   "execution_count": 16,
   "id": "755900d5-3c7d-42fd-b875-2068a8def7c2",
   "metadata": {},
   "outputs": [
    {
     "data": {
      "text/plain": [
       "139866485965488"
      ]
     },
     "execution_count": 16,
     "metadata": {},
     "output_type": "execute_result"
    }
   ],
   "source": [
    "id(string.replace(\"Fairy\",\"Unicorn\"))"
   ]
  },
  {
   "cell_type": "code",
   "execution_count": 17,
   "id": "d7598723-98ec-497e-bdde-9fe76319f283",
   "metadata": {},
   "outputs": [
    {
     "data": {
      "text/plain": [
       "'abcabcabcabcabcabcabcabc'"
      ]
     },
     "execution_count": 17,
     "metadata": {},
     "output_type": "execute_result"
    }
   ],
   "source": [
    "'abc'*8"
   ]
  },
  {
   "cell_type": "code",
   "execution_count": 18,
   "id": "2839019c-b279-4e71-a932-78a34a0ac846",
   "metadata": {},
   "outputs": [
    {
     "data": {
      "text/plain": [
       "''"
      ]
     },
     "execution_count": 18,
     "metadata": {},
     "output_type": "execute_result"
    }
   ],
   "source": [
    "'abc'*0"
   ]
  },
  {
   "cell_type": "code",
   "execution_count": 19,
   "id": "b96abd99-dc77-4d89-84c7-e2b0f540c451",
   "metadata": {},
   "outputs": [
    {
     "data": {
      "text/plain": [
       "''"
      ]
     },
     "execution_count": 19,
     "metadata": {},
     "output_type": "execute_result"
    }
   ],
   "source": [
    "'abc'*-5"
   ]
  },
  {
   "cell_type": "code",
   "execution_count": 20,
   "id": "40e8a25d-f282-4147-814e-bbc8b8dbab8c",
   "metadata": {},
   "outputs": [],
   "source": [
    "s=\"Lalitha\""
   ]
  },
  {
   "cell_type": "code",
   "execution_count": 21,
   "id": "24fc292d-19df-4ed2-ae55-742123fb4f80",
   "metadata": {},
   "outputs": [
    {
     "data": {
      "text/plain": [
       "'hello   world'"
      ]
     },
     "execution_count": 21,
     "metadata": {},
     "output_type": "execute_result"
    }
   ],
   "source": [
    "'hello\\tworld'.expandtabs()"
   ]
  },
  {
   "cell_type": "code",
   "execution_count": 22,
   "id": "86f702b2-e48f-4a25-85ce-7d9723b91da5",
   "metadata": {},
   "outputs": [],
   "source": [
    "str1=\"Welcome to PW Skills. Welcome to Dat cience Masters\""
   ]
  },
  {
   "cell_type": "code",
   "execution_count": 23,
   "id": "889f4e4a-4e46-49a6-8f7d-4591d7a37a56",
   "metadata": {},
   "outputs": [
    {
     "data": {
      "text/plain": [
       "'Welcome to PW Skills. Welcome to Data Science Masters'"
      ]
     },
     "execution_count": 23,
     "metadata": {},
     "output_type": "execute_result"
    }
   ],
   "source": [
    "str1.replace(\"Dat\",\"Data\").replace(\"cience\",\"Science\")"
   ]
  },
  {
   "cell_type": "code",
   "execution_count": 24,
   "id": "acb9d085-ba95-400c-a89d-40f332119440",
   "metadata": {},
   "outputs": [],
   "source": [
    " s = 'foobar'\n",
    "    "
   ]
  },
  {
   "cell_type": "code",
   "execution_count": 25,
   "id": "dcca6af9-c637-4200-ae80-c55c36c83b53",
   "metadata": {},
   "outputs": [
    {
     "data": {
      "text/plain": [
       "False"
      ]
     },
     "execution_count": 25,
     "metadata": {},
     "output_type": "execute_result"
    }
   ],
   "source": [
    "str1.isupper()"
   ]
  },
  {
   "cell_type": "code",
   "execution_count": 26,
   "id": "31fc7544-7d68-47b1-b729-f8f3727bf0c5",
   "metadata": {},
   "outputs": [
    {
     "ename": "TypeError",
     "evalue": "str.isupper() takes no arguments (1 given)",
     "output_type": "error",
     "traceback": [
      "\u001b[0;31m---------------------------------------------------------------------------\u001b[0m",
      "\u001b[0;31mTypeError\u001b[0m                                 Traceback (most recent call last)",
      "Cell \u001b[0;32mIn[26], line 1\u001b[0m\n\u001b[0;32m----> 1\u001b[0m \u001b[43mstr1\u001b[49m\u001b[38;5;241;43m.\u001b[39;49m\u001b[43misupper\u001b[49m\u001b[43m(\u001b[49m\u001b[43mstr1\u001b[49m\u001b[38;5;241;43m.\u001b[39;49m\u001b[43mupper\u001b[49m\u001b[43m(\u001b[49m\u001b[43m)\u001b[49m\u001b[43m)\u001b[49m\n",
      "\u001b[0;31mTypeError\u001b[0m: str.isupper() takes no arguments (1 given)"
     ]
    }
   ],
   "source": [
    "str1.isupper(str1.upper())"
   ]
  },
  {
   "cell_type": "code",
   "execution_count": 27,
   "id": "215dce3c-1974-466e-b0e6-6d672d878378",
   "metadata": {},
   "outputs": [],
   "source": [
    "str2=str1.upper()"
   ]
  },
  {
   "cell_type": "code",
   "execution_count": 28,
   "id": "c512b5a3-f44c-4795-b8db-b899b04b23d1",
   "metadata": {},
   "outputs": [
    {
     "data": {
      "text/plain": [
       "True"
      ]
     },
     "execution_count": 28,
     "metadata": {},
     "output_type": "execute_result"
    }
   ],
   "source": [
    "str2.isupper()"
   ]
  },
  {
   "cell_type": "code",
   "execution_count": 29,
   "id": "abae1580-4e1b-467c-82a4-6421699b5599",
   "metadata": {},
   "outputs": [
    {
     "data": {
      "text/plain": [
       "False"
      ]
     },
     "execution_count": 29,
     "metadata": {},
     "output_type": "execute_result"
    }
   ],
   "source": [
    "''.isspace()"
   ]
  },
  {
   "cell_type": "code",
   "execution_count": 30,
   "id": "08c637e9-048a-4405-ad73-087af822288e",
   "metadata": {},
   "outputs": [
    {
     "data": {
      "text/plain": [
       "True"
      ]
     },
     "execution_count": 30,
     "metadata": {},
     "output_type": "execute_result"
    }
   ],
   "source": [
    "' '.isspace()"
   ]
  },
  {
   "cell_type": "code",
   "execution_count": 31,
   "id": "f8cca4dd-86fa-4aa0-90c2-1e81d03933a0",
   "metadata": {},
   "outputs": [
    {
     "data": {
      "text/plain": [
       "'foobar'"
      ]
     },
     "execution_count": 31,
     "metadata": {},
     "output_type": "execute_result"
    }
   ],
   "source": [
    "s\n"
   ]
  },
  {
   "cell_type": "code",
   "execution_count": 32,
   "id": "4d72c22b-96b9-4b89-9c08-516f5b72ebe6",
   "metadata": {},
   "outputs": [
    {
     "data": {
      "text/plain": [
       "'foob'"
      ]
     },
     "execution_count": 32,
     "metadata": {},
     "output_type": "execute_result"
    }
   ],
   "source": [
    "s[:4]"
   ]
  },
  {
   "cell_type": "code",
   "execution_count": 33,
   "id": "0c34fd64-957f-4e19-9872-131e658f894a",
   "metadata": {},
   "outputs": [
    {
     "data": {
      "text/plain": [
       "'ar'"
      ]
     },
     "execution_count": 33,
     "metadata": {},
     "output_type": "execute_result"
    }
   ],
   "source": [
    "s[4:]"
   ]
  },
  {
   "cell_type": "code",
   "execution_count": 34,
   "id": "775f6278-f28f-450f-959d-2c01beb659b8",
   "metadata": {},
   "outputs": [
    {
     "data": {
      "text/plain": [
       "'foobar'"
      ]
     },
     "execution_count": 34,
     "metadata": {},
     "output_type": "execute_result"
    }
   ],
   "source": [
    "s[:4]+s[4:]"
   ]
  },
  {
   "cell_type": "code",
   "execution_count": 35,
   "id": "f7ed883e-927f-46fc-b6a8-6787c27d774c",
   "metadata": {},
   "outputs": [
    {
     "data": {
      "text/plain": [
       "True"
      ]
     },
     "execution_count": 35,
     "metadata": {},
     "output_type": "execute_result"
    }
   ],
   "source": [
    "s.endswith('r')"
   ]
  },
  {
   "cell_type": "code",
   "execution_count": 36,
   "id": "1c60412b-a650-479c-b5da-b13b41f96400",
   "metadata": {},
   "outputs": [
    {
     "data": {
      "text/plain": [
       "True"
      ]
     },
     "execution_count": 36,
     "metadata": {},
     "output_type": "execute_result"
    }
   ],
   "source": [
    "s.isalnum()"
   ]
  },
  {
   "cell_type": "code",
   "execution_count": 41,
   "id": "a3e28894-fc6b-4d97-86c1-e093121e5254",
   "metadata": {},
   "outputs": [
    {
     "name": "stdout",
     "output_type": "stream",
     "text": [
      "6\n"
     ]
    }
   ],
   "source": [
    "count=0\n",
    "for i in s:\n",
    "    count=count+1\n",
    "    \n",
    "print(count)\n",
    "    "
   ]
  },
  {
   "cell_type": "code",
   "execution_count": 42,
   "id": "3f8b85de-6802-4ef9-87f2-2e1a93b39878",
   "metadata": {},
   "outputs": [
    {
     "name": "stdout",
     "output_type": "stream",
     "text": [
      "f\n",
      "o\n",
      "o\n",
      "b\n",
      "a\n",
      "r\n"
     ]
    }
   ],
   "source": [
    "for i in s:\n",
    "    print(i)"
   ]
  },
  {
   "cell_type": "code",
   "execution_count": 43,
   "id": "b57389ee-fb78-4e39-b69f-7813c7e90977",
   "metadata": {},
   "outputs": [
    {
     "ename": "TypeError",
     "evalue": "string indices must be integers",
     "output_type": "error",
     "traceback": [
      "\u001b[0;31m---------------------------------------------------------------------------\u001b[0m",
      "\u001b[0;31mTypeError\u001b[0m                                 Traceback (most recent call last)",
      "Cell \u001b[0;32mIn[43], line 2\u001b[0m\n\u001b[1;32m      1\u001b[0m \u001b[38;5;28;01mfor\u001b[39;00m i \u001b[38;5;129;01min\u001b[39;00m s:\n\u001b[0;32m----> 2\u001b[0m     \u001b[38;5;28mprint\u001b[39m(\u001b[43ms\u001b[49m\u001b[43m[\u001b[49m\u001b[43mi\u001b[49m\u001b[43m]\u001b[49m)\n",
      "\u001b[0;31mTypeError\u001b[0m: string indices must be integers"
     ]
    }
   ],
   "source": [
    "for i in s:\n",
    "    print(s[i])"
   ]
  },
  {
   "cell_type": "code",
   "execution_count": 46,
   "id": "87582e6f-5c0f-4160-8ab3-27ef35cd2638",
   "metadata": {},
   "outputs": [
    {
     "name": "stdout",
     "output_type": "stream",
     "text": [
      "0 f\n",
      "1 o\n",
      "2 o\n",
      "3 b\n",
      "4 a\n",
      "5 r\n"
     ]
    }
   ],
   "source": [
    "for i in range(len(s)):\n",
    "    print(i,s[i])"
   ]
  },
  {
   "cell_type": "code",
   "execution_count": 45,
   "id": "c6e27141-1387-4829-aedf-d05f2565901b",
   "metadata": {},
   "outputs": [
    {
     "data": {
      "text/plain": [
       "range(0, 6)"
      ]
     },
     "execution_count": 45,
     "metadata": {},
     "output_type": "execute_result"
    }
   ],
   "source": [
    "range(len(s))"
   ]
  },
  {
   "cell_type": "code",
   "execution_count": 47,
   "id": "e88a1c58-bb59-416c-baf0-423899c2be06",
   "metadata": {},
   "outputs": [
    {
     "data": {
      "text/plain": [
       "'foobar'"
      ]
     },
     "execution_count": 47,
     "metadata": {},
     "output_type": "execute_result"
    }
   ],
   "source": [
    "s"
   ]
  },
  {
   "cell_type": "code",
   "execution_count": 49,
   "id": "44522eb5-8647-4097-9f0c-65137a7dbd1a",
   "metadata": {},
   "outputs": [
    {
     "name": "stdout",
     "output_type": "stream",
     "text": [
      "5 r\n",
      "4 a\n",
      "3 b\n",
      "2 o\n",
      "1 o\n",
      "0 f\n"
     ]
    }
   ],
   "source": [
    "for i in range(len(s)-1,-1,-1):\n",
    "    print(i,s[i])"
   ]
  },
  {
   "cell_type": "code",
   "execution_count": 51,
   "id": "e516af2b-a356-4fb6-95bc-c518680b2e20",
   "metadata": {},
   "outputs": [
    {
     "data": {
      "text/plain": [
       "range(5, -1, -1)"
      ]
     },
     "execution_count": 51,
     "metadata": {},
     "output_type": "execute_result"
    }
   ],
   "source": [
    "range(len(s)-1,-1,-1)"
   ]
  },
  {
   "cell_type": "code",
   "execution_count": 52,
   "id": "5b186ad2-b6d3-4768-8dce-ffe6fd2a139c",
   "metadata": {},
   "outputs": [
    {
     "data": {
      "text/plain": [
       "range(5, -1, -1)"
      ]
     },
     "execution_count": 52,
     "metadata": {},
     "output_type": "execute_result"
    }
   ],
   "source": [
    "range(5, -1, -1)"
   ]
  },
  {
   "cell_type": "code",
   "execution_count": 61,
   "id": "f90453f0-d2c3-4932-b13f-462763e4713f",
   "metadata": {},
   "outputs": [
    {
     "name": "stdout",
     "output_type": "stream",
     "text": [
      "r\n",
      "a\n",
      "b\n",
      "o\n",
      "o\n",
      "f\n"
     ]
    }
   ],
   "source": [
    "limit=len(s)-1\n",
    "while limit>=0:\n",
    "    print(s[limit])\n",
    "    limit=limit-1"
   ]
  },
  {
   "cell_type": "code",
   "execution_count": 56,
   "id": "ed1c4e3a-f710-45be-b843-1a515152b70e",
   "metadata": {},
   "outputs": [
    {
     "data": {
      "text/plain": [
       "range(5, -1, -1)"
      ]
     },
     "execution_count": 56,
     "metadata": {},
     "output_type": "execute_result"
    }
   ],
   "source": [
    "range(5, -1, -1)"
   ]
  },
  {
   "cell_type": "code",
   "execution_count": 59,
   "id": "46adb662-d29e-456e-85b7-d8bbcbe9390e",
   "metadata": {},
   "outputs": [],
   "source": [
    "limit=len(s)-1"
   ]
  },
  {
   "cell_type": "code",
   "execution_count": 60,
   "id": "5425d855-6e55-47e6-88f5-c164be3846f2",
   "metadata": {},
   "outputs": [
    {
     "data": {
      "text/plain": [
       "5"
      ]
     },
     "execution_count": 60,
     "metadata": {},
     "output_type": "execute_result"
    }
   ],
   "source": [
    "limit"
   ]
  },
  {
   "cell_type": "code",
   "execution_count": 63,
   "id": "c9fbd99e-5dbf-42ac-9ef2-06a1c6c1c012",
   "metadata": {},
   "outputs": [
    {
     "name": "stdout",
     "output_type": "stream",
     "text": [
      "r\n",
      "a\n",
      "b\n",
      "o\n",
      "o\n",
      "f\n"
     ]
    }
   ],
   "source": [
    "for i in range(len(s)-1,-1,-1):\n",
    "    print(s[i])"
   ]
  },
  {
   "cell_type": "code",
   "execution_count": 66,
   "id": "4b83ccf7-7a60-47be-8c6b-57ff3877fda6",
   "metadata": {},
   "outputs": [
    {
     "name": "stdout",
     "output_type": "stream",
     "text": [
      "L  is not vowel\n",
      "a  is vowel\n",
      "l  is not vowel\n",
      "i  is vowel\n",
      "t  is not vowel\n",
      "h  is not vowel\n",
      "a  is vowel\n"
     ]
    }
   ],
   "source": [
    "Name=\"Lalitha\"\n",
    "Vowel=\"aAeEiIoOuU\"\n",
    "for i in Name:\n",
    "    if i in Vowel:\n",
    "        print(i,\" is vowel\")\n",
    "    else:\n",
    "        print(i,\" is not vowel\")\n",
    "        "
   ]
  },
  {
   "cell_type": "code",
   "execution_count": 67,
   "id": "b5c9af7f-b8b6-4a7e-a1a8-e02d39181ae5",
   "metadata": {},
   "outputs": [],
   "source": [
    "b=b\"foo\""
   ]
  },
  {
   "cell_type": "code",
   "execution_count": 68,
   "id": "51a990ec-ff43-4e12-be6b-2d93553f6d36",
   "metadata": {},
   "outputs": [
    {
     "data": {
      "text/plain": [
       "b'foo'"
      ]
     },
     "execution_count": 68,
     "metadata": {},
     "output_type": "execute_result"
    }
   ],
   "source": [
    "b"
   ]
  },
  {
   "cell_type": "code",
   "execution_count": 69,
   "id": "4b04def5-2f57-4824-b72f-aa71926a5b2f",
   "metadata": {},
   "outputs": [
    {
     "data": {
      "text/plain": [
       "bytes"
      ]
     },
     "execution_count": 69,
     "metadata": {},
     "output_type": "execute_result"
    }
   ],
   "source": [
    "type(b)"
   ]
  },
  {
   "cell_type": "code",
   "execution_count": 70,
   "id": "e8314d83-ece2-4521-87fa-769269227ffb",
   "metadata": {},
   "outputs": [],
   "source": [
    "b=b\"foo\\tbar\""
   ]
  },
  {
   "cell_type": "code",
   "execution_count": 71,
   "id": "b57d2e6d-820e-478e-b83d-e8bf352292aa",
   "metadata": {},
   "outputs": [
    {
     "data": {
      "text/plain": [
       "b'foo\\tbar'"
      ]
     },
     "execution_count": 71,
     "metadata": {},
     "output_type": "execute_result"
    }
   ],
   "source": [
    "b"
   ]
  },
  {
   "cell_type": "code",
   "execution_count": 72,
   "id": "4b071a71-d14f-4aeb-801f-bf37142f2d7e",
   "metadata": {},
   "outputs": [],
   "source": [
    "b=rb\"foo\\tbar\""
   ]
  },
  {
   "cell_type": "code",
   "execution_count": 73,
   "id": "98748998-8cda-435f-a993-269d55e133e7",
   "metadata": {},
   "outputs": [
    {
     "data": {
      "text/plain": [
       "b'foo\\\\tbar'"
      ]
     },
     "execution_count": 73,
     "metadata": {},
     "output_type": "execute_result"
    }
   ],
   "source": [
    "b"
   ]
  },
  {
   "cell_type": "code",
   "execution_count": 74,
   "id": "a10dfdcf-94c8-44c0-9dd8-ea40f4c7a5ec",
   "metadata": {},
   "outputs": [
    {
     "data": {
      "text/plain": [
       "'foobar'"
      ]
     },
     "execution_count": 74,
     "metadata": {},
     "output_type": "execute_result"
    }
   ],
   "source": [
    "s"
   ]
  },
  {
   "cell_type": "code",
   "execution_count": 75,
   "id": "f09d1b04-2aa2-47da-ac22-94583ad66869",
   "metadata": {},
   "outputs": [
    {
     "data": {
      "text/plain": [
       "b'foobar'"
      ]
     },
     "execution_count": 75,
     "metadata": {},
     "output_type": "execute_result"
    }
   ],
   "source": [
    "s.encode()"
   ]
  },
  {
   "cell_type": "code",
   "execution_count": 76,
   "id": "b49b5c33-24f4-4a15-8b1f-5cff8d059944",
   "metadata": {},
   "outputs": [
    {
     "data": {
      "text/plain": [
       "'foobarabc'"
      ]
     },
     "execution_count": 76,
     "metadata": {},
     "output_type": "execute_result"
    }
   ],
   "source": [
    "s+'abc'"
   ]
  },
  {
   "cell_type": "code",
   "execution_count": 77,
   "id": "47fca867-9728-426a-a12b-3454ad602af7",
   "metadata": {},
   "outputs": [],
   "source": [
    "s1=\"abc\"\n"
   ]
  },
  {
   "cell_type": "code",
   "execution_count": 78,
   "id": "7e544612-a0c4-4bcf-9bfc-25e544d67ad9",
   "metadata": {},
   "outputs": [
    {
     "data": {
      "text/plain": [
       "b'abc'"
      ]
     },
     "execution_count": 78,
     "metadata": {},
     "output_type": "execute_result"
    }
   ],
   "source": [
    "s1.encode()"
   ]
  },
  {
   "cell_type": "code",
   "execution_count": 79,
   "id": "d313aab9-8a94-4dc8-8c0a-1b6253f82738",
   "metadata": {},
   "outputs": [
    {
     "data": {
      "text/plain": [
       "'abc'"
      ]
     },
     "execution_count": 79,
     "metadata": {},
     "output_type": "execute_result"
    }
   ],
   "source": [
    "s1"
   ]
  },
  {
   "cell_type": "code",
   "execution_count": 80,
   "id": "a7713de9-134e-4fd4-8bb1-bcf299fdccaf",
   "metadata": {},
   "outputs": [],
   "source": [
    "b=bytes(8)"
   ]
  },
  {
   "cell_type": "code",
   "execution_count": 81,
   "id": "d718db8a-115a-4a3e-80a6-405afef7b990",
   "metadata": {},
   "outputs": [
    {
     "data": {
      "text/plain": [
       "b'\\x00\\x00\\x00\\x00\\x00\\x00\\x00\\x00'"
      ]
     },
     "execution_count": 81,
     "metadata": {},
     "output_type": "execute_result"
    }
   ],
   "source": [
    "b"
   ]
  },
  {
   "cell_type": "code",
   "execution_count": 82,
   "id": "f8afd6a7-db5d-485e-9e03-8b400655694f",
   "metadata": {},
   "outputs": [],
   "source": [
    "ba = bytearray('foo.bar.baz', 'UTF-8')\n"
   ]
  },
  {
   "cell_type": "code",
   "execution_count": 83,
   "id": "aef0f536-3d52-4845-9e85-35adc7ff7625",
   "metadata": {},
   "outputs": [
    {
     "data": {
      "text/plain": [
       "bytearray(b'foo.bar.baz')"
      ]
     },
     "execution_count": 83,
     "metadata": {},
     "output_type": "execute_result"
    }
   ],
   "source": [
    "ba"
   ]
  },
  {
   "cell_type": "code",
   "execution_count": 84,
   "id": "dd955f16-0727-431b-bd3c-04ed3343afbc",
   "metadata": {},
   "outputs": [
    {
     "data": {
      "text/plain": [
       "bytearray(b'\\x00\\x00\\x00')"
      ]
     },
     "execution_count": 84,
     "metadata": {},
     "output_type": "execute_result"
    }
   ],
   "source": [
    "bytearray(3)"
   ]
  },
  {
   "cell_type": "code",
   "execution_count": 85,
   "id": "5b10b7db-f9b0-4964-af0c-bbe4ce25ebbe",
   "metadata": {},
   "outputs": [
    {
     "data": {
      "text/plain": [
       "bytearray(b'dfhjl')"
      ]
     },
     "execution_count": 85,
     "metadata": {},
     "output_type": "execute_result"
    }
   ],
   "source": [
    " bytearray([100, 102, 104, 106, 108])"
   ]
  },
  {
   "cell_type": "code",
   "execution_count": 86,
   "id": "aa695803-8b37-4f1f-b1ad-ffb6d9e72c5a",
   "metadata": {},
   "outputs": [
    {
     "name": "stdout",
     "output_type": "stream",
     "text": [
      "True\n"
     ]
    }
   ],
   "source": [
    "s = 'foo'\n",
    "t = 'bar'\n",
    "print('barf' in 2 * (s + t))"
   ]
  },
  {
   "cell_type": "code",
   "execution_count": 87,
   "id": "5981d692-b5b8-414c-8197-4ba9c413fe4d",
   "metadata": {},
   "outputs": [
    {
     "ename": "TypeError",
     "evalue": "ord() expected a character, but string of length 3 found",
     "output_type": "error",
     "traceback": [
      "\u001b[0;31m---------------------------------------------------------------------------\u001b[0m",
      "\u001b[0;31mTypeError\u001b[0m                                 Traceback (most recent call last)",
      "Cell \u001b[0;32mIn[87], line 1\u001b[0m\n\u001b[0;32m----> 1\u001b[0m \u001b[38;5;28mprint\u001b[39m(\u001b[38;5;28;43mord\u001b[39;49m\u001b[43m(\u001b[49m\u001b[38;5;124;43m'\u001b[39;49m\u001b[38;5;124;43mfoo\u001b[39;49m\u001b[38;5;124;43m'\u001b[39;49m\u001b[43m)\u001b[49m)\n",
      "\u001b[0;31mTypeError\u001b[0m: ord() expected a character, but string of length 3 found"
     ]
    }
   ],
   "source": [
    "print(ord('foo'))"
   ]
  },
  {
   "cell_type": "code",
   "execution_count": 88,
   "id": "0808becd-9ffd-479d-95dd-e991ad5ad238",
   "metadata": {},
   "outputs": [
    {
     "ename": "TypeError",
     "evalue": "ord() expected a character, but string of length 3 found",
     "output_type": "error",
     "traceback": [
      "\u001b[0;31m---------------------------------------------------------------------------\u001b[0m",
      "\u001b[0;31mTypeError\u001b[0m                                 Traceback (most recent call last)",
      "Cell \u001b[0;32mIn[88], line 1\u001b[0m\n\u001b[0;32m----> 1\u001b[0m \u001b[38;5;28;43mord\u001b[39;49m\u001b[43m(\u001b[49m\u001b[38;5;124;43m'\u001b[39;49m\u001b[38;5;124;43mfoo\u001b[39;49m\u001b[38;5;124;43m'\u001b[39;49m\u001b[43m)\u001b[49m\n",
      "\u001b[0;31mTypeError\u001b[0m: ord() expected a character, but string of length 3 found"
     ]
    }
   ],
   "source": [
    "ord('foo')"
   ]
  },
  {
   "cell_type": "code",
   "execution_count": 89,
   "id": "b9fae00e-14d7-458d-b23b-4f516e23267b",
   "metadata": {},
   "outputs": [
    {
     "data": {
      "text/plain": [
       "102"
      ]
     },
     "execution_count": 89,
     "metadata": {},
     "output_type": "execute_result"
    }
   ],
   "source": [
    "ord('f')"
   ]
  },
  {
   "cell_type": "code",
   "execution_count": 90,
   "id": "ca74ee10-f389-4a62-ba1b-2c6360a04725",
   "metadata": {},
   "outputs": [],
   "source": [
    "s=\"Lalitha\""
   ]
  },
  {
   "cell_type": "code",
   "execution_count": 91,
   "id": "626e1cbc-edf8-4332-881f-298d84b85625",
   "metadata": {},
   "outputs": [
    {
     "data": {
      "text/plain": [
       "7"
      ]
     },
     "execution_count": 91,
     "metadata": {},
     "output_type": "execute_result"
    }
   ],
   "source": [
    "len(s)"
   ]
  },
  {
   "cell_type": "code",
   "execution_count": 92,
   "id": "9635fd33-f361-4d1d-94e9-e7db05d0f1da",
   "metadata": {},
   "outputs": [
    {
     "data": {
      "text/plain": [
       "'Lalitha'"
      ]
     },
     "execution_count": 92,
     "metadata": {},
     "output_type": "execute_result"
    }
   ],
   "source": [
    "s[-len(s):]"
   ]
  },
  {
   "cell_type": "code",
   "execution_count": 93,
   "id": "5d1737da-fe87-475e-9736-2a231629fe90",
   "metadata": {},
   "outputs": [
    {
     "data": {
      "text/plain": [
       "'ahtilaL'"
      ]
     },
     "execution_count": 93,
     "metadata": {},
     "output_type": "execute_result"
    }
   ],
   "source": [
    "s[::-1]"
   ]
  },
  {
   "cell_type": "code",
   "execution_count": 94,
   "id": "3bf12cdf-e5c9-4e8e-83c1-6c7d822a1cc1",
   "metadata": {},
   "outputs": [
    {
     "data": {
      "text/plain": [
       "'aiL'"
      ]
     },
     "execution_count": 94,
     "metadata": {},
     "output_type": "execute_result"
    }
   ],
   "source": [
    "s[::-3]"
   ]
  },
  {
   "cell_type": "code",
   "execution_count": 95,
   "id": "f8bd851e-6ebb-4636-bbaa-d2dd15b5ee05",
   "metadata": {},
   "outputs": [],
   "source": [
    "s = 'foobar'"
   ]
  },
  {
   "cell_type": "code",
   "execution_count": 96,
   "id": "b5831846-6702-4de7-89f0-7536cb118cb0",
   "metadata": {},
   "outputs": [
    {
     "data": {
      "text/plain": [
       "'fr'"
      ]
     },
     "execution_count": 96,
     "metadata": {},
     "output_type": "execute_result"
    }
   ],
   "source": [
    "s[::-1][::-5]"
   ]
  },
  {
   "cell_type": "code",
   "execution_count": 97,
   "id": "4751f9e1-77f8-4ccf-83a3-5dc3e6847c79",
   "metadata": {},
   "outputs": [
    {
     "data": {
      "text/plain": [
       "'raboof'"
      ]
     },
     "execution_count": 97,
     "metadata": {},
     "output_type": "execute_result"
    }
   ],
   "source": [
    "s[::-1]"
   ]
  },
  {
   "cell_type": "code",
   "execution_count": 98,
   "id": "daddf3cc-821d-4d32-8565-3083eb762e6f",
   "metadata": {},
   "outputs": [
    {
     "data": {
      "text/plain": [
       "'rf'"
      ]
     },
     "execution_count": 98,
     "metadata": {},
     "output_type": "execute_result"
    }
   ],
   "source": [
    "s[::-5]"
   ]
  },
  {
   "cell_type": "code",
   "execution_count": 99,
   "id": "dd30aed4-f7c8-411a-9ee5-06f380948f47",
   "metadata": {},
   "outputs": [
    {
     "data": {
      "text/plain": [
       "True"
      ]
     },
     "execution_count": 99,
     "metadata": {},
     "output_type": "execute_result"
    }
   ],
   "source": [
    "s[:] is s"
   ]
  },
  {
   "cell_type": "code",
   "execution_count": 101,
   "id": "b4f3be10-a742-4740-a411-fad9d63ee6a7",
   "metadata": {},
   "outputs": [
    {
     "data": {
      "text/plain": [
       "False"
      ]
     },
     "execution_count": 101,
     "metadata": {},
     "output_type": "execute_result"
    }
   ],
   "source": [
    "s[::-1][::-1] is s"
   ]
  },
  {
   "cell_type": "code",
   "execution_count": 102,
   "id": "3d20247d-a954-44d0-b789-c8186b19ff7d",
   "metadata": {},
   "outputs": [
    {
     "data": {
      "text/plain": [
       "True"
      ]
     },
     "execution_count": 102,
     "metadata": {},
     "output_type": "execute_result"
    }
   ],
   "source": [
    "s[:]==s"
   ]
  },
  {
   "cell_type": "code",
   "execution_count": 103,
   "id": "fed518c4-4e5d-4957-bf41-dd1213880538",
   "metadata": {},
   "outputs": [],
   "source": [
    "s = 'foo-bar-baz'\n"
   ]
  },
  {
   "cell_type": "code",
   "execution_count": 104,
   "id": "8aedcffd-5437-480a-a0e5-aeb1a78af66f",
   "metadata": {},
   "outputs": [],
   "source": [
    "#'-'.join(s.split('-'))"
   ]
  },
  {
   "cell_type": "code",
   "execution_count": 105,
   "id": "ad8b2077-1234-4daa-b431-5695a01554f7",
   "metadata": {},
   "outputs": [
    {
     "data": {
      "text/plain": [
       "'foo-bar-baz'"
      ]
     },
     "execution_count": 105,
     "metadata": {},
     "output_type": "execute_result"
    }
   ],
   "source": [
    "'-'.join(s.split('-'))"
   ]
  },
  {
   "cell_type": "code",
   "execution_count": 106,
   "id": "53ebc87e-2202-49cc-8f87-6926adaa29b2",
   "metadata": {},
   "outputs": [],
   "source": [
    "#'-'.join(s.partition('-'))"
   ]
  },
  {
   "cell_type": "code",
   "execution_count": 107,
   "id": "d4c656fe-6a00-4aab-8f15-14692a6bf276",
   "metadata": {},
   "outputs": [
    {
     "data": {
      "text/plain": [
       "['foo', 'bar', 'baz']"
      ]
     },
     "execution_count": 107,
     "metadata": {},
     "output_type": "execute_result"
    }
   ],
   "source": [
    "s.split('-')"
   ]
  },
  {
   "cell_type": "code",
   "execution_count": 108,
   "id": "8d5ff1df-05a4-4c26-9ce3-0d485b1e9080",
   "metadata": {},
   "outputs": [
    {
     "data": {
      "text/plain": [
       "('foo', '-', 'bar-baz')"
      ]
     },
     "execution_count": 108,
     "metadata": {},
     "output_type": "execute_result"
    }
   ],
   "source": [
    "s.partition('-')"
   ]
  },
  {
   "cell_type": "code",
   "execution_count": 110,
   "id": "086975bb-06f3-4975-89c6-0a23b32f5bf5",
   "metadata": {},
   "outputs": [
    {
     "data": {
      "text/plain": [
       "'  foo-bar-baz  '"
      ]
     },
     "execution_count": 110,
     "metadata": {},
     "output_type": "execute_result"
    }
   ],
   "source": [
    "s.center(15)"
   ]
  },
  {
   "cell_type": "code",
   "execution_count": 111,
   "id": "eacee34a-a833-4cbe-99b2-e3b0134bc6e8",
   "metadata": {},
   "outputs": [
    {
     "data": {
      "text/plain": [
       "'foo-bar-baz'"
      ]
     },
     "execution_count": 111,
     "metadata": {},
     "output_type": "execute_result"
    }
   ],
   "source": [
    "s.strip('-')"
   ]
  },
  {
   "cell_type": "code",
   "execution_count": 112,
   "id": "94c37764-6282-411c-8bc7-9671501566f3",
   "metadata": {},
   "outputs": [
    {
     "ename": "TypeError",
     "evalue": "bytes() takes at most 3 arguments (5 given)",
     "output_type": "error",
     "traceback": [
      "\u001b[0;31m---------------------------------------------------------------------------\u001b[0m",
      "\u001b[0;31mTypeError\u001b[0m                                 Traceback (most recent call last)",
      "Cell \u001b[0;32mIn[112], line 1\u001b[0m\n\u001b[0;32m----> 1\u001b[0m \u001b[38;5;28;43mbytes\u001b[39;49m\u001b[43m(\u001b[49m\u001b[38;5;241;43m0\u001b[39;49m\u001b[43m,\u001b[49m\u001b[43m \u001b[49m\u001b[38;5;241;43m0\u001b[39;49m\u001b[43m,\u001b[49m\u001b[43m \u001b[49m\u001b[38;5;241;43m0\u001b[39;49m\u001b[43m,\u001b[49m\u001b[43m \u001b[49m\u001b[38;5;241;43m0\u001b[39;49m\u001b[43m,\u001b[49m\u001b[43m \u001b[49m\u001b[38;5;241;43m0\u001b[39;49m\u001b[43m)\u001b[49m\n",
      "\u001b[0;31mTypeError\u001b[0m: bytes() takes at most 3 arguments (5 given)"
     ]
    }
   ],
   "source": [
    "bytes(0, 0, 0, 0, 0)"
   ]
  },
  {
   "cell_type": "code",
   "execution_count": 113,
   "id": "8a16ee5a-7e62-4db3-93a0-9c0a7784124b",
   "metadata": {},
   "outputs": [
    {
     "ename": "TypeError",
     "evalue": "can't concat str to bytes",
     "output_type": "error",
     "traceback": [
      "\u001b[0;31m---------------------------------------------------------------------------\u001b[0m",
      "\u001b[0;31mTypeError\u001b[0m                                 Traceback (most recent call last)",
      "Cell \u001b[0;32mIn[113], line 1\u001b[0m\n\u001b[0;32m----> 1\u001b[0m \u001b[38;5;28mlist\u001b[39m((\u001b[38;5;124;43mb\u001b[39;49m\u001b[38;5;124;43m'\u001b[39;49m\u001b[38;5;124;43mabcde\u001b[39;49m\u001b[38;5;124;43m'\u001b[39;49m\u001b[43m \u001b[49m\u001b[38;5;241;43m+\u001b[39;49m\u001b[43m \u001b[49m\u001b[38;5;124;43m'\u001b[39;49m\u001b[38;5;124;43mfghi\u001b[39;49m\u001b[38;5;124;43m'\u001b[39;49m)[\u001b[38;5;241m3\u001b[39m:\u001b[38;5;241m6\u001b[39m])\n",
      "\u001b[0;31mTypeError\u001b[0m: can't concat str to bytes"
     ]
    }
   ],
   "source": [
    "list((b'abcde' + 'fghi')[3:6])"
   ]
  },
  {
   "cell_type": "code",
   "execution_count": 114,
   "id": "500f05d9-a891-4f01-8273-841ee62844e9",
   "metadata": {},
   "outputs": [
    {
     "ename": "ZeroDivisionError",
     "evalue": "division by zero",
     "output_type": "error",
     "traceback": [
      "\u001b[0;31m---------------------------------------------------------------------------\u001b[0m",
      "\u001b[0;31mZeroDivisionError\u001b[0m                         Traceback (most recent call last)",
      "Cell \u001b[0;32mIn[114], line 1\u001b[0m\n\u001b[0;32m----> 1\u001b[0m \u001b[38;5;241;43m1\u001b[39;49m\u001b[38;5;241;43m/\u001b[39;49m\u001b[38;5;28;43;01mFalse\u001b[39;49;00m\n",
      "\u001b[0;31mZeroDivisionError\u001b[0m: division by zero"
     ]
    }
   ],
   "source": [
    "1/False"
   ]
  },
  {
   "cell_type": "code",
   "execution_count": 115,
   "id": "3495e89d-fe28-4e0f-9022-1237f05a2b6b",
   "metadata": {},
   "outputs": [],
   "source": [
    "num1= 23\n",
    "\n",
    "num2= 44\n",
    "\n",
    "num2= 2+3j\n",
    "\n",
    "num1= num2.imag\n"
   ]
  },
  {
   "cell_type": "code",
   "execution_count": 116,
   "id": "fdf756d3-d19f-41d4-8f03-86b35df73fec",
   "metadata": {},
   "outputs": [
    {
     "data": {
      "text/plain": [
       "(2+3j)"
      ]
     },
     "execution_count": 116,
     "metadata": {},
     "output_type": "execute_result"
    }
   ],
   "source": [
    "num2"
   ]
  },
  {
   "cell_type": "code",
   "execution_count": 117,
   "id": "e973ac88-acd0-4c26-850f-fbe36d6fc4e7",
   "metadata": {},
   "outputs": [
    {
     "data": {
      "text/plain": [
       "3.0"
      ]
     },
     "execution_count": 117,
     "metadata": {},
     "output_type": "execute_result"
    }
   ],
   "source": [
    "num1"
   ]
  },
  {
   "cell_type": "code",
   "execution_count": 118,
   "id": "0a56f46f-1b70-4fcd-af47-a6c33b029a5f",
   "metadata": {},
   "outputs": [
    {
     "data": {
      "text/plain": [
       "(-1+3j)"
      ]
     },
     "execution_count": 118,
     "metadata": {},
     "output_type": "execute_result"
    }
   ],
   "source": [
    "num2-num1"
   ]
  },
  {
   "cell_type": "code",
   "execution_count": 121,
   "id": "ba413c42-8db3-46aa-9b27-e451191fb62f",
   "metadata": {},
   "outputs": [
    {
     "ename": "TypeError",
     "evalue": "'str' object does not support item assignment",
     "output_type": "error",
     "traceback": [
      "\u001b[0;31m---------------------------------------------------------------------------\u001b[0m",
      "\u001b[0;31mTypeError\u001b[0m                                 Traceback (most recent call last)",
      "Cell \u001b[0;32mIn[121], line 3\u001b[0m\n\u001b[1;32m      1\u001b[0m Name \u001b[38;5;241m=\u001b[39m \u001b[38;5;124m'\u001b[39m\u001b[38;5;124mpwskills\u001b[39m\u001b[38;5;124m'\u001b[39m\n\u001b[0;32m----> 3\u001b[0m \u001b[43mName\u001b[49m\u001b[43m[\u001b[49m\u001b[38;5;241;43m0\u001b[39;49m\u001b[43m]\u001b[49m \u001b[38;5;241m=\u001b[39m \u001b[38;5;124m'\u001b[39m\u001b[38;5;124mP\u001b[39m\u001b[38;5;124m'\u001b[39m\n",
      "\u001b[0;31mTypeError\u001b[0m: 'str' object does not support item assignment"
     ]
    }
   ],
   "source": [
    "Name = 'pwskills'\n",
    "\n",
    "Name[0] = 'P'"
   ]
  },
  {
   "cell_type": "markdown",
   "id": "38358dc7-49a2-4c1f-8ec8-82a09813a84a",
   "metadata": {},
   "source": [
    "List"
   ]
  },
  {
   "cell_type": "code",
   "execution_count": 1,
   "id": "c6dae0b3-528c-4650-8a5a-fe578a0027e8",
   "metadata": {},
   "outputs": [
    {
     "data": {
      "text/plain": [
       "list"
      ]
     },
     "execution_count": 1,
     "metadata": {},
     "output_type": "execute_result"
    }
   ],
   "source": [
    "type([])"
   ]
  },
  {
   "cell_type": "code",
   "execution_count": 2,
   "id": "23e0f29d-52ea-4b21-a613-30d431d442f2",
   "metadata": {},
   "outputs": [
    {
     "ename": "NameError",
     "evalue": "name 's' is not defined",
     "output_type": "error",
     "traceback": [
      "\u001b[0;31m---------------------------------------------------------------------------\u001b[0m",
      "\u001b[0;31mNameError\u001b[0m                                 Traceback (most recent call last)",
      "Cell \u001b[0;32mIn[2], line 1\u001b[0m\n\u001b[0;32m----> 1\u001b[0m \u001b[38;5;28mlist\u001b[39m(\u001b[43ms\u001b[49m)\n",
      "\u001b[0;31mNameError\u001b[0m: name 's' is not defined"
     ]
    }
   ],
   "source": [
    "list(s)"
   ]
  },
  {
   "cell_type": "code",
   "execution_count": 3,
   "id": "b354982f-84e6-4333-b8a0-8b3ee9322b37",
   "metadata": {},
   "outputs": [
    {
     "ename": "NameError",
     "evalue": "name 's' is not defined",
     "output_type": "error",
     "traceback": [
      "\u001b[0;31m---------------------------------------------------------------------------\u001b[0m",
      "\u001b[0;31mNameError\u001b[0m                                 Traceback (most recent call last)",
      "Cell \u001b[0;32mIn[3], line 1\u001b[0m\n\u001b[0;32m----> 1\u001b[0m \u001b[43ms\u001b[49m\n",
      "\u001b[0;31mNameError\u001b[0m: name 's' is not defined"
     ]
    }
   ],
   "source": [
    "s\n"
   ]
  },
  {
   "cell_type": "code",
   "execution_count": 4,
   "id": "ee64e60c-a689-44e3-a06c-49d330b6256c",
   "metadata": {},
   "outputs": [],
   "source": [
    "s=\"foobar\""
   ]
  },
  {
   "cell_type": "code",
   "execution_count": 5,
   "id": "8ff37700-38a4-4c1f-8b08-59a1218dbbc1",
   "metadata": {},
   "outputs": [
    {
     "data": {
      "text/plain": [
       "['f', 'o', 'o', 'b', 'a', 'r']"
      ]
     },
     "execution_count": 5,
     "metadata": {},
     "output_type": "execute_result"
    }
   ],
   "source": [
    "list(s)"
   ]
  },
  {
   "cell_type": "code",
   "execution_count": 6,
   "id": "c0aa8d18-b30b-473d-a08c-9f753c8001b3",
   "metadata": {},
   "outputs": [
    {
     "ename": "NameError",
     "evalue": "name 'string' is not defined",
     "output_type": "error",
     "traceback": [
      "\u001b[0;31m---------------------------------------------------------------------------\u001b[0m",
      "\u001b[0;31mNameError\u001b[0m                                 Traceback (most recent call last)",
      "Cell \u001b[0;32mIn[6], line 1\u001b[0m\n\u001b[0;32m----> 1\u001b[0m \u001b[43mstring\u001b[49m\n",
      "\u001b[0;31mNameError\u001b[0m: name 'string' is not defined"
     ]
    }
   ],
   "source": [
    "string"
   ]
  },
  {
   "cell_type": "code",
   "execution_count": 7,
   "id": "56fc9664-3a1d-4303-9fbc-e37fa8fd871d",
   "metadata": {},
   "outputs": [],
   "source": [
    "string=\"Data Science Masters\""
   ]
  },
  {
   "cell_type": "code",
   "execution_count": 8,
   "id": "7c577a36-5f02-4ebd-b4e1-0cfa7387d296",
   "metadata": {},
   "outputs": [
    {
     "data": {
      "text/plain": [
       "['D',\n",
       " 'a',\n",
       " 't',\n",
       " 'a',\n",
       " ' ',\n",
       " 'S',\n",
       " 'c',\n",
       " 'i',\n",
       " 'e',\n",
       " 'n',\n",
       " 'c',\n",
       " 'e',\n",
       " ' ',\n",
       " 'M',\n",
       " 'a',\n",
       " 's',\n",
       " 't',\n",
       " 'e',\n",
       " 'r',\n",
       " 's']"
      ]
     },
     "execution_count": 8,
     "metadata": {},
     "output_type": "execute_result"
    }
   ],
   "source": [
    "list(string)"
   ]
  },
  {
   "cell_type": "code",
   "execution_count": 9,
   "id": "e52fcf05-0ff4-43bd-94e2-d867d64b1c22",
   "metadata": {},
   "outputs": [
    {
     "ename": "AttributeError",
     "evalue": "'list' object has no attribute 'split'",
     "output_type": "error",
     "traceback": [
      "\u001b[0;31m---------------------------------------------------------------------------\u001b[0m",
      "\u001b[0;31mAttributeError\u001b[0m                            Traceback (most recent call last)",
      "Cell \u001b[0;32mIn[9], line 1\u001b[0m\n\u001b[0;32m----> 1\u001b[0m \u001b[38;5;28;43mlist\u001b[39;49m\u001b[43m(\u001b[49m\u001b[43mstring\u001b[49m\u001b[43m)\u001b[49m\u001b[38;5;241;43m.\u001b[39;49m\u001b[43msplit\u001b[49m(\u001b[38;5;124m\"\u001b[39m\u001b[38;5;124m \u001b[39m\u001b[38;5;124m\"\u001b[39m)\n",
      "\u001b[0;31mAttributeError\u001b[0m: 'list' object has no attribute 'split'"
     ]
    }
   ],
   "source": [
    "list(string).split(\" \")"
   ]
  },
  {
   "cell_type": "code",
   "execution_count": 10,
   "id": "3f1979f0-53ce-4cac-bdda-d21c13a1771e",
   "metadata": {},
   "outputs": [
    {
     "data": {
      "text/plain": [
       "['Data', 'Science', 'Masters']"
      ]
     },
     "execution_count": 10,
     "metadata": {},
     "output_type": "execute_result"
    }
   ],
   "source": [
    "list(string.split(\" \"))"
   ]
  },
  {
   "cell_type": "code",
   "execution_count": 11,
   "id": "70cbaa81-32b4-42b1-83d0-80a2904e697f",
   "metadata": {},
   "outputs": [
    {
     "data": {
      "text/plain": [
       "['Data', 'Science', 'Masters']"
      ]
     },
     "execution_count": 11,
     "metadata": {},
     "output_type": "execute_result"
    }
   ],
   "source": [
    "string.split(\" \")"
   ]
  },
  {
   "cell_type": "code",
   "execution_count": 12,
   "id": "7983d136-1cc0-4325-8142-52c83f9cd2be",
   "metadata": {},
   "outputs": [
    {
     "name": "stdout",
     "output_type": "stream",
     "text": [
      "D\n",
      "a\n",
      "t\n",
      "a\n",
      " \n",
      "S\n",
      "c\n",
      "i\n",
      "e\n",
      "n\n",
      "c\n",
      "e\n",
      " \n",
      "M\n",
      "a\n",
      "s\n",
      "t\n",
      "e\n",
      "r\n",
      "s\n"
     ]
    }
   ],
   "source": [
    "for i in string:\n",
    "    print(i)"
   ]
  },
  {
   "cell_type": "code",
   "execution_count": 13,
   "id": "4d7bf48b-2f13-4cad-a5a0-a7c00ad462aa",
   "metadata": {},
   "outputs": [],
   "source": [
    "list=[1,2,3,4]"
   ]
  },
  {
   "cell_type": "code",
   "execution_count": 14,
   "id": "40e7d9a4-2dc3-484b-883b-605eae0924fd",
   "metadata": {},
   "outputs": [
    {
     "name": "stdout",
     "output_type": "stream",
     "text": [
      "1\n",
      "2\n",
      "3\n",
      "4\n"
     ]
    }
   ],
   "source": [
    "for i in list:\n",
    "    print(i)"
   ]
  },
  {
   "cell_type": "code",
   "execution_count": 15,
   "id": "be257eeb-2271-4569-ad0e-a613ba89177e",
   "metadata": {},
   "outputs": [],
   "source": [
    "tup=(1,2,3,4)\n"
   ]
  },
  {
   "cell_type": "code",
   "execution_count": 17,
   "id": "cdb25b65-9728-4f4d-a683-e174e5d88e8b",
   "metadata": {},
   "outputs": [
    {
     "name": "stdout",
     "output_type": "stream",
     "text": [
      "1\n",
      "2\n",
      "3\n",
      "4\n"
     ]
    }
   ],
   "source": [
    "for i in tup:\n",
    "    print(i)"
   ]
  },
  {
   "cell_type": "code",
   "execution_count": 18,
   "id": "4f807d2e-6ec4-4575-8d72-5f6c4e3c0f89",
   "metadata": {},
   "outputs": [],
   "source": [
    "list[0]=13"
   ]
  },
  {
   "cell_type": "code",
   "execution_count": 19,
   "id": "34d98872-61f3-4106-b285-251c9a342886",
   "metadata": {},
   "outputs": [
    {
     "data": {
      "text/plain": [
       "[13, 2, 3, 4]"
      ]
     },
     "execution_count": 19,
     "metadata": {},
     "output_type": "execute_result"
    }
   ],
   "source": [
    "list"
   ]
  },
  {
   "cell_type": "code",
   "execution_count": 20,
   "id": "ce67332f-c68b-4118-bdb0-4560c9439e11",
   "metadata": {},
   "outputs": [
    {
     "name": "stdout",
     "output_type": "stream",
     "text": [
      "PwSkills PwSkills "
     ]
    }
   ],
   "source": [
    "for course in ['Data Science Masters', 'ML', 'data science masters', 'DL']:\n",
    "\n",
    "    if len(course)!= 2:\n",
    "\n",
    "        print('PwSkills' , end=' ')"
   ]
  },
  {
   "cell_type": "code",
   "execution_count": 21,
   "id": "c08b18ea-65ff-48df-af05-f6c47d311f0e",
   "metadata": {},
   "outputs": [
    {
     "ename": "TypeError",
     "evalue": "can only concatenate list (not \"int\") to list",
     "output_type": "error",
     "traceback": [
      "\u001b[0;31m---------------------------------------------------------------------------\u001b[0m",
      "\u001b[0;31mTypeError\u001b[0m                                 Traceback (most recent call last)",
      "Cell \u001b[0;32mIn[21], line 1\u001b[0m\n\u001b[0;32m----> 1\u001b[0m \u001b[38;5;28;43mlist\u001b[39;49m\u001b[38;5;241;43m+\u001b[39;49m\u001b[38;5;241;43m1\u001b[39;49m\n",
      "\u001b[0;31mTypeError\u001b[0m: can only concatenate list (not \"int\") to list"
     ]
    }
   ],
   "source": [
    "list+1\n"
   ]
  },
  {
   "cell_type": "code",
   "execution_count": 22,
   "id": "7d13ae03-fee2-4fea-bd9c-e1668b969a21",
   "metadata": {},
   "outputs": [
    {
     "data": {
      "text/plain": [
       "[13, 2, 3, 4]"
      ]
     },
     "execution_count": 22,
     "metadata": {},
     "output_type": "execute_result"
    }
   ],
   "source": [
    "list"
   ]
  },
  {
   "cell_type": "code",
   "execution_count": 24,
   "id": "a13e0c3e-ff43-4721-b53a-0cdb04cb9462",
   "metadata": {},
   "outputs": [
    {
     "data": {
      "text/plain": [
       "[13, 2, 3, 4, [2, 3, 4, 5]]"
      ]
     },
     "execution_count": 24,
     "metadata": {},
     "output_type": "execute_result"
    }
   ],
   "source": [
    "list+[[2,3,4,5]]"
   ]
  },
  {
   "cell_type": "code",
   "execution_count": 25,
   "id": "967e546a-0998-4209-98bf-8bcd5584d53a",
   "metadata": {},
   "outputs": [
    {
     "data": {
      "text/plain": [
       "[13, 2, 3, 4, 13, 2, 3, 4]"
      ]
     },
     "execution_count": 25,
     "metadata": {},
     "output_type": "execute_result"
    }
   ],
   "source": [
    "list*2"
   ]
  },
  {
   "cell_type": "code",
   "execution_count": 26,
   "id": "80c31dc2-6740-4bf6-a0fa-f171c41c7c71",
   "metadata": {},
   "outputs": [
    {
     "data": {
      "text/plain": [
       "'Data Science Masters'"
      ]
     },
     "execution_count": 26,
     "metadata": {},
     "output_type": "execute_result"
    }
   ],
   "source": [
    "string\n"
   ]
  },
  {
   "cell_type": "code",
   "execution_count": 28,
   "id": "37b32e45-65d6-4194-bdaf-7fda72f1ff71",
   "metadata": {},
   "outputs": [
    {
     "name": "stdout",
     "output_type": "stream",
     "text": [
      "D\n",
      "a\n",
      "t\n",
      "a\n",
      " \n",
      "S\n",
      "c\n",
      "i\n",
      "e\n",
      "n\n",
      "c\n",
      "e\n",
      " \n",
      "M\n",
      "a\n",
      "s\n",
      "t\n",
      "e\n",
      "r\n",
      "s\n"
     ]
    }
   ],
   "source": [
    "for i in string:\n",
    "   print(i)"
   ]
  },
  {
   "cell_type": "code",
   "execution_count": 29,
   "id": "a72592b4-23c2-46c7-b022-48541fe2fd38",
   "metadata": {},
   "outputs": [
    {
     "data": {
      "text/plain": [
       "str"
      ]
     },
     "execution_count": 29,
     "metadata": {},
     "output_type": "execute_result"
    }
   ],
   "source": [
    "type(string)"
   ]
  },
  {
   "cell_type": "code",
   "execution_count": 8,
   "id": "2d57885b-733c-4315-9f2a-4237827fd032",
   "metadata": {},
   "outputs": [],
   "source": [
    "list=[\"Data\",\"Science\",\"Masters\"]"
   ]
  },
  {
   "cell_type": "code",
   "execution_count": 31,
   "id": "7ab87af2-fdab-425e-91a3-edcee91bb29a",
   "metadata": {},
   "outputs": [
    {
     "data": {
      "text/plain": [
       "['Data', 'Science', 'Masters']"
      ]
     },
     "execution_count": 31,
     "metadata": {},
     "output_type": "execute_result"
    }
   ],
   "source": [
    "list"
   ]
  },
  {
   "cell_type": "code",
   "execution_count": 32,
   "id": "d0a440bc-6a68-43f7-94bc-d437c721e9c1",
   "metadata": {},
   "outputs": [
    {
     "name": "stdout",
     "output_type": "stream",
     "text": [
      "Data\n",
      "Science\n",
      "Masters\n"
     ]
    }
   ],
   "source": [
    "for i in list:\n",
    "    print(i)"
   ]
  },
  {
   "cell_type": "code",
   "execution_count": 33,
   "id": "bd70c8f7-b605-4272-8e30-e63dbf4e3b96",
   "metadata": {},
   "outputs": [
    {
     "name": "stdout",
     "output_type": "stream",
     "text": [
      "Data\n"
     ]
    }
   ],
   "source": [
    "for i in list:\n",
    "    if i ==\"Science\":\n",
    "        break\n",
    "    else:\n",
    "        print(i)\n",
    "    "
   ]
  },
  {
   "cell_type": "code",
   "execution_count": 34,
   "id": "87c79016-cf38-4bf7-a7d2-b9982547c884",
   "metadata": {},
   "outputs": [
    {
     "data": {
      "text/plain": [
       "True"
      ]
     },
     "execution_count": 34,
     "metadata": {},
     "output_type": "execute_result"
    }
   ],
   "source": [
    "\"Science\" in list"
   ]
  },
  {
   "cell_type": "code",
   "execution_count": 35,
   "id": "81a6c6e2-f5c3-4e50-859e-d11f33f5d3e8",
   "metadata": {},
   "outputs": [
    {
     "name": "stdout",
     "output_type": "stream",
     "text": [
      "105\n"
     ]
    }
   ],
   "source": [
    "sum = 0\n",
    "\n",
    "for i in range(1,100):\n",
    "\n",
    "    sum += i\n",
    "\n",
    "    if sum > 100:\n",
    "\n",
    "        break\n",
    "\n",
    "print(sum)"
   ]
  },
  {
   "cell_type": "code",
   "execution_count": 36,
   "id": "eb4c16c1-06ae-419d-aacd-a54f5a10f23b",
   "metadata": {},
   "outputs": [
    {
     "data": {
      "text/plain": [
       "'Science'"
      ]
     },
     "execution_count": 36,
     "metadata": {},
     "output_type": "execute_result"
    }
   ],
   "source": [
    "max(list)"
   ]
  },
  {
   "cell_type": "code",
   "execution_count": 3,
   "id": "fb072c5b-d251-4dce-bec4-bdfcf42a187d",
   "metadata": {},
   "outputs": [
    {
     "name": "stdout",
     "output_type": "stream",
     "text": [
      "110\n"
     ]
    }
   ],
   "source": [
    "num = 2\n",
    "\n",
    "summ= 0\n",
    "count=0\n",
    "\n",
    "while num <=20:\n",
    "\n",
    "    summ += num\n",
    "\n",
    "    num += 2\n",
    "\n",
    "    count+=1\n",
    "\n",
    "print(summ)"
   ]
  },
  {
   "cell_type": "code",
   "execution_count": 5,
   "id": "fddd0508-45ca-4c22-83e8-903ae3bb07a3",
   "metadata": {},
   "outputs": [
    {
     "name": "stdout",
     "output_type": "stream",
     "text": [
      "i\n"
     ]
    }
   ],
   "source": [
    "for i in 'Pwskills':\n",
    "\n",
    "    if i.lower() in ['a', 'e', 'i', 'o', 'u']:\n",
    "\n",
    "        print(i)"
   ]
  },
  {
   "cell_type": "code",
   "execution_count": 6,
   "id": "edd36922-05eb-4259-a34b-81a90eb74790",
   "metadata": {},
   "outputs": [
    {
     "data": {
      "text/plain": [
       "list"
      ]
     },
     "execution_count": 6,
     "metadata": {},
     "output_type": "execute_result"
    }
   ],
   "source": [
    "list"
   ]
  },
  {
   "cell_type": "code",
   "execution_count": 9,
   "id": "c55507fb-0088-46ac-8c17-bf052a31e6ac",
   "metadata": {},
   "outputs": [
    {
     "data": {
      "text/plain": [
       "'Data'"
      ]
     },
     "execution_count": 9,
     "metadata": {},
     "output_type": "execute_result"
    }
   ],
   "source": [
    "min(list)"
   ]
  },
  {
   "cell_type": "code",
   "execution_count": 10,
   "id": "ea6b2bd1-234e-47c8-bb7e-7eea818a3239",
   "metadata": {},
   "outputs": [],
   "source": [
    "list1=[3,4.5,2+7j]"
   ]
  },
  {
   "cell_type": "code",
   "execution_count": 11,
   "id": "d98ad0ec-d969-4a19-afae-19df420de6c2",
   "metadata": {},
   "outputs": [
    {
     "data": {
      "text/plain": [
       "[3, 4.5, (2+7j)]"
      ]
     },
     "execution_count": 11,
     "metadata": {},
     "output_type": "execute_result"
    }
   ],
   "source": [
    "list1"
   ]
  },
  {
   "cell_type": "code",
   "execution_count": 12,
   "id": "6b3eb16f-5356-4ff9-a3e5-ead279540d74",
   "metadata": {},
   "outputs": [],
   "source": [
    "list2=[\"Lali\",[1,2,3],(4,5,6)]"
   ]
  },
  {
   "cell_type": "code",
   "execution_count": 13,
   "id": "c4a4017f-1b47-4b79-877d-81783707dba8",
   "metadata": {},
   "outputs": [
    {
     "data": {
      "text/plain": [
       "['Lali', [1, 2, 3], (4, 5, 6)]"
      ]
     },
     "execution_count": 13,
     "metadata": {},
     "output_type": "execute_result"
    }
   ],
   "source": [
    "list2"
   ]
  },
  {
   "cell_type": "code",
   "execution_count": 14,
   "id": "78c76f7c-a435-4bdc-bb70-633435a601b8",
   "metadata": {},
   "outputs": [
    {
     "ename": "NameError",
     "evalue": "name 'NoneType' is not defined",
     "output_type": "error",
     "traceback": [
      "\u001b[0;31m---------------------------------------------------------------------------\u001b[0m",
      "\u001b[0;31mNameError\u001b[0m                                 Traceback (most recent call last)",
      "Cell \u001b[0;32mIn[14], line 1\u001b[0m\n\u001b[0;32m----> 1\u001b[0m list3\u001b[38;5;241m=\u001b[39m[{\u001b[38;5;241m1\u001b[39m:\u001b[38;5;241m2\u001b[39m,\u001b[38;5;241m3\u001b[39m:\u001b[38;5;241m4\u001b[39m},\u001b[43mNoneType\u001b[49m,\u001b[38;5;28mbytes\u001b[39m(\u001b[38;5;241m5\u001b[39m)]\n",
      "\u001b[0;31mNameError\u001b[0m: name 'NoneType' is not defined"
     ]
    }
   ],
   "source": [
    "list3=[{1:2,3:4},NoneType,bytes(5)]"
   ]
  },
  {
   "cell_type": "code",
   "execution_count": 15,
   "id": "9d7010e0-db50-4158-805d-d1ac9951acff",
   "metadata": {},
   "outputs": [],
   "source": [
    "list3=[{1:2,3:4},None,bytes(5)]"
   ]
  },
  {
   "cell_type": "code",
   "execution_count": 16,
   "id": "24aca930-b105-4f55-9903-4ac4f1bd4259",
   "metadata": {},
   "outputs": [
    {
     "data": {
      "text/plain": [
       "[{1: 2, 3: 4}, None, b'\\x00\\x00\\x00\\x00\\x00']"
      ]
     },
     "execution_count": 16,
     "metadata": {},
     "output_type": "execute_result"
    }
   ],
   "source": [
    "list3"
   ]
  },
  {
   "cell_type": "code",
   "execution_count": 17,
   "id": "ba28fa7d-02e0-4d47-9d2d-5cae49a22d89",
   "metadata": {},
   "outputs": [],
   "source": [
    "list4=[True,frozenset,range(1,10)]"
   ]
  },
  {
   "cell_type": "code",
   "execution_count": 18,
   "id": "a56e07ec-70f7-403b-9872-22ebd124ae39",
   "metadata": {},
   "outputs": [
    {
     "data": {
      "text/plain": [
       "[True, frozenset, range(1, 10)]"
      ]
     },
     "execution_count": 18,
     "metadata": {},
     "output_type": "execute_result"
    }
   ],
   "source": [
    "list4"
   ]
  },
  {
   "cell_type": "code",
   "execution_count": 19,
   "id": "4d94650f-41ce-4d86-b9d8-ff6add31b0e4",
   "metadata": {},
   "outputs": [
    {
     "data": {
      "text/plain": [
       "[3, 4.5, (2+7j)]"
      ]
     },
     "execution_count": 19,
     "metadata": {},
     "output_type": "execute_result"
    }
   ],
   "source": [
    "list1"
   ]
  },
  {
   "cell_type": "code",
   "execution_count": 20,
   "id": "644cfdc7-5ce1-4989-a964-9ff02f7abe98",
   "metadata": {},
   "outputs": [],
   "source": [
    "list1.append([9,8,7,6])"
   ]
  },
  {
   "cell_type": "code",
   "execution_count": 21,
   "id": "cfb566da-7f11-4260-936f-7184d1fa7740",
   "metadata": {},
   "outputs": [
    {
     "data": {
      "text/plain": [
       "[3, 4.5, (2+7j), [9, 8, 7, 6]]"
      ]
     },
     "execution_count": 21,
     "metadata": {},
     "output_type": "execute_result"
    }
   ],
   "source": [
    "list1"
   ]
  },
  {
   "cell_type": "code",
   "execution_count": 22,
   "id": "5b5359f5-0ff4-40a0-8a63-045e98c93059",
   "metadata": {},
   "outputs": [
    {
     "data": {
      "text/plain": [
       "[9, 8, 7, 6]"
      ]
     },
     "execution_count": 22,
     "metadata": {},
     "output_type": "execute_result"
    }
   ],
   "source": [
    "list1.pop()"
   ]
  },
  {
   "cell_type": "code",
   "execution_count": 23,
   "id": "f17bc28d-c933-4e4f-b348-97b62c4138f4",
   "metadata": {},
   "outputs": [
    {
     "data": {
      "text/plain": [
       "[3, 4.5, (2+7j)]"
      ]
     },
     "execution_count": 23,
     "metadata": {},
     "output_type": "execute_result"
    }
   ],
   "source": [
    "list1"
   ]
  },
  {
   "cell_type": "code",
   "execution_count": 24,
   "id": "6b1fce7b-e1f2-4572-a05b-c523aa02abd4",
   "metadata": {},
   "outputs": [
    {
     "data": {
      "text/plain": [
       "(2+7j)"
      ]
     },
     "execution_count": 24,
     "metadata": {},
     "output_type": "execute_result"
    }
   ],
   "source": [
    "list1.pop(2)"
   ]
  },
  {
   "cell_type": "code",
   "execution_count": 25,
   "id": "7f53d474-d752-42a1-af2e-29d7cebc797c",
   "metadata": {},
   "outputs": [
    {
     "data": {
      "text/plain": [
       "[3, 4.5]"
      ]
     },
     "execution_count": 25,
     "metadata": {},
     "output_type": "execute_result"
    }
   ],
   "source": [
    "list1"
   ]
  },
  {
   "cell_type": "code",
   "execution_count": 26,
   "id": "2bcbfd1e-8bff-414b-8378-f9abff7c83c8",
   "metadata": {},
   "outputs": [],
   "source": [
    "list1.reverse()"
   ]
  },
  {
   "cell_type": "code",
   "execution_count": 27,
   "id": "87195f4d-411b-42c9-b43e-9c49586360e4",
   "metadata": {},
   "outputs": [
    {
     "data": {
      "text/plain": [
       "[4.5, 3]"
      ]
     },
     "execution_count": 27,
     "metadata": {},
     "output_type": "execute_result"
    }
   ],
   "source": [
    "list1"
   ]
  },
  {
   "cell_type": "code",
   "execution_count": 28,
   "id": "210f1ea8-9eaa-4bf5-9abf-46bf95102f43",
   "metadata": {},
   "outputs": [],
   "source": [
    "list1.sort()"
   ]
  },
  {
   "cell_type": "code",
   "execution_count": 29,
   "id": "46d4e60c-8aaa-471a-b31b-22eef0fddd79",
   "metadata": {},
   "outputs": [
    {
     "data": {
      "text/plain": [
       "[3, 4.5]"
      ]
     },
     "execution_count": 29,
     "metadata": {},
     "output_type": "execute_result"
    }
   ],
   "source": [
    "list1"
   ]
  },
  {
   "cell_type": "code",
   "execution_count": 30,
   "id": "dbe8648a-86f9-4f61-801a-43274e5f9398",
   "metadata": {},
   "outputs": [],
   "source": [
    "list1.sort(reverse=True)"
   ]
  },
  {
   "cell_type": "code",
   "execution_count": 31,
   "id": "37ef6ce9-1f2c-49f4-9a99-1c3a60e6f9a2",
   "metadata": {},
   "outputs": [
    {
     "data": {
      "text/plain": [
       "[4.5, 3]"
      ]
     },
     "execution_count": 31,
     "metadata": {},
     "output_type": "execute_result"
    }
   ],
   "source": [
    "list1"
   ]
  },
  {
   "cell_type": "code",
   "execution_count": 33,
   "id": "9ba65d0c-6ff3-45e6-b661-e89146e6db52",
   "metadata": {},
   "outputs": [],
   "source": [
    "list1.extend([\"a\",\"b\",\"c\"])"
   ]
  },
  {
   "cell_type": "code",
   "execution_count": 34,
   "id": "5de407eb-1d4c-4b24-80d8-d2280272a062",
   "metadata": {},
   "outputs": [
    {
     "data": {
      "text/plain": [
       "[4.5, 3, 'a', 'b', 'c']"
      ]
     },
     "execution_count": 34,
     "metadata": {},
     "output_type": "execute_result"
    }
   ],
   "source": [
    "list1"
   ]
  },
  {
   "cell_type": "code",
   "execution_count": 35,
   "id": "e1484cc8-6a01-4d38-b38c-624afc638b80",
   "metadata": {},
   "outputs": [],
   "source": [
    "list1.remove(3)"
   ]
  },
  {
   "cell_type": "code",
   "execution_count": 36,
   "id": "7da7f346-b4a8-43d8-8911-00b635afd24c",
   "metadata": {},
   "outputs": [
    {
     "data": {
      "text/plain": [
       "[4.5, 'a', 'b', 'c']"
      ]
     },
     "execution_count": 36,
     "metadata": {},
     "output_type": "execute_result"
    }
   ],
   "source": [
    "list1"
   ]
  },
  {
   "cell_type": "code",
   "execution_count": 37,
   "id": "f567cc89-44e6-4950-be89-092e8c5ad9c6",
   "metadata": {},
   "outputs": [],
   "source": [
    "l1=[1,2,3]\n",
    "l2=[4,5,6]\n",
    "l3=[7,8,9]"
   ]
  },
  {
   "cell_type": "code",
   "execution_count": 38,
   "id": "d05285a0-7668-4261-8481-6257227c45f9",
   "metadata": {},
   "outputs": [],
   "source": [
    "m=[l1,l2,l3]"
   ]
  },
  {
   "cell_type": "code",
   "execution_count": 39,
   "id": "0d706ec7-7e66-41cb-9567-b841bb6d1128",
   "metadata": {},
   "outputs": [
    {
     "data": {
      "text/plain": [
       "[[1, 2, 3], [4, 5, 6], [7, 8, 9]]"
      ]
     },
     "execution_count": 39,
     "metadata": {},
     "output_type": "execute_result"
    }
   ],
   "source": [
    "m\n"
   ]
  },
  {
   "cell_type": "code",
   "execution_count": 40,
   "id": "aa74f42f-732e-4da6-bd23-ce99f38e7b9f",
   "metadata": {},
   "outputs": [
    {
     "data": {
      "text/plain": [
       "[7, 8, 9]"
      ]
     },
     "execution_count": 40,
     "metadata": {},
     "output_type": "execute_result"
    }
   ],
   "source": [
    "m[2]"
   ]
  },
  {
   "cell_type": "code",
   "execution_count": 41,
   "id": "2603e63a-2555-446f-9499-5e669e7a17cd",
   "metadata": {},
   "outputs": [
    {
     "data": {
      "text/plain": [
       "[8, 9]"
      ]
     },
     "execution_count": 41,
     "metadata": {},
     "output_type": "execute_result"
    }
   ],
   "source": [
    "m[2][1:]"
   ]
  },
  {
   "cell_type": "code",
   "execution_count": 42,
   "id": "9d77318b-6fcb-42f9-be8c-c2d487a9c4ce",
   "metadata": {},
   "outputs": [
    {
     "data": {
      "text/plain": [
       "1"
      ]
     },
     "execution_count": 42,
     "metadata": {},
     "output_type": "execute_result"
    }
   ],
   "source": [
    "m[0][0]"
   ]
  },
  {
   "cell_type": "code",
   "execution_count": 43,
   "id": "3094fcf4-17b0-47c1-b61a-dc62e19dcebf",
   "metadata": {},
   "outputs": [
    {
     "ename": "SyntaxError",
     "evalue": "invalid syntax (1921819744.py, line 1)",
     "output_type": "error",
     "traceback": [
      "\u001b[0;36m  Cell \u001b[0;32mIn[43], line 1\u001b[0;36m\u001b[0m\n\u001b[0;31m    m[0][0]:m[1][0]:m[2][0]\u001b[0m\n\u001b[0m                   ^\u001b[0m\n\u001b[0;31mSyntaxError\u001b[0m\u001b[0;31m:\u001b[0m invalid syntax\n"
     ]
    }
   ],
   "source": [
    "m[0][0]:m[1][0]:m[2][0]"
   ]
  },
  {
   "cell_type": "code",
   "execution_count": 44,
   "id": "755e6a5a-3415-4aaa-adde-519ff1fe6768",
   "metadata": {},
   "outputs": [
    {
     "data": {
      "text/plain": [
       "[]"
      ]
     },
     "execution_count": 44,
     "metadata": {},
     "output_type": "execute_result"
    }
   ],
   "source": [
    "m[0][1:0:4]"
   ]
  },
  {
   "cell_type": "code",
   "execution_count": 45,
   "id": "2a1906cc-1aea-4caa-82f5-4d34b829601b",
   "metadata": {},
   "outputs": [
    {
     "data": {
      "text/plain": [
       "[1]"
      ]
     },
     "execution_count": 45,
     "metadata": {},
     "output_type": "execute_result"
    }
   ],
   "source": [
    "m[0][0:3:4]"
   ]
  },
  {
   "cell_type": "code",
   "execution_count": 46,
   "id": "b44095d0-b7ad-45f0-8728-efa7d371da30",
   "metadata": {},
   "outputs": [
    {
     "data": {
      "text/plain": [
       "[0, 1, 2, 3, 4, 5, 6, 7, 8, 9, 10, 11, 12, 13, 14, 15, 16, 17, 18, 19]"
      ]
     },
     "execution_count": 46,
     "metadata": {},
     "output_type": "execute_result"
    }
   ],
   "source": [
    "[i for i in range(20)]"
   ]
  },
  {
   "cell_type": "code",
   "execution_count": 48,
   "id": "abc07e6a-339f-4fe1-98fe-5b729fdc32ac",
   "metadata": {},
   "outputs": [
    {
     "data": {
      "text/plain": [
       "[0,\n",
       " 'ODD',\n",
       " 2,\n",
       " 'ODD',\n",
       " 4,\n",
       " 'ODD',\n",
       " 6,\n",
       " 'ODD',\n",
       " 8,\n",
       " 'ODD',\n",
       " 10,\n",
       " 'ODD',\n",
       " 12,\n",
       " 'ODD',\n",
       " 14,\n",
       " 'ODD',\n",
       " 16,\n",
       " 'ODD',\n",
       " 18,\n",
       " 'ODD']"
      ]
     },
     "execution_count": 48,
     "metadata": {},
     "output_type": "execute_result"
    }
   ],
   "source": [
    "[i if i%2==0 else \"ODD\" for i in range(20)]"
   ]
  },
  {
   "cell_type": "code",
   "execution_count": 49,
   "id": "e8dedc12-a932-472f-bfcc-42cdf7ee5658",
   "metadata": {},
   "outputs": [
    {
     "name": "stdout",
     "output_type": "stream",
     "text": [
      "['0', '10', '20', '30', '40', '50']\n"
     ]
    }
   ],
   "source": [
    "list_out=[]\n",
    "\n",
    "for i in range(0,51,10):\n",
    "\n",
    "    list_out.append(str(i))\n",
    "\n",
    "print(list_out)"
   ]
  },
  {
   "cell_type": "code",
   "execution_count": 50,
   "id": "8d96994e-7077-446b-9167-e8d1711607c8",
   "metadata": {},
   "outputs": [],
   "source": [
    "lst=[1,2,3,4,5,6,7,8]"
   ]
  },
  {
   "cell_type": "code",
   "execution_count": 51,
   "id": "a76047ee-9874-4ba3-bdca-838d6236d68f",
   "metadata": {},
   "outputs": [
    {
     "name": "stdout",
     "output_type": "stream",
     "text": [
      "20\n",
      "16\n"
     ]
    }
   ],
   "source": [
    "even=0\n",
    "odd=0\n",
    "for i in lst:\n",
    "    if i%2==0:\n",
    "        even=even+i\n",
    "    else:\n",
    "        odd=odd+i\n",
    "print(even)\n",
    "print(odd)"
   ]
  },
  {
   "cell_type": "code",
   "execution_count": 55,
   "id": "22a8aa01-70cc-4b61-860a-fe1f76d5cbc5",
   "metadata": {},
   "outputs": [
    {
     "ename": "TypeError",
     "evalue": "'int' object is not callable",
     "output_type": "error",
     "traceback": [
      "\u001b[0;31m---------------------------------------------------------------------------\u001b[0m",
      "\u001b[0;31mTypeError\u001b[0m                                 Traceback (most recent call last)",
      "Cell \u001b[0;32mIn[55], line 1\u001b[0m\n\u001b[0;32m----> 1\u001b[0m even\u001b[38;5;241m=\u001b[39m \u001b[38;5;28;43msum\u001b[39;49m\u001b[43m(\u001b[49m\u001b[43m[\u001b[49m\u001b[43mi\u001b[49m\u001b[43m \u001b[49m\u001b[38;5;28;43;01mfor\u001b[39;49;00m\u001b[43m \u001b[49m\u001b[43mi\u001b[49m\u001b[43m \u001b[49m\u001b[38;5;129;43;01min\u001b[39;49;00m\u001b[43m \u001b[49m\u001b[43mlst\u001b[49m\u001b[43m \u001b[49m\u001b[38;5;28;43;01mif\u001b[39;49;00m\u001b[43m \u001b[49m\u001b[43mi\u001b[49m\u001b[38;5;241;43m%\u001b[39;49m\u001b[38;5;241;43m2\u001b[39;49m\u001b[38;5;241;43m==\u001b[39;49m\u001b[38;5;241;43m0\u001b[39;49m\u001b[43m]\u001b[49m\u001b[43m)\u001b[49m\n",
      "\u001b[0;31mTypeError\u001b[0m: 'int' object is not callable"
     ]
    }
   ],
   "source": [
    "even= sum([i for i in lst if i%2==0])"
   ]
  },
  {
   "cell_type": "code",
   "execution_count": 56,
   "id": "1df07a2b-91e3-4512-a300-bd6aa99ce793",
   "metadata": {},
   "outputs": [
    {
     "data": {
      "text/plain": [
       "[1, 2, 3, 4, 5, 6, 7, 8]"
      ]
     },
     "execution_count": 56,
     "metadata": {},
     "output_type": "execute_result"
    }
   ],
   "source": [
    "lst"
   ]
  },
  {
   "cell_type": "code",
   "execution_count": 57,
   "id": "d59c747d-a1b4-4f82-84db-2a6b35a63c75",
   "metadata": {},
   "outputs": [
    {
     "data": {
      "text/plain": [
       "[1, 4, 9, 16, 25, 36, 49, 64]"
      ]
     },
     "execution_count": 57,
     "metadata": {},
     "output_type": "execute_result"
    }
   ],
   "source": [
    "[i**2 for i in lst]"
   ]
  },
  {
   "cell_type": "code",
   "execution_count": 59,
   "id": "34cf1503-b828-462b-b37c-a183cf6d3e40",
   "metadata": {},
   "outputs": [
    {
     "data": {
      "text/plain": [
       "[1, 2, 3, 4, 5, 6, 7, 8]"
      ]
     },
     "execution_count": 59,
     "metadata": {},
     "output_type": "execute_result"
    }
   ],
   "source": [
    "[i for i in lst if i>0]"
   ]
  },
  {
   "cell_type": "code",
   "execution_count": 60,
   "id": "6b899a4b-1ac9-4e03-a217-b8741a7a9f51",
   "metadata": {},
   "outputs": [
    {
     "data": {
      "text/plain": [
       "[57.6, 115.2, 172.8, 230.4, 288.0, 345.6, 403.2, 460.8]"
      ]
     },
     "execution_count": 60,
     "metadata": {},
     "output_type": "execute_result"
    }
   ],
   "source": [
    "[ (9/5)*temp*32 for temp in lst]"
   ]
  },
  {
   "cell_type": "code",
   "execution_count": 61,
   "id": "8f86cc4f-e4f3-46bc-8210-c29194c9e7a6",
   "metadata": {},
   "outputs": [],
   "source": [
    "l1=[[1,2,3],[4,5,6],[7,8,9]]"
   ]
  },
  {
   "cell_type": "code",
   "execution_count": 62,
   "id": "e653083c-8667-47ab-a8e5-eeec6da28dee",
   "metadata": {},
   "outputs": [
    {
     "data": {
      "text/plain": [
       "[[1, 2, 3], [4, 5, 6], [7, 8, 9]]"
      ]
     },
     "execution_count": 62,
     "metadata": {},
     "output_type": "execute_result"
    }
   ],
   "source": [
    "l1"
   ]
  },
  {
   "cell_type": "code",
   "execution_count": 63,
   "id": "dfe9b410-11b1-4c53-863b-385dd80aa5a2",
   "metadata": {},
   "outputs": [
    {
     "data": {
      "text/plain": [
       "[[1, 2, 3], [4, 5, 6], [7, 8, 9]]"
      ]
     },
     "execution_count": 63,
     "metadata": {},
     "output_type": "execute_result"
    }
   ],
   "source": [
    "[i for i in l1]"
   ]
  },
  {
   "cell_type": "code",
   "execution_count": 64,
   "id": "f374259a-8dd2-4648-bad6-0fd3f79d357b",
   "metadata": {},
   "outputs": [
    {
     "ename": "SyntaxError",
     "evalue": "unmatched ']' (3521737221.py, line 1)",
     "output_type": "error",
     "traceback": [
      "\u001b[0;36m  Cell \u001b[0;32mIn[64], line 1\u001b[0;36m\u001b[0m\n\u001b[0;31m    i for j for j in l1]\u001b[0m\n\u001b[0m                       ^\u001b[0m\n\u001b[0;31mSyntaxError\u001b[0m\u001b[0;31m:\u001b[0m unmatched ']'\n"
     ]
    }
   ],
   "source": [
    "i for j for j in l1]"
   ]
  },
  {
   "cell_type": "code",
   "execution_count": 65,
   "id": "0729d74b-4dc9-49f7-85d5-6c21ab505fbc",
   "metadata": {},
   "outputs": [
    {
     "data": {
      "text/plain": [
       "[1, 2, 3, 4, 5, 6, 7, 8, 9]"
      ]
     },
     "execution_count": 65,
     "metadata": {},
     "output_type": "execute_result"
    }
   ],
   "source": [
    "[num for sublist in l1 for num in sublist]"
   ]
  },
  {
   "cell_type": "code",
   "execution_count": null,
   "id": "935f3940-3c0b-4f61-96be-3c01387d95f8",
   "metadata": {},
   "outputs": [],
   "source": []
  }
 ],
 "metadata": {
  "kernelspec": {
   "display_name": "Python 3 (ipykernel)",
   "language": "python",
   "name": "python3"
  },
  "language_info": {
   "codemirror_mode": {
    "name": "ipython",
    "version": 3
   },
   "file_extension": ".py",
   "mimetype": "text/x-python",
   "name": "python",
   "nbconvert_exporter": "python",
   "pygments_lexer": "ipython3",
   "version": "3.10.8"
  }
 },
 "nbformat": 4,
 "nbformat_minor": 5
}
