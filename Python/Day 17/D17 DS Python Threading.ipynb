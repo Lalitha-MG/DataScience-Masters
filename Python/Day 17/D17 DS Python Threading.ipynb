{
 "cells": [
  {
   "cell_type": "code",
   "execution_count": 5,
   "id": "d04d0d14-aed8-4933-9cb7-52e300325680",
   "metadata": {},
   "outputs": [],
   "source": [
    "import threading"
   ]
  },
  {
   "cell_type": "code",
   "execution_count": 5,
   "id": "43d54561-3caa-4f26-9a03-b3b62b32cd64",
   "metadata": {},
   "outputs": [],
   "source": [
    "def test_thread(arg) :\n",
    "    print(f\"This is the argument passed {arg}\")"
   ]
  },
  {
   "cell_type": "code",
   "execution_count": 6,
   "id": "23d12a25-bc48-40b3-bbea-11dfef67ad82",
   "metadata": {},
   "outputs": [
    {
     "name": "stdout",
     "output_type": "stream",
     "text": [
      "This is the argument passed 10\n"
     ]
    }
   ],
   "source": [
    "test_thread(10)"
   ]
  },
  {
   "cell_type": "code",
   "execution_count": 8,
   "id": "f5d6e0e4-193b-4d5f-8904-10ff706aae92",
   "metadata": {},
   "outputs": [],
   "source": [
    "thread=[threading.Thread(target=test_thread , args=(i,)) for i in range(1,5)]"
   ]
  },
  {
   "cell_type": "code",
   "execution_count": 9,
   "id": "d32f32c2-9bb3-46ea-9a06-90932fcdc322",
   "metadata": {},
   "outputs": [
    {
     "data": {
      "text/plain": [
       "[<Thread(Thread-5 (test_thread), initial)>,\n",
       " <Thread(Thread-6 (test_thread), initial)>,\n",
       " <Thread(Thread-7 (test_thread), initial)>,\n",
       " <Thread(Thread-8 (test_thread), initial)>]"
      ]
     },
     "execution_count": 9,
     "metadata": {},
     "output_type": "execute_result"
    }
   ],
   "source": [
    "thread"
   ]
  },
  {
   "cell_type": "code",
   "execution_count": 11,
   "id": "85ef9b49-5e95-4d14-a879-9fd9050e5e6d",
   "metadata": {},
   "outputs": [
    {
     "name": "stdout",
     "output_type": "stream",
     "text": [
      "This is the argument passed 1\n",
      "This is the argument passed 2\n",
      "This is the argument passed 3\n",
      "This is the argument passed 4\n"
     ]
    }
   ],
   "source": [
    "for t in thread :\n",
    "    t.start()"
   ]
  },
  {
   "cell_type": "code",
   "execution_count": 6,
   "id": "e07fea6d-a872-4376-a154-ec9a04a608ae",
   "metadata": {},
   "outputs": [],
   "source": [
    "import urllib.request"
   ]
  },
  {
   "cell_type": "code",
   "execution_count": 7,
   "id": "e950da1b-cff6-46e4-abd8-12cd010d720e",
   "metadata": {},
   "outputs": [],
   "source": [
    "def file_download(url,filename) :\n",
    "    urllib.request.urlretrieve(url,filename)"
   ]
  },
  {
   "cell_type": "code",
   "execution_count": 14,
   "id": "9f13cd13-8ec2-40b1-80c2-d4bbe2de3749",
   "metadata": {},
   "outputs": [],
   "source": [
    "url_list = ['https://raw.githubusercontent.com/itsfoss/text-files/master/agatha.txt' , 'https://raw.githubusercontent.com/itsfoss/text-files/master/sherlock.txt' ,'https://raw.githubusercontent.com/itsfoss/text-files/master/sample_log_file.txt' ]"
   ]
  },
  {
   "cell_type": "code",
   "execution_count": 15,
   "id": "7169076d-7378-416e-b170-d5668d5f1ffc",
   "metadata": {},
   "outputs": [
    {
     "data": {
      "text/plain": [
       "['https://raw.githubusercontent.com/itsfoss/text-files/master/agatha.txt',\n",
       " 'https://raw.githubusercontent.com/itsfoss/text-files/master/sherlock.txt',\n",
       " 'https://raw.githubusercontent.com/itsfoss/text-files/master/sample_log_file.txt']"
      ]
     },
     "execution_count": 15,
     "metadata": {},
     "output_type": "execute_result"
    }
   ],
   "source": [
    "url_list"
   ]
  },
  {
   "cell_type": "code",
   "execution_count": 8,
   "id": "4b3098aa-84b4-4560-979b-11f3948549f3",
   "metadata": {},
   "outputs": [],
   "source": [
    "filename_list=['data1.txt','data2.txt','data3.txt']"
   ]
  },
  {
   "cell_type": "code",
   "execution_count": 18,
   "id": "27a9e780-407c-4efd-86fd-780b175ce08f",
   "metadata": {},
   "outputs": [
    {
     "data": {
      "text/plain": [
       "['data1.txt', 'data2.txt', 'data3.txt']"
      ]
     },
     "execution_count": 18,
     "metadata": {},
     "output_type": "execute_result"
    }
   ],
   "source": [
    "filename_list"
   ]
  },
  {
   "cell_type": "code",
   "execution_count": 16,
   "id": "9b913e23-10c8-4bff-8e27-d2d92b9e3006",
   "metadata": {},
   "outputs": [],
   "source": [
    "thread3 = [threading.Thread(target=file_download , args=(url_list[i],filename_list[i])) for i in range(len(url_list))]"
   ]
  },
  {
   "cell_type": "code",
   "execution_count": 20,
   "id": "73a57fa9-367a-4cc6-9d99-7a8500d3d8cc",
   "metadata": {},
   "outputs": [],
   "source": [
    "thread1 = [threading.Thread(target=file_download , args=(url_list[i],data_file_list[i])) for i in range(len(url_list))]"
   ]
  },
  {
   "cell_type": "code",
   "execution_count": 17,
   "id": "532ba35e-80cc-4732-8b75-cb9fef86ec2d",
   "metadata": {},
   "outputs": [
    {
     "data": {
      "text/plain": [
       "[<Thread(Thread-8 (file_download), initial)>,\n",
       " <Thread(Thread-9 (file_download), initial)>,\n",
       " <Thread(Thread-10 (file_download), initial)>]"
      ]
     },
     "execution_count": 17,
     "metadata": {},
     "output_type": "execute_result"
    }
   ],
   "source": [
    "thread3"
   ]
  },
  {
   "cell_type": "code",
   "execution_count": 18,
   "id": "b463f134-f228-426c-9519-e15b4b779f10",
   "metadata": {},
   "outputs": [],
   "source": [
    "for t in thread3 :\n",
    "    t.start()"
   ]
  },
  {
   "cell_type": "code",
   "execution_count": 13,
   "id": "c9ccaa51-061b-4371-a820-1e3a0e008ae2",
   "metadata": {},
   "outputs": [
    {
     "data": {
      "text/plain": [
       "[<Thread(Thread-5 (file_download), stopped 139651971008064)>,\n",
       " <Thread(Thread-6 (file_download), stopped 139651962615360)>,\n",
       " <Thread(Thread-7 (file_download), stopped 139651954222656)>]"
      ]
     },
     "execution_count": 13,
     "metadata": {},
     "output_type": "execute_result"
    }
   ],
   "source": [
    "thread2"
   ]
  },
  {
   "cell_type": "code",
   "execution_count": null,
   "id": "f5170b4e-26ee-49cd-a065-b680e009d4c3",
   "metadata": {},
   "outputs": [],
   "source": []
  }
 ],
 "metadata": {
  "kernelspec": {
   "display_name": "Python 3 (ipykernel)",
   "language": "python",
   "name": "python3"
  },
  "language_info": {
   "codemirror_mode": {
    "name": "ipython",
    "version": 3
   },
   "file_extension": ".py",
   "mimetype": "text/x-python",
   "name": "python",
   "nbconvert_exporter": "python",
   "pygments_lexer": "ipython3",
   "version": "3.10.8"
  }
 },
 "nbformat": 4,
 "nbformat_minor": 5
}
