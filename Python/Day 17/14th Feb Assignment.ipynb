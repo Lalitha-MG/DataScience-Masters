{
 "cells": [
  {
   "cell_type": "markdown",
   "id": "1ecde8ac-1d94-4db8-a345-f334cfdcd59e",
   "metadata": {},
   "source": [
    "1). What is multithreading in python? Why is it used? Name the module used to handle threads in python"
   ]
  },
  {
   "cell_type": "markdown",
   "id": "87bd2936-d479-4ad2-9b56-05ac06a99b37",
   "metadata": {},
   "source": [
    "Multithreading is defined as the ability of a processor to execute multiple threads concurrently."
   ]
  },
  {
   "cell_type": "markdown",
   "id": "1f3ec53b-ed62-438f-82d1-8ebde5e50eba",
   "metadata": {},
   "source": [
    "Multithreading allows the execution of multiple parts of a program at the same time. These parts are known as threads and are lightweight processes available within the process. So multithreading leads to maximum utilization of the CPU by multitasking."
   ]
  },
  {
   "cell_type": "markdown",
   "id": "bec32588-6821-4f91-814a-c5a6574fe2f5",
   "metadata": {},
   "source": [
    "threading module is used to handle threads in python"
   ]
  },
  {
   "cell_type": "markdown",
   "id": "2e4baeb2-a171-4400-aa92-7c80e4b65a94",
   "metadata": {},
   "source": [
    "2) Why threading module used? Write the use of the following functions\n",
    "( activeCount\n",
    " currentThread\n",
    " enumerate)"
   ]
  },
  {
   "cell_type": "markdown",
   "id": "9aa695c9-cc68-4b55-86c2-c69543e9ae0c",
   "metadata": {},
   "source": [
    "Python threading allows  to have different parts of your program run concurrently and can simplify your design."
   ]
  },
  {
   "cell_type": "markdown",
   "id": "b3c55c73-def7-489f-ae21-7558067d2247",
   "metadata": {},
   "source": [
    "The threading module exposes all the methods of the thread module and provides some additional methods −\n",
    "\n",
    "threading.activeCount() − Returns the number of thread objects that are active.\n",
    "\n",
    "threading.currentThread() − Returns the number of thread objects in the caller's thread control.\n",
    "\n",
    "threading.enumerate() − Returns a list of all thread objects that are currently active.\n",
    "\n",
    "In addition to the methods, the threading module has the Thread class that implements threading. The methods provided by the Thread class are as follows −\n",
    "\n",
    "run() − The run() method is the entry point for a thread.\n",
    "\n",
    "start() − The start() method starts a thread by calling the run method.\n",
    "\n",
    "join([time]) − The join() waits for threads to terminate.\n",
    "\n",
    "isAlive() − The isAlive() method checks whether a thread is still executing.\n",
    "\n",
    "getName() − The getName() method returns the name of a thread.\n",
    "\n",
    "setName() − The setName() method sets the name of a thread"
   ]
  },
  {
   "cell_type": "markdown",
   "id": "83336c45-0874-4290-826c-8bab92f2948f",
   "metadata": {},
   "source": [
    "3. Explain the following functions\n",
    "( run\n",
    " start\n",
    " join\n",
    "' isAlive)"
   ]
  },
  {
   "cell_type": "markdown",
   "id": "454ddc87-a230-441a-916d-f94f8107519d",
   "metadata": {},
   "source": [
    "run() − The run() method is the entry point for a thread.\n",
    "\n",
    "start() − The start() method starts a thread by calling the run method.\n",
    "\n",
    "join([time]) − The join() waits for threads to terminate.\n",
    "\n",
    "isAlive() − The isAlive() method checks whether a thread is still executing.\n"
   ]
  },
  {
   "cell_type": "markdown",
   "id": "00bbd54d-d3c8-47b1-b754-bdcda68828bd",
   "metadata": {},
   "source": [
    "4. rite a python program to create two threads. Thread one must print the list of squares and thread\n",
    "two must print the list of cubes"
   ]
  },
  {
   "cell_type": "code",
   "execution_count": 37,
   "id": "945f2ba1-4879-4349-a681-eedb2006eba3",
   "metadata": {},
   "outputs": [],
   "source": [
    "def squares(x) :\n",
    "    print(x,x**2)"
   ]
  },
  {
   "cell_type": "code",
   "execution_count": 38,
   "id": "817a7189-6bb0-4e34-b468-9377fb13a7fe",
   "metadata": {},
   "outputs": [
    {
     "name": "stdout",
     "output_type": "stream",
     "text": [
      "5 25\n"
     ]
    }
   ],
   "source": [
    "squares(5)"
   ]
  },
  {
   "cell_type": "code",
   "execution_count": 42,
   "id": "144d2f57-d52f-4864-b06e-e5b6c74fa1dc",
   "metadata": {},
   "outputs": [],
   "source": [
    "def cubes(x) :\n",
    "    print(x,x**3)"
   ]
  },
  {
   "cell_type": "code",
   "execution_count": 9,
   "id": "0636ef2c-5f52-41e3-a9b9-322aeade1a95",
   "metadata": {},
   "outputs": [],
   "source": [
    "import threading"
   ]
  },
  {
   "cell_type": "code",
   "execution_count": 39,
   "id": "3b9fdc96-95fb-4f3f-b478-4e84f34e139d",
   "metadata": {},
   "outputs": [],
   "source": [
    "t1=[threading.Thread(target=squares , args=(i,)) for i in range(1,5) ]"
   ]
  },
  {
   "cell_type": "code",
   "execution_count": 43,
   "id": "4af6aceb-be75-411e-a944-2bf26b5849aa",
   "metadata": {},
   "outputs": [],
   "source": [
    "t2=[threading.Thread(target=cubes , args=(i,)) for i in range(1,5) ]"
   ]
  },
  {
   "cell_type": "code",
   "execution_count": 40,
   "id": "91684d3f-ae7f-4830-b491-a23a428f1b3e",
   "metadata": {},
   "outputs": [
    {
     "data": {
      "text/plain": [
       "[<Thread(Thread-26 (squares), initial)>,\n",
       " <Thread(Thread-27 (squares), initial)>,\n",
       " <Thread(Thread-28 (squares), initial)>,\n",
       " <Thread(Thread-29 (squares), initial)>]"
      ]
     },
     "execution_count": 40,
     "metadata": {},
     "output_type": "execute_result"
    }
   ],
   "source": [
    "t1"
   ]
  },
  {
   "cell_type": "code",
   "execution_count": 44,
   "id": "504c4152-8a99-4602-bd58-4aac01c66b6b",
   "metadata": {},
   "outputs": [
    {
     "data": {
      "text/plain": [
       "[<Thread(Thread-30 (cubes), initial)>,\n",
       " <Thread(Thread-31 (cubes), initial)>,\n",
       " <Thread(Thread-32 (cubes), initial)>,\n",
       " <Thread(Thread-33 (cubes), initial)>]"
      ]
     },
     "execution_count": 44,
     "metadata": {},
     "output_type": "execute_result"
    }
   ],
   "source": [
    "t2"
   ]
  },
  {
   "cell_type": "code",
   "execution_count": 41,
   "id": "034825c7-a912-4692-95a4-ec3103043a1d",
   "metadata": {},
   "outputs": [
    {
     "name": "stdout",
     "output_type": "stream",
     "text": [
      "1 1\n",
      "2 4\n",
      "3 9\n",
      "4 16\n"
     ]
    }
   ],
   "source": [
    "for t in t1 :\n",
    "    t.start()"
   ]
  },
  {
   "cell_type": "code",
   "execution_count": 45,
   "id": "1962c290-8584-4bd8-a7a5-ef9fc3b60298",
   "metadata": {},
   "outputs": [
    {
     "name": "stdout",
     "output_type": "stream",
     "text": [
      "1 1\n",
      "2 8\n",
      "3 27\n",
      "4 64\n"
     ]
    }
   ],
   "source": [
    "for t in t2 :\n",
    "    t.start()"
   ]
  },
  {
   "cell_type": "markdown",
   "id": "9d535bf3-5e2f-4753-913a-9cfe1f615272",
   "metadata": {},
   "source": [
    "5. State advantages and disadvantages of multithreading"
   ]
  },
  {
   "cell_type": "markdown",
   "id": "aadbb44f-3982-4b18-aa5f-ab1812374b6d",
   "metadata": {},
   "source": [
    "Following are some of the common advantages of multithreading:\n",
    "\n",
    "Enhanced performance by decreased development time\n",
    "Simplified and streamlined program coding\n",
    "Improvised GUI responsiveness\n",
    "Simultaneous and parallelized occurrence of tasks\n",
    "Better use of cache storage by utilization of resources\n",
    "Decreased cost of maintenance\n",
    "Better use of CPU resource\n",
    "Multithreading does not only provide you with benefits, it has its disadvantages too. Let us go through some common disadvantages:\n",
    "\n",
    "Complex debugging and testing processes\n",
    "Overhead switching of context\n",
    "Increased potential for deadlock occurrence\n",
    "Increased difficulty level in writing a program\n",
    "Unpredictable results"
   ]
  },
  {
   "cell_type": "markdown",
   "id": "608ea5c9-5352-4151-8073-2848676d08ba",
   "metadata": {},
   "source": [
    "6. Explain deadlocks and race conditions."
   ]
  },
  {
   "cell_type": "markdown",
   "id": "a34e0348-4490-4d2e-8bb1-56eb1d15de4c",
   "metadata": {},
   "source": [
    "Two basic problems commonly occur in multi-threaded programs:\n",
    "\n",
    "deadlock. Two threads hold locks on different resources, each waiting indefinitely for the other to release its lock.\n",
    "race condition. Two (or more) threads alter the state of a shared resource concurrently, leaving it in an unpredictable state."
   ]
  },
  {
   "cell_type": "markdown",
   "id": "4851a4e2-dcee-4dc9-b012-a123d4ea2ca8",
   "metadata": {},
   "source": [
    "Race condition : When two processes are competing with each other causing data corruption."
   ]
  },
  {
   "cell_type": "markdown",
   "id": "463d4c3c-70ef-4554-99af-1caba958cb54",
   "metadata": {},
   "source": [
    "Dead Lock : When two processes are waiting for each other directly or indirectly, it is called deadlock.\n",
    "\n",
    "This usually occurs when two processes are waiting for shared resources acquired by others. For example, If thread T1 acquired resource R1 and it also needs resource R2 for it to accomplish its task. But the resource R2 is acquired by thread T2 which is waiting for resource R1(which is acquired by T1).. Neither of them will be able to accomplish its task, as they keep waiting for the other resources they need.\n",
    "\n"
   ]
  },
  {
   "cell_type": "code",
   "execution_count": null,
   "id": "4f22306b-c8dd-496e-bccf-b264ebb35244",
   "metadata": {},
   "outputs": [],
   "source": []
  }
 ],
 "metadata": {
  "kernelspec": {
   "display_name": "Python 3 (ipykernel)",
   "language": "python",
   "name": "python3"
  },
  "language_info": {
   "codemirror_mode": {
    "name": "ipython",
    "version": 3
   },
   "file_extension": ".py",
   "mimetype": "text/x-python",
   "name": "python",
   "nbconvert_exporter": "python",
   "pygments_lexer": "ipython3",
   "version": "3.10.8"
  }
 },
 "nbformat": 4,
 "nbformat_minor": 5
}
