{
 "cells": [
  {
   "cell_type": "markdown",
   "id": "ea018c68-17b6-40ed-bc24-bcb41fd727dd",
   "metadata": {},
   "source": [
    "Q1. Which function is used to open a file? What are the different modes of opening a file? Explain each mode\n",
    "of file opening."
   ]
  },
  {
   "cell_type": "markdown",
   "id": "7e67b8ea-b0fd-4353-bdd2-4688580734f1",
   "metadata": {},
   "source": [
    "open function is used to open a file"
   ]
  },
  {
   "cell_type": "markdown",
   "id": "925e13df-a058-409e-b135-ac18cc5a39a2",
   "metadata": {},
   "source": [
    "Read Only (‘r’) : Open text file for reading. The handle is positioned at the beginning of the file. If the file does not exists, raises the I/O error. This is also the default mode in which a file is opened.\n",
    "\n",
    "Read and Write (‘r+’): Open the file for reading and writing. The handle is positioned at the beginning of the file. Raises I/O error if the file does not exist.\n",
    "\n",
    "Write Only (‘w’) : Open the file for writing. For the existing files, the data is truncated and over-written. The handle is positioned at the beginning of the file. Creates the file if the file does not exist.\n",
    "\n",
    "Write and Read (‘w+’) : Open the file for reading and writing. For an existing file, data is truncated and over-written. The handle is positioned at the beginning of the file.\n",
    "\n",
    "Append Only (‘a’): Open the file for writing. The file is created if it does not exist. The handle is positioned at the end of the file. The data being written will be inserted at the end, after the existing data.\n",
    "\n",
    "Append and Read (‘a+’) : Open the file for reading and writing. The file is created if it does not exist. The handle is positioned at the end of the file. The data being written will be inserted at the end, after the existing data."
   ]
  },
  {
   "cell_type": "markdown",
   "id": "844f15ea-499d-4af9-811e-97e7cb9af2cd",
   "metadata": {},
   "source": [
    "Q2. Why close() function is used? Why is it important to close a file?"
   ]
  },
  {
   "cell_type": "markdown",
   "id": "89239cf7-14ee-45ea-a849-fb39a307b892",
   "metadata": {},
   "source": [
    "Because files are limited resources managed by the operating system, making sure files are closed after use will protect against hard-to-debug issues like running out of file handles or experiencing corrupted data."
   ]
  },
  {
   "cell_type": "markdown",
   "id": "2c171d0b-56ff-4a15-9d3d-2531643e91e8",
   "metadata": {},
   "source": [
    "close function is used to close the files"
   ]
  },
  {
   "cell_type": "markdown",
   "id": "1b6fa172-5f01-4c3d-926c-da1756f1b70b",
   "metadata": {},
   "source": [
    "Q3. Write a python program to create a text file. Write ‘I want to become a Data Scientist’ in that file. Then\n",
    "close the file. Open this file and read the content of the file."
   ]
  },
  {
   "cell_type": "code",
   "execution_count": 7,
   "id": "f4227545-9863-43e1-9321-a0835d19e562",
   "metadata": {},
   "outputs": [
    {
     "data": {
      "text/plain": [
       "'I want to become a Data Scientist!!. I am a Data Scientist !!!'"
      ]
     },
     "execution_count": 7,
     "metadata": {},
     "output_type": "execute_result"
    }
   ],
   "source": [
    "file=open(\"DataScientst.txt\",'w')\n",
    "file.write(\"I want to become a Data Scientist!!. I am a Data Scientist !!!\")\n",
    "file.close()\n",
    "file =open(\"DataScientst.txt\",'r')\n",
    "file.read()"
   ]
  },
  {
   "cell_type": "markdown",
   "id": "7877413d-26df-4685-85ce-4c007e2641f3",
   "metadata": {},
   "source": [
    "Q4. Explain the following with python code: read(), readline() and readlines()."
   ]
  },
  {
   "cell_type": "code",
   "execution_count": 9,
   "id": "e0f3be53-6d17-4809-b2c1-3967731dafd7",
   "metadata": {},
   "outputs": [],
   "source": [
    "file=open(\"text.txt\",\"w\")\n"
   ]
  },
  {
   "cell_type": "code",
   "execution_count": 10,
   "id": "929f84b1-0bb8-4111-9c6b-2db5f385dfbc",
   "metadata": {},
   "outputs": [],
   "source": [
    "file.close()"
   ]
  },
  {
   "cell_type": "code",
   "execution_count": 11,
   "id": "db25c50d-da18-48a8-812c-f67391e84a8c",
   "metadata": {},
   "outputs": [
    {
     "data": {
      "text/plain": [
       "'Python is the best programming language in the world \\nPython programming is as easy as writing a program in simple English languag'"
      ]
     },
     "execution_count": 11,
     "metadata": {},
     "output_type": "execute_result"
    }
   ],
   "source": [
    "file =open(\"text.txt\",'r')\n",
    "file.read()"
   ]
  },
  {
   "cell_type": "markdown",
   "id": "49a30e70-670c-4eb4-83e8-2d1c6060bf63",
   "metadata": {},
   "source": [
    "readline() method will return a line from the file when called."
   ]
  },
  {
   "cell_type": "code",
   "execution_count": 12,
   "id": "84a92cec-c129-4950-9eb1-f48f82853bee",
   "metadata": {},
   "outputs": [
    {
     "data": {
      "text/plain": [
       "'Python is the best programming language in the world \\n'"
      ]
     },
     "execution_count": 12,
     "metadata": {},
     "output_type": "execute_result"
    }
   ],
   "source": [
    "file =open(\"text.txt\",'r')\n",
    "file.readline()"
   ]
  },
  {
   "cell_type": "markdown",
   "id": "38990cf0-fb20-442f-b815-6d3d1cb2b112",
   "metadata": {},
   "source": [
    "readlines() method will return all the lines in a file in the format of a list where each element is a line in the file."
   ]
  },
  {
   "cell_type": "code",
   "execution_count": 13,
   "id": "4cbdf5cc-ee02-42da-9c2e-2c32942cc9f4",
   "metadata": {},
   "outputs": [
    {
     "data": {
      "text/plain": [
       "['Python is the best programming language in the world \\n',\n",
       " 'Python programming is as easy as writing a program in simple English languag']"
      ]
     },
     "execution_count": 13,
     "metadata": {},
     "output_type": "execute_result"
    }
   ],
   "source": [
    "file =open(\"text.txt\",'r')\n",
    "file.readlines()"
   ]
  },
  {
   "cell_type": "markdown",
   "id": "54055160-e017-44f2-be20-9a288c8789c0",
   "metadata": {},
   "source": [
    "The read() method returns the specified number of bytes from the file. Default is -1 which means the whole file."
   ]
  },
  {
   "cell_type": "code",
   "execution_count": 14,
   "id": "ee4a4130-2b66-4bc7-ae6d-15a3139e42fc",
   "metadata": {},
   "outputs": [
    {
     "data": {
      "text/plain": [
       "'Python is the best programming language in the world \\nPython programming is as easy as writing a program in simple English languag'"
      ]
     },
     "execution_count": 14,
     "metadata": {},
     "output_type": "execute_result"
    }
   ],
   "source": [
    "file =open(\"text.txt\",'r')\n",
    "file.read()"
   ]
  },
  {
   "cell_type": "markdown",
   "id": "e3dc5934-b623-4c54-b077-735584785b62",
   "metadata": {},
   "source": [
    "Q5. Explain why with statement is used with open(). What is the advantage of using with statement and\n",
    "open() together?"
   ]
  },
  {
   "cell_type": "markdown",
   "id": "a845f77b-05de-48ff-ac0b-2b588911c427",
   "metadata": {},
   "source": [
    "In Python, with statement is used in exception handling to make the code cleaner and much more readable. It simplifies the management of common resources like file streams."
   ]
  },
  {
   "cell_type": "markdown",
   "id": "07c38077-9699-42f2-91da-fe33be459183",
   "metadata": {},
   "source": [
    "The with statement itself ensures proper acquisition and release of resources. An exception during the file.write() call in the first implementation can prevent the file from closing properly which may introduce several bugs in the code, i.e. many changes in files do not go into effect until the file is properly closed. The second approach in the above example takes care of all the exceptions but using the with statement makes the code compact and much more readable. Thus, with statement helps avoiding bugs and leaks by ensuring that a resource is properly released when the code using the resource is completely executed. The with statement is popularly used with file streams, as shown above and with Locks, sockets, subprocesses and telnets etc."
   ]
  },
  {
   "cell_type": "markdown",
   "id": "3476c7fb-2807-4d95-a8f9-13779b4ce2f8",
   "metadata": {},
   "source": [
    "Q6. Explain the write() and writelines() functions. Give a suitable example."
   ]
  },
  {
   "cell_type": "markdown",
   "id": "735a1ad9-24ca-4d69-b34f-34c86d37a49b",
   "metadata": {},
   "source": [
    "The write() function will write the content in the file without adding any extra characters."
   ]
  },
  {
   "cell_type": "code",
   "execution_count": null,
   "id": "4968f587-60f9-4e82-8d14-a56cef71eedf",
   "metadata": {},
   "outputs": [],
   "source": [
    "file=open(\"DataScientst.txt\",'w+')\n",
    "file.write(\"I want to become a Data Scientist!!. I am a Data Scientist !!!\")"
   ]
  },
  {
   "cell_type": "markdown",
   "id": "ff0183ed-2f45-4b17-a7c5-6656a66c57ff",
   "metadata": {},
   "source": [
    "writelines() function\n",
    "This function writes the content of a list to a file.\n",
    "\n",
    "As per the syntax, the list of strings that is passed to the writelines() function is written into the opened file. Similar to the write() function, the writelines() function does not add a newline character(\\n) to the end of the string."
   ]
  },
  {
   "cell_type": "code",
   "execution_count": null,
   "id": "b19ac59c-f473-454b-af2f-882a460e471d",
   "metadata": {},
   "outputs": [],
   "source": []
  },
  {
   "cell_type": "code",
   "execution_count": null,
   "id": "29146d20-fb4d-4b13-8bbd-2c67757fad4d",
   "metadata": {},
   "outputs": [],
   "source": []
  }
 ],
 "metadata": {
  "kernelspec": {
   "display_name": "Python 3 (ipykernel)",
   "language": "python",
   "name": "python3"
  },
  "language_info": {
   "codemirror_mode": {
    "name": "ipython",
    "version": 3
   },
   "file_extension": ".py",
   "mimetype": "text/x-python",
   "name": "python",
   "nbconvert_exporter": "python",
   "pygments_lexer": "ipython3",
   "version": "3.10.8"
  }
 },
 "nbformat": 4,
 "nbformat_minor": 5
}
