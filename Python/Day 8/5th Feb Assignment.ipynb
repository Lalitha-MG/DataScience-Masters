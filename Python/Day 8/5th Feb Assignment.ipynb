{
 "cells": [
  {
   "cell_type": "markdown",
   "id": "d07fae0c-824b-4560-8d75-521916d7f19f",
   "metadata": {},
   "source": [
    "Explain Class and Object with respect to Object-Oriented Programming. Give a suitable example."
   ]
  },
  {
   "cell_type": "markdown",
   "id": "c2ea2680-8026-4ab7-aaa5-ce24dea3718d",
   "metadata": {},
   "source": [
    "Class :  It is a blueprint for how something should be defined.It doesn’t actually contain any data. \n",
    "Classes are used to create user-defined data structures. It contains values \n",
    "Classes define functions called methods, which identify the behaviors and actions that an object created from the class can perform with its data.\n",
    "\n",
    "Objects : Is an instance of a class which has those properties and behaviors associated with them.\n",
    "\n",
    "Example : if Mobile is the class then iphone, redmi, blackberry, samsung are its objects which have different properties and behaviours"
   ]
  },
  {
   "cell_type": "markdown",
   "id": "e6120d25-13e7-4f19-bf65-7a7821f0354c",
   "metadata": {},
   "source": [
    "Q2. Name the four pillars of OOPs."
   ]
  },
  {
   "cell_type": "markdown",
   "id": "8e88ae39-6ba4-4933-8c04-cd01c4077a3f",
   "metadata": {},
   "source": [
    "1) Inheritance\n",
    "2) Abstraction\n",
    "3) Polymorphism\n",
    "4) Encapsulation"
   ]
  },
  {
   "cell_type": "markdown",
   "id": "bc330e45-086a-450a-b213-ba4c69fbbdaf",
   "metadata": {},
   "source": [
    "Q3. Explain why the __init__() function is used. Give a suitable example."
   ]
  },
  {
   "cell_type": "markdown",
   "id": "b6554299-f531-41c2-b988-c57965164bd0",
   "metadata": {},
   "source": [
    "A constructor of a class in Python is defined using the __init__ method. The python __init__ is a reserved method in Python that behaves like any other member function of the class, except the statements written under its definition are used to initialize the data members of a class in Python, i.e. it basically contains assignment statements. This method is automatically called at the time of class instantiation or object creation. "
   ]
  },
  {
   "cell_type": "markdown",
   "id": "f8eaed33-343e-4e61-9fab-a5e2bad6053d",
   "metadata": {},
   "source": [
    "The python __init__ method is declared within a class and is used to initialize the attributes of an object as soon as the object is formed. While giving the definition for an __init__(self) method, a default parameter, named ‘self’ is always passed in its argument. This self represents the object of the class itself. Like in any other method of a class, in case of __init__ also ‘self’ is used as a dummy object variable for assigning values to the data members of an object. \n",
    "\n",
    "The __init__ method is often referred to as double underscores init or dunder init for it has two underscores on each side of its name. These double underscores on both the sides of init imply that the method is invoked and used internally in Python, without being required to be called explicitly by the object. "
   ]
  },
  {
   "cell_type": "code",
   "execution_count": 2,
   "id": "905c98db-1ffa-4dee-9236-1ffbfd27b248",
   "metadata": {},
   "outputs": [],
   "source": [
    "class Dog:\n",
    "    def __init__(self, name, age):\n",
    "        self.name = name\n",
    "        self.age = age"
   ]
  },
  {
   "cell_type": "code",
   "execution_count": 3,
   "id": "4ed28fe8-c625-4683-9806-3bec15e13c28",
   "metadata": {},
   "outputs": [],
   "source": [
    "Sonu=Dog(\"Sonu\",5)"
   ]
  },
  {
   "cell_type": "code",
   "execution_count": 7,
   "id": "6d6572ac-3073-4be2-89e3-26a18c66ebd8",
   "metadata": {},
   "outputs": [],
   "source": [
    "pass"
   ]
  },
  {
   "cell_type": "code",
   "execution_count": 5,
   "id": "482b6d93-87ce-46c3-8bd0-f5e8085634b1",
   "metadata": {},
   "outputs": [
    {
     "data": {
      "text/plain": [
       "'Sonu'"
      ]
     },
     "execution_count": 5,
     "metadata": {},
     "output_type": "execute_result"
    }
   ],
   "source": [
    "Sonu.name"
   ]
  },
  {
   "cell_type": "code",
   "execution_count": 6,
   "id": "babe9d28-926e-4c2f-810b-5835216e7160",
   "metadata": {},
   "outputs": [
    {
     "data": {
      "text/plain": [
       "5"
      ]
     },
     "execution_count": 6,
     "metadata": {},
     "output_type": "execute_result"
    }
   ],
   "source": [
    "Sonu.age"
   ]
  },
  {
   "cell_type": "markdown",
   "id": "704c0317-f19a-4ea6-ac2a-83cccf707ad7",
   "metadata": {},
   "source": [
    "Q4. Why self is used in OOPs?"
   ]
  },
  {
   "cell_type": "markdown",
   "id": "92092191-509d-4927-a015-174a9133548d",
   "metadata": {},
   "source": [
    "The python __init__ method is declared within a class and is used to initialize the attributes of an object as soon as the object is formed. While giving the definition for an __init__(self) method, a default parameter, named ‘self’ is always passed in its argument. This self represents the object of the class itself. Like in any other method of a class, in case of __init__ also ‘self’ is used as a dummy object variable for assigning values to the data members of an object. "
   ]
  },
  {
   "cell_type": "markdown",
   "id": "02f17e9f-0914-4f2d-af7c-baa4d32ec22c",
   "metadata": {},
   "source": [
    "Q5. What is inheritance? Give an example for each type of inheritance."
   ]
  },
  {
   "cell_type": "markdown",
   "id": "aec343fc-7c4b-44c8-9717-718ac41de961",
   "metadata": {},
   "source": [
    "Inheritance is the process by which one class takes on the attributes and methods of another. Newly formed classes are called child classes, and the classes that child classes are derived from are called parent classes."
   ]
  },
  {
   "cell_type": "markdown",
   "id": "d3f71b01-5a96-4152-972b-354dcf429819",
   "metadata": {},
   "source": [
    "1) Single Inheritance: \n",
    "Single inheritance enables a derived class to inherit properties from a single parent class, thus enabling code reusability and the addition of new features to existing code."
   ]
  },
  {
   "cell_type": "code",
   "execution_count": 8,
   "id": "c0d52100-2225-4616-8268-5af0967abb7e",
   "metadata": {},
   "outputs": [],
   "source": [
    "class class1:\n",
    "    def display(self):\n",
    "        print(\"This is Class1\")\n",
    "        "
   ]
  },
  {
   "cell_type": "code",
   "execution_count": 12,
   "id": "aae61e39-751c-4dec-8b53-581e9a0e7e87",
   "metadata": {},
   "outputs": [],
   "source": [
    "class class2(class1):\n",
    "    pass"
   ]
  },
  {
   "cell_type": "code",
   "execution_count": 13,
   "id": "26903b9c-0b43-4d7b-9932-58c6b8c2ef70",
   "metadata": {},
   "outputs": [],
   "source": [
    "class2_object=class2()"
   ]
  },
  {
   "cell_type": "code",
   "execution_count": 14,
   "id": "015da88a-09f1-4d2a-9bef-9c8bdccbaa52",
   "metadata": {},
   "outputs": [
    {
     "name": "stdout",
     "output_type": "stream",
     "text": [
      "This is Class1\n"
     ]
    }
   ],
   "source": [
    "class2_object.display()"
   ]
  },
  {
   "cell_type": "markdown",
   "id": "1ca26778-9cb7-4197-8a64-6b13676e6a36",
   "metadata": {},
   "source": [
    "2) Multiple Inheritance: \n",
    "When a class can be derived from more than one base class this type of inheritance is called multiple inheritances. In multiple inheritances, all the features of the base classes are inherited into the derived class. "
   ]
  },
  {
   "cell_type": "code",
   "execution_count": 19,
   "id": "6e955f8d-4f7b-45c8-afaf-815759b71eb6",
   "metadata": {},
   "outputs": [],
   "source": [
    "class classA:\n",
    "    def display(self):\n",
    "        print(\"This is Class A\")\n",
    "        \n",
    "class classB:\n",
    "    def result(self):\n",
    "        print(\"This is Class B\")\n",
    "        \n",
    "class classC(classA,classB):\n",
    "    pass"
   ]
  },
  {
   "cell_type": "code",
   "execution_count": 20,
   "id": "d53ac83f-3883-4691-b0cf-88fc0295428e",
   "metadata": {},
   "outputs": [],
   "source": [
    "classC_object=classC()"
   ]
  },
  {
   "cell_type": "code",
   "execution_count": 21,
   "id": "0dbdba57-4f1c-4df7-95d4-8fa1deaa62e2",
   "metadata": {},
   "outputs": [
    {
     "name": "stdout",
     "output_type": "stream",
     "text": [
      "This is Class A\n"
     ]
    }
   ],
   "source": [
    "classC_object.display()"
   ]
  },
  {
   "cell_type": "code",
   "execution_count": 22,
   "id": "4be7fa1a-9670-42db-ba6a-ce65216f69a8",
   "metadata": {},
   "outputs": [
    {
     "name": "stdout",
     "output_type": "stream",
     "text": [
      "This is Class B\n"
     ]
    }
   ],
   "source": [
    "classC_object.result()"
   ]
  },
  {
   "cell_type": "markdown",
   "id": "a3006f7c-b846-49e3-a907-e6631b322c1b",
   "metadata": {},
   "source": [
    "3) Multilevel Inheritance :\n",
    "In multilevel inheritance, features of the base class and the derived class are further inherited into the new derived class. This is similar to a relationship representing a child and a grandfather. \n",
    "\n"
   ]
  },
  {
   "cell_type": "code",
   "execution_count": 39,
   "id": "cf7a0254-c3c4-4262-a592-fac136d21481",
   "metadata": {},
   "outputs": [],
   "source": [
    "class class1:\n",
    "    def display(self):\n",
    "        print(\"This is Class1\")\n",
    "        \n",
    "class class2(class1):\n",
    "    def result(self):\n",
    "        print(\"This is Class2\")\n",
    "        \n",
    "class class3(class2):\n",
    "    def results(self):\n",
    "        print(\"This is Class3\")\n",
    "        "
   ]
  },
  {
   "cell_type": "code",
   "execution_count": 40,
   "id": "98dea9a3-1eb1-4203-8e0b-79ff2e092ec7",
   "metadata": {},
   "outputs": [],
   "source": [
    "class3_object=class3()"
   ]
  },
  {
   "cell_type": "code",
   "execution_count": 41,
   "id": "5ffd2b6d-0335-4abf-a63b-c8f2fe0b4509",
   "metadata": {},
   "outputs": [
    {
     "name": "stdout",
     "output_type": "stream",
     "text": [
      "This is Class2\n"
     ]
    }
   ],
   "source": [
    "class3_object.result()"
   ]
  },
  {
   "cell_type": "code",
   "execution_count": 42,
   "id": "95919088-b546-4821-9a5b-755f95e97ea5",
   "metadata": {},
   "outputs": [
    {
     "name": "stdout",
     "output_type": "stream",
     "text": [
      "This is Class3\n"
     ]
    }
   ],
   "source": [
    "class3_object.results()"
   ]
  },
  {
   "cell_type": "code",
   "execution_count": 43,
   "id": "6e4d7b85-49cf-4140-b8b0-732c9e47b357",
   "metadata": {},
   "outputs": [
    {
     "name": "stdout",
     "output_type": "stream",
     "text": [
      "This is Class1\n"
     ]
    }
   ],
   "source": [
    "class3_object.display()"
   ]
  },
  {
   "cell_type": "markdown",
   "id": "623ba06b-dcc2-42b7-a848-09bb2786da70",
   "metadata": {},
   "source": [
    "4) Hierarchical Inheritance: \n",
    "When more than one derived class are created from a single base this type of inheritance is called hierarchical inheritance. In this program, we have a parent (base) class and two child (derived) classes."
   ]
  },
  {
   "cell_type": "code",
   "execution_count": 44,
   "id": "5f5eafb2-9782-42ef-acaa-ee104245d0f2",
   "metadata": {},
   "outputs": [],
   "source": [
    "class Parent:\n",
    "    def display(self):\n",
    "        print(\"This is parent class\")\n",
    "\n",
    "class Child1(Parent):\n",
    "    def result(self):\n",
    "        print(\"This is child class 1\")\n",
    "        \n",
    "class Child2(Parent):\n",
    "    def results(self):\n",
    "        print(\"This is child class 2\")\n",
    "        "
   ]
  },
  {
   "cell_type": "code",
   "execution_count": 45,
   "id": "1de28d8f-9bf8-45f0-b39f-a8c90fbf956e",
   "metadata": {},
   "outputs": [],
   "source": [
    "Parent_object=Parent()"
   ]
  },
  {
   "cell_type": "code",
   "execution_count": 46,
   "id": "bce8b5fc-84ef-439b-86d3-1461969daa56",
   "metadata": {},
   "outputs": [],
   "source": [
    "Child1_Object=Child1()"
   ]
  },
  {
   "cell_type": "code",
   "execution_count": 47,
   "id": "8ad8bc1f-32ba-46d6-be4b-15be81ff346d",
   "metadata": {},
   "outputs": [],
   "source": [
    "Child2_Object=Child2()"
   ]
  },
  {
   "cell_type": "code",
   "execution_count": 48,
   "id": "7b9c5583-0e7f-4351-b662-8cfd9191689e",
   "metadata": {},
   "outputs": [
    {
     "name": "stdout",
     "output_type": "stream",
     "text": [
      "This is parent class\n"
     ]
    }
   ],
   "source": [
    "Child1_Object.display()"
   ]
  },
  {
   "cell_type": "code",
   "execution_count": 49,
   "id": "ac62c888-cabb-4c3e-8d90-4f792450f44d",
   "metadata": {},
   "outputs": [
    {
     "name": "stdout",
     "output_type": "stream",
     "text": [
      "This is child class 1\n"
     ]
    }
   ],
   "source": [
    "Child1_Object.result()"
   ]
  },
  {
   "cell_type": "code",
   "execution_count": 50,
   "id": "53e377d3-c26b-4529-b763-e6e6e603cea0",
   "metadata": {},
   "outputs": [
    {
     "name": "stdout",
     "output_type": "stream",
     "text": [
      "This is parent class\n"
     ]
    }
   ],
   "source": [
    "Child2_Object.display()"
   ]
  },
  {
   "cell_type": "code",
   "execution_count": 51,
   "id": "d051b796-e393-4fda-a80d-68a3ccee53a9",
   "metadata": {},
   "outputs": [
    {
     "name": "stdout",
     "output_type": "stream",
     "text": [
      "This is child class 2\n"
     ]
    }
   ],
   "source": [
    "Child2_Object.results()"
   ]
  },
  {
   "cell_type": "markdown",
   "id": "129ad20b-c34c-4040-ab77-afe53b5bb158",
   "metadata": {},
   "source": [
    "5) Hybrid Inheritance: \n",
    "Inheritance consisting of multiple types of inheritance is called hybrid inheritance."
   ]
  },
  {
   "cell_type": "code",
   "execution_count": 52,
   "id": "3e7a5d0c-bccf-4477-9e5c-50f542093fe0",
   "metadata": {},
   "outputs": [],
   "source": [
    "class classA:\n",
    "    def display(self):\n",
    "        print(\"This is Class A\")\n",
    "        \n",
    "class classB:\n",
    "    def result(self):\n",
    "        print(\"This is Class B\")\n",
    "        \n",
    "class classC(classA,classB):\n",
    "    pass\n",
    "\n",
    "class classD(classA):\n",
    "    pass"
   ]
  },
  {
   "cell_type": "code",
   "execution_count": 53,
   "id": "9b6c56de-7f25-4d5f-8b52-037c1bda97c0",
   "metadata": {},
   "outputs": [],
   "source": [
    "classD_object=classD()"
   ]
  },
  {
   "cell_type": "code",
   "execution_count": 54,
   "id": "0f108941-0546-49df-baf4-5bc84d31d682",
   "metadata": {},
   "outputs": [],
   "source": [
    "classC_object=classC()"
   ]
  },
  {
   "cell_type": "code",
   "execution_count": 55,
   "id": "d65b40fb-2a9d-44f9-be8b-c645427a5e45",
   "metadata": {},
   "outputs": [
    {
     "name": "stdout",
     "output_type": "stream",
     "text": [
      "This is Class A\n"
     ]
    }
   ],
   "source": [
    "classD_object.display()"
   ]
  },
  {
   "cell_type": "code",
   "execution_count": 56,
   "id": "5d48ffc9-6de3-4864-a75c-58be517e34fc",
   "metadata": {},
   "outputs": [
    {
     "name": "stdout",
     "output_type": "stream",
     "text": [
      "This is Class A\n"
     ]
    }
   ],
   "source": [
    "classC_object.display()"
   ]
  },
  {
   "cell_type": "code",
   "execution_count": null,
   "id": "6fab0f0a-ee4c-4094-8fc7-fb2c5fe0ae3e",
   "metadata": {},
   "outputs": [],
   "source": []
  }
 ],
 "metadata": {
  "kernelspec": {
   "display_name": "Python 3 (ipykernel)",
   "language": "python",
   "name": "python3"
  },
  "language_info": {
   "codemirror_mode": {
    "name": "ipython",
    "version": 3
   },
   "file_extension": ".py",
   "mimetype": "text/x-python",
   "name": "python",
   "nbconvert_exporter": "python",
   "pygments_lexer": "ipython3",
   "version": "3.10.8"
  }
 },
 "nbformat": 4,
 "nbformat_minor": 5
}
