{
 "cells": [
  {
   "cell_type": "code",
   "execution_count": 1,
   "id": "3a29e525-936d-49ea-8710-f72ee3db4e6f",
   "metadata": {},
   "outputs": [],
   "source": [
    "class Dog:\n",
    "    species = \"Canis familiaris\"\n",
    "\n",
    "    def __init__(self, name, age):\n",
    "        self.name = name\n",
    "        self.age = age\n",
    "\n",
    "    # Instance method\n",
    "    def description(self):\n",
    "        return f\"{self.name} is {self.age} years old\"\n",
    "\n",
    "    # Another instance method\n",
    "    def speak(self, sound):\n",
    "        return f\"{self.name} says {sound}\""
   ]
  },
  {
   "cell_type": "code",
   "execution_count": 2,
   "id": "94dcb8fd-d1bc-402e-82fa-a6f85a4ee209",
   "metadata": {},
   "outputs": [],
   "source": [
    "miles = Dog(\"Miles\", 4)"
   ]
  },
  {
   "cell_type": "code",
   "execution_count": 3,
   "id": "c76e362c-edca-4d32-bcde-1a5f7136fd6a",
   "metadata": {},
   "outputs": [
    {
     "data": {
      "text/plain": [
       "'Miles is 4 years old'"
      ]
     },
     "execution_count": 3,
     "metadata": {},
     "output_type": "execute_result"
    }
   ],
   "source": [
    "miles.description()"
   ]
  },
  {
   "cell_type": "code",
   "execution_count": 4,
   "id": "00d00aa0-204a-4e9d-90fe-2fb857ed3a8a",
   "metadata": {},
   "outputs": [
    {
     "data": {
      "text/plain": [
       "'Miles says Bow Bow'"
      ]
     },
     "execution_count": 4,
     "metadata": {},
     "output_type": "execute_result"
    }
   ],
   "source": [
    "miles.speak(\"Bow Bow\")"
   ]
  },
  {
   "cell_type": "code",
   "execution_count": 5,
   "id": "019c8979-aef2-40ae-b5af-052c8d700d4f",
   "metadata": {},
   "outputs": [
    {
     "name": "stdout",
     "output_type": "stream",
     "text": [
      "<__main__.Dog object at 0x7fb478da6f50>\n"
     ]
    }
   ],
   "source": [
    "print(miles)"
   ]
  },
  {
   "cell_type": "markdown",
   "id": "939a5521-f311-4e05-9c7c-639ecaa825e6",
   "metadata": {},
   "source": [
    "Create a Car class with two instance attributes:\n",
    "\n",
    ".color, which stores the name of the car’s color as a string\n",
    ".mileage, which stores the number of miles on the car as an integer\n",
    "Then instantiate two Car objects—a blue car with 20,000 miles and a red car with 30,000 miles—and print out their colors and mileage. Your output should look like this:"
   ]
  },
  {
   "cell_type": "code",
   "execution_count": 6,
   "id": "e9659a5c-b020-492f-a6c7-6be5920a91b5",
   "metadata": {},
   "outputs": [],
   "source": [
    "class Car:\n",
    "    def __init__(self,color,mileage):\n",
    "        self.color=color\n",
    "        self.mileage=mileage\n",
    "        \n",
    "    def display(self):\n",
    "        print(f\"The {self.color} car has {self.mileage} miles\")"
   ]
  },
  {
   "cell_type": "code",
   "execution_count": 7,
   "id": "070924a9-e99c-4844-8824-f9d9e3a485d0",
   "metadata": {},
   "outputs": [],
   "source": [
    "blue_car=Car(\"Blue\",20000)"
   ]
  },
  {
   "cell_type": "code",
   "execution_count": 8,
   "id": "cb537715-f6b0-4773-87da-7e63a356ca2d",
   "metadata": {},
   "outputs": [],
   "source": [
    "red_car=Car(\"Red\",30000)"
   ]
  },
  {
   "cell_type": "code",
   "execution_count": 9,
   "id": "5139da72-c76d-432a-a056-7880f7e011c1",
   "metadata": {},
   "outputs": [
    {
     "name": "stdout",
     "output_type": "stream",
     "text": [
      "The Blue car has 20000 miles\n"
     ]
    }
   ],
   "source": [
    "blue_car.display()"
   ]
  },
  {
   "cell_type": "code",
   "execution_count": 10,
   "id": "7d336614-b495-4426-ad3b-8c822d7f3297",
   "metadata": {},
   "outputs": [
    {
     "name": "stdout",
     "output_type": "stream",
     "text": [
      "The Red car has 30000 miles\n"
     ]
    }
   ],
   "source": [
    "red_car.display()"
   ]
  },
  {
   "cell_type": "code",
   "execution_count": 11,
   "id": "1c340c8d-d210-434d-aebd-41a9f4446d79",
   "metadata": {},
   "outputs": [
    {
     "name": "stdout",
     "output_type": "stream",
     "text": [
      "The Blue car has 20,000 miles\n",
      "The Red car has 30,000 miles\n"
     ]
    }
   ],
   "source": [
    "for car in (blue_car, red_car):\n",
    "    print(f\"The {car.color} car has {car.mileage:,} miles\")"
   ]
  },
  {
   "cell_type": "code",
   "execution_count": null,
   "id": "0b390458-5b86-46cd-bf96-d36bce3333f4",
   "metadata": {},
   "outputs": [],
   "source": []
  }
 ],
 "metadata": {
  "kernelspec": {
   "display_name": "Python 3 (ipykernel)",
   "language": "python",
   "name": "python3"
  },
  "language_info": {
   "codemirror_mode": {
    "name": "ipython",
    "version": 3
   },
   "file_extension": ".py",
   "mimetype": "text/x-python",
   "name": "python",
   "nbconvert_exporter": "python",
   "pygments_lexer": "ipython3",
   "version": "3.10.8"
  }
 },
 "nbformat": 4,
 "nbformat_minor": 5
}
