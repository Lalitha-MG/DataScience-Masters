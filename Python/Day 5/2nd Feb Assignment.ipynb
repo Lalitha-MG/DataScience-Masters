{
 "cells": [
  {
   "cell_type": "markdown",
   "id": "6b6cfc74-22a0-460a-910d-8ea155edbb62",
   "metadata": {},
   "source": [
    "Q1. What are the characteristics of the tuples? Is tuple immutable?"
   ]
  },
  {
   "cell_type": "markdown",
   "id": "dd7fdf26-6967-438c-a570-aabd8f665e36",
   "metadata": {},
   "source": [
    "Yes, Tuples are immutable.\n",
    "\n",
    "The important characteristics of Python Tuples are as follows:\n",
    "\n",
    "Tuples are ordered.\n",
    "Tuples can contain any arbitrary objects.\n",
    "Tuples elements can be accessed by index.\n",
    "Tuples can be nested to arbitrary depth.\n",
    "Tuples are immutable.\n",
    "Tuples are defined by enclosing the elements in parentheses (()) instead of square brackets ([])."
   ]
  },
  {
   "cell_type": "markdown",
   "id": "3a5c3013-7ba4-48c2-88dc-94bca75e8a61",
   "metadata": {},
   "source": [
    "Q2. What are the two tuple methods in python? Give an example of each method. Give a reason why\n",
    "tuples have only two in-built methods as compared to Lists."
   ]
  },
  {
   "cell_type": "markdown",
   "id": "6f60e495-b936-4757-bd60-7e255a6b45e2",
   "metadata": {},
   "source": [
    "Python has two built-in methods that can be used on tuples.\n",
    "\n",
    "Method\tDescription\n",
    "count()\tReturns the number of times a specified value occurs in a tuple\n",
    "index()\tSearches the tuple for a specified value and returns the position of where it was found"
   ]
  },
  {
   "cell_type": "code",
   "execution_count": 1,
   "id": "31fe15dc-76c2-481c-8bb1-3ab77724c8ea",
   "metadata": {},
   "outputs": [],
   "source": [
    "t=(1,2,3,4,5,1,7,8,9)"
   ]
  },
  {
   "cell_type": "code",
   "execution_count": 2,
   "id": "83a395fc-cf87-43e5-b9dd-e1261a1835c2",
   "metadata": {},
   "outputs": [
    {
     "data": {
      "text/plain": [
       "2"
      ]
     },
     "execution_count": 2,
     "metadata": {},
     "output_type": "execute_result"
    }
   ],
   "source": [
    "t.count(1)"
   ]
  },
  {
   "cell_type": "markdown",
   "id": "15c0c813-9193-4ab9-a0ec-356ca3e47408",
   "metadata": {},
   "source": [
    "The above method returned 2 occurences of 1 in the tuple t"
   ]
  },
  {
   "cell_type": "code",
   "execution_count": 3,
   "id": "572bea62-517f-43c6-a5bc-daa28999d663",
   "metadata": {},
   "outputs": [
    {
     "data": {
      "text/plain": [
       "0"
      ]
     },
     "execution_count": 3,
     "metadata": {},
     "output_type": "execute_result"
    }
   ],
   "source": [
    "t.index(1)"
   ]
  },
  {
   "cell_type": "code",
   "execution_count": 4,
   "id": "ff939863-3ae4-4252-b867-1ba7e9c1632b",
   "metadata": {},
   "outputs": [
    {
     "data": {
      "text/plain": [
       "2"
      ]
     },
     "execution_count": 4,
     "metadata": {},
     "output_type": "execute_result"
    }
   ],
   "source": [
    "t.index(3)"
   ]
  },
  {
   "cell_type": "markdown",
   "id": "da636696-b86f-4710-a73b-27e83ee02436",
   "metadata": {},
   "source": [
    "The above method returns the position where the first occurence of value in tuple"
   ]
  },
  {
   "cell_type": "markdown",
   "id": "ca591b08-0c79-4520-b52d-90d835b859ac",
   "metadata": {},
   "source": [
    "Since tuples are immutable, it does not have many methods like list."
   ]
  },
  {
   "cell_type": "markdown",
   "id": "f6474665-5f44-4723-8291-33d096478aa7",
   "metadata": {},
   "source": [
    "Q3. Which collection datatypes in python do not allow duplicate items? Write a code using a set to remove\n",
    "duplicates from the given list.\n",
    "List = [1, 1, 1, 2, 1, 3, 1, 4, 2, 1, 2, 2, 2, 3, 2, 4, 3, 1, 3, 2, 3, 3, 3, 4, 4, 1, 4, 2, 4, 3, 4, 4]"
   ]
  },
  {
   "cell_type": "markdown",
   "id": "b43ff600-9842-4c83-8285-c56f8294b00d",
   "metadata": {},
   "source": [
    "Set does not allow duplicate items"
   ]
  },
  {
   "cell_type": "code",
   "execution_count": 5,
   "id": "0c0d7b2b-2d95-4d0d-8765-ed390ada4364",
   "metadata": {},
   "outputs": [],
   "source": [
    "List = [1, 1, 1, 2, 1, 3, 1, 4, 2, 1, 2, 2, 2, 3, 2, 4, 3, 1, 3, 2, 3, 3, 3, 4, 4, 1, 4, 2, 4, 3, 4, 4]\n"
   ]
  },
  {
   "cell_type": "code",
   "execution_count": 6,
   "id": "ce1da1d4-b600-47cf-9fa3-86a0a2559372",
   "metadata": {},
   "outputs": [
    {
     "data": {
      "text/plain": [
       "{1, 2, 3, 4}"
      ]
     },
     "execution_count": 6,
     "metadata": {},
     "output_type": "execute_result"
    }
   ],
   "source": [
    "set(List)"
   ]
  },
  {
   "cell_type": "markdown",
   "id": "252aed7d-e36b-496b-bd02-beef4af59c90",
   "metadata": {},
   "source": [
    "Q4. Explain the difference between the union() and update() methods for a set. Give an example of\n",
    "each method."
   ]
  },
  {
   "cell_type": "markdown",
   "id": "8ba96407-e423-4722-b1cf-6ec28ea829e1",
   "metadata": {},
   "source": [
    "Update - This function updates the set with the union of itself and other set"
   ]
  },
  {
   "cell_type": "code",
   "execution_count": 9,
   "id": "3929fb91-af17-4659-8b5b-0edaa0db0c07",
   "metadata": {},
   "outputs": [],
   "source": [
    "# Let's define the set1 s1\n",
    "s1={1,2,3,4}"
   ]
  },
  {
   "cell_type": "code",
   "execution_count": 10,
   "id": "f38a349a-0622-404d-b613-e8aad9365ce3",
   "metadata": {},
   "outputs": [
    {
     "data": {
      "text/plain": [
       "{1, 2, 3, 4}"
      ]
     },
     "execution_count": 10,
     "metadata": {},
     "output_type": "execute_result"
    }
   ],
   "source": [
    "s1"
   ]
  },
  {
   "cell_type": "code",
   "execution_count": 11,
   "id": "b6ce50a9-5982-44b2-87cb-282c90758085",
   "metadata": {},
   "outputs": [],
   "source": [
    "#Let's define the set2\n",
    "s2={5,6,7,8}"
   ]
  },
  {
   "cell_type": "code",
   "execution_count": 12,
   "id": "a9304bb8-0792-449f-88c5-fc7afece6dfd",
   "metadata": {},
   "outputs": [
    {
     "data": {
      "text/plain": [
       "{5, 6, 7, 8}"
      ]
     },
     "execution_count": 12,
     "metadata": {},
     "output_type": "execute_result"
    }
   ],
   "source": [
    "s2"
   ]
  },
  {
   "cell_type": "code",
   "execution_count": 13,
   "id": "166812db-54e6-44a1-92f5-f5e0a409183b",
   "metadata": {},
   "outputs": [],
   "source": [
    "#update function on set s1 will update the set s1 with the contents from set s2\n",
    "s1.update(s2)"
   ]
  },
  {
   "cell_type": "code",
   "execution_count": 14,
   "id": "5767ced3-b36f-4900-9a37-1d7250612c71",
   "metadata": {},
   "outputs": [
    {
     "data": {
      "text/plain": [
       "{1, 2, 3, 4, 5, 6, 7, 8}"
      ]
     },
     "execution_count": 14,
     "metadata": {},
     "output_type": "execute_result"
    }
   ],
   "source": [
    "s1"
   ]
  },
  {
   "cell_type": "code",
   "execution_count": 15,
   "id": "265c4fa4-e30a-4767-b636-7646305f4fed",
   "metadata": {},
   "outputs": [
    {
     "data": {
      "text/plain": [
       "{5, 6, 7, 8}"
      ]
     },
     "execution_count": 15,
     "metadata": {},
     "output_type": "execute_result"
    }
   ],
   "source": [
    "s2"
   ]
  },
  {
   "cell_type": "markdown",
   "id": "b1a663e9-374e-4170-9551-f6754b9422c4",
   "metadata": {},
   "source": [
    "Union - Returns the union of sets as new set"
   ]
  },
  {
   "cell_type": "code",
   "execution_count": 16,
   "id": "ce482a25-c4c5-4738-ab33-0529da5411f5",
   "metadata": {},
   "outputs": [
    {
     "data": {
      "text/plain": [
       "{1, 2, 3, 4, 5, 6, 7, 8}"
      ]
     },
     "execution_count": 16,
     "metadata": {},
     "output_type": "execute_result"
    }
   ],
   "source": [
    "s1"
   ]
  },
  {
   "cell_type": "code",
   "execution_count": 17,
   "id": "f6add689-494c-49c4-b63a-cbd504768ed7",
   "metadata": {},
   "outputs": [],
   "source": [
    "s3={11,22,33,44,55}"
   ]
  },
  {
   "cell_type": "code",
   "execution_count": 20,
   "id": "d6d1f69e-6348-49aa-bcd9-3dc444c8cefc",
   "metadata": {},
   "outputs": [],
   "source": [
    "s4=s1.union(s3)"
   ]
  },
  {
   "cell_type": "code",
   "execution_count": 21,
   "id": "0f8beb44-5c2e-4448-b6b7-e7b4bd7aada2",
   "metadata": {},
   "outputs": [
    {
     "data": {
      "text/plain": [
       "{1, 2, 3, 4, 5, 6, 7, 8, 11, 22, 33, 44, 55}"
      ]
     },
     "execution_count": 21,
     "metadata": {},
     "output_type": "execute_result"
    }
   ],
   "source": [
    "s4"
   ]
  },
  {
   "cell_type": "code",
   "execution_count": 22,
   "id": "3c7dbcda-a442-47fa-a1bf-d1ee9f2cae5d",
   "metadata": {},
   "outputs": [
    {
     "data": {
      "text/plain": [
       "{1, 2, 3, 4, 5, 6, 7, 8}"
      ]
     },
     "execution_count": 22,
     "metadata": {},
     "output_type": "execute_result"
    }
   ],
   "source": [
    "#s1 remains intact\n",
    "s1"
   ]
  },
  {
   "cell_type": "code",
   "execution_count": 23,
   "id": "26cb2387-48fa-4323-af87-d4fbccd48abb",
   "metadata": {},
   "outputs": [
    {
     "data": {
      "text/plain": [
       "{11, 22, 33, 44, 55}"
      ]
     },
     "execution_count": 23,
     "metadata": {},
     "output_type": "execute_result"
    }
   ],
   "source": [
    "#s3 remains intact\n",
    "s3"
   ]
  },
  {
   "cell_type": "markdown",
   "id": "3d68ce9d-29ef-4a40-b6fb-81b906feb378",
   "metadata": {},
   "source": [
    "Q5. What is a dictionary? Give an example. Also, state whether a dictionary is ordered or unordered."
   ]
  },
  {
   "cell_type": "markdown",
   "id": "e288719a-c687-4af7-8531-14d327ce70ec",
   "metadata": {},
   "source": [
    "Dictionaries are Python’s implementation of a data structure that is more generally known as an associative array. A dictionary consists of a collection of key-value pairs. Each key-value pair maps the key to its associated value.\n",
    "\n",
    "You can define a dictionary by enclosing a comma-separated list of key-value pairs in curly braces ({}). A colon (:) separates each key from its associated value:\n",
    "\n",
    "d = {\n",
    "    <key>: <value>,\n",
    "    <key>: <value>,\n",
    "      .\n",
    "      .\n",
    "      .\n",
    "    <key>: <value>\n",
    "}"
   ]
  },
  {
   "cell_type": "code",
   "execution_count": 28,
   "id": "f91803fc-009f-4ee5-9847-c9d2077107be",
   "metadata": {},
   "outputs": [],
   "source": [
    "#Example\n",
    "Rainbow_Colors = { 'V':\"Violet\",\n",
    "                      \"I\": \"Indigo\",\n",
    "                      \"B\":\"Blue\",\n",
    "                      \"G\":\"Green\",\n",
    "                      \"Y\":\"Yellow\",\n",
    "                      \"O\": \"Orange\",\n",
    "                      \"R\":\"Red\"}"
   ]
  },
  {
   "cell_type": "code",
   "execution_count": 29,
   "id": "2f6ac944-1877-4139-bd4f-1df6c42e6c14",
   "metadata": {},
   "outputs": [
    {
     "data": {
      "text/plain": [
       "{'V': 'Violet',\n",
       " 'I': 'Indigo',\n",
       " 'B': 'Blue',\n",
       " 'G': 'Green',\n",
       " 'Y': 'Yellow',\n",
       " 'O': 'Orange',\n",
       " 'R': 'Red'}"
      ]
     },
     "execution_count": 29,
     "metadata": {},
     "output_type": "execute_result"
    }
   ],
   "source": [
    "Rainbow_Colors"
   ]
  },
  {
   "cell_type": "markdown",
   "id": "8b0bce04-bc1b-49be-921c-3e64d3632fb7",
   "metadata": {},
   "source": [
    "Starting from 3.7, dictionaries are ordered.\n",
    "A simple Hash Table consists of key-value pair arranged in pseudo random order based on the calculations from Hash Function. The traditional implementation of python dict used a sparse array which had lots of unused spaces in between. The new implementation uses a combination of dense array and sparse array, the dense array stores the key-value pair while the sparse array stores the indices to this dense array."
   ]
  },
  {
   "cell_type": "markdown",
   "id": "e541be51-abf8-4d54-8a99-981c7a1e9b22",
   "metadata": {},
   "source": [
    "Q6. Can we create a nested dictionary? If so, please give an example by creating a simple one-level\n",
    "nested dictionary."
   ]
  },
  {
   "cell_type": "markdown",
   "id": "2d7cd6dc-245b-47d7-a335-172d8b0b03d0",
   "metadata": {},
   "source": [
    "Yes, Nested dictionary can be created"
   ]
  },
  {
   "cell_type": "code",
   "execution_count": 6,
   "id": "16bab9fa-3bd8-499f-97aa-e7a8076011ce",
   "metadata": {},
   "outputs": [],
   "source": [
    "pass"
   ]
  },
  {
   "cell_type": "code",
   "execution_count": 7,
   "id": "e1072a90-e87f-49f9-a144-b243b670e42a",
   "metadata": {},
   "outputs": [],
   "source": [
    "pass"
   ]
  },
  {
   "cell_type": "code",
   "execution_count": 8,
   "id": "18ba6a75-3510-4fce-b8fa-4f94b0a1a23b",
   "metadata": {},
   "outputs": [],
   "source": [
    "Rainbow_Colors = { 'V':\"Violet\",\n",
    "                      \"I\": \"Indigo\",\n",
    "                      \"B\":\"Blue\",\n",
    "                      \"G\":\"Green\",\n",
    "                      \"Y\":\"Yellow\",\n",
    "                      \"O\": \"Orange\",\n",
    "                      \"R\":\"Red\"}"
   ]
  },
  {
   "cell_type": "code",
   "execution_count": 9,
   "id": "eeb2a0eb-4a3f-4a6b-a50a-6642fd4d5dd5",
   "metadata": {},
   "outputs": [
    {
     "data": {
      "text/plain": [
       "{'V': 'Violet',\n",
       " 'I': 'Indigo',\n",
       " 'B': 'Blue',\n",
       " 'G': 'Green',\n",
       " 'Y': 'Yellow',\n",
       " 'O': 'Orange',\n",
       " 'R': 'Red'}"
      ]
     },
     "execution_count": 9,
     "metadata": {},
     "output_type": "execute_result"
    }
   ],
   "source": [
    "Rainbow_Colors"
   ]
  },
  {
   "cell_type": "code",
   "execution_count": 11,
   "id": "e3af3890-7456-49e7-993f-37ef0712189a",
   "metadata": {},
   "outputs": [],
   "source": [
    "Rainbow_Colors = { 'V':\"Violet\",\n",
    "                      \"I\": \"Indigo\",\n",
    "                      \"B\":\"Blue\",\n",
    "                      \"G\":\"Green\",\n",
    "                      \"Y\":\"Yellow\",\n",
    "                      \"O\": \"Orange\",\n",
    "                      \"R\":\"Red\",\n",
    "                      \"Base_Colors\" : {\n",
    "                          \"B\" : \"Blue\",\n",
    "                          \"Y\" : \"Yellow\",\n",
    "                          \"G\" : \"Green\",\n",
    "                          \"R\" : \"Red\"\n",
    "                      }\n",
    "                 }"
   ]
  },
  {
   "cell_type": "code",
   "execution_count": 12,
   "id": "aef52d17-287d-4ac8-b8eb-66413162210a",
   "metadata": {},
   "outputs": [
    {
     "data": {
      "text/plain": [
       "{'V': 'Violet',\n",
       " 'I': 'Indigo',\n",
       " 'B': 'Blue',\n",
       " 'G': 'Green',\n",
       " 'Y': 'Yellow',\n",
       " 'O': 'Orange',\n",
       " 'R': 'Red',\n",
       " 'Base_Colors': {'B': 'Blue', 'Y': 'Yellow', 'G': 'Green', 'R': 'Red'}}"
      ]
     },
     "execution_count": 12,
     "metadata": {},
     "output_type": "execute_result"
    }
   ],
   "source": [
    "Rainbow_Colors"
   ]
  },
  {
   "cell_type": "code",
   "execution_count": 13,
   "id": "ee9f0024-2f77-489b-bffe-809838d30dc5",
   "metadata": {},
   "outputs": [
    {
     "data": {
      "text/plain": [
       "{'B': 'Blue', 'Y': 'Yellow', 'G': 'Green', 'R': 'Red'}"
      ]
     },
     "execution_count": 13,
     "metadata": {},
     "output_type": "execute_result"
    }
   ],
   "source": [
    "Rainbow_Colors[\"Base_Colors\"]"
   ]
  },
  {
   "cell_type": "markdown",
   "id": "92ffe663-bc7c-4247-b127-e43df0574ec0",
   "metadata": {},
   "source": [
    "Q7. Using setdefault() method, create key named topics in the given dictionary and also add the value of\n",
    "the key as this list ['Python', 'Machine Learning’, 'Deep Learning']\n",
    "dict1 = {'language' : 'Python', 'course': 'Data Science Masters'}"
   ]
  },
  {
   "cell_type": "markdown",
   "id": "42a82da0-09ce-4b25-8abf-10e85ac17a8c",
   "metadata": {},
   "source": [
    "The setdefault() method returns the value of the item with the specified key.\n",
    "\n",
    "If the key does not exist, insert the key, with the specified value,"
   ]
  },
  {
   "cell_type": "code",
   "execution_count": 14,
   "id": "f6eb1221-b18c-433e-b4ca-c449850eea1e",
   "metadata": {},
   "outputs": [],
   "source": [
    "dict1 = {'language' : 'Python', 'course': 'Data Science Masters'}"
   ]
  },
  {
   "cell_type": "code",
   "execution_count": 15,
   "id": "4660b714-b9c5-4fa7-9781-9c54b58ba9ab",
   "metadata": {},
   "outputs": [
    {
     "data": {
      "text/plain": [
       "{'language': 'Python', 'course': 'Data Science Masters'}"
      ]
     },
     "execution_count": 15,
     "metadata": {},
     "output_type": "execute_result"
    }
   ],
   "source": [
    "dict1"
   ]
  },
  {
   "cell_type": "code",
   "execution_count": 16,
   "id": "8d1958aa-8d39-41eb-8dc9-b7c4dfccfd48",
   "metadata": {},
   "outputs": [
    {
     "data": {
      "text/plain": [
       "['Python', 'Machine Learning', 'Deep Learning']"
      ]
     },
     "execution_count": 16,
     "metadata": {},
     "output_type": "execute_result"
    }
   ],
   "source": [
    "dict1.setdefault(\"Topics\",['Python', 'Machine Learning','Deep Learning'])"
   ]
  },
  {
   "cell_type": "code",
   "execution_count": 17,
   "id": "f0bc8750-eb97-4ae0-8586-0a2b3539e154",
   "metadata": {},
   "outputs": [
    {
     "data": {
      "text/plain": [
       "{'language': 'Python',\n",
       " 'course': 'Data Science Masters',\n",
       " 'Topics': ['Python', 'Machine Learning', 'Deep Learning']}"
      ]
     },
     "execution_count": 17,
     "metadata": {},
     "output_type": "execute_result"
    }
   ],
   "source": [
    "dict1"
   ]
  },
  {
   "cell_type": "markdown",
   "id": "2382b832-099a-41ea-820e-1c6b582366cb",
   "metadata": {},
   "source": [
    "Q8. What are the three view objects in dictionaries? Use the three in-built methods in python to display\n",
    "these three view objects for the given dictionary.\n",
    "dict1 = {'Sport': 'Cricket' , 'Teams': ['India', 'Australia', 'England', 'South Africa', 'Sri Lanka', 'New Zealand']}"
   ]
  },
  {
   "cell_type": "markdown",
   "id": "39423c47-a923-4a49-909b-2d152d893c41",
   "metadata": {},
   "source": [
    "A view on a dictionary object, acts as a read-only reference to certain parts of the dictionary. These parts are keys, values and the items(key+value i,e., the name value pairs)."
   ]
  },
  {
   "cell_type": "markdown",
   "id": "efed4b98-2119-4e9c-9c48-c3d88e2844e2",
   "metadata": {},
   "source": [
    "3 view objects are keys,values and items"
   ]
  },
  {
   "cell_type": "code",
   "execution_count": 18,
   "id": "0f9b6f5a-5975-40f5-abca-dee626985508",
   "metadata": {},
   "outputs": [],
   "source": [
    "dict1 = {'Sport': 'Cricket' , 'Teams': ['India', 'Australia', 'England', 'South Africa', 'Sri Lanka', 'New Zealand']}"
   ]
  },
  {
   "cell_type": "code",
   "execution_count": 19,
   "id": "f873c1fc-2d25-4d49-8573-3e9081430412",
   "metadata": {},
   "outputs": [
    {
     "data": {
      "text/plain": [
       "{'Sport': 'Cricket',\n",
       " 'Teams': ['India',\n",
       "  'Australia',\n",
       "  'England',\n",
       "  'South Africa',\n",
       "  'Sri Lanka',\n",
       "  'New Zealand']}"
      ]
     },
     "execution_count": 19,
     "metadata": {},
     "output_type": "execute_result"
    }
   ],
   "source": [
    "dict1"
   ]
  },
  {
   "cell_type": "code",
   "execution_count": 20,
   "id": "16c0d71e-ee1b-44be-a7c2-874d1dfb1899",
   "metadata": {},
   "outputs": [
    {
     "data": {
      "text/plain": [
       "dict_keys(['Sport', 'Teams'])"
      ]
     },
     "execution_count": 20,
     "metadata": {},
     "output_type": "execute_result"
    }
   ],
   "source": [
    "#Keys\n",
    "dict1.keys()"
   ]
  },
  {
   "cell_type": "code",
   "execution_count": 21,
   "id": "028ca837-80bb-49c6-b66b-b09d1727c994",
   "metadata": {},
   "outputs": [
    {
     "data": {
      "text/plain": [
       "dict_values(['Cricket', ['India', 'Australia', 'England', 'South Africa', 'Sri Lanka', 'New Zealand']])"
      ]
     },
     "execution_count": 21,
     "metadata": {},
     "output_type": "execute_result"
    }
   ],
   "source": [
    "#Values\n",
    "dict1.values()"
   ]
  },
  {
   "cell_type": "code",
   "execution_count": 22,
   "id": "7ec7ead9-ec4d-4f36-bede-75f6f9b6c46b",
   "metadata": {},
   "outputs": [
    {
     "data": {
      "text/plain": [
       "dict_items([('Sport', 'Cricket'), ('Teams', ['India', 'Australia', 'England', 'South Africa', 'Sri Lanka', 'New Zealand'])])"
      ]
     },
     "execution_count": 22,
     "metadata": {},
     "output_type": "execute_result"
    }
   ],
   "source": [
    "#Key Value Pairs\n",
    "dict1.items()"
   ]
  },
  {
   "cell_type": "code",
   "execution_count": null,
   "id": "68bf1a13-8ec2-4a6b-823b-086122b13076",
   "metadata": {},
   "outputs": [],
   "source": []
  }
 ],
 "metadata": {
  "kernelspec": {
   "display_name": "Python 3 (ipykernel)",
   "language": "python",
   "name": "python3"
  },
  "language_info": {
   "codemirror_mode": {
    "name": "ipython",
    "version": 3
   },
   "file_extension": ".py",
   "mimetype": "text/x-python",
   "name": "python",
   "nbconvert_exporter": "python",
   "pygments_lexer": "ipython3",
   "version": "3.10.8"
  }
 },
 "nbformat": 4,
 "nbformat_minor": 5
}
