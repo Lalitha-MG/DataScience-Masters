{
 "cells": [
  {
   "cell_type": "code",
   "execution_count": 1,
   "id": "028f7071-e1ac-4d8e-83bd-97ae4426f7b0",
   "metadata": {},
   "outputs": [],
   "source": [
    "t=()"
   ]
  },
  {
   "cell_type": "code",
   "execution_count": 2,
   "id": "bee68160-b05a-41ba-88b6-a911f4244325",
   "metadata": {},
   "outputs": [
    {
     "data": {
      "text/plain": [
       "tuple"
      ]
     },
     "execution_count": 2,
     "metadata": {},
     "output_type": "execute_result"
    }
   ],
   "source": [
    "type(t)"
   ]
  },
  {
   "cell_type": "code",
   "execution_count": 3,
   "id": "7963c317-b52e-4a28-a970-a2e9d90ecd5a",
   "metadata": {},
   "outputs": [],
   "source": [
    "t=(1,2.3,1+7j,\"Lalitha\",True)"
   ]
  },
  {
   "cell_type": "code",
   "execution_count": 4,
   "id": "c6165f43-25d0-481b-bc43-21983b632bbf",
   "metadata": {},
   "outputs": [
    {
     "data": {
      "text/plain": [
       "(1, 2.3, (1+7j), 'Lalitha', True)"
      ]
     },
     "execution_count": 4,
     "metadata": {},
     "output_type": "execute_result"
    }
   ],
   "source": [
    "t"
   ]
  },
  {
   "cell_type": "code",
   "execution_count": 5,
   "id": "972104f0-2be6-46ef-80fd-62fae12bb0c2",
   "metadata": {},
   "outputs": [
    {
     "data": {
      "text/plain": [
       "1"
      ]
     },
     "execution_count": 5,
     "metadata": {},
     "output_type": "execute_result"
    }
   ],
   "source": [
    "t[0]"
   ]
  },
  {
   "cell_type": "code",
   "execution_count": 6,
   "id": "d3dfaedd-41b9-42af-bc09-20bbb2829cf7",
   "metadata": {},
   "outputs": [
    {
     "data": {
      "text/plain": [
       "'Lalitha'"
      ]
     },
     "execution_count": 6,
     "metadata": {},
     "output_type": "execute_result"
    }
   ],
   "source": [
    "t[3]"
   ]
  },
  {
   "cell_type": "code",
   "execution_count": 7,
   "id": "c6c740fc-a695-44f0-bbda-02c4d5efd97f",
   "metadata": {},
   "outputs": [
    {
     "data": {
      "text/plain": [
       "(True, 'Lalitha', (1+7j), 2.3, 1)"
      ]
     },
     "execution_count": 7,
     "metadata": {},
     "output_type": "execute_result"
    }
   ],
   "source": [
    "t[::-1]"
   ]
  },
  {
   "cell_type": "code",
   "execution_count": 8,
   "id": "e86c990c-8bca-4099-a375-2ec54145a001",
   "metadata": {},
   "outputs": [
    {
     "data": {
      "text/plain": [
       "(1, 2.3)"
      ]
     },
     "execution_count": 8,
     "metadata": {},
     "output_type": "execute_result"
    }
   ],
   "source": [
    "t[0:2:1]"
   ]
  },
  {
   "cell_type": "code",
   "execution_count": 10,
   "id": "82b4b7e2-2cfa-453a-9bea-30c9608d9bca",
   "metadata": {},
   "outputs": [
    {
     "data": {
      "text/plain": [
       "2"
      ]
     },
     "execution_count": 10,
     "metadata": {},
     "output_type": "execute_result"
    }
   ],
   "source": [
    "t.count(1)"
   ]
  },
  {
   "cell_type": "code",
   "execution_count": 11,
   "id": "471a7476-8f3d-4629-b162-cbcd2f22eb32",
   "metadata": {},
   "outputs": [
    {
     "data": {
      "text/plain": [
       "(1, 2.3, (1+7j), 'Lalitha', True)"
      ]
     },
     "execution_count": 11,
     "metadata": {},
     "output_type": "execute_result"
    }
   ],
   "source": [
    "t"
   ]
  },
  {
   "cell_type": "code",
   "execution_count": 12,
   "id": "dd82d88a-2763-4be4-bb4d-e23011966dbb",
   "metadata": {},
   "outputs": [
    {
     "data": {
      "text/plain": [
       "2"
      ]
     },
     "execution_count": 12,
     "metadata": {},
     "output_type": "execute_result"
    }
   ],
   "source": [
    "t.count(True)"
   ]
  },
  {
   "cell_type": "code",
   "execution_count": 13,
   "id": "96399fc5-14a0-4735-a746-4faa9d0a9d56",
   "metadata": {},
   "outputs": [
    {
     "data": {
      "text/plain": [
       "(1, 2.3, (1+7j), 'Lalitha', True)"
      ]
     },
     "execution_count": 13,
     "metadata": {},
     "output_type": "execute_result"
    }
   ],
   "source": [
    "t"
   ]
  },
  {
   "cell_type": "code",
   "execution_count": 14,
   "id": "528e454c-83f6-4d5a-b09b-e06d857f7f7b",
   "metadata": {},
   "outputs": [
    {
     "data": {
      "text/plain": [
       "0"
      ]
     },
     "execution_count": 14,
     "metadata": {},
     "output_type": "execute_result"
    }
   ],
   "source": [
    "t.count('Z')"
   ]
  },
  {
   "cell_type": "code",
   "execution_count": 15,
   "id": "99dd1c6d-e1d5-4e66-a96f-7c759bbeb7ea",
   "metadata": {},
   "outputs": [
    {
     "data": {
      "text/plain": [
       "0"
      ]
     },
     "execution_count": 15,
     "metadata": {},
     "output_type": "execute_result"
    }
   ],
   "source": [
    "t.index(1)"
   ]
  },
  {
   "cell_type": "code",
   "execution_count": 16,
   "id": "8b0723a7-88be-4b99-b70b-1dd916810a8a",
   "metadata": {},
   "outputs": [],
   "source": [
    "t=(1,2,3,4,1)"
   ]
  },
  {
   "cell_type": "code",
   "execution_count": 17,
   "id": "6f45b015-aac3-47ae-9105-a5e4c79decf6",
   "metadata": {},
   "outputs": [
    {
     "data": {
      "text/plain": [
       "0"
      ]
     },
     "execution_count": 17,
     "metadata": {},
     "output_type": "execute_result"
    }
   ],
   "source": [
    "t.index(1)"
   ]
  },
  {
   "cell_type": "code",
   "execution_count": 18,
   "id": "191342d4-abd0-40b6-b28c-20ec6df86f73",
   "metadata": {},
   "outputs": [
    {
     "data": {
      "text/plain": [
       "1"
      ]
     },
     "execution_count": 18,
     "metadata": {},
     "output_type": "execute_result"
    }
   ],
   "source": [
    "t.index(2)"
   ]
  },
  {
   "cell_type": "code",
   "execution_count": 19,
   "id": "125ee480-2f34-429a-8d74-1885d9df0dfb",
   "metadata": {},
   "outputs": [],
   "source": [
    "# Comment"
   ]
  },
  {
   "cell_type": "code",
   "execution_count": 20,
   "id": "674817f6-ecf9-49c0-bdba-0fc8b5cf314a",
   "metadata": {},
   "outputs": [],
   "source": [
    "##Comment"
   ]
  },
  {
   "cell_type": "code",
   "execution_count": 21,
   "id": "c4b1d1f6-8816-4deb-8d6b-35ba8c220039",
   "metadata": {},
   "outputs": [],
   "source": [
    "###Comment"
   ]
  },
  {
   "cell_type": "code",
   "execution_count": 22,
   "id": "8d40bb23-16b9-48ea-a94a-919d1f6bb7a0",
   "metadata": {},
   "outputs": [
    {
     "ename": "TypeError",
     "evalue": "'tuple' object does not support item assignment",
     "output_type": "error",
     "traceback": [
      "\u001b[0;31m---------------------------------------------------------------------------\u001b[0m",
      "\u001b[0;31mTypeError\u001b[0m                                 Traceback (most recent call last)",
      "Cell \u001b[0;32mIn[22], line 1\u001b[0m\n\u001b[0;32m----> 1\u001b[0m \u001b[43mt\u001b[49m\u001b[43m[\u001b[49m\u001b[38;5;241;43m0\u001b[39;49m\u001b[43m]\u001b[49m\u001b[38;5;241m=\u001b[39m\u001b[38;5;241m100\u001b[39m\n",
      "\u001b[0;31mTypeError\u001b[0m: 'tuple' object does not support item assignment"
     ]
    }
   ],
   "source": [
    "t[0]=100"
   ]
  },
  {
   "cell_type": "code",
   "execution_count": 23,
   "id": "b3453821-ce2b-4e9a-afcc-13f8e4802eab",
   "metadata": {},
   "outputs": [],
   "source": [
    "l=[1,2,3,4]"
   ]
  },
  {
   "cell_type": "code",
   "execution_count": 24,
   "id": "6599ad19-bbd1-46c6-9dbb-30f380d8413a",
   "metadata": {},
   "outputs": [],
   "source": [
    "l[0]=100"
   ]
  },
  {
   "cell_type": "code",
   "execution_count": 25,
   "id": "2c5ba741-732e-446d-b899-cad5d260fd0a",
   "metadata": {},
   "outputs": [
    {
     "data": {
      "text/plain": [
       "[100, 2, 3, 4]"
      ]
     },
     "execution_count": 25,
     "metadata": {},
     "output_type": "execute_result"
    }
   ],
   "source": [
    "l"
   ]
  },
  {
   "cell_type": "code",
   "execution_count": 26,
   "id": "892648c3-d32a-4f8e-a307-55118cb5e754",
   "metadata": {},
   "outputs": [
    {
     "data": {
      "text/plain": [
       "(1, 2, 3, 4, 1)"
      ]
     },
     "execution_count": 26,
     "metadata": {},
     "output_type": "execute_result"
    }
   ],
   "source": [
    "t"
   ]
  },
  {
   "cell_type": "code",
   "execution_count": 28,
   "id": "37185b58-75cc-4e60-be9b-0f253e32c3f4",
   "metadata": {},
   "outputs": [
    {
     "name": "stdout",
     "output_type": "stream",
     "text": [
      "1 <class 'int'>\n",
      "2 <class 'int'>\n",
      "3 <class 'int'>\n",
      "4 <class 'int'>\n",
      "1 <class 'int'>\n"
     ]
    }
   ],
   "source": [
    "for i in t:\n",
    "    print(i,type(i))"
   ]
  },
  {
   "cell_type": "code",
   "execution_count": 29,
   "id": "2340f446-eabf-44c2-9201-8ea68e58d3e7",
   "metadata": {},
   "outputs": [
    {
     "ename": "NameError",
     "evalue": "name 'python' is not defined",
     "output_type": "error",
     "traceback": [
      "\u001b[0;31m---------------------------------------------------------------------------\u001b[0m",
      "\u001b[0;31mNameError\u001b[0m                                 Traceback (most recent call last)",
      "Cell \u001b[0;32mIn[29], line 1\u001b[0m\n\u001b[0;32m----> 1\u001b[0m \u001b[43mpython\u001b[49m \u001b[38;5;241m-\u001b[39m\u001b[38;5;241m-\u001b[39mversion\n",
      "\u001b[0;31mNameError\u001b[0m: name 'python' is not defined"
     ]
    }
   ],
   "source": [
    "python --version"
   ]
  },
  {
   "cell_type": "code",
   "execution_count": 30,
   "id": "f67bee6a-518a-42e8-8416-e372237d7dd9",
   "metadata": {},
   "outputs": [
    {
     "ename": "NameError",
     "evalue": "name 'msx' is not defined",
     "output_type": "error",
     "traceback": [
      "\u001b[0;31m---------------------------------------------------------------------------\u001b[0m",
      "\u001b[0;31mNameError\u001b[0m                                 Traceback (most recent call last)",
      "Cell \u001b[0;32mIn[30], line 1\u001b[0m\n\u001b[0;32m----> 1\u001b[0m \u001b[43mmsx\u001b[49m(t)\n",
      "\u001b[0;31mNameError\u001b[0m: name 'msx' is not defined"
     ]
    }
   ],
   "source": [
    "msx(t)"
   ]
  },
  {
   "cell_type": "markdown",
   "id": "cf041430-08aa-45c5-b98e-5de8d2643397",
   "metadata": {},
   "source": [
    "t.max()"
   ]
  },
  {
   "cell_type": "code",
   "execution_count": 32,
   "id": "d043198c-d1bc-40d0-9469-abc2d0ad7bce",
   "metadata": {},
   "outputs": [
    {
     "ename": "NameError",
     "evalue": "name 'msx' is not defined",
     "output_type": "error",
     "traceback": [
      "\u001b[0;31m---------------------------------------------------------------------------\u001b[0m",
      "\u001b[0;31mNameError\u001b[0m                                 Traceback (most recent call last)",
      "Cell \u001b[0;32mIn[32], line 1\u001b[0m\n\u001b[0;32m----> 1\u001b[0m \u001b[43mmsx\u001b[49m(t)\n",
      "\u001b[0;31mNameError\u001b[0m: name 'msx' is not defined"
     ]
    }
   ],
   "source": [
    "msx(t)"
   ]
  },
  {
   "cell_type": "code",
   "execution_count": 33,
   "id": "2ec00529-7132-4f37-820e-e7b7371fd79a",
   "metadata": {},
   "outputs": [
    {
     "data": {
      "text/plain": [
       "4"
      ]
     },
     "execution_count": 33,
     "metadata": {},
     "output_type": "execute_result"
    }
   ],
   "source": [
    "max(t)"
   ]
  },
  {
   "cell_type": "code",
   "execution_count": 34,
   "id": "3a0553da-00b5-4dc8-a8f0-b72a40066fe6",
   "metadata": {},
   "outputs": [
    {
     "data": {
      "text/plain": [
       "1"
      ]
     },
     "execution_count": 34,
     "metadata": {},
     "output_type": "execute_result"
    }
   ],
   "source": [
    "min(t)"
   ]
  },
  {
   "cell_type": "code",
   "execution_count": 35,
   "id": "270aca59-b32d-45a7-939c-546f88df23d9",
   "metadata": {},
   "outputs": [],
   "source": [
    "import sys"
   ]
  },
  {
   "cell_type": "code",
   "execution_count": 51,
   "id": "188126d0-f9ef-4ff1-a60e-4549fd26f4fa",
   "metadata": {},
   "outputs": [
    {
     "name": "stdout",
     "output_type": "stream",
     "text": [
      "3.10.8 | packaged by conda-forge | (main, Nov 22 2022, 08:26:04) [GCC 10.4.0]\n"
     ]
    }
   ],
   "source": [
    "print(sys.version)"
   ]
  },
  {
   "cell_type": "code",
   "execution_count": 38,
   "id": "0307da17-e1db-4658-9ef4-568044368ecb",
   "metadata": {},
   "outputs": [],
   "source": [
    "T=(1,2,3,(4,5,6),(7,8,9))"
   ]
  },
  {
   "cell_type": "code",
   "execution_count": 39,
   "id": "c8fd5380-2215-48a1-9cc6-194cb9099621",
   "metadata": {},
   "outputs": [
    {
     "data": {
      "text/plain": [
       "(1, 2, 3, (4, 5, 6), (7, 8, 9))"
      ]
     },
     "execution_count": 39,
     "metadata": {},
     "output_type": "execute_result"
    }
   ],
   "source": [
    "T"
   ]
  },
  {
   "cell_type": "code",
   "execution_count": 40,
   "id": "6b8db892-ed41-4f2f-ae2a-ce9dcf2a6bba",
   "metadata": {},
   "outputs": [],
   "source": [
    "T1=(11,23,34)"
   ]
  },
  {
   "cell_type": "code",
   "execution_count": 41,
   "id": "e8dc7e2b-b754-44d9-b321-ad7f0f3e67d4",
   "metadata": {},
   "outputs": [],
   "source": [
    "T2=(T,T1)"
   ]
  },
  {
   "cell_type": "code",
   "execution_count": 42,
   "id": "58709a0e-944d-4889-8dc3-4af5eed0f855",
   "metadata": {},
   "outputs": [
    {
     "data": {
      "text/plain": [
       "((1, 2, 3, (4, 5, 6), (7, 8, 9)), (11, 23, 34))"
      ]
     },
     "execution_count": 42,
     "metadata": {},
     "output_type": "execute_result"
    }
   ],
   "source": [
    "T2"
   ]
  },
  {
   "cell_type": "code",
   "execution_count": 43,
   "id": "a1fb10ff-19e7-4156-9b17-51bd5f21ba56",
   "metadata": {},
   "outputs": [],
   "source": [
    "del(T)"
   ]
  },
  {
   "cell_type": "code",
   "execution_count": 44,
   "id": "5392025b-4c6f-465c-a8dd-afdf6f92c74d",
   "metadata": {},
   "outputs": [
    {
     "data": {
      "text/plain": [
       "((1, 2, 3, (4, 5, 6), (7, 8, 9)), (11, 23, 34))"
      ]
     },
     "execution_count": 44,
     "metadata": {},
     "output_type": "execute_result"
    }
   ],
   "source": [
    "T2"
   ]
  },
  {
   "cell_type": "code",
   "execution_count": 45,
   "id": "167d640a-7c5d-4cc4-96b6-4c40ec6cadb6",
   "metadata": {},
   "outputs": [
    {
     "ename": "NameError",
     "evalue": "name 'T' is not defined",
     "output_type": "error",
     "traceback": [
      "\u001b[0;31m---------------------------------------------------------------------------\u001b[0m",
      "\u001b[0;31mNameError\u001b[0m                                 Traceback (most recent call last)",
      "Cell \u001b[0;32mIn[45], line 1\u001b[0m\n\u001b[0;32m----> 1\u001b[0m \u001b[43mT\u001b[49m\n",
      "\u001b[0;31mNameError\u001b[0m: name 'T' is not defined"
     ]
    }
   ],
   "source": [
    "T"
   ]
  },
  {
   "cell_type": "code",
   "execution_count": 46,
   "id": "7b6ef466-ca37-40c4-a7b3-a3f81541ac3b",
   "metadata": {},
   "outputs": [
    {
     "data": {
      "text/plain": [
       "((1, 2, 3, (4, 5, 6), (7, 8, 9)), (11, 23, 34))"
      ]
     },
     "execution_count": 46,
     "metadata": {},
     "output_type": "execute_result"
    }
   ],
   "source": [
    "T2"
   ]
  },
  {
   "cell_type": "code",
   "execution_count": 47,
   "id": "efc9355f-bfb4-4b27-b334-8ade01398ea1",
   "metadata": {},
   "outputs": [
    {
     "data": {
      "text/plain": [
       "2"
      ]
     },
     "execution_count": 47,
     "metadata": {},
     "output_type": "execute_result"
    }
   ],
   "source": [
    "len(T2)"
   ]
  },
  {
   "cell_type": "code",
   "execution_count": 48,
   "id": "a58d14e3-dd22-44d2-84d6-00ee90e0e41f",
   "metadata": {},
   "outputs": [
    {
     "data": {
      "text/plain": [
       "False"
      ]
     },
     "execution_count": 48,
     "metadata": {},
     "output_type": "execute_result"
    }
   ],
   "source": [
    "\"Lalitha\" in T2"
   ]
  },
  {
   "cell_type": "code",
   "execution_count": 49,
   "id": "da00aa83-2589-496c-8287-345bdd1b5c6e",
   "metadata": {},
   "outputs": [
    {
     "data": {
      "text/plain": [
       "True"
      ]
     },
     "execution_count": 49,
     "metadata": {},
     "output_type": "execute_result"
    }
   ],
   "source": [
    "(11,23,34) in T2"
   ]
  },
  {
   "cell_type": "code",
   "execution_count": 50,
   "id": "1e069314-a53f-495a-a1bf-0106b56a6c27",
   "metadata": {},
   "outputs": [
    {
     "data": {
      "text/plain": [
       "False"
      ]
     },
     "execution_count": 50,
     "metadata": {},
     "output_type": "execute_result"
    }
   ],
   "source": [
    "11 in T2"
   ]
  },
  {
   "cell_type": "code",
   "execution_count": 52,
   "id": "6826f4c7-8362-4e09-9fdf-a1d5125b5b84",
   "metadata": {},
   "outputs": [
    {
     "name": "stdout",
     "output_type": "stream",
     "text": [
      "{1, 4, 9, 16, 25}\n"
     ]
    }
   ],
   "source": [
    "numbers = (1,2,3,4,5, 5,4,3,2,1)\n",
    "\n",
    "list=[]\n",
    "\n",
    "for number in numbers:\n",
    "\n",
    "   list.append(number**2)\n",
    "\n",
    "print(set(list))"
   ]
  },
  {
   "cell_type": "code",
   "execution_count": 1,
   "id": "df907c7a-ec0c-4272-8121-5af450a1def1",
   "metadata": {},
   "outputs": [],
   "source": [
    "s={}"
   ]
  },
  {
   "cell_type": "code",
   "execution_count": 2,
   "id": "1a49982c-52e9-4d82-bb4a-938166f867c2",
   "metadata": {},
   "outputs": [
    {
     "data": {
      "text/plain": [
       "dict"
      ]
     },
     "execution_count": 2,
     "metadata": {},
     "output_type": "execute_result"
    }
   ],
   "source": [
    "type(s)"
   ]
  },
  {
   "cell_type": "code",
   "execution_count": 3,
   "id": "e200abd4-a258-407a-ae3f-6bf521655b84",
   "metadata": {},
   "outputs": [],
   "source": [
    "s={1,2,3}"
   ]
  },
  {
   "cell_type": "code",
   "execution_count": 4,
   "id": "5ff1d351-94ef-4959-9dce-ea6dd58df2b2",
   "metadata": {},
   "outputs": [
    {
     "data": {
      "text/plain": [
       "set"
      ]
     },
     "execution_count": 4,
     "metadata": {},
     "output_type": "execute_result"
    }
   ],
   "source": [
    "type(s)"
   ]
  },
  {
   "cell_type": "code",
   "execution_count": 5,
   "id": "22ba07f3-26b5-475f-87f5-4eea7d640e7b",
   "metadata": {},
   "outputs": [],
   "source": [
    "s2={1,1,1,2,2,2,3,3,3}"
   ]
  },
  {
   "cell_type": "code",
   "execution_count": 6,
   "id": "15b62abe-ded1-4b70-bd1f-b3f758526da0",
   "metadata": {},
   "outputs": [
    {
     "data": {
      "text/plain": [
       "{1, 2, 3}"
      ]
     },
     "execution_count": 6,
     "metadata": {},
     "output_type": "execute_result"
    }
   ],
   "source": [
    "s2"
   ]
  },
  {
   "cell_type": "code",
   "execution_count": 7,
   "id": "cdc27090-e40c-43fb-9fbe-0c6bfb6c26b3",
   "metadata": {},
   "outputs": [
    {
     "data": {
      "text/plain": [
       "[1, 2, 3]"
      ]
     },
     "execution_count": 7,
     "metadata": {},
     "output_type": "execute_result"
    }
   ],
   "source": [
    "list(s2)"
   ]
  },
  {
   "cell_type": "code",
   "execution_count": 8,
   "id": "af334387-87ed-4226-9e18-d7884f6a4a63",
   "metadata": {},
   "outputs": [
    {
     "data": {
      "text/plain": [
       "(1, 2, 3)"
      ]
     },
     "execution_count": 8,
     "metadata": {},
     "output_type": "execute_result"
    }
   ],
   "source": [
    "tuple(s2)"
   ]
  },
  {
   "cell_type": "code",
   "execution_count": 9,
   "id": "60267bb2-a1c7-40bb-8552-6757dd7281f2",
   "metadata": {},
   "outputs": [],
   "source": [
    "l=[1,1,2,3,4]"
   ]
  },
  {
   "cell_type": "code",
   "execution_count": 10,
   "id": "cb119d93-90d3-4f56-a822-4290f18292b7",
   "metadata": {},
   "outputs": [
    {
     "data": {
      "text/plain": [
       "[1, 1, 2, 3, 4]"
      ]
     },
     "execution_count": 10,
     "metadata": {},
     "output_type": "execute_result"
    }
   ],
   "source": [
    "l\n"
   ]
  },
  {
   "cell_type": "code",
   "execution_count": 11,
   "id": "9b3475ca-811b-431e-9150-200c6d940808",
   "metadata": {},
   "outputs": [
    {
     "data": {
      "text/plain": [
       "{1, 2, 3, 4}"
      ]
     },
     "execution_count": 11,
     "metadata": {},
     "output_type": "execute_result"
    }
   ],
   "source": [
    "set(l)"
   ]
  },
  {
   "cell_type": "code",
   "execution_count": 12,
   "id": "78905aa8-a90f-4dec-adf2-bdd61b33bf41",
   "metadata": {},
   "outputs": [
    {
     "ename": "TypeError",
     "evalue": "unhashable type: 'list'",
     "output_type": "error",
     "traceback": [
      "\u001b[0;31m---------------------------------------------------------------------------\u001b[0m",
      "\u001b[0;31mTypeError\u001b[0m                                 Traceback (most recent call last)",
      "Cell \u001b[0;32mIn[12], line 1\u001b[0m\n\u001b[0;32m----> 1\u001b[0m s2\u001b[38;5;241m=\u001b[39m{\u001b[38;5;241m1\u001b[39m,\u001b[38;5;241m2\u001b[39m,\u001b[38;5;241m3\u001b[39m,[\u001b[38;5;241m1\u001b[39m,\u001b[38;5;241m2\u001b[39m,\u001b[38;5;241m3\u001b[39m]}\n",
      "\u001b[0;31mTypeError\u001b[0m: unhashable type: 'list'"
     ]
    }
   ],
   "source": [
    "s2={1,2,3,[1,2,3]}"
   ]
  },
  {
   "cell_type": "code",
   "execution_count": 13,
   "id": "e32833c1-9319-4be0-a76e-924fe803bd5b",
   "metadata": {},
   "outputs": [
    {
     "data": {
      "text/plain": [
       "3"
      ]
     },
     "execution_count": 13,
     "metadata": {},
     "output_type": "execute_result"
    }
   ],
   "source": [
    "len(s2)"
   ]
  },
  {
   "cell_type": "code",
   "execution_count": 14,
   "id": "70ee26bd-636a-4c2b-8211-71a03b0db63e",
   "metadata": {},
   "outputs": [
    {
     "data": {
      "text/plain": [
       "{1, 2, 3}"
      ]
     },
     "execution_count": 14,
     "metadata": {},
     "output_type": "execute_result"
    }
   ],
   "source": [
    "s2"
   ]
  },
  {
   "cell_type": "code",
   "execution_count": 15,
   "id": "f78a884b-8530-474a-b312-5b0c7bf0afd7",
   "metadata": {},
   "outputs": [
    {
     "data": {
      "text/plain": [
       "1"
      ]
     },
     "execution_count": 15,
     "metadata": {},
     "output_type": "execute_result"
    }
   ],
   "source": [
    "s2.pop()"
   ]
  },
  {
   "cell_type": "code",
   "execution_count": 16,
   "id": "e5f159de-7b4a-4b7e-b895-8f53f9335324",
   "metadata": {},
   "outputs": [
    {
     "data": {
      "text/plain": [
       "2"
      ]
     },
     "execution_count": 16,
     "metadata": {},
     "output_type": "execute_result"
    }
   ],
   "source": [
    "s2.pop()"
   ]
  },
  {
   "cell_type": "code",
   "execution_count": 17,
   "id": "14f85a8d-f656-4636-9f1b-74987a6ee571",
   "metadata": {},
   "outputs": [
    {
     "data": {
      "text/plain": [
       "{3}"
      ]
     },
     "execution_count": 17,
     "metadata": {},
     "output_type": "execute_result"
    }
   ],
   "source": [
    "s2"
   ]
  },
  {
   "cell_type": "code",
   "execution_count": 18,
   "id": "7796291a-60d9-441b-b969-b26dbaff9c5e",
   "metadata": {},
   "outputs": [],
   "source": [
    "s2.clear()"
   ]
  },
  {
   "cell_type": "code",
   "execution_count": 19,
   "id": "14a189db-bd6e-4629-a351-e8d9d3dd3cbd",
   "metadata": {},
   "outputs": [
    {
     "data": {
      "text/plain": [
       "set()"
      ]
     },
     "execution_count": 19,
     "metadata": {},
     "output_type": "execute_result"
    }
   ],
   "source": [
    "s2"
   ]
  },
  {
   "cell_type": "code",
   "execution_count": 20,
   "id": "9c25cfac-f61f-4bb5-b99f-49a9846ab631",
   "metadata": {},
   "outputs": [
    {
     "data": {
      "text/plain": [
       "False"
      ]
     },
     "execution_count": 20,
     "metadata": {},
     "output_type": "execute_result"
    }
   ],
   "source": [
    "not(True) or False and True "
   ]
  },
  {
   "cell_type": "code",
   "execution_count": 21,
   "id": "0b972e7a-7e62-4e5e-9fef-a2b2d4e2c5fb",
   "metadata": {},
   "outputs": [],
   "source": [
    "s=\"Lali\""
   ]
  },
  {
   "cell_type": "code",
   "execution_count": 22,
   "id": "1e008f70-3a71-477a-99e9-476f6fed1a14",
   "metadata": {},
   "outputs": [
    {
     "data": {
      "text/plain": [
       "'p w s k i l l s'"
      ]
     },
     "execution_count": 22,
     "metadata": {},
     "output_type": "execute_result"
    }
   ],
   "source": [
    "string = \"p w s k i l l s\"\n",
    "\n",
    "\" \".join(string.replace(\" \", \"\"))"
   ]
  },
  {
   "cell_type": "code",
   "execution_count": 23,
   "id": "0b58d821-0d36-4dc7-ae0d-13b6c97b3182",
   "metadata": {},
   "outputs": [
    {
     "data": {
      "text/plain": [
       "'p w s k i l l s'"
      ]
     },
     "execution_count": 23,
     "metadata": {},
     "output_type": "execute_result"
    }
   ],
   "source": [
    "string = \"p w s k i l l s\"\n",
    "\n",
    "\" \".join(string.replace(\" \", \"\"))"
   ]
  },
  {
   "cell_type": "code",
   "execution_count": 24,
   "id": "b40dfaad-e822-43f0-b6ab-6fb2b7b1581e",
   "metadata": {},
   "outputs": [
    {
     "data": {
      "text/plain": [
       "'pwskills'"
      ]
     },
     "execution_count": 24,
     "metadata": {},
     "output_type": "execute_result"
    }
   ],
   "source": [
    "string.replace(\" \", \"\")"
   ]
  },
  {
   "cell_type": "code",
   "execution_count": 25,
   "id": "c2b7d373-563b-4e69-a5bd-54c206530ee3",
   "metadata": {},
   "outputs": [
    {
     "data": {
      "text/plain": [
       "True"
      ]
     },
     "execution_count": 25,
     "metadata": {},
     "output_type": "execute_result"
    }
   ],
   "source": [
    "\"pwskills\"[::-1].upper().replace(\"SLLIKSWP\", \"pwskills\").islower()"
   ]
  },
  {
   "cell_type": "code",
   "execution_count": 26,
   "id": "b5dfdea6-51af-4399-9fe4-4440ae5f4b42",
   "metadata": {},
   "outputs": [
    {
     "name": "stdout",
     "output_type": "stream",
     "text": [
      "I\n",
      "Want\n",
      "To\n",
      "Become\n",
      "A\n",
      "Data\n",
      "Scientist\n"
     ]
    }
   ],
   "source": [
    "s = \"I want to become a data scientist\"\n",
    "\n",
    "for i in s.split():\n",
    "\n",
    "    i.capitalize()\n",
    "\n",
    "    print(i.title())"
   ]
  },
  {
   "cell_type": "code",
   "execution_count": 27,
   "id": "d570b760-d1f4-47eb-a7eb-a2fc3c2ddc4e",
   "metadata": {},
   "outputs": [],
   "source": [
    "Dict={'Name':\"Lalitha\",\"Company\":\"Sonata\"}"
   ]
  },
  {
   "cell_type": "code",
   "execution_count": 28,
   "id": "d22c6fb2-d750-4c17-8b98-38ea161b326c",
   "metadata": {},
   "outputs": [
    {
     "data": {
      "text/plain": [
       "{'Name': 'Lalitha', 'Company': 'Sonata'}"
      ]
     },
     "execution_count": 28,
     "metadata": {},
     "output_type": "execute_result"
    }
   ],
   "source": [
    "Dict"
   ]
  },
  {
   "cell_type": "code",
   "execution_count": 29,
   "id": "9028116c-b027-449b-9905-17d0b4cac0f6",
   "metadata": {},
   "outputs": [],
   "source": [
    "D2={\"Name\":\"Lalitha\",\"Name\":\"Lali\"}"
   ]
  },
  {
   "cell_type": "code",
   "execution_count": 30,
   "id": "aff5a1dd-7d7d-4d0e-b352-6c3a4e06efc1",
   "metadata": {},
   "outputs": [
    {
     "data": {
      "text/plain": [
       "{'Name': 'Lali'}"
      ]
     },
     "execution_count": 30,
     "metadata": {},
     "output_type": "execute_result"
    }
   ],
   "source": [
    "D2"
   ]
  },
  {
   "cell_type": "code",
   "execution_count": 32,
   "id": "62b4a5e3-6d8c-41f1-b19b-372f20a4598f",
   "metadata": {},
   "outputs": [
    {
     "ename": "TypeError",
     "evalue": "unhashable type: 'list'",
     "output_type": "error",
     "traceback": [
      "\u001b[0;31m---------------------------------------------------------------------------\u001b[0m",
      "\u001b[0;31mTypeError\u001b[0m                                 Traceback (most recent call last)",
      "Cell \u001b[0;32mIn[32], line 1\u001b[0m\n\u001b[0;32m----> 1\u001b[0m D3\u001b[38;5;241m=\u001b[39m{[\u001b[38;5;241m1\u001b[39m,\u001b[38;5;241m2\u001b[39m,\u001b[38;5;241m3\u001b[39m]:(\u001b[38;5;241m4\u001b[39m,\u001b[38;5;241m5\u001b[39m,\u001b[38;5;241m6\u001b[39m)}\n",
      "\u001b[0;31mTypeError\u001b[0m: unhashable type: 'list'"
     ]
    }
   ],
   "source": [
    "D3={[1,2,3]:(4,5,6)}"
   ]
  },
  {
   "cell_type": "code",
   "execution_count": 34,
   "id": "576268cb-7a63-4273-86b3-c94f6c50aedf",
   "metadata": {},
   "outputs": [],
   "source": [
    "D3={(1,2,3):[4,5,6]}"
   ]
  },
  {
   "cell_type": "code",
   "execution_count": 35,
   "id": "e0c2814f-c224-4b99-80f0-32d9640a8fe4",
   "metadata": {},
   "outputs": [
    {
     "data": {
      "text/plain": [
       "{(1, 2, 3): [4, 5, 6]}"
      ]
     },
     "execution_count": 35,
     "metadata": {},
     "output_type": "execute_result"
    }
   ],
   "source": [
    "D3"
   ]
  },
  {
   "cell_type": "code",
   "execution_count": 1,
   "id": "d2d14308-1d61-4087-bc03-7e4da77d8785",
   "metadata": {},
   "outputs": [],
   "source": [
    "D4={1:[\"Data\",\"Science\"],2:(1,2,3,4)}"
   ]
  },
  {
   "cell_type": "code",
   "execution_count": 2,
   "id": "232b006c-1020-4f10-b4b6-57f416dc4651",
   "metadata": {},
   "outputs": [
    {
     "data": {
      "text/plain": [
       "{1: ['Data', 'Science'], 2: (1, 2, 3, 4)}"
      ]
     },
     "execution_count": 2,
     "metadata": {},
     "output_type": "execute_result"
    }
   ],
   "source": [
    "D4"
   ]
  },
  {
   "cell_type": "code",
   "execution_count": 3,
   "id": "c3e6e3a0-9e07-4664-a218-5f6d206d9d21",
   "metadata": {},
   "outputs": [],
   "source": [
    "D4[\"Timing\"]=(8,8,8)"
   ]
  },
  {
   "cell_type": "code",
   "execution_count": 4,
   "id": "2dc0a978-237c-44ed-9725-3cf863a570e3",
   "metadata": {},
   "outputs": [
    {
     "data": {
      "text/plain": [
       "{1: ['Data', 'Science'], 2: (1, 2, 3, 4), 'Timing': (8, 8, 8)}"
      ]
     },
     "execution_count": 4,
     "metadata": {},
     "output_type": "execute_result"
    }
   ],
   "source": [
    "D4"
   ]
  },
  {
   "cell_type": "code",
   "execution_count": 5,
   "id": "0d10e693-eefe-43f6-8ec0-0b9234212d8c",
   "metadata": {},
   "outputs": [
    {
     "data": {
      "text/plain": [
       "['Data', 'Science']"
      ]
     },
     "execution_count": 5,
     "metadata": {},
     "output_type": "execute_result"
    }
   ],
   "source": [
    "D4[1]"
   ]
  },
  {
   "cell_type": "code",
   "execution_count": 6,
   "id": "076a15d3-2afe-40fc-a499-dca499621e49",
   "metadata": {},
   "outputs": [
    {
     "data": {
      "text/plain": [
       "(8, 8, 8)"
      ]
     },
     "execution_count": 6,
     "metadata": {},
     "output_type": "execute_result"
    }
   ],
   "source": [
    "D4[\"Timing\"]"
   ]
  },
  {
   "cell_type": "code",
   "execution_count": 7,
   "id": "b990b527-3348-4d86-8984-3e86a39bb16b",
   "metadata": {},
   "outputs": [
    {
     "data": {
      "text/plain": [
       "{1: ['Data', 'Science'], 2: (1, 2, 3, 4), 'Timing': (8, 8, 8)}"
      ]
     },
     "execution_count": 7,
     "metadata": {},
     "output_type": "execute_result"
    }
   ],
   "source": [
    "D4\n"
   ]
  },
  {
   "cell_type": "code",
   "execution_count": 8,
   "id": "c49a83c3-1a2c-468b-b8f8-3a54271be50c",
   "metadata": {},
   "outputs": [],
   "source": [
    "del D4[\"Timing\"]"
   ]
  },
  {
   "cell_type": "code",
   "execution_count": 9,
   "id": "27792efa-1a8b-45a8-aaf8-a0e7b09838a4",
   "metadata": {},
   "outputs": [
    {
     "data": {
      "text/plain": [
       "{1: ['Data', 'Science'], 2: (1, 2, 3, 4)}"
      ]
     },
     "execution_count": 9,
     "metadata": {},
     "output_type": "execute_result"
    }
   ],
   "source": [
    "D4"
   ]
  },
  {
   "cell_type": "code",
   "execution_count": 10,
   "id": "18d0228d-5991-41e2-985e-7d0ee914b72e",
   "metadata": {},
   "outputs": [
    {
     "data": {
      "text/plain": [
       "2"
      ]
     },
     "execution_count": 10,
     "metadata": {},
     "output_type": "execute_result"
    }
   ],
   "source": [
    "len(D4)"
   ]
  },
  {
   "cell_type": "code",
   "execution_count": 11,
   "id": "02984029-bfea-4171-84f8-d808a0a21494",
   "metadata": {},
   "outputs": [
    {
     "ename": "NameError",
     "evalue": "name 'D3' is not defined",
     "output_type": "error",
     "traceback": [
      "\u001b[0;31m---------------------------------------------------------------------------\u001b[0m",
      "\u001b[0;31mNameError\u001b[0m                                 Traceback (most recent call last)",
      "Cell \u001b[0;32mIn[11], line 1\u001b[0m\n\u001b[0;32m----> 1\u001b[0m \u001b[43mD3\u001b[49m\n",
      "\u001b[0;31mNameError\u001b[0m: name 'D3' is not defined"
     ]
    }
   ],
   "source": [
    "D3"
   ]
  },
  {
   "cell_type": "code",
   "execution_count": 12,
   "id": "1232a08f-af3c-44bf-a652-fff329e1157c",
   "metadata": {},
   "outputs": [
    {
     "ename": "NameError",
     "evalue": "name 'D2' is not defined",
     "output_type": "error",
     "traceback": [
      "\u001b[0;31m---------------------------------------------------------------------------\u001b[0m",
      "\u001b[0;31mNameError\u001b[0m                                 Traceback (most recent call last)",
      "Cell \u001b[0;32mIn[12], line 1\u001b[0m\n\u001b[0;32m----> 1\u001b[0m \u001b[43mD2\u001b[49m\n",
      "\u001b[0;31mNameError\u001b[0m: name 'D2' is not defined"
     ]
    }
   ],
   "source": [
    "D2"
   ]
  },
  {
   "cell_type": "code",
   "execution_count": 13,
   "id": "c3cdc558-6074-464e-bbdf-3eadeb3dad0a",
   "metadata": {},
   "outputs": [
    {
     "data": {
      "text/plain": [
       "dict_keys([1, 2])"
      ]
     },
     "execution_count": 13,
     "metadata": {},
     "output_type": "execute_result"
    }
   ],
   "source": [
    "D4.keys()"
   ]
  },
  {
   "cell_type": "code",
   "execution_count": 14,
   "id": "654396f0-6ead-4372-a5c4-703696ca05a1",
   "metadata": {},
   "outputs": [
    {
     "data": {
      "text/plain": [
       "{1: ['Data', 'Science'], 2: (1, 2, 3, 4)}"
      ]
     },
     "execution_count": 14,
     "metadata": {},
     "output_type": "execute_result"
    }
   ],
   "source": [
    "D4"
   ]
  },
  {
   "cell_type": "code",
   "execution_count": 15,
   "id": "1f8d0b0c-931e-48a2-b285-206106bf7db7",
   "metadata": {},
   "outputs": [
    {
     "data": {
      "text/plain": [
       "dict_values([['Data', 'Science'], (1, 2, 3, 4)])"
      ]
     },
     "execution_count": 15,
     "metadata": {},
     "output_type": "execute_result"
    }
   ],
   "source": [
    "D4.values()"
   ]
  },
  {
   "cell_type": "code",
   "execution_count": 16,
   "id": "dd3b4002-314f-40f2-aa10-6da47af11856",
   "metadata": {},
   "outputs": [
    {
     "data": {
      "text/plain": [
       "[1, 2]"
      ]
     },
     "execution_count": 16,
     "metadata": {},
     "output_type": "execute_result"
    }
   ],
   "source": [
    "list(D4.keys())"
   ]
  },
  {
   "cell_type": "code",
   "execution_count": 18,
   "id": "20fb7cbf-aafd-408c-bbc4-8682c4967efc",
   "metadata": {},
   "outputs": [
    {
     "data": {
      "text/plain": [
       "[['Data', 'Science'], (1, 2, 3, 4)]"
      ]
     },
     "execution_count": 18,
     "metadata": {},
     "output_type": "execute_result"
    }
   ],
   "source": [
    "list(D4.values())"
   ]
  },
  {
   "cell_type": "code",
   "execution_count": 19,
   "id": "733d01ea-c942-4633-af07-f3fa8b0be60d",
   "metadata": {},
   "outputs": [
    {
     "data": {
      "text/plain": [
       "dict_items([(1, ['Data', 'Science']), (2, (1, 2, 3, 4))])"
      ]
     },
     "execution_count": 19,
     "metadata": {},
     "output_type": "execute_result"
    }
   ],
   "source": [
    "D4.items()"
   ]
  },
  {
   "cell_type": "code",
   "execution_count": 20,
   "id": "351dd16e-e23d-4ecd-85b8-a4784cc59b1e",
   "metadata": {},
   "outputs": [
    {
     "data": {
      "text/plain": [
       "[(1, ['Data', 'Science']), (2, (1, 2, 3, 4))]"
      ]
     },
     "execution_count": 20,
     "metadata": {},
     "output_type": "execute_result"
    }
   ],
   "source": [
    "list(D4.items())"
   ]
  },
  {
   "cell_type": "code",
   "execution_count": 21,
   "id": "de16dc67-588d-4fe2-ae8f-7d3f28dc41a4",
   "metadata": {},
   "outputs": [
    {
     "data": {
      "text/plain": [
       "{1: ['Data', 'Science'], 2: (1, 2, 3, 4)}"
      ]
     },
     "execution_count": 21,
     "metadata": {},
     "output_type": "execute_result"
    }
   ],
   "source": [
    "D4"
   ]
  },
  {
   "cell_type": "code",
   "execution_count": 22,
   "id": "cecb8de4-f4f2-4bde-9a58-d1cd2407e2d5",
   "metadata": {},
   "outputs": [],
   "source": [
    "d5=D4.copy()"
   ]
  },
  {
   "cell_type": "code",
   "execution_count": 23,
   "id": "8d08c4fa-7e50-459c-aeab-6b6a782e755e",
   "metadata": {},
   "outputs": [
    {
     "data": {
      "text/plain": [
       "{1: ['Data', 'Science'], 2: (1, 2, 3, 4)}"
      ]
     },
     "execution_count": 23,
     "metadata": {},
     "output_type": "execute_result"
    }
   ],
   "source": [
    "d5"
   ]
  },
  {
   "cell_type": "code",
   "execution_count": 25,
   "id": "61ee87df-2ec1-4437-97fe-1358c74f62f6",
   "metadata": {},
   "outputs": [],
   "source": [
    "d6=D4"
   ]
  },
  {
   "cell_type": "code",
   "execution_count": 26,
   "id": "a39a8ca9-de37-4b07-9ed6-15cd131e18b3",
   "metadata": {},
   "outputs": [
    {
     "data": {
      "text/plain": [
       "{1: ['Data', 'Science'], 2: (1, 2, 3, 4)}"
      ]
     },
     "execution_count": 26,
     "metadata": {},
     "output_type": "execute_result"
    }
   ],
   "source": [
    "d6"
   ]
  },
  {
   "cell_type": "code",
   "execution_count": 27,
   "id": "a0b649d6-e601-442e-9dfa-775e39ecc9c6",
   "metadata": {},
   "outputs": [],
   "source": [
    "D4[\"TEST\"]=[1,2,3,4]"
   ]
  },
  {
   "cell_type": "code",
   "execution_count": 28,
   "id": "2dcb737b-c422-4c1d-a3bd-1cddbe36591d",
   "metadata": {},
   "outputs": [
    {
     "data": {
      "text/plain": [
       "{1: ['Data', 'Science'], 2: (1, 2, 3, 4)}"
      ]
     },
     "execution_count": 28,
     "metadata": {},
     "output_type": "execute_result"
    }
   ],
   "source": [
    "d5"
   ]
  },
  {
   "cell_type": "code",
   "execution_count": 29,
   "id": "810167fe-57a4-47a3-b298-806308c1c123",
   "metadata": {},
   "outputs": [
    {
     "data": {
      "text/plain": [
       "{1: ['Data', 'Science'], 2: (1, 2, 3, 4), 'TEST': [1, 2, 3, 4]}"
      ]
     },
     "execution_count": 29,
     "metadata": {},
     "output_type": "execute_result"
    }
   ],
   "source": [
    "d6"
   ]
  },
  {
   "cell_type": "code",
   "execution_count": 31,
   "id": "c663b995-3fa6-438a-8e8d-67d90f9019d2",
   "metadata": {},
   "outputs": [
    {
     "data": {
      "text/plain": [
       "{'L': 'is awesome', 'a': 'is awesome', 'l': 'is awesome', 'i': 'is awesome'}"
      ]
     },
     "execution_count": 31,
     "metadata": {},
     "output_type": "execute_result"
    }
   ],
   "source": [
    "d6.fromkeys(\"Lali\",\"is awesome\")"
   ]
  },
  {
   "cell_type": "code",
   "execution_count": 32,
   "id": "c0b176c3-2dc7-4690-8a0a-4281d88abe81",
   "metadata": {},
   "outputs": [
    {
     "data": {
      "text/plain": [
       "{1: ['Data', 'Science'], 2: (1, 2, 3, 4), 'TEST': [1, 2, 3, 4]}"
      ]
     },
     "execution_count": 32,
     "metadata": {},
     "output_type": "execute_result"
    }
   ],
   "source": [
    "D4"
   ]
  },
  {
   "cell_type": "code",
   "execution_count": 33,
   "id": "716b50b3-f5eb-4657-b427-46976ab705e0",
   "metadata": {},
   "outputs": [
    {
     "data": {
      "text/plain": [
       "['Data', 'Science']"
      ]
     },
     "execution_count": 33,
     "metadata": {},
     "output_type": "execute_result"
    }
   ],
   "source": [
    "D4.get(1)"
   ]
  },
  {
   "cell_type": "code",
   "execution_count": 34,
   "id": "8a6bf031-074b-4255-9d2a-270f3eda4c30",
   "metadata": {},
   "outputs": [],
   "source": [
    "D4.get(4)"
   ]
  },
  {
   "cell_type": "code",
   "execution_count": 37,
   "id": "003abb74-3ab0-4b14-9d6b-742a4c534965",
   "metadata": {},
   "outputs": [
    {
     "data": {
      "text/plain": [
       "{1: 1, 2: 4, 3: 9, 4: 16, 5: 25, 6: 36, 7: 49, 8: 64, 9: 81, 10: 100}"
      ]
     },
     "execution_count": 37,
     "metadata": {},
     "output_type": "execute_result"
    }
   ],
   "source": [
    "{ i : i**2 for i in range (1,11) }"
   ]
  },
  {
   "cell_type": "code",
   "execution_count": 38,
   "id": "a017d915-3ecb-44de-b9e1-568117789d4a",
   "metadata": {},
   "outputs": [
    {
     "data": {
      "text/plain": [
       "False"
      ]
     },
     "execution_count": 38,
     "metadata": {},
     "output_type": "execute_result"
    }
   ],
   "source": [
    "3 in D4"
   ]
  },
  {
   "cell_type": "code",
   "execution_count": 39,
   "id": "ee61b2fb-2879-42c2-a38e-d7e2f180fdb4",
   "metadata": {},
   "outputs": [
    {
     "name": "stdout",
     "output_type": "stream",
     "text": [
      "400\n",
      "(200, 300, 400)\n"
     ]
    }
   ],
   "source": [
    "atuple = (100, 200, 300, 400, 500)\n",
    "\n",
    "print(atuple[-2])\n",
    "\n",
    "print(atuple[-4:-1])"
   ]
  },
  {
   "cell_type": "code",
   "execution_count": 40,
   "id": "cbfb6672-3ef1-487f-bb9c-ab66a2c2e6f0",
   "metadata": {},
   "outputs": [
    {
     "name": "stdout",
     "output_type": "stream",
     "text": [
      "<class 'str'>\n"
     ]
    }
   ],
   "source": [
    "atuple = (\"Orange\")\n",
    "\n",
    "print(type(atuple))"
   ]
  },
  {
   "cell_type": "code",
   "execution_count": 41,
   "id": "c28d9253-140f-4728-ae98-c5dbc7504b75",
   "metadata": {},
   "outputs": [
    {
     "name": "stdout",
     "output_type": "stream",
     "text": [
      "<class 'str'>\n"
     ]
    }
   ],
   "source": [
    "atuple = (\"Orange\")\n",
    "\n",
    "print(type(atuple))"
   ]
  },
  {
   "cell_type": "code",
   "execution_count": 42,
   "id": "54e91eb5-1cd4-43a7-8274-a40f8ca3d689",
   "metadata": {},
   "outputs": [
    {
     "name": "stdout",
     "output_type": "stream",
     "text": [
      "(100, 100)\n"
     ]
    }
   ],
   "source": [
    "atuple = (100,)\n",
    "\n",
    "print(atuple * 2)"
   ]
  },
  {
   "cell_type": "code",
   "execution_count": 43,
   "id": "96dd8b86-b054-4f37-a5af-820e01479f71",
   "metadata": {},
   "outputs": [
    {
     "name": "stdout",
     "output_type": "stream",
     "text": [
      "None\n"
     ]
    }
   ],
   "source": [
    "dict1 = {\"name\": \"Mike\", \"salary\": 8000}\n",
    "\n",
    "temp = dict1.get(\"age\")\n",
    "\n",
    "print(temp)"
   ]
  },
  {
   "cell_type": "code",
   "execution_count": 44,
   "id": "ff91e6f6-19cc-403d-bce9-b55806f49f5e",
   "metadata": {},
   "outputs": [
    {
     "name": "stdout",
     "output_type": "stream",
     "text": [
      "True\n"
     ]
    }
   ],
   "source": [
    "dict1 = {\"key1\":1, \"key2\":2}\n",
    "\n",
    "dict2 = {\"key2\":2, \"key1\":1}\n",
    "\n",
    "print(dict1 == dict2)"
   ]
  },
  {
   "cell_type": "code",
   "execution_count": 45,
   "id": "8c18b0bf-85b9-4adc-a28b-2799307535e3",
   "metadata": {},
   "outputs": [],
   "source": [
    "s1={1,2,3}"
   ]
  },
  {
   "cell_type": "code",
   "execution_count": 46,
   "id": "442101a3-b3a2-4801-9d10-a181ee20635d",
   "metadata": {},
   "outputs": [],
   "source": [
    "s2={4,5,6}"
   ]
  },
  {
   "cell_type": "code",
   "execution_count": 47,
   "id": "ddb24945-6cde-4ee1-8275-582e5198f2c0",
   "metadata": {},
   "outputs": [],
   "source": [
    "s3=s1.copy()"
   ]
  },
  {
   "cell_type": "code",
   "execution_count": 48,
   "id": "ec46b832-3e93-49eb-a629-35abb013ecea",
   "metadata": {},
   "outputs": [
    {
     "data": {
      "text/plain": [
       "{1, 2, 3}"
      ]
     },
     "execution_count": 48,
     "metadata": {},
     "output_type": "execute_result"
    }
   ],
   "source": [
    "s3"
   ]
  },
  {
   "cell_type": "code",
   "execution_count": 49,
   "id": "962c84b9-fe1c-4a1f-a2b5-20a3a09d878f",
   "metadata": {},
   "outputs": [],
   "source": [
    "s4=set(s1)"
   ]
  },
  {
   "cell_type": "code",
   "execution_count": 50,
   "id": "70cf4072-4a6c-4bae-950d-6be41a5a73e8",
   "metadata": {},
   "outputs": [
    {
     "data": {
      "text/plain": [
       "{1, 2, 3}"
      ]
     },
     "execution_count": 50,
     "metadata": {},
     "output_type": "execute_result"
    }
   ],
   "source": [
    "s4"
   ]
  },
  {
   "cell_type": "code",
   "execution_count": 51,
   "id": "30b86b3a-3f35-439c-a06d-91a6404b14d4",
   "metadata": {},
   "outputs": [
    {
     "ename": "NameError",
     "evalue": "name 's5' is not defined",
     "output_type": "error",
     "traceback": [
      "\u001b[0;31m---------------------------------------------------------------------------\u001b[0m",
      "\u001b[0;31mNameError\u001b[0m                                 Traceback (most recent call last)",
      "Cell \u001b[0;32mIn[51], line 1\u001b[0m\n\u001b[0;32m----> 1\u001b[0m \u001b[43ms5\u001b[49m\u001b[38;5;241m.\u001b[39mupdate(s1)\n",
      "\u001b[0;31mNameError\u001b[0m: name 's5' is not defined"
     ]
    }
   ],
   "source": [
    "s5.update(s1)"
   ]
  },
  {
   "cell_type": "code",
   "execution_count": 52,
   "id": "371b933d-d909-426f-a3f5-1eaaab4d3bc1",
   "metadata": {},
   "outputs": [],
   "source": [
    "s5=s1"
   ]
  },
  {
   "cell_type": "code",
   "execution_count": 53,
   "id": "a0221c51-8977-46f6-b54e-18fcce7c5b9c",
   "metadata": {},
   "outputs": [
    {
     "data": {
      "text/plain": [
       "{1, 2, 3}"
      ]
     },
     "execution_count": 53,
     "metadata": {},
     "output_type": "execute_result"
    }
   ],
   "source": [
    "s5"
   ]
  },
  {
   "cell_type": "code",
   "execution_count": 54,
   "id": "a777656b-95ba-49b4-9a4a-04c4c3eb6de4",
   "metadata": {},
   "outputs": [
    {
     "name": "stdout",
     "output_type": "stream",
     "text": [
      "{'Blue', 'Pink'}\n"
     ]
    }
   ],
   "source": [
    "set1 = {\"Yellow\", \"Orange\", \"Black\"}\n",
    "\n",
    "set2 = {\"Orange\", \"Blue\", \"Pink\"}\n",
    "\n",
    "set3 = set2.difference(set1)\n",
    "\n",
    "print(set3)"
   ]
  },
  {
   "cell_type": "code",
   "execution_count": 56,
   "id": "6fd8af1a-acfe-46c4-bd52-31a0f26a66d7",
   "metadata": {},
   "outputs": [],
   "source": [
    "s2.update(s1)"
   ]
  },
  {
   "cell_type": "code",
   "execution_count": 57,
   "id": "bc1ae18d-ff90-4078-b8b9-177fbdab5d0e",
   "metadata": {},
   "outputs": [
    {
     "data": {
      "text/plain": [
       "{1, 2, 3, 4, 5, 6}"
      ]
     },
     "execution_count": 57,
     "metadata": {},
     "output_type": "execute_result"
    }
   ],
   "source": [
    "s2"
   ]
  },
  {
   "cell_type": "code",
   "execution_count": 1,
   "id": "f698e5a1-7122-49f9-9af3-fabd25b43fb5",
   "metadata": {},
   "outputs": [
    {
     "name": "stdout",
     "output_type": "stream",
     "text": [
      "foo\\\\bar\\nbaz\n"
     ]
    }
   ],
   "source": [
    "print(r'foo\\\\bar\\nbaz')"
   ]
  },
  {
   "cell_type": "code",
   "execution_count": null,
   "id": "f40f69d7-f321-46e6-a148-6850bc31ccfa",
   "metadata": {},
   "outputs": [],
   "source": [
    "isinstance("
   ]
  }
 ],
 "metadata": {
  "kernelspec": {
   "display_name": "Python 3 (ipykernel)",
   "language": "python",
   "name": "python3"
  },
  "language_info": {
   "codemirror_mode": {
    "name": "ipython",
    "version": 3
   },
   "file_extension": ".py",
   "mimetype": "text/x-python",
   "name": "python",
   "nbconvert_exporter": "python",
   "pygments_lexer": "ipython3",
   "version": "3.10.8"
  }
 },
 "nbformat": 4,
 "nbformat_minor": 5
}
