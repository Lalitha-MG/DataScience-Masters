{
 "cells": [
  {
   "cell_type": "markdown",
   "id": "ba07505f-a7fc-4287-b2e3-1e2138b299d8",
   "metadata": {},
   "source": [
    "Q1. What is multiprocessing in python? Why is it useful?"
   ]
  },
  {
   "cell_type": "markdown",
   "id": "a2050170-bd63-4f1d-98ae-5b2b633f3632",
   "metadata": {},
   "source": [
    "Multiprocessing is the ability of the system to run one or more processes in parallel. In simple words, multiprocessing uses the two or more CPU within the single computer system. This method is also capable to allocate the tasks between more than one process.\n",
    "\n",
    "Processing units share the main memory and peripherals to process programs simultaneously. Multiprocessing Application breaks into smaller parts and runs independently. Each process is allocated to the processor by the operating system.\n",
    "\n",
    "Python provides the built-in package called multiprocessing which supports swapping processes. Before working with the multiprocessing, we must aware with the process object."
   ]
  },
  {
   "cell_type": "markdown",
   "id": "a1d9eac8-2863-448e-be8e-e14bf45e80b1",
   "metadata": {},
   "source": [
    "Multiprocessing is essential to perform the multiple tasks within the Computer system. Suppose a computer without multiprocessing or single processor. We assign various processes to that system at the same time.\n",
    "\n",
    "It will then have to interrupt the previous task and move to another to keep all processes going. It is as simple as a chef is working alone in the kitchen. He has to do several tasks to cook food such as cutting, cleaning, cooking, kneading dough, baking, etc.\n",
    "\n",
    "Therefore, multiprocessing is essential to perform several task at the same time without interruption. It also makes easy to track all the tasks. That is why the concept of multiprocessing is to arise."
   ]
  },
  {
   "cell_type": "markdown",
   "id": "6de808b4-41c4-4526-934e-d04436655442",
   "metadata": {},
   "source": [
    "Q2. What are the differences between multiprocessing and multithreading?"
   ]
  },
  {
   "cell_type": "markdown",
   "id": "d37b7345-2d32-4cea-aabb-f9e19813eabc",
   "metadata": {},
   "source": [
    "\n",
    "1.\tIn Multiprocessing, CPUs are added for increasing computing power.\tWhile In Multithreading, many threads are created of a single process for increasing computing power.\n",
    "\n",
    "2.\tIn Multiprocessing, Many processes are executed simultaneously.\tWhile in multithreading, many threads of a process are executed simultaneously.\n",
    "\n",
    "3.\tMultiprocessing are classified into Symmetric and Asymmetric.\tWhile Multithreading is not classified in any categories.\n",
    "\n",
    "4.\tIn Multiprocessing, Process creation is a time-consuming process.\tWhile in Multithreading, process creation is according to economical.\n",
    "\n",
    "5.\tIn Multiprocessing, every process owned a separate address space.\tWhile in Multithreading, a common address space is shared by all the threads."
   ]
  },
  {
   "cell_type": "markdown",
   "id": "01a7d3c4-a20a-448d-8b1b-37c7b2e12e7b",
   "metadata": {},
   "source": [
    "Q3. Write a python code to create a process using the multiprocessing module."
   ]
  },
  {
   "cell_type": "code",
   "execution_count": 5,
   "id": "261e250e-2e17-4301-96a4-954369e73fa0",
   "metadata": {},
   "outputs": [
    {
     "name": "stdout",
     "output_type": "stream",
     "text": [
      "36\n"
     ]
    }
   ],
   "source": [
    "import multiprocessing\n",
    "\n",
    "def square(n) :\n",
    "    print(n**2)\n",
    "\n",
    "if __name__==\"__main__\" :\n",
    "    m1=multiprocessing.Process(target=square,args=(6,))\n",
    "    m1.start()\n",
    "    m1.join()"
   ]
  },
  {
   "cell_type": "markdown",
   "id": "9973b15b-84ad-4e30-9393-23e33e1eb10c",
   "metadata": {},
   "source": [
    "Q4. What is a multiprocessing pool in python? Why is it used?"
   ]
  },
  {
   "cell_type": "markdown",
   "id": "aa3363cb-c709-4738-adc0-73916bb33a95",
   "metadata": {},
   "source": [
    "A process pool is a programming pattern for automatically managing a pool of worker processes.\n",
    "\n",
    "The pool is responsible for a fixed number of processes.\n",
    "\n",
    "It controls when they are created, such as when they are needed.\n",
    "It also controls what they should do when they are not being used, such as making them wait without consuming computational resources.\n",
    "The pool can provide a generic interface for executing ad hoc tasks with a variable number of arguments, much like the target property on the Process object, but does not require that we choose a process to run the task, start the process, or wait for the task to complete.\n",
    "\n",
    "Python provides a process pool via the multiprocessing.Pool class."
   ]
  },
  {
   "cell_type": "markdown",
   "id": "8f38cbf1-9a19-4962-9ef3-1ffe1966974b",
   "metadata": {},
   "source": [
    "Use the multiprocessing.Pool class when you need to execute many short- to modest-length tasks throughout the duration of your application.\n",
    "\n",
    "Use the multiprocessing.Pool class when you need to execute tasks that may or may not take arguments and may or may not return a result once the tasks are complete.\n",
    "\n",
    "Use the multiprocessing.Pool class when you need to execute different types of ad hoc tasks, such as calling different target task functions.\n",
    "\n",
    "Use the multiprocessing.Pool class when the types of tasks of and timing of when you need to execute tasks varies at runtime.\n",
    "\n",
    "Use the multiprocessing.Pool class when you need to be able to queue up a large number of tasks.\n",
    "\n",
    "Use the multiprocessing.Pool class when you need to be able to check on the status of tasks during their execution.\n",
    "\n",
    "Use the multiprocessing.Pool class when you need to take action based on the results of tasks, such as the first task to complete or results as they become available."
   ]
  },
  {
   "cell_type": "markdown",
   "id": "cb3f8c9f-41da-4cd5-b026-9d6129995ba7",
   "metadata": {},
   "source": [
    "Q5. How can we create a pool of worker processes in python using the multiprocessing module?"
   ]
  },
  {
   "cell_type": "markdown",
   "id": "ee174a04-39cd-45ff-9e46-a1d13a6a6300",
   "metadata": {},
   "source": [
    "We can configure the number of worker processes in the multiprocessing.pool.Pool by setting the “processes” argument in the constructor.\n",
    "\n",
    "processes is the number of worker processes to use. If processes is None then the number returned by os.cpu_count() is used.\n",
    "\n",
    "We can set the “processes” argument to specify the number of child processes to create and use as workers in the process pool.\n",
    "\n",
    "For example:"
   ]
  },
  {
   "cell_type": "code",
   "execution_count": 6,
   "id": "341f5261-dee5-4fcb-9535-3346ed5545ef",
   "metadata": {},
   "outputs": [],
   "source": [
    "pool=multiprocessing.Pool(processes=5)"
   ]
  },
  {
   "cell_type": "markdown",
   "id": "75f35954-edfe-4e52-9e1d-dcc1087a67ce",
   "metadata": {},
   "source": [
    "Q6. Write a python program to create 4 processes, each process should print a different number using the\n",
    "multiprocessing module in python."
   ]
  },
  {
   "cell_type": "code",
   "execution_count": 7,
   "id": "890862a3-e232-4884-ab01-a1afd3a5d5e5",
   "metadata": {},
   "outputs": [
    {
     "name": "stdout",
     "output_type": "stream",
     "text": [
      "Data Science\n",
      "Machine Learning\n",
      "Deep Learning\n",
      "Artificial Intelligence\n"
     ]
    }
   ],
   "source": [
    "import multiprocessing\n",
    "\n",
    "def display(name) :\n",
    "    print(name)\n",
    "\n",
    "if __name__==\"__main__\" :\n",
    "    m1=multiprocessing.Process(target=display,args=(\"Data Science\",))\n",
    "    m2=multiprocessing.Process(target=display,args=(\"Machine Learning\",))\n",
    "    m3=multiprocessing.Process(target=display,args=(\"Deep Learning\",))\n",
    "    m4=multiprocessing.Process(target=display,args=(\"Artificial Intelligence\",))\n",
    "    m1.start()\n",
    "    m2.start()\n",
    "    m3.start()\n",
    "    m4.start()\n",
    "    m1.join()\n",
    "    m2.join()\n",
    "    m3.join()\n",
    "    m4.join()"
   ]
  },
  {
   "cell_type": "code",
   "execution_count": null,
   "id": "349b027c-4bc0-4c19-b551-0dcfaf396100",
   "metadata": {},
   "outputs": [],
   "source": []
  }
 ],
 "metadata": {
  "kernelspec": {
   "display_name": "Python 3 (ipykernel)",
   "language": "python",
   "name": "python3"
  },
  "language_info": {
   "codemirror_mode": {
    "name": "ipython",
    "version": 3
   },
   "file_extension": ".py",
   "mimetype": "text/x-python",
   "name": "python",
   "nbconvert_exporter": "python",
   "pygments_lexer": "ipython3",
   "version": "3.10.8"
  }
 },
 "nbformat": 4,
 "nbformat_minor": 5
}
