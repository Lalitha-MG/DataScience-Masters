{
 "cells": [
  {
   "cell_type": "markdown",
   "id": "1dea3ed8-d8d6-4141-9630-69d1f45a28d8",
   "metadata": {},
   "source": [
    "Q1. What is Statistics?"
   ]
  },
  {
   "cell_type": "markdown",
   "id": "c360c69f-0755-4d5a-914f-acf1dc5fef16",
   "metadata": {},
   "source": [
    "Statistics is the science of collecting, organizing and analyizing the data"
   ]
  },
  {
   "cell_type": "markdown",
   "id": "5927985d-68c8-4c33-a495-2daadf1d3b6c",
   "metadata": {},
   "source": [
    "Q2. Define the different types of statistics and give an example of when each type might be used."
   ]
  },
  {
   "cell_type": "markdown",
   "id": "9a89c40f-b55b-4bd1-b703-61a9e830def6",
   "metadata": {},
   "source": [
    "There are 2 types of statistics\n",
    "1) Descriptive Statistics : \n",
    "    This is used to organize and summarize data.\n",
    "    Example : Average height of students in the class\n",
    "2) Inferential Statistics : The data which has been measured to form conclusion\n",
    "    Example : Exit Poll survey. Survey is done on the sample and extrapolated to population based on sample results.\n",
    "\n"
   ]
  },
  {
   "cell_type": "markdown",
   "id": "70c1d4a0-13d2-4477-8fbd-7ab39fbbe391",
   "metadata": {},
   "source": [
    "Q3. What are the different types of data and how do they differ from each other? Provide an example of\n",
    "each type of data."
   ]
  },
  {
   "cell_type": "markdown",
   "id": "97f24e36-daa5-4658-aefa-cc53d66f2083",
   "metadata": {},
   "source": [
    "The different types of data are \n",
    "1) Quantitative - Numerical\n",
    "    1) Discrete - Whole number with specific range\n",
    "        Ex : Number of bank accounts\n",
    "    2) Continuous - Any value\n",
    "        Ex : Weight,Height\n",
    "2) Qualitative - Categorical data\n",
    "    1) Nominal - Fixed set of values for categories\n",
    "        Ex : Gender\n",
    "    2) Ordinal - Rank can be assigned to category\n",
    "        Ex : Employee Feedback Level - Good,Bad and Satisfactory"
   ]
  },
  {
   "cell_type": "markdown",
   "id": "a8b56eb2-0081-45bd-986d-bb4c49614385",
   "metadata": {},
   "source": [
    "Q4. Categorise the following datasets with respect to quantitative and qualitative data types:\n",
    "(i) Grading in exam: A+, A, B+, B, C+, C, D, E\n",
    "(ii) Colour of mangoes: yellow, green, orange, red\n",
    "(iii) Height data of a class: [178.9, 179, 179.5, 176, 177.2, 178.3, 175.8,...]\n",
    "(iv) Number of mangoes exported by a farm: [500, 600, 478, 672, ...]"
   ]
  },
  {
   "cell_type": "markdown",
   "id": "0f5282b9-328f-4821-a858-a3a94913779f",
   "metadata": {},
   "source": [
    "(i) Grading in exam: A+, A, B+, B, C+, C, D, E  : Ordinal Qualitative Data\n",
    "(ii) Colour of mangoes: yellow, green, orange, red : Nominal Qualitative Data\n",
    "(iii) Height data of a class: [178.9, 179, 179.5, 176, 177.2, 178.3, 175.8,...] - Continuous Quantitative Data\n",
    "(iv) Number of mangoes exported by a farm: [500, 600, 478, 672, ...] - Discrete Quantitative Data"
   ]
  },
  {
   "cell_type": "markdown",
   "id": "7c0309c7-12d7-4557-b33a-cc0a9896e16a",
   "metadata": {},
   "source": [
    "Q5. Explain the concept of levels of measurement and give an example of a variable for each level."
   ]
  },
  {
   "cell_type": "markdown",
   "id": "2061c6cf-e578-40bf-8f2b-de8485f80f5d",
   "metadata": {},
   "source": [
    "We collect variety of data which needs to be measured using the scale.There are 4 scale data measurements\n",
    "1) Nominal\n",
    "2) Ordinal\n",
    "3) Interval\n",
    "4) Ratio\n",
    "\n",
    "\n",
    "Here are the details:\n",
    "\n",
    "1) Nominal\n",
    "    - It indicates Qualitative or Categorical data\n",
    "    - Order does not matter\n",
    "Ex Gender={Male, Female}\n",
    "\n",
    "2) Ordinal \n",
    "    - Rank and order matters\n",
    "    - Difference cannot be measured\n",
    "Ex : Qualification\n",
    "Phd (1)\n",
    "BE (3)\n",
    "Masters (2)\n",
    "\n",
    "3) Interval\n",
    "    - Rank and order matters\n",
    "    - Difference can be measured excluding ratio\n",
    "    - It does not have 0 starting value\n",
    "Ex : Temperatures\n",
    "    -30F\n",
    "    -20F\n",
    "    0F\n",
    "    20F\n",
    "    50F\n",
    "\n",
    "4) Ratio\n",
    "    - Rank and order matters\n",
    "    - Difference can be measured excluding ratio\n",
    "    - It does  have 0 starting value\n",
    "Grades={100,80,50,30,0}    \n"
   ]
  },
  {
   "cell_type": "markdown",
   "id": "d464f96a-68d3-4d45-a852-e22b65cb4a8f",
   "metadata": {},
   "source": [
    "Q6. Why is it important to understand the level of measurement when analyzing data? Provide an\n",
    "example to illustrate your answer."
   ]
  },
  {
   "cell_type": "markdown",
   "id": "84d76802-968b-4a72-89a0-4254ae986d09",
   "metadata": {},
   "source": [
    "It is important to understand the level of measurement of variables in research, because the level of measurement determines the type of statistical analysis that can be conducted, and, therefore, the type of conclusions that can be drawn from the research."
   ]
  },
  {
   "cell_type": "markdown",
   "id": "b139a6ad-e36e-4332-b1db-f0c71f6f15c0",
   "metadata": {},
   "source": [
    "Depending on the level of measurement of the variable, what you can do to analyze your data may be limited. There is a hierarchy in the complexity and precision of the level of measurement, from low (nominal) to high (ratio)."
   ]
  },
  {
   "cell_type": "markdown",
   "id": "16ae90fc-c769-401e-bfb0-c86503a7c37e",
   "metadata": {},
   "source": [
    "The level at which you measure a variable determines how you can analyze your data.\n",
    "\n",
    "The different levels limit which descriptive statistics you can use to get an overall summary of your data, and which type of inferential statistics you can perform on your data to support or refute your hypothesis.\n",
    "\n",
    "In many cases, your variables can be measured at different levels, so you have to choose the level of measurement you will use before data collection begins."
   ]
  },
  {
   "cell_type": "markdown",
   "id": "624e19ae-97cd-4d79-a750-1bee411ecf04",
   "metadata": {},
   "source": [
    "Q7. How nominal data type is different from ordinal data type."
   ]
  },
  {
   "cell_type": "markdown",
   "id": "ddb8c3c0-06d0-4c5b-ba61-3ddb9703e17b",
   "metadata": {},
   "source": [
    "Order does not matter in nominal data type whereas Order and Rank matters in Ordinal data type"
   ]
  },
  {
   "cell_type": "markdown",
   "id": "e06f8032-e011-4195-a7b5-bf66bd3cfefa",
   "metadata": {},
   "source": [
    "Q8. Which type of plot can be used to display data in terms of range?"
   ]
  },
  {
   "cell_type": "markdown",
   "id": "c3712f38-3ae7-4e76-a9e5-a9208b6ef842",
   "metadata": {},
   "source": [
    "Histogram"
   ]
  },
  {
   "cell_type": "markdown",
   "id": "ceb25bc4-9ecc-444c-b5df-fec3e5210168",
   "metadata": {},
   "source": [
    "Q9. Describe the difference between descriptive and inferential statistics. Give an example of each\n",
    "type of statistics and explain how they are used."
   ]
  },
  {
   "cell_type": "markdown",
   "id": "3feb7c0e-5d3a-4948-b8db-17dc98af713f",
   "metadata": {},
   "source": [
    "Descriptive statistics are numbers that are used to summarize and describe data. The word \"data\" refers to the information that has been collected from an experiment, a survey, a historical record, etc. "
   ]
  },
  {
   "cell_type": "markdown",
   "id": "f491f357-bce6-4d34-b31b-281b15cba600",
   "metadata": {},
   "source": [
    "Descriptive statistics are just descriptive. They do not involve generalizing beyond the data at hand."
   ]
  },
  {
   "cell_type": "markdown",
   "id": "d42ceb88-ada7-418a-8139-cbb9503ac4d1",
   "metadata": {},
   "source": [
    "Ex: Height of all the students in the class"
   ]
  },
  {
   "cell_type": "markdown",
   "id": "dc99db96-b31f-45c0-a39f-29a0ce709b50",
   "metadata": {},
   "source": [
    "Inferential Statistics deals with using data which has been measured to form conclusions\n",
    "Ex : Exit Poll survey"
   ]
  },
  {
   "cell_type": "markdown",
   "id": "611452b1-a062-4dea-bd62-568d1484aed8",
   "metadata": {},
   "source": [
    "Q10. What are some common measures of central tendency and variability used in statistics? Explain\n",
    "how each measure can be used to describe a dataset."
   ]
  },
  {
   "cell_type": "markdown",
   "id": "f527708d-b945-4ed8-856d-0e51fdb4f324",
   "metadata": {},
   "source": [
    "Measures of central tendency are summary statistics that represent the center point or typical value of a dataset. Examples of these measures include the mean, median, and mode. These statistics indicate where most values in a distribution fall and are also referred to as the central location of a distribution. You can think of central tendency as the propensity for data points to cluster around a middle value."
   ]
  },
  {
   "cell_type": "markdown",
   "id": "14cf892f-9277-4a3b-8c70-7e4f86fc38ec",
   "metadata": {},
   "source": [
    "Mean\n",
    "The mean is the arithmetic average, and it is probably the measure of central tendency that you are most familiar. Calculating the mean is very simple. You just add up all of the values and divide by the number of observations in your dataset.\n",
    "In a symmetric distribution, the mean locates the center accurately.However, in a skewed distribution, the mean can miss the mark.This problem occurs because outliers have a substantial impact on the mean as a measure of central tendency. Extreme values in an extended tail pull the mean away from the center. As the distribution becomes more skewed, the mean is drawn further away from the center. Consequently, it’s best to use the mean as a measure of the central tendency when you have a symmetric distribution."
   ]
  },
  {
   "cell_type": "markdown",
   "id": "8aa0e446-b03f-496a-8ffe-6cc51e96ec34",
   "metadata": {},
   "source": [
    "Median : The median is the middle value. It is the value that splits the dataset in half, making it a natural measure of central tendency.Statisticians say that the median is a robust statistical while the mean is sensitive to outliers and skewed distributions.When comparing the mean vs median, the mean depends on all values in the dataset while the median does not."
   ]
  },
  {
   "cell_type": "markdown",
   "id": "e83d9789-5d6d-4534-98f5-c53748d641f2",
   "metadata": {},
   "source": [
    "The mode is the value that occurs the most frequently in your data set, making it a different type of measure of central tendency than the mean or median.\n",
    "you use the mode with categorical, ordinal, and discrete data. In fact, the mode is the only measure of central tendency that you can use with categorical data—such as the most preferred flavor of ice cream. However, with categorical data, there isn’t a central value because you can’t order the groups. With ordinal and discrete data, the mode can be a value that is not in the center. Again, the mode represents the most common value."
   ]
  },
  {
   "cell_type": "markdown",
   "id": "d740058c-7473-451d-9389-df21e287c727",
   "metadata": {},
   "source": [
    "measure of variability is a summary statistic that represents the amount of dispersion in a dataset. How spread out are the values? While a measure of central tendency describes the typical value, measures of variability define how far away the data points tend to fall from the center. We talk about variability in the context of a distribution of values. A low dispersion indicates that the data points tend to be clustered tightly around the center. High dispersion signifies that they tend to fall further away."
   ]
  },
  {
   "cell_type": "markdown",
   "id": "f26f9094-fcc3-4c34-9752-47d48970026b",
   "metadata": {},
   "source": [
    "Analysts frequently use the mean to summarize the center of a population or a process. While the mean is relevant, people often react to variability even more. When a distribution has lower variability, the values in a dataset are more consistent. However, when the variability is higher, the data points are more dissimilar and extreme values become more likely. Consequently, understanding variability helps you grasp the likelihood of unusual events.\n",
    "\n",
    "In some situations, extreme values can cause problems! Have you seen a weather report where the meteorologist shows extreme heat and drought in one area and flooding in another? It would be nice to average those together! Frequently, we feel discomfort at the extremes more than the mean. Understanding that variability around the mean provides critical information.\n",
    "\n",
    "Variability is everywhere. Your commute time to work varies a bit every day. When you order a favorite dish at a restaurant repeatedly, it isn’t exactly the same each time. The parts that come off an assembly line might appear to be identical, but they have subtly different lengths and widths.\n",
    "\n"
   ]
  },
  {
   "cell_type": "markdown",
   "id": "30767940-d205-4928-91f4-3e7fdbc93ffa",
   "metadata": {},
   "source": [
    "Variance\n",
    "Variance is the average squared difference of the values from the mean. Unlike the previous measures of variability, the variance includes all values in the calculation by comparing each value to the mean. To calculate this statistic, you calculate a set of squared differences between the data points and the mean, sum them, and then divide by the number of observations. Hence, it’s the average squared difference.\n",
    "\n",
    "There are two formulas for the variance depending on whether you are calculating the variance for an entire population or using a sample to estimate the population variance. The equations are below, and then I work through an example in a table to help bring it to life.\n",
    "\n",
    "Population variance\n",
    "The formula for the variance of an entire population is the following:\n",
    "\n",
    "Equation for the population variance\n",
    "In the equation, σ2 is the population parameter for the variance, μ is the parameter for the population mean, and N is the number of data points, which should include the entire population.\n",
    "\n",
    "Sample variance\n",
    "To use a sample to estimate the variance for a population, use the following formula. Using the previous equation with sample data tends to underestimate the variability. Because it’s usually impossible to measure an entire population, statisticians use the equation for sample variances much more frequently.\n",
    "\n",
    "Equation for the sample variance.\n",
    "In the equation, s2 is the sample variance, and M is the sample mean. N-1 in the denominator corrects for the tendency of a sample to underestimate the population variance."
   ]
  },
  {
   "cell_type": "markdown",
   "id": "12776316-b418-424c-9288-6004ffd806ae",
   "metadata": {},
   "source": [
    "While higher values of the variance indicate greater variability, there is no intuitive interpretation for specific values. Despite this limitation, various statistical tests use the variance in their calculations. "
   ]
  },
  {
   "cell_type": "markdown",
   "id": "3811c105-921f-40dd-bc01-a6374054697a",
   "metadata": {},
   "source": [
    "Standard Deviation\n",
    "The standard deviation is the standard or typical difference between each data point and the mean. When the values in a dataset are grouped closer together, you have a smaller standard deviation. On the other hand, when the values are spread out more, the standard deviation is larger because the standard distance is greater."
   ]
  },
  {
   "cell_type": "code",
   "execution_count": null,
   "id": "9d2d6f4e-939b-465a-ada0-f569de429c80",
   "metadata": {},
   "outputs": [],
   "source": []
  }
 ],
 "metadata": {
  "kernelspec": {
   "display_name": "Python 3 (ipykernel)",
   "language": "python",
   "name": "python3"
  },
  "language_info": {
   "codemirror_mode": {
    "name": "ipython",
    "version": 3
   },
   "file_extension": ".py",
   "mimetype": "text/x-python",
   "name": "python",
   "nbconvert_exporter": "python",
   "pygments_lexer": "ipython3",
   "version": "3.10.8"
  }
 },
 "nbformat": 4,
 "nbformat_minor": 5
}
