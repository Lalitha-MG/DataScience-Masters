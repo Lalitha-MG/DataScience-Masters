{
 "cells": [
  {
   "cell_type": "markdown",
   "id": "067e6e2d-38f7-47f5-b492-01b96e45288d",
   "metadata": {},
   "source": [
    "Q1. What are the three measures of central tendency?"
   ]
  },
  {
   "cell_type": "markdown",
   "id": "60907403-e99d-4bd9-906c-b12cb105b77b",
   "metadata": {},
   "source": [
    "The 3 measures of central tendency\n",
    "1) Mean\n",
    "2) Median\n",
    "3) Mode"
   ]
  },
  {
   "cell_type": "markdown",
   "id": "f585deb9-24de-4709-a216-9e838f3c60a1",
   "metadata": {},
   "source": [
    "Q2. What is the difference between the mean, median, and mode? How are they used to measure the \n",
    "central tendency of a dataset?"
   ]
  },
  {
   "cell_type": "markdown",
   "id": "45e6eda0-a21c-4bc2-8c21-bc6c6a3f77c1",
   "metadata": {},
   "source": [
    "Mean is the Arithmetic Average.\n",
    "Calculation = add up all of the values and divide by the number of observations in your dataset.\n",
    "Mean provides accurate result for Symmetric Distribution and Continuous data as outliers impact the meas. This is because mean considers all the data values\n"
   ]
  },
  {
   "cell_type": "markdown",
   "id": "4c085e48-cd40-4ba0-8fe1-02340a902ec6",
   "metadata": {},
   "source": [
    "Median is the middle value.It is the value that splits the dataset in half, making it a natural measure of central tendency."
   ]
  },
  {
   "cell_type": "markdown",
   "id": "be7b6015-bfe0-4340-9ddc-9982c3f7117a",
   "metadata": {},
   "source": [
    "Calculation - To find the median, order your data from smallest to largest, and then find the data point that has an equal number of values above it and below it."
   ]
  },
  {
   "cell_type": "markdown",
   "id": "40652d51-f8fb-4b67-ac59-f6ca66c9f90e",
   "metadata": {},
   "source": [
    "Outliers and skewed data have a smaller effect on the median than mean"
   ]
  },
  {
   "cell_type": "markdown",
   "id": "769fcdb3-aebb-416a-98eb-ec06f8e59fba",
   "metadata": {},
   "source": [
    "When to use the median: Skewed distribution, Continuous data, Ordinal data"
   ]
  },
  {
   "cell_type": "markdown",
   "id": "a7d31543-71ae-43a0-a1d0-391e53869928",
   "metadata": {},
   "source": [
    "The mode is the value that occurs the most frequently in your data set"
   ]
  },
  {
   "cell_type": "markdown",
   "id": "028916be-d5e0-4ccb-8595-e3fec3c22963",
   "metadata": {},
   "source": [
    "To find the mode, sort the values in your dataset by numeric values or by categories. Then identify the value that occurs most often."
   ]
  },
  {
   "cell_type": "markdown",
   "id": "c9cb5e69-0b95-44f0-bd95-5d6878104449",
   "metadata": {},
   "source": [
    "When to use the mode: Categorical data, Ordinal data, Count data, Probability Distributions"
   ]
  },
  {
   "cell_type": "markdown",
   "id": "ec327310-fd5d-4826-acbf-a489d3449314",
   "metadata": {},
   "source": [
    "When you have a symmetrical distribution for continuous data, the mean, median, and mode are equal. In this case, analysts tend to use the mean because it includes all of the data in the calculations. However, if you have a skewed distribution, the median is often the best measure of central tendency.\n",
    "\n",
    "When you have ordinal data, the median or mode is usually the best choice. For categorical data, you must use the mode."
   ]
  },
  {
   "cell_type": "markdown",
   "id": "4bf4f4f9-f1ff-4569-b01b-b89d067ec97f",
   "metadata": {},
   "source": [
    "Q3. Measure the three measures of central tendency for the given height data:\n",
    "\n",
    " [178,177,176,177,178.2,178,175,179,180,175,178.9,176.2,177,172.5,178,176.5]"
   ]
  },
  {
   "cell_type": "code",
   "execution_count": 5,
   "id": "ac90c66e-1936-43db-b597-e072ceb3f72f",
   "metadata": {},
   "outputs": [],
   "source": [
    "Height=[178,177,176,177,178.2,178,175,179,180,175,178.9,176.2,177,172.5,178,176.5]\n"
   ]
  },
  {
   "cell_type": "code",
   "execution_count": 6,
   "id": "c11480af-7f6a-46af-8ad4-88dcf27e750b",
   "metadata": {},
   "outputs": [],
   "source": [
    "import numpy as np\n"
   ]
  },
  {
   "cell_type": "code",
   "execution_count": 7,
   "id": "8511a948-200f-4b41-8caf-d6785a7496ac",
   "metadata": {},
   "outputs": [],
   "source": [
    "Mean=np.mean(Height)"
   ]
  },
  {
   "cell_type": "code",
   "execution_count": 8,
   "id": "51da6e35-1fc1-43a0-988a-18eee0fbda93",
   "metadata": {},
   "outputs": [
    {
     "data": {
      "text/plain": [
       "177.01875"
      ]
     },
     "execution_count": 8,
     "metadata": {},
     "output_type": "execute_result"
    }
   ],
   "source": [
    "Mean"
   ]
  },
  {
   "cell_type": "code",
   "execution_count": 9,
   "id": "72ad4b72-a5c7-42b4-ae76-a24a85eb868e",
   "metadata": {},
   "outputs": [
    {
     "data": {
      "text/plain": [
       "177.0"
      ]
     },
     "execution_count": 9,
     "metadata": {},
     "output_type": "execute_result"
    }
   ],
   "source": [
    "Median=np.median(Height)\n",
    "Median"
   ]
  },
  {
   "cell_type": "code",
   "execution_count": 10,
   "id": "f6d7dd1f-64b4-4204-90de-7da98f534ecb",
   "metadata": {},
   "outputs": [],
   "source": [
    "from scipy import stats\n"
   ]
  },
  {
   "cell_type": "code",
   "execution_count": 11,
   "id": "ccd7b28f-ff9d-42de-b746-e0cbe9a5826c",
   "metadata": {},
   "outputs": [
    {
     "name": "stderr",
     "output_type": "stream",
     "text": [
      "/tmp/ipykernel_3175/2191083717.py:1: FutureWarning: Unlike other reduction functions (e.g. `skew`, `kurtosis`), the default behavior of `mode` typically preserves the axis it acts along. In SciPy 1.11.0, this behavior will change: the default value of `keepdims` will become False, the `axis` over which the statistic is taken will be eliminated, and the value None will no longer be accepted. Set `keepdims` to True or False to avoid this warning.\n",
      "  stats.mode(Height)\n"
     ]
    },
    {
     "data": {
      "text/plain": [
       "ModeResult(mode=array([177.]), count=array([3]))"
      ]
     },
     "execution_count": 11,
     "metadata": {},
     "output_type": "execute_result"
    }
   ],
   "source": [
    "stats.mode(Height)"
   ]
  },
  {
   "cell_type": "markdown",
   "id": "f0bd5a95-3b93-4d59-a9fb-b2bf7ecbe7d7",
   "metadata": {},
   "source": [
    "Q4. Find the standard deviation for the given data:\n",
    "\n",
    "[178,177,176,177,178.2,178,175,179,180,175,178.9,176.2,177,172.5,178,176.5]"
   ]
  },
  {
   "cell_type": "code",
   "execution_count": 12,
   "id": "572d6317-8bd7-4a26-ac53-f32177fce9c0",
   "metadata": {},
   "outputs": [],
   "source": [
    "data=[178,177,176,177,178.2,178,175,179,180,175,178.9,176.2,177,172.5,178,176.5]"
   ]
  },
  {
   "cell_type": "code",
   "execution_count": 13,
   "id": "1b15570b-937d-46d1-b585-5012850ab109",
   "metadata": {},
   "outputs": [],
   "source": [
    "import numpy as np"
   ]
  },
  {
   "cell_type": "code",
   "execution_count": 14,
   "id": "23f5b400-73c7-4e2b-8c94-c08abf03f7e7",
   "metadata": {},
   "outputs": [
    {
     "data": {
      "text/plain": [
       "1.7885814036548633"
      ]
     },
     "execution_count": 14,
     "metadata": {},
     "output_type": "execute_result"
    }
   ],
   "source": [
    "stddev=np.std(data)\n",
    "stddev"
   ]
  },
  {
   "cell_type": "markdown",
   "id": "fc1e1f5a-f89c-4046-b9ad-87c646ddacc7",
   "metadata": {},
   "source": [
    "Q5. How are measures of dispersion such as range, variance, and standard deviation used to describe \n",
    "the spread of a dataset? Provide an example"
   ]
  },
  {
   "cell_type": "markdown",
   "id": "9d7dfcd4-66b4-46bb-b961-7e4e68da4bcc",
   "metadata": {},
   "source": [
    "Measure of Variability/Dispersion - describes how far away the data points tend to fall from the center."
   ]
  },
  {
   "cell_type": "markdown",
   "id": "6a5f017a-22f3-4cee-bbd5-7b71868b9605",
   "metadata": {},
   "source": [
    "Range : The range of a dataset is the difference between the largest and smallest values in that dataset."
   ]
  },
  {
   "cell_type": "markdown",
   "id": "f8f0ddd4-ecdb-4444-ac03-a77a9da5225d",
   "metadata": {},
   "source": [
    "it is based on only the two most extreme values in the dataset, which makes it very susceptible to outliers. If one of those numbers is unusually high or low, it affects the entire range even if it is atypical."
   ]
  },
  {
   "cell_type": "markdown",
   "id": "537c053c-318c-4df8-8608-77ea593603c5",
   "metadata": {},
   "source": [
    "Additionally, the size of the dataset affects the range. In general, you are less likely to observe extreme values. However, as you increase the sample size, you have more opportunities to obtain these extreme values."
   ]
  },
  {
   "cell_type": "markdown",
   "id": "deeed28e-c5b9-41c9-9c07-4f050722a9cc",
   "metadata": {},
   "source": [
    "Variance - average squared difference of the values from the mean."
   ]
  },
  {
   "cell_type": "markdown",
   "id": "2d8b8f8c-8c35-4818-983c-82d27cd8913b",
   "metadata": {},
   "source": [
    "To calculate this statistic, you calculate a set of squared differences between the data points and the mean, sum them, and then divide by the number of observations. Hence, it’s the average squared difference."
   ]
  },
  {
   "cell_type": "markdown",
   "id": "e51b44df-d660-4135-b200-130d631d3497",
   "metadata": {},
   "source": [
    "the variance is in squared units rather the original units of the data. While higher values of the variance indicate greater variability, there is no intuitive interpretation for specific values. Despite this limitation, various statistical tests use the variance in their calculations. "
   ]
  },
  {
   "cell_type": "markdown",
   "id": "2b1070a0-d17b-4cbe-8649-efe0e6c997da",
   "metadata": {},
   "source": [
    "Standard Deviation -  is the standard or typical difference between each data point and the mean."
   ]
  },
  {
   "cell_type": "markdown",
   "id": "c7fda518-39d3-4a4e-9051-c7b8dfbb003c",
   "metadata": {},
   "source": [
    "When the values in a dataset are grouped closer together, you have a smaller standard deviation. On the other hand, when the values are spread out more, the standard deviation is larger because the standard distance is greater."
   ]
  },
  {
   "cell_type": "markdown",
   "id": "b7db982a-4430-49a7-8f6a-8310a3da98ca",
   "metadata": {},
   "source": [
    "What is Venn Diagram?"
   ]
  },
  {
   "cell_type": "markdown",
   "id": "fadae82c-b5b6-435a-bff5-b66fe37085a4",
   "metadata": {},
   "source": [
    "Venn diagrams visually represent relationships between concepts. They use circles to display similarities and differences between sets of ideas, traits, or items. Intersections indicate that the groups have common elements. Non-overlapping areas represent traits that are unique to one set. Venn diagrams are also known as logic diagrams and set diagrams."
   ]
  },
  {
   "cell_type": "markdown",
   "id": "4f83aa08-ba03-4984-a099-bceaaf448323",
   "metadata": {},
   "source": [
    "Q7. For the two given sets A = (2,3,4,5,6,7) & B = (0,2,6,8,10). Find:\n",
    "\n",
    "(i) \tA ⋂ B\n",
    "\n",
    "(ii)\tA ⋃ B"
   ]
  },
  {
   "cell_type": "markdown",
   "id": "8a5c0fa9-cfd4-499b-ac3f-536ef57797e6",
   "metadata": {},
   "source": [
    "A ⋂ B ={ 2,6}\n",
    "\n",
    "AUB ={0,2,3,4,5,6,7,8,10}"
   ]
  },
  {
   "cell_type": "markdown",
   "id": "890f254e-62ff-4de4-acd2-b7a384b5b834",
   "metadata": {},
   "source": [
    "Q8. What do you understand about skewness in data?"
   ]
  },
  {
   "cell_type": "markdown",
   "id": "f3cc9def-2e64-4d3a-88ef-2ccde275d08d",
   "metadata": {},
   "source": [
    "Skewness is a measurement of the distortion of symmetrical distribution or asymmetry in a data set. Skewness is demonstrated on a bell curve when data points are not distributed symmetrically to the left and right sides of the median on a bell curve. If the bell curve is shifted to the left or the right, it is said to be skewed."
   ]
  },
  {
   "cell_type": "markdown",
   "id": "eaebc9cd-5bf8-46dc-8f02-ac8828ad1881",
   "metadata": {},
   "source": [
    "Q9. If a data is right skewed then what will be the position of median with respect to mean?"
   ]
  },
  {
   "cell_type": "markdown",
   "id": "9b72cb3c-4347-4fb3-a0be-3a09578e16da",
   "metadata": {},
   "source": [
    "Mean > Median"
   ]
  },
  {
   "cell_type": "markdown",
   "id": "49e1419d-6c0f-4603-8b53-faf827933349",
   "metadata": {},
   "source": [
    "Q10. Explain the difference between covariance and correlation. How are these measures used in \n",
    "statistical analysis?"
   ]
  },
  {
   "cell_type": "markdown",
   "id": "9f2604f4-e44c-4f33-8750-6668e2ec6e72",
   "metadata": {},
   "source": [
    "Covariance shows you how the two variables differ, whereas correlation shows you how the two variables are related"
   ]
  },
  {
   "cell_type": "markdown",
   "id": "6f26c8da-7cfb-437e-8985-bfe4d862a98e",
   "metadata": {},
   "source": [
    "covariance illustrates the degree to which two variables vary with respect to each other, while correlation determines the strength and direction of this relationship. Covariance and correlation are interlinked with each other. In simple terms, correlation refers to the scaled version of covariance. This means that correlation is a special case of covariance which can be achieved when the data is in standardized form.\n",
    "\n",
    "The key differences between covariance and correlation can be summarized as follows:\n",
    "\n",
    "What do they measure? Covariance measures whether a variation in one variable results in a variation in another variable; for example, looking at whether an increase in one variable results in an increase, decrease, or no change in the other variable. Correlation measures the direction as well as the strength of the relationship between two variables (i.e. how strongly these two variables are related to each other).\n",
    "Relationship constraints: Covariance deals with the linear relationship of only two variables in the dataset, whereas correlation can involve two or multiple variables or data sets and their linear relationships.\n",
    "Value range: Although both correlation coefficient and covariance are measures of linear association, correlation coefficients are standardized, therefore displaying an absolute value within a definite range from -1 to 1. On the other hand, covariance values are not standardized and use an indefinite range from -∞ to +∞ , which makes the interpretation of covariance a bit tricky.\n",
    "Measurement units: Correlation is dimensionless, i.e. it is a unit-free measure of the relationship between variables. In contrast,  covariance is in units, which is formed by multiplying the unit of one variable by the unit of another variable.\n",
    "Change in scale: Covariance is affected by the change in scale, i.e. if all the values of one variable are multiplied by a constant and all the values of another variable are multiplied by a similar or different constant, then the covariance is changed. Conversely, correlation is not affected by the change in scale."
   ]
  },
  {
   "cell_type": "markdown",
   "id": "b305e5f6-4fc4-4445-a30b-34aeb2b5b37f",
   "metadata": {},
   "source": [
    "Statistics forms the foundation of many data analysis methods and techniques. Some common use cases of covariance and correlation within the field of data analytics include:\n",
    "\n",
    "Comparing samples from two or more different populations. This is useful because it helps in analyzing common trends and patterns in different samples.\n",
    "In data-driven industries, covariance and correlation help in identifying multivariate data in order to process data and effectively perform analytical operations.\n",
    "Correlation is a key method for investigating relations between two variables before implementing statistical modeling.\n",
    "PCA (principal component analysis) is implemented using covariance and correlation in order to shrink dimensions of large datasets to enhance interpretability. Data scientists use PCA to carry out predictive analysis and exploratory data analysis.\n",
    "Analytical processes such as multivariate analysis and feature selection are accomplished by employing covariance and correlation methods."
   ]
  },
  {
   "cell_type": "markdown",
   "id": "6335a53b-a09d-4084-943b-140482d10835",
   "metadata": {},
   "source": [
    "11. What is the formula for calculating the sample mean? Provide an example calculation for a \n",
    "dataset."
   ]
  },
  {
   "cell_type": "markdown",
   "id": "36c41536-d254-4420-8a6a-540a08471206",
   "metadata": {},
   "source": [
    "add all the values and divide by the number of observations."
   ]
  },
  {
   "cell_type": "markdown",
   "id": "077f0b7b-718a-4fd6-8541-b5d2887c26e3",
   "metadata": {},
   "source": [
    "A={1,2,3,4,5}\n",
    "Mean=(1+2+3+4+5)/5=3"
   ]
  },
  {
   "cell_type": "markdown",
   "id": "40194ecc-2d82-45a2-b1ff-feb5b90735ee",
   "metadata": {},
   "source": [
    "Q12. For a normal distribution data what is the relationship between its measure of central tendency?"
   ]
  },
  {
   "cell_type": "markdown",
   "id": "85638a65-4a76-4686-88d0-2d67b7469fe5",
   "metadata": {},
   "source": [
    "Mean=Median=Mode"
   ]
  },
  {
   "cell_type": "markdown",
   "id": "fc2d56fc-383c-4a14-beb9-6044459d763c",
   "metadata": {},
   "source": [
    "Q13. How is covariance different from correlation?"
   ]
  },
  {
   "cell_type": "markdown",
   "id": "4cdacf76-324d-4719-8912-e0baa0c8ca5d",
   "metadata": {},
   "source": [
    "covariance illustrates the degree to which two variables vary with respect to each other, while correlation determines the strength and direction of this relationship. Covariance and correlation are interlinked with each other. In simple terms, correlation refers to the scaled version of covariance. This means that correlation is a special case of covariance which can be achieved when the data is in standardized form."
   ]
  },
  {
   "cell_type": "markdown",
   "id": "f3284978-383d-4f40-bb53-fd87fe7271dc",
   "metadata": {},
   "source": [
    "Q14. How do outliers affect measures of central tendency and dispersion? Provide an example."
   ]
  },
  {
   "cell_type": "markdown",
   "id": "3d91b996-e77f-45e1-8ce1-c93e5e751b36",
   "metadata": {},
   "source": [
    "In a symmetric distribution, the mean locates the center accurately."
   ]
  },
  {
   "cell_type": "markdown",
   "id": "d2d18969-4207-417a-91e0-87983929e7dd",
   "metadata": {},
   "source": [
    "However, in a skewed distribution, the mean can miss the mark."
   ]
  },
  {
   "cell_type": "markdown",
   "id": "0906c967-f67b-427b-91b0-cbe5a82e5a75",
   "metadata": {},
   "source": [
    "This problem occurs because outliers have a substantial impact on the mean as a measure of central tendency.  "
   ]
  },
  {
   "cell_type": "markdown",
   "id": "b32a9981-05f2-4d26-9f78-72e5ea29c86d",
   "metadata": {},
   "source": [
    "Outliers and skewed data have a smaller effect on the median than mean"
   ]
  },
  {
   "cell_type": "code",
   "execution_count": null,
   "id": "5eb2502f-8f80-4240-9d3e-a3278d8a6b43",
   "metadata": {},
   "outputs": [],
   "source": []
  }
 ],
 "metadata": {
  "kernelspec": {
   "display_name": "Python 3 (ipykernel)",
   "language": "python",
   "name": "python3"
  },
  "language_info": {
   "codemirror_mode": {
    "name": "ipython",
    "version": 3
   },
   "file_extension": ".py",
   "mimetype": "text/x-python",
   "name": "python",
   "nbconvert_exporter": "python",
   "pygments_lexer": "ipython3",
   "version": "3.10.8"
  }
 },
 "nbformat": 4,
 "nbformat_minor": 5
}
