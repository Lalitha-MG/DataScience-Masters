{
 "cells": [
  {
   "cell_type": "markdown",
   "id": "5e4ea833-5fbc-40c7-ae1a-555b4ee4d4aa",
   "metadata": {},
   "source": [
    "Consider following code to answer further questions:\n",
    "import pandas as pd\n",
    "course_name = [‘Data Science’, ‘Machine Learning’, ‘Big Data’, ‘Data Engineer’]\n",
    "duration = [2,3,6,4]\n",
    "df = pd.DataFrame(data = {‘course_name’ : course_name, ‘duration’ : duration})"
   ]
  },
  {
   "cell_type": "markdown",
   "id": "f2125b40-f0d0-4a3c-8ef1-9c97f52ec0b1",
   "metadata": {},
   "source": [
    "Q1. Write a code to print the data present in the second row of the dataframe, df."
   ]
  },
  {
   "cell_type": "code",
   "execution_count": 2,
   "id": "f6cf2df9-061d-49f8-acf6-efe209206db2",
   "metadata": {},
   "outputs": [],
   "source": [
    "import pandas as pd\n",
    "course_name = ['Data Science', 'Machine Learning', 'Big Data', 'Data Engineer']\n",
    "duration = [2,3,6,4]\n",
    "df = pd.DataFrame(data = {'course_name' : course_name, 'duration' : duration})"
   ]
  },
  {
   "cell_type": "code",
   "execution_count": 3,
   "id": "10d387ad-ceeb-4df9-af2c-6cfa10bbc47a",
   "metadata": {},
   "outputs": [
    {
     "data": {
      "text/html": [
       "<div>\n",
       "<style scoped>\n",
       "    .dataframe tbody tr th:only-of-type {\n",
       "        vertical-align: middle;\n",
       "    }\n",
       "\n",
       "    .dataframe tbody tr th {\n",
       "        vertical-align: top;\n",
       "    }\n",
       "\n",
       "    .dataframe thead th {\n",
       "        text-align: right;\n",
       "    }\n",
       "</style>\n",
       "<table border=\"1\" class=\"dataframe\">\n",
       "  <thead>\n",
       "    <tr style=\"text-align: right;\">\n",
       "      <th></th>\n",
       "      <th>course_name</th>\n",
       "      <th>duration</th>\n",
       "    </tr>\n",
       "  </thead>\n",
       "  <tbody>\n",
       "    <tr>\n",
       "      <th>0</th>\n",
       "      <td>Data Science</td>\n",
       "      <td>2</td>\n",
       "    </tr>\n",
       "    <tr>\n",
       "      <th>1</th>\n",
       "      <td>Machine Learning</td>\n",
       "      <td>3</td>\n",
       "    </tr>\n",
       "    <tr>\n",
       "      <th>2</th>\n",
       "      <td>Big Data</td>\n",
       "      <td>6</td>\n",
       "    </tr>\n",
       "    <tr>\n",
       "      <th>3</th>\n",
       "      <td>Data Engineer</td>\n",
       "      <td>4</td>\n",
       "    </tr>\n",
       "  </tbody>\n",
       "</table>\n",
       "</div>"
      ],
      "text/plain": [
       "        course_name  duration\n",
       "0      Data Science         2\n",
       "1  Machine Learning         3\n",
       "2          Big Data         6\n",
       "3     Data Engineer         4"
      ]
     },
     "execution_count": 3,
     "metadata": {},
     "output_type": "execute_result"
    }
   ],
   "source": [
    "df"
   ]
  },
  {
   "cell_type": "code",
   "execution_count": 4,
   "id": "0561dcf4-bd79-444d-a5e6-d8ab160b08ea",
   "metadata": {},
   "outputs": [
    {
     "name": "stdout",
     "output_type": "stream",
     "text": [
      "0    2\n",
      "1    3\n",
      "2    6\n",
      "3    4\n",
      "Name: duration, dtype: int64\n"
     ]
    }
   ],
   "source": [
    "print(df['duration'])"
   ]
  },
  {
   "cell_type": "markdown",
   "id": "5edc8162-b6d7-491d-8f84-8e7873f2c054",
   "metadata": {},
   "source": [
    "Q2. What is the difference between the functions loc and iloc in pandas.DataFrame?"
   ]
  },
  {
   "cell_type": "markdown",
   "id": "779f0971-e39c-4ed1-a34f-a2c29afc45a3",
   "metadata": {},
   "source": [
    "The loc() function is label based data selecting method which means that we have to pass the name of the row or column which we want to select. This method includes the last element of the range passed in it, unlike iloc(). loc() can accept the boolean data unlike iloc()."
   ]
  },
  {
   "cell_type": "markdown",
   "id": "bda14214-afd2-441d-90ba-3f32c4a3ff49",
   "metadata": {},
   "source": [
    "The iloc() function is an indexed-based selecting method which means that we have to pass an integer index in the method to select a specific row/column. This method does not include the last element of the range passed in it unlike loc(). iloc() does not accept the boolean data unlike loc(). "
   ]
  },
  {
   "cell_type": "markdown",
   "id": "126631c1-5045-4e9e-a958-e84939447cc8",
   "metadata": {},
   "source": [
    "Q3. Reindex the given dataframe using a variable, reindex = [3,0,1,2] and store it in the variable, new_df\n",
    "then find the output for both new_df.loc[2] and new_df.iloc[2].\n",
    "\n"
   ]
  },
  {
   "cell_type": "code",
   "execution_count": 6,
   "id": "cbf5c5c4-0a50-4537-8274-8b5f190cb55d",
   "metadata": {},
   "outputs": [
    {
     "data": {
      "text/html": [
       "<div>\n",
       "<style scoped>\n",
       "    .dataframe tbody tr th:only-of-type {\n",
       "        vertical-align: middle;\n",
       "    }\n",
       "\n",
       "    .dataframe tbody tr th {\n",
       "        vertical-align: top;\n",
       "    }\n",
       "\n",
       "    .dataframe thead th {\n",
       "        text-align: right;\n",
       "    }\n",
       "</style>\n",
       "<table border=\"1\" class=\"dataframe\">\n",
       "  <thead>\n",
       "    <tr style=\"text-align: right;\">\n",
       "      <th></th>\n",
       "      <th>course_name</th>\n",
       "      <th>duration</th>\n",
       "    </tr>\n",
       "  </thead>\n",
       "  <tbody>\n",
       "    <tr>\n",
       "      <th>0</th>\n",
       "      <td>Data Science</td>\n",
       "      <td>2</td>\n",
       "    </tr>\n",
       "    <tr>\n",
       "      <th>1</th>\n",
       "      <td>Machine Learning</td>\n",
       "      <td>3</td>\n",
       "    </tr>\n",
       "    <tr>\n",
       "      <th>2</th>\n",
       "      <td>Big Data</td>\n",
       "      <td>6</td>\n",
       "    </tr>\n",
       "    <tr>\n",
       "      <th>3</th>\n",
       "      <td>Data Engineer</td>\n",
       "      <td>4</td>\n",
       "    </tr>\n",
       "  </tbody>\n",
       "</table>\n",
       "</div>"
      ],
      "text/plain": [
       "        course_name  duration\n",
       "0      Data Science         2\n",
       "1  Machine Learning         3\n",
       "2          Big Data         6\n",
       "3     Data Engineer         4"
      ]
     },
     "execution_count": 6,
     "metadata": {},
     "output_type": "execute_result"
    }
   ],
   "source": [
    "df"
   ]
  },
  {
   "cell_type": "code",
   "execution_count": 7,
   "id": "01b7b678-28f9-46a0-b7e8-4e3173a8c978",
   "metadata": {},
   "outputs": [],
   "source": [
    "new_df=df.reindex(index=[3,0,1,2])"
   ]
  },
  {
   "cell_type": "code",
   "execution_count": 8,
   "id": "a2c14a9a-e4a7-49ab-a538-8b34f8821f4c",
   "metadata": {},
   "outputs": [
    {
     "data": {
      "text/html": [
       "<div>\n",
       "<style scoped>\n",
       "    .dataframe tbody tr th:only-of-type {\n",
       "        vertical-align: middle;\n",
       "    }\n",
       "\n",
       "    .dataframe tbody tr th {\n",
       "        vertical-align: top;\n",
       "    }\n",
       "\n",
       "    .dataframe thead th {\n",
       "        text-align: right;\n",
       "    }\n",
       "</style>\n",
       "<table border=\"1\" class=\"dataframe\">\n",
       "  <thead>\n",
       "    <tr style=\"text-align: right;\">\n",
       "      <th></th>\n",
       "      <th>course_name</th>\n",
       "      <th>duration</th>\n",
       "    </tr>\n",
       "  </thead>\n",
       "  <tbody>\n",
       "    <tr>\n",
       "      <th>3</th>\n",
       "      <td>Data Engineer</td>\n",
       "      <td>4</td>\n",
       "    </tr>\n",
       "    <tr>\n",
       "      <th>0</th>\n",
       "      <td>Data Science</td>\n",
       "      <td>2</td>\n",
       "    </tr>\n",
       "    <tr>\n",
       "      <th>1</th>\n",
       "      <td>Machine Learning</td>\n",
       "      <td>3</td>\n",
       "    </tr>\n",
       "    <tr>\n",
       "      <th>2</th>\n",
       "      <td>Big Data</td>\n",
       "      <td>6</td>\n",
       "    </tr>\n",
       "  </tbody>\n",
       "</table>\n",
       "</div>"
      ],
      "text/plain": [
       "        course_name  duration\n",
       "3     Data Engineer         4\n",
       "0      Data Science         2\n",
       "1  Machine Learning         3\n",
       "2          Big Data         6"
      ]
     },
     "execution_count": 8,
     "metadata": {},
     "output_type": "execute_result"
    }
   ],
   "source": [
    "new_df"
   ]
  },
  {
   "cell_type": "code",
   "execution_count": 9,
   "id": "ed2b6c00-6764-4f85-af30-92ba4e37d9bd",
   "metadata": {},
   "outputs": [
    {
     "data": {
      "text/plain": [
       "course_name    Big Data\n",
       "duration              6\n",
       "Name: 2, dtype: object"
      ]
     },
     "execution_count": 9,
     "metadata": {},
     "output_type": "execute_result"
    }
   ],
   "source": [
    "new_df.loc[2]"
   ]
  },
  {
   "cell_type": "code",
   "execution_count": 12,
   "id": "d347adda-f2cb-47ab-825e-439058ecd33f",
   "metadata": {},
   "outputs": [
    {
     "data": {
      "text/plain": [
       "course_name    Machine Learning\n",
       "duration                      3\n",
       "Name: 1, dtype: object"
      ]
     },
     "execution_count": 12,
     "metadata": {},
     "output_type": "execute_result"
    }
   ],
   "source": [
    "new_df.iloc[2]"
   ]
  },
  {
   "cell_type": "markdown",
   "id": "bc464bd1-aea7-4cf1-8751-ae1c0d9e8b87",
   "metadata": {},
   "source": [
    "The loc() function is label based data selecting method which means that we have to pass the name of the row or column which we want to select."
   ]
  },
  {
   "cell_type": "markdown",
   "id": "9c930715-0796-48a1-a640-b3dbec2020e6",
   "metadata": {},
   "source": [
    "Here row with label 2 i.e Bigdata is returned"
   ]
  },
  {
   "cell_type": "markdown",
   "id": "c9262c88-992c-4e76-8ccc-71078ef4491a",
   "metadata": {},
   "source": [
    "The iloc() function is indexed based data searching, it returns the data available in the 2nd index position"
   ]
  },
  {
   "cell_type": "code",
   "execution_count": 13,
   "id": "f9d6c0d5-a4dc-4626-9a89-779b6f711faa",
   "metadata": {},
   "outputs": [],
   "source": [
    "import pandas as pd\n",
    "import numpy as np\n",
    "columns = ['column_1', 'column_2', 'column_3', 'column_4', 'column_5', 'column_6']\n",
    "indices = [1,2,3,4,5,6]\n",
    "#Creating a dataframe:\n",
    "df1 = pd.DataFrame(np.random.rand(6,6), columns = columns, index = indices)"
   ]
  },
  {
   "cell_type": "code",
   "execution_count": 14,
   "id": "458662ed-4811-4ee9-821e-86204bf201bd",
   "metadata": {},
   "outputs": [
    {
     "data": {
      "text/html": [
       "<div>\n",
       "<style scoped>\n",
       "    .dataframe tbody tr th:only-of-type {\n",
       "        vertical-align: middle;\n",
       "    }\n",
       "\n",
       "    .dataframe tbody tr th {\n",
       "        vertical-align: top;\n",
       "    }\n",
       "\n",
       "    .dataframe thead th {\n",
       "        text-align: right;\n",
       "    }\n",
       "</style>\n",
       "<table border=\"1\" class=\"dataframe\">\n",
       "  <thead>\n",
       "    <tr style=\"text-align: right;\">\n",
       "      <th></th>\n",
       "      <th>column_1</th>\n",
       "      <th>column_2</th>\n",
       "      <th>column_3</th>\n",
       "      <th>column_4</th>\n",
       "      <th>column_5</th>\n",
       "      <th>column_6</th>\n",
       "    </tr>\n",
       "  </thead>\n",
       "  <tbody>\n",
       "    <tr>\n",
       "      <th>1</th>\n",
       "      <td>0.546162</td>\n",
       "      <td>0.284300</td>\n",
       "      <td>0.102596</td>\n",
       "      <td>0.407381</td>\n",
       "      <td>0.557275</td>\n",
       "      <td>0.889795</td>\n",
       "    </tr>\n",
       "    <tr>\n",
       "      <th>2</th>\n",
       "      <td>0.596108</td>\n",
       "      <td>0.344336</td>\n",
       "      <td>0.947684</td>\n",
       "      <td>0.466663</td>\n",
       "      <td>0.429371</td>\n",
       "      <td>0.060779</td>\n",
       "    </tr>\n",
       "    <tr>\n",
       "      <th>3</th>\n",
       "      <td>0.265469</td>\n",
       "      <td>0.699674</td>\n",
       "      <td>0.862305</td>\n",
       "      <td>0.424312</td>\n",
       "      <td>0.740650</td>\n",
       "      <td>0.530001</td>\n",
       "    </tr>\n",
       "    <tr>\n",
       "      <th>4</th>\n",
       "      <td>0.305275</td>\n",
       "      <td>0.518685</td>\n",
       "      <td>0.140018</td>\n",
       "      <td>0.417011</td>\n",
       "      <td>0.510477</td>\n",
       "      <td>0.312762</td>\n",
       "    </tr>\n",
       "    <tr>\n",
       "      <th>5</th>\n",
       "      <td>0.278496</td>\n",
       "      <td>0.945150</td>\n",
       "      <td>0.912849</td>\n",
       "      <td>0.198596</td>\n",
       "      <td>0.154332</td>\n",
       "      <td>0.709198</td>\n",
       "    </tr>\n",
       "    <tr>\n",
       "      <th>6</th>\n",
       "      <td>0.982500</td>\n",
       "      <td>0.100201</td>\n",
       "      <td>0.768373</td>\n",
       "      <td>0.984817</td>\n",
       "      <td>0.919229</td>\n",
       "      <td>0.070317</td>\n",
       "    </tr>\n",
       "  </tbody>\n",
       "</table>\n",
       "</div>"
      ],
      "text/plain": [
       "   column_1  column_2  column_3  column_4  column_5  column_6\n",
       "1  0.546162  0.284300  0.102596  0.407381  0.557275  0.889795\n",
       "2  0.596108  0.344336  0.947684  0.466663  0.429371  0.060779\n",
       "3  0.265469  0.699674  0.862305  0.424312  0.740650  0.530001\n",
       "4  0.305275  0.518685  0.140018  0.417011  0.510477  0.312762\n",
       "5  0.278496  0.945150  0.912849  0.198596  0.154332  0.709198\n",
       "6  0.982500  0.100201  0.768373  0.984817  0.919229  0.070317"
      ]
     },
     "execution_count": 14,
     "metadata": {},
     "output_type": "execute_result"
    }
   ],
   "source": [
    "df1"
   ]
  },
  {
   "cell_type": "markdown",
   "id": "b15d3ea7-e946-4d65-aaa9-b3cb22232c52",
   "metadata": {},
   "source": [
    "Q4. Write a code to find the following statistical measurements for the above dataframe df1:\n",
    "(i) mean of each and every column present in the dataframe.\n",
    "(ii) standard deviation of column, ‘column_2’"
   ]
  },
  {
   "cell_type": "code",
   "execution_count": 15,
   "id": "cfe7f20b-b071-4fdd-8ca3-090c920ed3b3",
   "metadata": {},
   "outputs": [
    {
     "data": {
      "text/html": [
       "<div>\n",
       "<style scoped>\n",
       "    .dataframe tbody tr th:only-of-type {\n",
       "        vertical-align: middle;\n",
       "    }\n",
       "\n",
       "    .dataframe tbody tr th {\n",
       "        vertical-align: top;\n",
       "    }\n",
       "\n",
       "    .dataframe thead th {\n",
       "        text-align: right;\n",
       "    }\n",
       "</style>\n",
       "<table border=\"1\" class=\"dataframe\">\n",
       "  <thead>\n",
       "    <tr style=\"text-align: right;\">\n",
       "      <th></th>\n",
       "      <th>column_1</th>\n",
       "      <th>column_2</th>\n",
       "      <th>column_3</th>\n",
       "      <th>column_4</th>\n",
       "      <th>column_5</th>\n",
       "      <th>column_6</th>\n",
       "    </tr>\n",
       "  </thead>\n",
       "  <tbody>\n",
       "    <tr>\n",
       "      <th>count</th>\n",
       "      <td>6.000000</td>\n",
       "      <td>6.000000</td>\n",
       "      <td>6.000000</td>\n",
       "      <td>6.000000</td>\n",
       "      <td>6.000000</td>\n",
       "      <td>6.000000</td>\n",
       "    </tr>\n",
       "    <tr>\n",
       "      <th>mean</th>\n",
       "      <td>0.495668</td>\n",
       "      <td>0.482058</td>\n",
       "      <td>0.622304</td>\n",
       "      <td>0.483130</td>\n",
       "      <td>0.551889</td>\n",
       "      <td>0.428809</td>\n",
       "    </tr>\n",
       "    <tr>\n",
       "      <th>std</th>\n",
       "      <td>0.277866</td>\n",
       "      <td>0.305628</td>\n",
       "      <td>0.392918</td>\n",
       "      <td>0.263245</td>\n",
       "      <td>0.262821</td>\n",
       "      <td>0.340234</td>\n",
       "    </tr>\n",
       "    <tr>\n",
       "      <th>min</th>\n",
       "      <td>0.265469</td>\n",
       "      <td>0.100201</td>\n",
       "      <td>0.102596</td>\n",
       "      <td>0.198596</td>\n",
       "      <td>0.154332</td>\n",
       "      <td>0.060779</td>\n",
       "    </tr>\n",
       "    <tr>\n",
       "      <th>25%</th>\n",
       "      <td>0.285191</td>\n",
       "      <td>0.299309</td>\n",
       "      <td>0.297106</td>\n",
       "      <td>0.409788</td>\n",
       "      <td>0.449647</td>\n",
       "      <td>0.130928</td>\n",
       "    </tr>\n",
       "    <tr>\n",
       "      <th>50%</th>\n",
       "      <td>0.425719</td>\n",
       "      <td>0.431510</td>\n",
       "      <td>0.815339</td>\n",
       "      <td>0.420661</td>\n",
       "      <td>0.533876</td>\n",
       "      <td>0.421382</td>\n",
       "    </tr>\n",
       "    <tr>\n",
       "      <th>75%</th>\n",
       "      <td>0.583621</td>\n",
       "      <td>0.654427</td>\n",
       "      <td>0.900213</td>\n",
       "      <td>0.456075</td>\n",
       "      <td>0.694806</td>\n",
       "      <td>0.664398</td>\n",
       "    </tr>\n",
       "    <tr>\n",
       "      <th>max</th>\n",
       "      <td>0.982500</td>\n",
       "      <td>0.945150</td>\n",
       "      <td>0.947684</td>\n",
       "      <td>0.984817</td>\n",
       "      <td>0.919229</td>\n",
       "      <td>0.889795</td>\n",
       "    </tr>\n",
       "  </tbody>\n",
       "</table>\n",
       "</div>"
      ],
      "text/plain": [
       "       column_1  column_2  column_3  column_4  column_5  column_6\n",
       "count  6.000000  6.000000  6.000000  6.000000  6.000000  6.000000\n",
       "mean   0.495668  0.482058  0.622304  0.483130  0.551889  0.428809\n",
       "std    0.277866  0.305628  0.392918  0.263245  0.262821  0.340234\n",
       "min    0.265469  0.100201  0.102596  0.198596  0.154332  0.060779\n",
       "25%    0.285191  0.299309  0.297106  0.409788  0.449647  0.130928\n",
       "50%    0.425719  0.431510  0.815339  0.420661  0.533876  0.421382\n",
       "75%    0.583621  0.654427  0.900213  0.456075  0.694806  0.664398\n",
       "max    0.982500  0.945150  0.947684  0.984817  0.919229  0.889795"
      ]
     },
     "execution_count": 15,
     "metadata": {},
     "output_type": "execute_result"
    }
   ],
   "source": [
    "df1.describe()"
   ]
  },
  {
   "cell_type": "code",
   "execution_count": 18,
   "id": "748dd711-6122-4012-82f3-7e449e06a8b1",
   "metadata": {},
   "outputs": [
    {
     "data": {
      "text/plain": [
       "0.3056280759495133"
      ]
     },
     "execution_count": 18,
     "metadata": {},
     "output_type": "execute_result"
    }
   ],
   "source": [
    "df1.std().iloc[1]"
   ]
  },
  {
   "cell_type": "markdown",
   "id": "27d035ff-34d7-4ded-9019-81fbaad56dc0",
   "metadata": {},
   "source": [
    "Q5. Replace the data present in the second row of column, ‘column_2’ by a string variable then find the\n",
    "mean of column, column_2.\n",
    "If you are getting errors in executing it then explain why.\n",
    "[Hint: To replace the data use df1.loc[] and equate this to string data of your choice.]"
   ]
  },
  {
   "cell_type": "code",
   "execution_count": 19,
   "id": "9079c602-3e8a-4dcf-a8e2-a1082185b70f",
   "metadata": {},
   "outputs": [
    {
     "data": {
      "text/html": [
       "<div>\n",
       "<style scoped>\n",
       "    .dataframe tbody tr th:only-of-type {\n",
       "        vertical-align: middle;\n",
       "    }\n",
       "\n",
       "    .dataframe tbody tr th {\n",
       "        vertical-align: top;\n",
       "    }\n",
       "\n",
       "    .dataframe thead th {\n",
       "        text-align: right;\n",
       "    }\n",
       "</style>\n",
       "<table border=\"1\" class=\"dataframe\">\n",
       "  <thead>\n",
       "    <tr style=\"text-align: right;\">\n",
       "      <th></th>\n",
       "      <th>column_1</th>\n",
       "      <th>column_2</th>\n",
       "      <th>column_3</th>\n",
       "      <th>column_4</th>\n",
       "      <th>column_5</th>\n",
       "      <th>column_6</th>\n",
       "    </tr>\n",
       "  </thead>\n",
       "  <tbody>\n",
       "    <tr>\n",
       "      <th>1</th>\n",
       "      <td>0.546162</td>\n",
       "      <td>0.284300</td>\n",
       "      <td>0.102596</td>\n",
       "      <td>0.407381</td>\n",
       "      <td>0.557275</td>\n",
       "      <td>0.889795</td>\n",
       "    </tr>\n",
       "    <tr>\n",
       "      <th>2</th>\n",
       "      <td>0.596108</td>\n",
       "      <td>0.344336</td>\n",
       "      <td>0.947684</td>\n",
       "      <td>0.466663</td>\n",
       "      <td>0.429371</td>\n",
       "      <td>0.060779</td>\n",
       "    </tr>\n",
       "    <tr>\n",
       "      <th>3</th>\n",
       "      <td>0.265469</td>\n",
       "      <td>0.699674</td>\n",
       "      <td>0.862305</td>\n",
       "      <td>0.424312</td>\n",
       "      <td>0.740650</td>\n",
       "      <td>0.530001</td>\n",
       "    </tr>\n",
       "    <tr>\n",
       "      <th>4</th>\n",
       "      <td>0.305275</td>\n",
       "      <td>0.518685</td>\n",
       "      <td>0.140018</td>\n",
       "      <td>0.417011</td>\n",
       "      <td>0.510477</td>\n",
       "      <td>0.312762</td>\n",
       "    </tr>\n",
       "    <tr>\n",
       "      <th>5</th>\n",
       "      <td>0.278496</td>\n",
       "      <td>0.945150</td>\n",
       "      <td>0.912849</td>\n",
       "      <td>0.198596</td>\n",
       "      <td>0.154332</td>\n",
       "      <td>0.709198</td>\n",
       "    </tr>\n",
       "    <tr>\n",
       "      <th>6</th>\n",
       "      <td>0.982500</td>\n",
       "      <td>0.100201</td>\n",
       "      <td>0.768373</td>\n",
       "      <td>0.984817</td>\n",
       "      <td>0.919229</td>\n",
       "      <td>0.070317</td>\n",
       "    </tr>\n",
       "  </tbody>\n",
       "</table>\n",
       "</div>"
      ],
      "text/plain": [
       "   column_1  column_2  column_3  column_4  column_5  column_6\n",
       "1  0.546162  0.284300  0.102596  0.407381  0.557275  0.889795\n",
       "2  0.596108  0.344336  0.947684  0.466663  0.429371  0.060779\n",
       "3  0.265469  0.699674  0.862305  0.424312  0.740650  0.530001\n",
       "4  0.305275  0.518685  0.140018  0.417011  0.510477  0.312762\n",
       "5  0.278496  0.945150  0.912849  0.198596  0.154332  0.709198\n",
       "6  0.982500  0.100201  0.768373  0.984817  0.919229  0.070317"
      ]
     },
     "execution_count": 19,
     "metadata": {},
     "output_type": "execute_result"
    }
   ],
   "source": [
    "df1"
   ]
  },
  {
   "cell_type": "code",
   "execution_count": 20,
   "id": "d6ecc352-70a4-436c-bae5-122f0395d03d",
   "metadata": {},
   "outputs": [],
   "source": [
    "df1.loc['column_2'] =\"London\""
   ]
  },
  {
   "cell_type": "code",
   "execution_count": 21,
   "id": "4f2e37d5-6a3a-4671-a1cb-15c4bf991d68",
   "metadata": {},
   "outputs": [
    {
     "data": {
      "text/html": [
       "<div>\n",
       "<style scoped>\n",
       "    .dataframe tbody tr th:only-of-type {\n",
       "        vertical-align: middle;\n",
       "    }\n",
       "\n",
       "    .dataframe tbody tr th {\n",
       "        vertical-align: top;\n",
       "    }\n",
       "\n",
       "    .dataframe thead th {\n",
       "        text-align: right;\n",
       "    }\n",
       "</style>\n",
       "<table border=\"1\" class=\"dataframe\">\n",
       "  <thead>\n",
       "    <tr style=\"text-align: right;\">\n",
       "      <th></th>\n",
       "      <th>column_1</th>\n",
       "      <th>column_2</th>\n",
       "      <th>column_3</th>\n",
       "      <th>column_4</th>\n",
       "      <th>column_5</th>\n",
       "      <th>column_6</th>\n",
       "    </tr>\n",
       "  </thead>\n",
       "  <tbody>\n",
       "    <tr>\n",
       "      <th>1</th>\n",
       "      <td>0.546162</td>\n",
       "      <td>0.2843</td>\n",
       "      <td>0.102596</td>\n",
       "      <td>0.407381</td>\n",
       "      <td>0.557275</td>\n",
       "      <td>0.889795</td>\n",
       "    </tr>\n",
       "    <tr>\n",
       "      <th>2</th>\n",
       "      <td>0.596108</td>\n",
       "      <td>0.344336</td>\n",
       "      <td>0.947684</td>\n",
       "      <td>0.466663</td>\n",
       "      <td>0.429371</td>\n",
       "      <td>0.060779</td>\n",
       "    </tr>\n",
       "    <tr>\n",
       "      <th>3</th>\n",
       "      <td>0.265469</td>\n",
       "      <td>0.699674</td>\n",
       "      <td>0.862305</td>\n",
       "      <td>0.424312</td>\n",
       "      <td>0.74065</td>\n",
       "      <td>0.530001</td>\n",
       "    </tr>\n",
       "    <tr>\n",
       "      <th>4</th>\n",
       "      <td>0.305275</td>\n",
       "      <td>0.518685</td>\n",
       "      <td>0.140018</td>\n",
       "      <td>0.417011</td>\n",
       "      <td>0.510477</td>\n",
       "      <td>0.312762</td>\n",
       "    </tr>\n",
       "    <tr>\n",
       "      <th>5</th>\n",
       "      <td>0.278496</td>\n",
       "      <td>0.94515</td>\n",
       "      <td>0.912849</td>\n",
       "      <td>0.198596</td>\n",
       "      <td>0.154332</td>\n",
       "      <td>0.709198</td>\n",
       "    </tr>\n",
       "    <tr>\n",
       "      <th>6</th>\n",
       "      <td>0.9825</td>\n",
       "      <td>0.100201</td>\n",
       "      <td>0.768373</td>\n",
       "      <td>0.984817</td>\n",
       "      <td>0.919229</td>\n",
       "      <td>0.070317</td>\n",
       "    </tr>\n",
       "    <tr>\n",
       "      <th>column_2</th>\n",
       "      <td>London</td>\n",
       "      <td>London</td>\n",
       "      <td>London</td>\n",
       "      <td>London</td>\n",
       "      <td>London</td>\n",
       "      <td>London</td>\n",
       "    </tr>\n",
       "  </tbody>\n",
       "</table>\n",
       "</div>"
      ],
      "text/plain": [
       "          column_1  column_2  column_3  column_4  column_5  column_6\n",
       "1         0.546162    0.2843  0.102596  0.407381  0.557275  0.889795\n",
       "2         0.596108  0.344336  0.947684  0.466663  0.429371  0.060779\n",
       "3         0.265469  0.699674  0.862305  0.424312   0.74065  0.530001\n",
       "4         0.305275  0.518685  0.140018  0.417011  0.510477  0.312762\n",
       "5         0.278496   0.94515  0.912849  0.198596  0.154332  0.709198\n",
       "6           0.9825  0.100201  0.768373  0.984817  0.919229  0.070317\n",
       "column_2    London    London    London    London    London    London"
      ]
     },
     "execution_count": 21,
     "metadata": {},
     "output_type": "execute_result"
    }
   ],
   "source": [
    "df1"
   ]
  },
  {
   "cell_type": "code",
   "execution_count": 25,
   "id": "ef06cfe4-7b15-4567-a9de-66dd201489e4",
   "metadata": {},
   "outputs": [
    {
     "data": {
      "text/html": [
       "<div>\n",
       "<style scoped>\n",
       "    .dataframe tbody tr th:only-of-type {\n",
       "        vertical-align: middle;\n",
       "    }\n",
       "\n",
       "    .dataframe tbody tr th {\n",
       "        vertical-align: top;\n",
       "    }\n",
       "\n",
       "    .dataframe thead th {\n",
       "        text-align: right;\n",
       "    }\n",
       "</style>\n",
       "<table border=\"1\" class=\"dataframe\">\n",
       "  <thead>\n",
       "    <tr style=\"text-align: right;\">\n",
       "      <th></th>\n",
       "      <th>column_1</th>\n",
       "      <th>column_2</th>\n",
       "      <th>column_3</th>\n",
       "      <th>column_4</th>\n",
       "      <th>column_5</th>\n",
       "      <th>column_6</th>\n",
       "    </tr>\n",
       "  </thead>\n",
       "  <tbody>\n",
       "    <tr>\n",
       "      <th>1</th>\n",
       "      <td>0.546162</td>\n",
       "      <td>0.2843</td>\n",
       "      <td>0.102596</td>\n",
       "      <td>0.407381</td>\n",
       "      <td>0.557275</td>\n",
       "      <td>0.889795</td>\n",
       "    </tr>\n",
       "    <tr>\n",
       "      <th>2</th>\n",
       "      <td>London</td>\n",
       "      <td>London</td>\n",
       "      <td>London</td>\n",
       "      <td>London</td>\n",
       "      <td>London</td>\n",
       "      <td>London</td>\n",
       "    </tr>\n",
       "    <tr>\n",
       "      <th>3</th>\n",
       "      <td>0.265469</td>\n",
       "      <td>0.699674</td>\n",
       "      <td>0.862305</td>\n",
       "      <td>0.424312</td>\n",
       "      <td>0.74065</td>\n",
       "      <td>0.530001</td>\n",
       "    </tr>\n",
       "    <tr>\n",
       "      <th>4</th>\n",
       "      <td>0.305275</td>\n",
       "      <td>0.518685</td>\n",
       "      <td>0.140018</td>\n",
       "      <td>0.417011</td>\n",
       "      <td>0.510477</td>\n",
       "      <td>0.312762</td>\n",
       "    </tr>\n",
       "    <tr>\n",
       "      <th>5</th>\n",
       "      <td>0.278496</td>\n",
       "      <td>0.94515</td>\n",
       "      <td>0.912849</td>\n",
       "      <td>0.198596</td>\n",
       "      <td>0.154332</td>\n",
       "      <td>0.709198</td>\n",
       "    </tr>\n",
       "    <tr>\n",
       "      <th>6</th>\n",
       "      <td>0.9825</td>\n",
       "      <td>0.100201</td>\n",
       "      <td>0.768373</td>\n",
       "      <td>0.984817</td>\n",
       "      <td>0.919229</td>\n",
       "      <td>0.070317</td>\n",
       "    </tr>\n",
       "  </tbody>\n",
       "</table>\n",
       "</div>"
      ],
      "text/plain": [
       "   column_1  column_2  column_3  column_4  column_5  column_6\n",
       "1  0.546162    0.2843  0.102596  0.407381  0.557275  0.889795\n",
       "2    London    London    London    London    London    London\n",
       "3  0.265469  0.699674  0.862305  0.424312   0.74065  0.530001\n",
       "4  0.305275  0.518685  0.140018  0.417011  0.510477  0.312762\n",
       "5  0.278496   0.94515  0.912849  0.198596  0.154332  0.709198\n",
       "6    0.9825  0.100201  0.768373  0.984817  0.919229  0.070317"
      ]
     },
     "execution_count": 25,
     "metadata": {},
     "output_type": "execute_result"
    }
   ],
   "source": [
    "df1.drop('column_2')"
   ]
  },
  {
   "cell_type": "code",
   "execution_count": 23,
   "id": "1d45dfc2-b726-45b5-8e4e-0a1fd1ee86c7",
   "metadata": {},
   "outputs": [],
   "source": [
    "df1.loc[2]=\"London\""
   ]
  },
  {
   "cell_type": "code",
   "execution_count": 26,
   "id": "37525624-aef1-484a-9c84-960325edd964",
   "metadata": {},
   "outputs": [
    {
     "data": {
      "text/html": [
       "<div>\n",
       "<style scoped>\n",
       "    .dataframe tbody tr th:only-of-type {\n",
       "        vertical-align: middle;\n",
       "    }\n",
       "\n",
       "    .dataframe tbody tr th {\n",
       "        vertical-align: top;\n",
       "    }\n",
       "\n",
       "    .dataframe thead th {\n",
       "        text-align: right;\n",
       "    }\n",
       "</style>\n",
       "<table border=\"1\" class=\"dataframe\">\n",
       "  <thead>\n",
       "    <tr style=\"text-align: right;\">\n",
       "      <th></th>\n",
       "      <th>column_1</th>\n",
       "      <th>column_2</th>\n",
       "      <th>column_3</th>\n",
       "      <th>column_4</th>\n",
       "      <th>column_5</th>\n",
       "      <th>column_6</th>\n",
       "    </tr>\n",
       "  </thead>\n",
       "  <tbody>\n",
       "    <tr>\n",
       "      <th>1</th>\n",
       "      <td>0.546162</td>\n",
       "      <td>0.2843</td>\n",
       "      <td>0.102596</td>\n",
       "      <td>0.407381</td>\n",
       "      <td>0.557275</td>\n",
       "      <td>0.889795</td>\n",
       "    </tr>\n",
       "    <tr>\n",
       "      <th>2</th>\n",
       "      <td>London</td>\n",
       "      <td>London</td>\n",
       "      <td>London</td>\n",
       "      <td>London</td>\n",
       "      <td>London</td>\n",
       "      <td>London</td>\n",
       "    </tr>\n",
       "    <tr>\n",
       "      <th>3</th>\n",
       "      <td>0.265469</td>\n",
       "      <td>0.699674</td>\n",
       "      <td>0.862305</td>\n",
       "      <td>0.424312</td>\n",
       "      <td>0.74065</td>\n",
       "      <td>0.530001</td>\n",
       "    </tr>\n",
       "    <tr>\n",
       "      <th>4</th>\n",
       "      <td>0.305275</td>\n",
       "      <td>0.518685</td>\n",
       "      <td>0.140018</td>\n",
       "      <td>0.417011</td>\n",
       "      <td>0.510477</td>\n",
       "      <td>0.312762</td>\n",
       "    </tr>\n",
       "    <tr>\n",
       "      <th>5</th>\n",
       "      <td>0.278496</td>\n",
       "      <td>0.94515</td>\n",
       "      <td>0.912849</td>\n",
       "      <td>0.198596</td>\n",
       "      <td>0.154332</td>\n",
       "      <td>0.709198</td>\n",
       "    </tr>\n",
       "    <tr>\n",
       "      <th>6</th>\n",
       "      <td>0.9825</td>\n",
       "      <td>0.100201</td>\n",
       "      <td>0.768373</td>\n",
       "      <td>0.984817</td>\n",
       "      <td>0.919229</td>\n",
       "      <td>0.070317</td>\n",
       "    </tr>\n",
       "    <tr>\n",
       "      <th>column_2</th>\n",
       "      <td>London</td>\n",
       "      <td>London</td>\n",
       "      <td>London</td>\n",
       "      <td>London</td>\n",
       "      <td>London</td>\n",
       "      <td>London</td>\n",
       "    </tr>\n",
       "  </tbody>\n",
       "</table>\n",
       "</div>"
      ],
      "text/plain": [
       "          column_1  column_2  column_3  column_4  column_5  column_6\n",
       "1         0.546162    0.2843  0.102596  0.407381  0.557275  0.889795\n",
       "2           London    London    London    London    London    London\n",
       "3         0.265469  0.699674  0.862305  0.424312   0.74065  0.530001\n",
       "4         0.305275  0.518685  0.140018  0.417011  0.510477  0.312762\n",
       "5         0.278496   0.94515  0.912849  0.198596  0.154332  0.709198\n",
       "6           0.9825  0.100201  0.768373  0.984817  0.919229  0.070317\n",
       "column_2    London    London    London    London    London    London"
      ]
     },
     "execution_count": 26,
     "metadata": {},
     "output_type": "execute_result"
    }
   ],
   "source": [
    "df1"
   ]
  },
  {
   "cell_type": "code",
   "execution_count": 27,
   "id": "7de6e8b1-d422-4816-8df5-2c6abfaa9286",
   "metadata": {},
   "outputs": [],
   "source": [
    "df1.drop('column_2',inplace=True)"
   ]
  },
  {
   "cell_type": "code",
   "execution_count": 28,
   "id": "36d1285d-f98f-4acd-b457-0479d3178d8f",
   "metadata": {},
   "outputs": [
    {
     "data": {
      "text/html": [
       "<div>\n",
       "<style scoped>\n",
       "    .dataframe tbody tr th:only-of-type {\n",
       "        vertical-align: middle;\n",
       "    }\n",
       "\n",
       "    .dataframe tbody tr th {\n",
       "        vertical-align: top;\n",
       "    }\n",
       "\n",
       "    .dataframe thead th {\n",
       "        text-align: right;\n",
       "    }\n",
       "</style>\n",
       "<table border=\"1\" class=\"dataframe\">\n",
       "  <thead>\n",
       "    <tr style=\"text-align: right;\">\n",
       "      <th></th>\n",
       "      <th>column_1</th>\n",
       "      <th>column_2</th>\n",
       "      <th>column_3</th>\n",
       "      <th>column_4</th>\n",
       "      <th>column_5</th>\n",
       "      <th>column_6</th>\n",
       "    </tr>\n",
       "  </thead>\n",
       "  <tbody>\n",
       "    <tr>\n",
       "      <th>1</th>\n",
       "      <td>0.546162</td>\n",
       "      <td>0.2843</td>\n",
       "      <td>0.102596</td>\n",
       "      <td>0.407381</td>\n",
       "      <td>0.557275</td>\n",
       "      <td>0.889795</td>\n",
       "    </tr>\n",
       "    <tr>\n",
       "      <th>2</th>\n",
       "      <td>London</td>\n",
       "      <td>London</td>\n",
       "      <td>London</td>\n",
       "      <td>London</td>\n",
       "      <td>London</td>\n",
       "      <td>London</td>\n",
       "    </tr>\n",
       "    <tr>\n",
       "      <th>3</th>\n",
       "      <td>0.265469</td>\n",
       "      <td>0.699674</td>\n",
       "      <td>0.862305</td>\n",
       "      <td>0.424312</td>\n",
       "      <td>0.74065</td>\n",
       "      <td>0.530001</td>\n",
       "    </tr>\n",
       "    <tr>\n",
       "      <th>4</th>\n",
       "      <td>0.305275</td>\n",
       "      <td>0.518685</td>\n",
       "      <td>0.140018</td>\n",
       "      <td>0.417011</td>\n",
       "      <td>0.510477</td>\n",
       "      <td>0.312762</td>\n",
       "    </tr>\n",
       "    <tr>\n",
       "      <th>5</th>\n",
       "      <td>0.278496</td>\n",
       "      <td>0.94515</td>\n",
       "      <td>0.912849</td>\n",
       "      <td>0.198596</td>\n",
       "      <td>0.154332</td>\n",
       "      <td>0.709198</td>\n",
       "    </tr>\n",
       "    <tr>\n",
       "      <th>6</th>\n",
       "      <td>0.9825</td>\n",
       "      <td>0.100201</td>\n",
       "      <td>0.768373</td>\n",
       "      <td>0.984817</td>\n",
       "      <td>0.919229</td>\n",
       "      <td>0.070317</td>\n",
       "    </tr>\n",
       "  </tbody>\n",
       "</table>\n",
       "</div>"
      ],
      "text/plain": [
       "   column_1  column_2  column_3  column_4  column_5  column_6\n",
       "1  0.546162    0.2843  0.102596  0.407381  0.557275  0.889795\n",
       "2    London    London    London    London    London    London\n",
       "3  0.265469  0.699674  0.862305  0.424312   0.74065  0.530001\n",
       "4  0.305275  0.518685  0.140018  0.417011  0.510477  0.312762\n",
       "5  0.278496   0.94515  0.912849  0.198596  0.154332  0.709198\n",
       "6    0.9825  0.100201  0.768373  0.984817  0.919229  0.070317"
      ]
     },
     "execution_count": 28,
     "metadata": {},
     "output_type": "execute_result"
    }
   ],
   "source": [
    "df1"
   ]
  },
  {
   "cell_type": "code",
   "execution_count": 33,
   "id": "11a607a6-9e2e-4e12-9c6f-f0b89599f40e",
   "metadata": {},
   "outputs": [
    {
     "data": {
      "text/html": [
       "<div>\n",
       "<style scoped>\n",
       "    .dataframe tbody tr th:only-of-type {\n",
       "        vertical-align: middle;\n",
       "    }\n",
       "\n",
       "    .dataframe tbody tr th {\n",
       "        vertical-align: top;\n",
       "    }\n",
       "\n",
       "    .dataframe thead th {\n",
       "        text-align: right;\n",
       "    }\n",
       "</style>\n",
       "<table border=\"1\" class=\"dataframe\">\n",
       "  <thead>\n",
       "    <tr style=\"text-align: right;\">\n",
       "      <th></th>\n",
       "      <th>column_1</th>\n",
       "      <th>column_2</th>\n",
       "      <th>column_3</th>\n",
       "      <th>column_4</th>\n",
       "      <th>column_5</th>\n",
       "      <th>column_6</th>\n",
       "    </tr>\n",
       "  </thead>\n",
       "  <tbody>\n",
       "    <tr>\n",
       "      <th>count</th>\n",
       "      <td>6.000000</td>\n",
       "      <td>6.0000</td>\n",
       "      <td>6.000000</td>\n",
       "      <td>6.000000</td>\n",
       "      <td>6.000000</td>\n",
       "      <td>6.000000</td>\n",
       "    </tr>\n",
       "    <tr>\n",
       "      <th>unique</th>\n",
       "      <td>6.000000</td>\n",
       "      <td>6.0000</td>\n",
       "      <td>6.000000</td>\n",
       "      <td>6.000000</td>\n",
       "      <td>6.000000</td>\n",
       "      <td>6.000000</td>\n",
       "    </tr>\n",
       "    <tr>\n",
       "      <th>top</th>\n",
       "      <td>0.546162</td>\n",
       "      <td>0.2843</td>\n",
       "      <td>0.102596</td>\n",
       "      <td>0.407381</td>\n",
       "      <td>0.557275</td>\n",
       "      <td>0.889795</td>\n",
       "    </tr>\n",
       "    <tr>\n",
       "      <th>freq</th>\n",
       "      <td>1.000000</td>\n",
       "      <td>1.0000</td>\n",
       "      <td>1.000000</td>\n",
       "      <td>1.000000</td>\n",
       "      <td>1.000000</td>\n",
       "      <td>1.000000</td>\n",
       "    </tr>\n",
       "  </tbody>\n",
       "</table>\n",
       "</div>"
      ],
      "text/plain": [
       "        column_1  column_2  column_3  column_4  column_5  column_6\n",
       "count   6.000000    6.0000  6.000000  6.000000  6.000000  6.000000\n",
       "unique  6.000000    6.0000  6.000000  6.000000  6.000000  6.000000\n",
       "top     0.546162    0.2843  0.102596  0.407381  0.557275  0.889795\n",
       "freq    1.000000    1.0000  1.000000  1.000000  1.000000  1.000000"
      ]
     },
     "execution_count": 33,
     "metadata": {},
     "output_type": "execute_result"
    }
   ],
   "source": [
    "df1.describe()"
   ]
  },
  {
   "cell_type": "code",
   "execution_count": 34,
   "id": "521535e4-bf03-4815-9f5f-21a944b37dbb",
   "metadata": {},
   "outputs": [
    {
     "name": "stderr",
     "output_type": "stream",
     "text": [
      "/tmp/ipykernel_7055/2053335143.py:1: FutureWarning: The default value of numeric_only in DataFrame.mean is deprecated. In a future version, it will default to False. In addition, specifying 'numeric_only=None' is deprecated. Select only valid columns or specify the value of numeric_only to silence this warning.\n",
      "  df1.mean()\n"
     ]
    },
    {
     "data": {
      "text/plain": [
       "Series([], dtype: float64)"
      ]
     },
     "execution_count": 34,
     "metadata": {},
     "output_type": "execute_result"
    }
   ],
   "source": [
    "df1.mean()"
   ]
  },
  {
   "cell_type": "markdown",
   "id": "f57c0888-633f-4b01-98fb-317d2d5701c5",
   "metadata": {},
   "source": [
    "Since row 2 has categorical data, mean could not be obtained"
   ]
  },
  {
   "cell_type": "markdown",
   "id": "e60ec203-231b-48df-a3a3-2d5918766788",
   "metadata": {},
   "source": [
    "Q6. What do you understand about the windows function in pandas and list the types of windows\n",
    "functions?"
   ]
  },
  {
   "cell_type": "markdown",
   "id": "c3054e1b-a402-4446-85d1-cdbd89804dfc",
   "metadata": {},
   "source": [
    "The window functions in Pandas are used to perform some sort of calculations across a set of rows that are interrelated with the current row. The windows functions help us to perform the aggregated calculations across various partitions or cross-sections of the data. The aggregate function of SQL returns us a single value after performing the calculation specified in the SQL query. On the other hand, the windows function in Pandas, returns a value for every row of the original table."
   ]
  },
  {
   "cell_type": "markdown",
   "id": "f77e15a0-5a3d-4a2f-9831-a91e176925cb",
   "metadata": {},
   "source": [
    "Windows function in Pandas can be broadly divided into three categories namely- Aggregate, Ranking, and Value.\n",
    "\n",
    "The Aggregate category of window functions can be of three types namely-\n",
    "\n",
    "Group,\n",
    "Rolling, and\n",
    "Expanding.\n",
    "\n",
    "The Ranking category of window functions can be of five types namely-\n",
    "Row Numbers,\n",
    "Row numbers if of two types:\n",
    "reset_index()\n",
    "cumcount()\n",
    "Rank,\n",
    "Rank is of four types:\n",
    "default_rank\n",
    "min_rank\n",
    "NA_bottom\n",
    "descending\n",
    "Dense rank,\n",
    "Percent, and\n",
    "N-Tile / qcut().\n",
    "\n",
    "The Value category of window functions can be of two types namely-\n",
    "Lag / Lead, and\n",
    "First / Last/nth."
   ]
  },
  {
   "cell_type": "markdown",
   "id": "43401680-d670-40eb-bfff-2d3c845cfac9",
   "metadata": {},
   "source": [
    "Q7. Write a code to print only the current month and year at the time of answering this question.\n",
    "[Hint: Use pandas.datetime function]"
   ]
  },
  {
   "cell_type": "code",
   "execution_count": 36,
   "id": "5c55802e-be06-48a4-8bdb-2dacfb634a3a",
   "metadata": {},
   "outputs": [],
   "source": [
    "date_range=pd.date_range(start='2023-01-01',end='2023-01-31')"
   ]
  },
  {
   "cell_type": "code",
   "execution_count": 37,
   "id": "1d523239-907f-48b6-ada1-1b4d201daec3",
   "metadata": {},
   "outputs": [
    {
     "data": {
      "text/plain": [
       "DatetimeIndex(['2023-01-01', '2023-01-02', '2023-01-03', '2023-01-04',\n",
       "               '2023-01-05', '2023-01-06', '2023-01-07', '2023-01-08',\n",
       "               '2023-01-09', '2023-01-10', '2023-01-11', '2023-01-12',\n",
       "               '2023-01-13', '2023-01-14', '2023-01-15', '2023-01-16',\n",
       "               '2023-01-17', '2023-01-18', '2023-01-19', '2023-01-20',\n",
       "               '2023-01-21', '2023-01-22', '2023-01-23', '2023-01-24',\n",
       "               '2023-01-25', '2023-01-26', '2023-01-27', '2023-01-28',\n",
       "               '2023-01-29', '2023-01-30', '2023-01-31'],\n",
       "              dtype='datetime64[ns]', freq='D')"
      ]
     },
     "execution_count": 37,
     "metadata": {},
     "output_type": "execute_result"
    }
   ],
   "source": [
    "date_range"
   ]
  },
  {
   "cell_type": "code",
   "execution_count": null,
   "id": "2bb83a25-d610-4629-b75a-cb36744fd730",
   "metadata": {},
   "outputs": [],
   "source": [
    "import pandas as pd"
   ]
  },
  {
   "cell_type": "code",
   "execution_count": 42,
   "id": "5bdd2074-4f43-4abb-8660-a5b9267acb5b",
   "metadata": {},
   "outputs": [],
   "source": [
    "date_df=pd.DataFrame({\"Date\" : date_range})"
   ]
  },
  {
   "cell_type": "code",
   "execution_count": 44,
   "id": "830139d4-6a74-41b6-9fea-d2defb18de06",
   "metadata": {},
   "outputs": [],
   "source": [
    "date_df[\"Month\"]=date_df['Date'].dt.month"
   ]
  },
  {
   "cell_type": "code",
   "execution_count": 46,
   "id": "fd071e99-0d3b-404f-8e8c-8105166c4014",
   "metadata": {},
   "outputs": [],
   "source": [
    "date_df[\"Year\"]=date_df['Date'].dt.year"
   ]
  },
  {
   "cell_type": "code",
   "execution_count": 47,
   "id": "7870c07d-a17d-4cd5-901e-1c5254617024",
   "metadata": {},
   "outputs": [
    {
     "data": {
      "text/html": [
       "<div>\n",
       "<style scoped>\n",
       "    .dataframe tbody tr th:only-of-type {\n",
       "        vertical-align: middle;\n",
       "    }\n",
       "\n",
       "    .dataframe tbody tr th {\n",
       "        vertical-align: top;\n",
       "    }\n",
       "\n",
       "    .dataframe thead th {\n",
       "        text-align: right;\n",
       "    }\n",
       "</style>\n",
       "<table border=\"1\" class=\"dataframe\">\n",
       "  <thead>\n",
       "    <tr style=\"text-align: right;\">\n",
       "      <th></th>\n",
       "      <th>Date</th>\n",
       "      <th>Month</th>\n",
       "      <th>Year</th>\n",
       "    </tr>\n",
       "  </thead>\n",
       "  <tbody>\n",
       "    <tr>\n",
       "      <th>0</th>\n",
       "      <td>2023-01-01</td>\n",
       "      <td>1</td>\n",
       "      <td>2023</td>\n",
       "    </tr>\n",
       "    <tr>\n",
       "      <th>1</th>\n",
       "      <td>2023-01-02</td>\n",
       "      <td>1</td>\n",
       "      <td>2023</td>\n",
       "    </tr>\n",
       "    <tr>\n",
       "      <th>2</th>\n",
       "      <td>2023-01-03</td>\n",
       "      <td>1</td>\n",
       "      <td>2023</td>\n",
       "    </tr>\n",
       "    <tr>\n",
       "      <th>3</th>\n",
       "      <td>2023-01-04</td>\n",
       "      <td>1</td>\n",
       "      <td>2023</td>\n",
       "    </tr>\n",
       "    <tr>\n",
       "      <th>4</th>\n",
       "      <td>2023-01-05</td>\n",
       "      <td>1</td>\n",
       "      <td>2023</td>\n",
       "    </tr>\n",
       "    <tr>\n",
       "      <th>5</th>\n",
       "      <td>2023-01-06</td>\n",
       "      <td>1</td>\n",
       "      <td>2023</td>\n",
       "    </tr>\n",
       "    <tr>\n",
       "      <th>6</th>\n",
       "      <td>2023-01-07</td>\n",
       "      <td>1</td>\n",
       "      <td>2023</td>\n",
       "    </tr>\n",
       "    <tr>\n",
       "      <th>7</th>\n",
       "      <td>2023-01-08</td>\n",
       "      <td>1</td>\n",
       "      <td>2023</td>\n",
       "    </tr>\n",
       "    <tr>\n",
       "      <th>8</th>\n",
       "      <td>2023-01-09</td>\n",
       "      <td>1</td>\n",
       "      <td>2023</td>\n",
       "    </tr>\n",
       "    <tr>\n",
       "      <th>9</th>\n",
       "      <td>2023-01-10</td>\n",
       "      <td>1</td>\n",
       "      <td>2023</td>\n",
       "    </tr>\n",
       "    <tr>\n",
       "      <th>10</th>\n",
       "      <td>2023-01-11</td>\n",
       "      <td>1</td>\n",
       "      <td>2023</td>\n",
       "    </tr>\n",
       "    <tr>\n",
       "      <th>11</th>\n",
       "      <td>2023-01-12</td>\n",
       "      <td>1</td>\n",
       "      <td>2023</td>\n",
       "    </tr>\n",
       "    <tr>\n",
       "      <th>12</th>\n",
       "      <td>2023-01-13</td>\n",
       "      <td>1</td>\n",
       "      <td>2023</td>\n",
       "    </tr>\n",
       "    <tr>\n",
       "      <th>13</th>\n",
       "      <td>2023-01-14</td>\n",
       "      <td>1</td>\n",
       "      <td>2023</td>\n",
       "    </tr>\n",
       "    <tr>\n",
       "      <th>14</th>\n",
       "      <td>2023-01-15</td>\n",
       "      <td>1</td>\n",
       "      <td>2023</td>\n",
       "    </tr>\n",
       "    <tr>\n",
       "      <th>15</th>\n",
       "      <td>2023-01-16</td>\n",
       "      <td>1</td>\n",
       "      <td>2023</td>\n",
       "    </tr>\n",
       "    <tr>\n",
       "      <th>16</th>\n",
       "      <td>2023-01-17</td>\n",
       "      <td>1</td>\n",
       "      <td>2023</td>\n",
       "    </tr>\n",
       "    <tr>\n",
       "      <th>17</th>\n",
       "      <td>2023-01-18</td>\n",
       "      <td>1</td>\n",
       "      <td>2023</td>\n",
       "    </tr>\n",
       "    <tr>\n",
       "      <th>18</th>\n",
       "      <td>2023-01-19</td>\n",
       "      <td>1</td>\n",
       "      <td>2023</td>\n",
       "    </tr>\n",
       "    <tr>\n",
       "      <th>19</th>\n",
       "      <td>2023-01-20</td>\n",
       "      <td>1</td>\n",
       "      <td>2023</td>\n",
       "    </tr>\n",
       "    <tr>\n",
       "      <th>20</th>\n",
       "      <td>2023-01-21</td>\n",
       "      <td>1</td>\n",
       "      <td>2023</td>\n",
       "    </tr>\n",
       "    <tr>\n",
       "      <th>21</th>\n",
       "      <td>2023-01-22</td>\n",
       "      <td>1</td>\n",
       "      <td>2023</td>\n",
       "    </tr>\n",
       "    <tr>\n",
       "      <th>22</th>\n",
       "      <td>2023-01-23</td>\n",
       "      <td>1</td>\n",
       "      <td>2023</td>\n",
       "    </tr>\n",
       "    <tr>\n",
       "      <th>23</th>\n",
       "      <td>2023-01-24</td>\n",
       "      <td>1</td>\n",
       "      <td>2023</td>\n",
       "    </tr>\n",
       "    <tr>\n",
       "      <th>24</th>\n",
       "      <td>2023-01-25</td>\n",
       "      <td>1</td>\n",
       "      <td>2023</td>\n",
       "    </tr>\n",
       "    <tr>\n",
       "      <th>25</th>\n",
       "      <td>2023-01-26</td>\n",
       "      <td>1</td>\n",
       "      <td>2023</td>\n",
       "    </tr>\n",
       "    <tr>\n",
       "      <th>26</th>\n",
       "      <td>2023-01-27</td>\n",
       "      <td>1</td>\n",
       "      <td>2023</td>\n",
       "    </tr>\n",
       "    <tr>\n",
       "      <th>27</th>\n",
       "      <td>2023-01-28</td>\n",
       "      <td>1</td>\n",
       "      <td>2023</td>\n",
       "    </tr>\n",
       "    <tr>\n",
       "      <th>28</th>\n",
       "      <td>2023-01-29</td>\n",
       "      <td>1</td>\n",
       "      <td>2023</td>\n",
       "    </tr>\n",
       "    <tr>\n",
       "      <th>29</th>\n",
       "      <td>2023-01-30</td>\n",
       "      <td>1</td>\n",
       "      <td>2023</td>\n",
       "    </tr>\n",
       "    <tr>\n",
       "      <th>30</th>\n",
       "      <td>2023-01-31</td>\n",
       "      <td>1</td>\n",
       "      <td>2023</td>\n",
       "    </tr>\n",
       "  </tbody>\n",
       "</table>\n",
       "</div>"
      ],
      "text/plain": [
       "         Date  Month  Year\n",
       "0  2023-01-01      1  2023\n",
       "1  2023-01-02      1  2023\n",
       "2  2023-01-03      1  2023\n",
       "3  2023-01-04      1  2023\n",
       "4  2023-01-05      1  2023\n",
       "5  2023-01-06      1  2023\n",
       "6  2023-01-07      1  2023\n",
       "7  2023-01-08      1  2023\n",
       "8  2023-01-09      1  2023\n",
       "9  2023-01-10      1  2023\n",
       "10 2023-01-11      1  2023\n",
       "11 2023-01-12      1  2023\n",
       "12 2023-01-13      1  2023\n",
       "13 2023-01-14      1  2023\n",
       "14 2023-01-15      1  2023\n",
       "15 2023-01-16      1  2023\n",
       "16 2023-01-17      1  2023\n",
       "17 2023-01-18      1  2023\n",
       "18 2023-01-19      1  2023\n",
       "19 2023-01-20      1  2023\n",
       "20 2023-01-21      1  2023\n",
       "21 2023-01-22      1  2023\n",
       "22 2023-01-23      1  2023\n",
       "23 2023-01-24      1  2023\n",
       "24 2023-01-25      1  2023\n",
       "25 2023-01-26      1  2023\n",
       "26 2023-01-27      1  2023\n",
       "27 2023-01-28      1  2023\n",
       "28 2023-01-29      1  2023\n",
       "29 2023-01-30      1  2023\n",
       "30 2023-01-31      1  2023"
      ]
     },
     "execution_count": 47,
     "metadata": {},
     "output_type": "execute_result"
    }
   ],
   "source": [
    "date_df"
   ]
  },
  {
   "cell_type": "markdown",
   "id": "0b1a0581-7608-459c-b876-c524807deeb9",
   "metadata": {},
   "source": [
    "Q8. Write a Python program that takes in two dates as input (in the format YYYY-MM-DD) and\n",
    "calculates the difference between them in days, hours, and minutes using Pandas time delta. The\n",
    "program should prompt the user to enter the dates and display the result."
   ]
  },
  {
   "cell_type": "code",
   "execution_count": 53,
   "id": "a9646708-6306-431a-80f9-6717ec14fa85",
   "metadata": {},
   "outputs": [
    {
     "name": "stdin",
     "output_type": "stream",
     "text": [
      "Enter the date 1 in the format YYYY-MM-DD : 2023-01-01\n",
      "Enter the date 2 in the format YYYY-MM-DD : 2023-02-14\n"
     ]
    },
    {
     "data": {
      "text/plain": [
       "Timedelta('44 days 00:00:00')"
      ]
     },
     "execution_count": 53,
     "metadata": {},
     "output_type": "execute_result"
    }
   ],
   "source": [
    "Date1=input(\"Enter the date 1 in the format YYYY-MM-DD :\")\n",
    "Date2=input(\"Enter the date 2 in the format YYYY-MM-DD :\")\n",
    "Date1_dt=pd.to_datetime(Date1)\n",
    "Date2_dt=pd.to_datetime(Date2)\n",
    "Date1\n",
    "Date2\n",
    "Date3=Date2_dt-Date1_dt\n",
    "Date3"
   ]
  },
  {
   "cell_type": "markdown",
   "id": "f1fdcbcc-476a-45f1-a5c6-f856b70cf00a",
   "metadata": {},
   "source": [
    "Q9. Write a Python program that reads a CSV file containing categorical data and converts a specified\n",
    "column to a categorical data type. The program should prompt the user to enter the file path, column\n",
    "name, and category order, and then display the sorted data."
   ]
  },
  {
   "cell_type": "markdown",
   "id": "4c68ed6f-4db1-45ae-b505-dfe97b56c613",
   "metadata": {},
   "source": [
    "Categorical Data or Categoricals is a data type in Pandas which corresponds to the categorical variables used in statistics. Some examples of categorical variables are observation timings, blood type data, country affliction data, gender data, etc. One of the major factors related to the categorical variable is that the categorical variable takes on a limited set of values that are usually fixed. The categorical data may have a fixed order but we cannot perform numerical operations on the categorical data."
   ]
  },
  {
   "cell_type": "code",
   "execution_count": 62,
   "id": "d69c8704-4535-47fd-9195-d9c81001c04f",
   "metadata": {},
   "outputs": [
    {
     "name": "stdin",
     "output_type": "stream",
     "text": [
      "Enter the file path : Titanic.csv\n",
      "Enter the column name:  Name\n"
     ]
    },
    {
     "name": "stdout",
     "output_type": "stream",
     "text": [
      "Categorical data:\n",
      " 0    Name\n",
      "dtype: category\n",
      "Categories (1, object): ['Name']\n"
     ]
    }
   ],
   "source": [
    "df_csv=pd.read_csv(\"Titanic.csv\")\n",
    "df_csv\n",
    "filename=input(\"Enter the file path :\")\n",
    "columnname=input(\"Enter the column name: \")\n",
    "df_csv=pd.read_csv(filename)\n",
    "series=pd.Series(\"Name\")\n",
    "df_csv\n",
    "series\n",
    "new_type = series.astype(\"category\")\n",
    "print(\"Categorical data:\\n\", new_type)"
   ]
  },
  {
   "cell_type": "markdown",
   "id": "c9e9f608-d826-4318-8015-6bcaad14429b",
   "metadata": {},
   "source": [
    "Q10. Write a Python program that reads a CSV file containing sales data for different products and\n",
    "visualizes the data using a stacked bar chart to show the sales of each product category over time. The\n",
    "program should prompt the user to enter the file path and display the chart."
   ]
  },
  {
   "cell_type": "code",
   "execution_count": 74,
   "id": "a9a0834a-6ca2-414e-b8ab-41ffb3ea42b4",
   "metadata": {},
   "outputs": [],
   "source": [
    "#filename=input(\"Enter the file path :\")\n",
    "df_csv=pd.read_csv(\"Sales.csv\")\n",
    "df_csv\n",
    "#df_csv.plot.bar(x=\"Sales\",stacked=\"True\")\n",
    "pass\n"
   ]
  },
  {
   "cell_type": "code",
   "execution_count": 75,
   "id": "a3155255-0fb7-469e-a23a-2709d5aa9754",
   "metadata": {},
   "outputs": [
    {
     "data": {
      "text/html": [
       "<div>\n",
       "<style scoped>\n",
       "    .dataframe tbody tr th:only-of-type {\n",
       "        vertical-align: middle;\n",
       "    }\n",
       "\n",
       "    .dataframe tbody tr th {\n",
       "        vertical-align: top;\n",
       "    }\n",
       "\n",
       "    .dataframe thead th {\n",
       "        text-align: right;\n",
       "    }\n",
       "</style>\n",
       "<table border=\"1\" class=\"dataframe\">\n",
       "  <thead>\n",
       "    <tr style=\"text-align: right;\">\n",
       "      <th></th>\n",
       "      <th>Product</th>\n",
       "      <th>Sales</th>\n",
       "    </tr>\n",
       "  </thead>\n",
       "  <tbody>\n",
       "    <tr>\n",
       "      <th>0</th>\n",
       "      <td>A</td>\n",
       "      <td>500</td>\n",
       "    </tr>\n",
       "    <tr>\n",
       "      <th>1</th>\n",
       "      <td>B</td>\n",
       "      <td>400</td>\n",
       "    </tr>\n",
       "    <tr>\n",
       "      <th>2</th>\n",
       "      <td>C</td>\n",
       "      <td>470</td>\n",
       "    </tr>\n",
       "    <tr>\n",
       "      <th>3</th>\n",
       "      <td>D</td>\n",
       "      <td>890</td>\n",
       "    </tr>\n",
       "  </tbody>\n",
       "</table>\n",
       "</div>"
      ],
      "text/plain": [
       "  Product   Sales\n",
       "0       A     500\n",
       "1       B     400\n",
       "2       C     470\n",
       "3       D     890"
      ]
     },
     "execution_count": 75,
     "metadata": {},
     "output_type": "execute_result"
    }
   ],
   "source": [
    "df_csv\n"
   ]
  },
  {
   "cell_type": "code",
   "execution_count": 77,
   "id": "ae6fadfa-1e5b-46a7-a15f-13cedd8c9430",
   "metadata": {},
   "outputs": [
    {
     "data": {
      "text/plain": [
       "<AxesSubplot: xlabel='Product'>"
      ]
     },
     "execution_count": 77,
     "metadata": {},
     "output_type": "execute_result"
    },
    {
     "data": {
      "image/png": "[encoded data removed]",
      "text/plain": [
       "<Figure size 640x480 with 1 Axes>"
      ]
     },
     "metadata": {},
     "output_type": "display_data"
    }
   ],
   "source": [
    "df_csv.plot.bar(stacked=True,x=\"Product\")"
   ]
  },
  {
   "cell_type": "markdown",
   "id": "4084e59a-93c3-422f-bcb6-048231232495",
   "metadata": {},
   "source": [
    "Q11. You are given a CSV file containing student data that includes the student ID and their test score. Write\n",
    "a Python program that reads the CSV file, calculates the mean, median, and mode of the test scores, and\n",
    "displays the results in a table.\n",
    "The program should do the followingM\n",
    "I Prompt the user to enter the file path of the CSV file containing the student dataR\n",
    "I Read the CSV file into a Pandas DataFrameR\n",
    "I Calculate the mean, median, and mode of the test scores using Pandas toolsR\n",
    "I Display the mean, median, and mode in a table.\n",
    "Assume the CSV file contains the following columnsM\n",
    "I Student ID: The ID of the studentR\n",
    "I Test Score: The score of the student's test.\n",
    "Example usage of the program:\n",
    "Enter the file path of the CSV file containing the student data: student_data.csv\n",
    "+-----------+--------+\n",
    "| Statistic | Value |\n",
    "+-----------+--------+\n",
    "| Mean | 79.6 |\n",
    "| Median | 82 |\n",
    "| Mode | 85, 90 |\n",
    "+-----------+--------+\n",
    "Assume that the CSV file student_data.csv contains the following data:\n",
    "Student ID,Test Score\n",
    "1,85\n",
    "2,90\n",
    "3,80\n",
    "4,75\n",
    "5,85\n",
    "6,82\n",
    "7,78\n",
    "8,85\n",
    "9,90\n",
    "10,85\n",
    "The program should calculate the mean, median, and mode of the test scores and display the results\n",
    "in a table."
   ]
  },
  {
   "cell_type": "code",
   "execution_count": 82,
   "id": "4b14c6c2-d803-4369-af90-fdb998c80805",
   "metadata": {},
   "outputs": [],
   "source": [
    "df_csv1=pd.read_csv(\"student_data.csv\")\n"
   ]
  },
  {
   "cell_type": "code",
   "execution_count": 83,
   "id": "c49172fe-da75-4e8f-aa79-b7d9e36aa94e",
   "metadata": {},
   "outputs": [
    {
     "data": {
      "text/html": [
       "<div>\n",
       "<style scoped>\n",
       "    .dataframe tbody tr th:only-of-type {\n",
       "        vertical-align: middle;\n",
       "    }\n",
       "\n",
       "    .dataframe tbody tr th {\n",
       "        vertical-align: top;\n",
       "    }\n",
       "\n",
       "    .dataframe thead th {\n",
       "        text-align: right;\n",
       "    }\n",
       "</style>\n",
       "<table border=\"1\" class=\"dataframe\">\n",
       "  <thead>\n",
       "    <tr style=\"text-align: right;\">\n",
       "      <th></th>\n",
       "      <th>Student ID</th>\n",
       "      <th>Test Score</th>\n",
       "    </tr>\n",
       "  </thead>\n",
       "  <tbody>\n",
       "    <tr>\n",
       "      <th>0</th>\n",
       "      <td>1</td>\n",
       "      <td>85</td>\n",
       "    </tr>\n",
       "    <tr>\n",
       "      <th>1</th>\n",
       "      <td>2</td>\n",
       "      <td>90</td>\n",
       "    </tr>\n",
       "    <tr>\n",
       "      <th>2</th>\n",
       "      <td>3</td>\n",
       "      <td>80</td>\n",
       "    </tr>\n",
       "    <tr>\n",
       "      <th>3</th>\n",
       "      <td>4</td>\n",
       "      <td>75</td>\n",
       "    </tr>\n",
       "    <tr>\n",
       "      <th>4</th>\n",
       "      <td>5</td>\n",
       "      <td>85</td>\n",
       "    </tr>\n",
       "    <tr>\n",
       "      <th>5</th>\n",
       "      <td>6</td>\n",
       "      <td>82</td>\n",
       "    </tr>\n",
       "    <tr>\n",
       "      <th>6</th>\n",
       "      <td>7</td>\n",
       "      <td>78</td>\n",
       "    </tr>\n",
       "    <tr>\n",
       "      <th>7</th>\n",
       "      <td>8</td>\n",
       "      <td>85</td>\n",
       "    </tr>\n",
       "    <tr>\n",
       "      <th>8</th>\n",
       "      <td>9</td>\n",
       "      <td>90</td>\n",
       "    </tr>\n",
       "    <tr>\n",
       "      <th>9</th>\n",
       "      <td>10</td>\n",
       "      <td>85</td>\n",
       "    </tr>\n",
       "  </tbody>\n",
       "</table>\n",
       "</div>"
      ],
      "text/plain": [
       "   Student ID  Test Score\n",
       "0           1          85\n",
       "1           2          90\n",
       "2           3          80\n",
       "3           4          75\n",
       "4           5          85\n",
       "5           6          82\n",
       "6           7          78\n",
       "7           8          85\n",
       "8           9          90\n",
       "9          10          85"
      ]
     },
     "execution_count": 83,
     "metadata": {},
     "output_type": "execute_result"
    }
   ],
   "source": [
    "df_csv1"
   ]
  },
  {
   "cell_type": "code",
   "execution_count": 88,
   "id": "527758f9-d667-4a78-8c1c-502b1c3127e8",
   "metadata": {},
   "outputs": [],
   "source": [
    "df_csv2=df_csv1[\"Test Score\"]"
   ]
  },
  {
   "cell_type": "code",
   "execution_count": 90,
   "id": "8bd34c72-a9aa-463c-a0d2-d8a7f3b03cc5",
   "metadata": {},
   "outputs": [
    {
     "data": {
      "text/plain": [
       "count    10.000000\n",
       "mean     83.500000\n",
       "std       4.836206\n",
       "min      75.000000\n",
       "25%      80.500000\n",
       "50%      85.000000\n",
       "75%      85.000000\n",
       "max      90.000000\n",
       "Name: Test Score, dtype: float64"
      ]
     },
     "execution_count": 90,
     "metadata": {},
     "output_type": "execute_result"
    }
   ],
   "source": [
    "df_csv2.describe()"
   ]
  },
  {
   "cell_type": "code",
   "execution_count": 91,
   "id": "63fea23b-9e6a-4b16-817e-e88202fc6da8",
   "metadata": {},
   "outputs": [
    {
     "data": {
      "text/plain": [
       "83.5"
      ]
     },
     "execution_count": 91,
     "metadata": {},
     "output_type": "execute_result"
    }
   ],
   "source": [
    "df_csv2.mean()"
   ]
  },
  {
   "cell_type": "code",
   "execution_count": 92,
   "id": "82db3008-de58-4384-9def-bec97338fb09",
   "metadata": {},
   "outputs": [
    {
     "data": {
      "text/plain": [
       "85.0"
      ]
     },
     "execution_count": 92,
     "metadata": {},
     "output_type": "execute_result"
    }
   ],
   "source": [
    "df_csv2.median()"
   ]
  },
  {
   "cell_type": "code",
   "execution_count": 93,
   "id": "1dfc8456-e8ca-4ba9-bae7-64a1198e17d7",
   "metadata": {},
   "outputs": [
    {
     "data": {
      "text/plain": [
       "0    85\n",
       "Name: Test Score, dtype: int64"
      ]
     },
     "execution_count": 93,
     "metadata": {},
     "output_type": "execute_result"
    }
   ],
   "source": [
    "df_csv2.mode()"
   ]
  },
  {
   "cell_type": "code",
   "execution_count": 94,
   "id": "b4348172-7c57-4451-add2-5f2ac5cf37f2",
   "metadata": {},
   "outputs": [
    {
     "name": "stdout",
     "output_type": "stream",
     "text": [
      "----------------------------------------\n",
      "---------------Statistical Value--------\n",
      "-----------------------------------------\n",
      "Mean:  83.5\n",
      "Median : 85.0\n",
      "Mode : 0    85\n",
      "Name: Test Score, dtype: int64\n",
      "-------------------------------------------\n"
     ]
    }
   ],
   "source": [
    "print(\"----------------------------------------\")\n",
    "print(\"---------------Statistical Value--------\")\n",
    "print(\"-----------------------------------------\")\n",
    "print(\"Mean: \",df_csv2.mean())\n",
    "print(\"Median :\", df_csv2.median())\n",
    "print(\"Mode :\",df_csv2.mode())\n",
    "print(\"-------------------------------------------\")"
   ]
  },
  {
   "cell_type": "code",
   "execution_count": null,
   "id": "25bed12f-2bc4-4c18-bbe2-cfde30f54cd9",
   "metadata": {},
   "outputs": [],
   "source": []
  }
 ],
 "metadata": {
  "kernelspec": {
   "display_name": "Python 3 (ipykernel)",
   "language": "python",
   "name": "python3"
  },
  "language_info": {
   "codemirror_mode": {
    "name": "ipython",
    "version": 3
   },
   "file_extension": ".py",
   "mimetype": "text/x-python",
   "name": "python",
   "nbconvert_exporter": "python",
   "pygments_lexer": "ipython3",
   "version": "3.10.8"
  }
 },
 "nbformat": 4,
 "nbformat_minor": 5
}
